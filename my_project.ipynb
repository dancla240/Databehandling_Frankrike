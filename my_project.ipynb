{
 "cells": [
  {
   "cell_type": "markdown",
   "metadata": {},
   "source": [
    "## Project - France"
   ]
  },
  {
   "cell_type": "code",
   "execution_count": null,
   "metadata": {},
   "outputs": [],
   "source": [
    "import pandas as pd\n",
    "import numpy as np\n",
    "regions = pd.read_csv(\"./Data/noc_regions.csv\")\n",
    "athlete_events = pd.read_csv(\"./Data/athlete_events.csv\")"
   ]
  },
  {
   "cell_type": "code",
   "execution_count": null,
   "metadata": {},
   "outputs": [],
   "source": [
    "regions.head(3)"
   ]
  },
  {
   "cell_type": "markdown",
   "metadata": {},
   "source": [
    "- a. hur många länder som är med i datan?"
   ]
  },
  {
   "cell_type": "code",
   "execution_count": null,
   "metadata": {},
   "outputs": [],
   "source": [
    "athlete_events.head(3)\n"
   ]
  },
  {
   "cell_type": "code",
   "execution_count": null,
   "metadata": {},
   "outputs": [],
   "source": [
    "athlete_events.head(3)\n",
    "athlete_events[\"NOC\"].unique()\n"
   ]
  },
  {
   "cell_type": "code",
   "execution_count": null,
   "metadata": {},
   "outputs": [],
   "source": [
    "x = athlete_events[\"NOC\"]\n",
    "x[0:3]\n",
    "\n"
   ]
  },
  {
   "cell_type": "code",
   "execution_count": null,
   "metadata": {},
   "outputs": [],
   "source": [
    "countries = regions[\"region\"].unique()\n",
    "sorted_countries = np.sort(countries)\n",
    "\n",
    "sorted_countries\n"
   ]
  },
  {
   "cell_type": "code",
   "execution_count": null,
   "metadata": {},
   "outputs": [],
   "source": [
    "athlete_events.shape\n",
    "filt_frank = athlete_events[\"NOC\"] == \"FRA\"\n",
    "france = athlete_events[filt_frank]\n",
    "france\n",
    "# antal_lag = france[\"Team\"].nunique()\n",
    "# antal_lag\n",
    "antal_regions = regions[\"NOC\"].nunique()\n",
    "antal_regions"
   ]
  },
  {
   "cell_type": "markdown",
   "metadata": {},
   "source": [
    "- b. vilka länder är med? (förkortningarna räcker)"
   ]
  },
  {
   "cell_type": "code",
   "execution_count": null,
   "metadata": {},
   "outputs": [],
   "source": [
    "# display(regions)\n",
    "# x = regions[\"NOC\"].nunique()\n",
    "# display(x)\n",
    "\n"
   ]
  },
  {
   "cell_type": "markdown",
   "metadata": {},
   "source": [
    "-  c. vilka sporter är med?"
   ]
  },
  {
   "cell_type": "markdown",
   "metadata": {},
   "source": [
    "-  d. vilka medaljtyper finns det?"
   ]
  },
  {
   "cell_type": "markdown",
   "metadata": {},
   "source": [
    "-  e. ta reda på statistik för åldern: medelvärde, median, min, max, standardavvikelse,"
   ]
  },
  {
   "cell_type": "markdown",
   "metadata": {},
   "source": [
    "-  f. utforska datan vidare med egna frågor"
   ]
  }
 ],
 "metadata": {
  "kernelspec": {
   "display_name": "Databehandling-Arsen-YSaeh726",
   "language": "python",
   "name": "python3"
  },
  "language_info": {
   "codemirror_mode": {
    "name": "ipython",
    "version": 3
   },
   "file_extension": ".py",
   "mimetype": "text/x-python",
   "name": "python",
   "nbconvert_exporter": "python",
   "pygments_lexer": "ipython3",
   "version": "3.11.5"
  }
 },
 "nbformat": 4,
 "nbformat_minor": 2
}
