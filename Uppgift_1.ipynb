{
 "cells": [
  {
   "cell_type": "markdown",
   "metadata": {},
   "source": [
    "# Uppgift 1 - Landstatistik\n",
    "- Ni får ett land tilldelat till er grupp. Börja med att anonymisera kolumnen med idrottarnas namn med\n",
    "hashfunktionen SHA-256.\n",
    "- Undersök därefter hur det gått för landet i OS genom tiderna. Visualisera exempelvis:\n",
    "    - de sporter landet fått flest medaljer i\n",
    "    - antal medaljer per OS\n",
    "    - histogram över åldrar  \n",
    "  \n",
    "Skapa fler plots för att visualisera flera aspekter kring ert land och dess sportprestationer i OS.\n"
   ]
  },
  {
   "cell_type": "markdown",
   "metadata": {},
   "source": [
    "Skriv ner våra frågeställningar här:\n",
    "- Vilken eller vilka sporter har Frankrike varit bäst i? Kan datan ge oss de sporterna?\n",
    "- Vilka sporter har Frankrike varit sämst i? Finns det någon sport de inte fått medalj i, tex?"
   ]
  },
  {
   "cell_type": "code",
   "execution_count": null,
   "metadata": {},
   "outputs": [],
   "source": []
  }
 ],
 "metadata": {
  "language_info": {
   "name": "python"
  }
 },
 "nbformat": 4,
 "nbformat_minor": 2
}
