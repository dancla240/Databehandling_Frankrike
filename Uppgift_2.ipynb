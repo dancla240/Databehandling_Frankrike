{
 "cells": [
  {
   "cell_type": "markdown",
   "metadata": {},
   "source": [
    "# Uppgift 2 - Sportstatistik\n",
    "- Välj 2-4 sporter och skapa lämpliga grafer/diagram för att visualisera exempelvis:\n",
    "- medaljfördelning mellan länder i sporterna, åldersfördelning i sporterna\n",
    "- Skapa fler plots för att visualisera olika aspekter kring sporterna."
   ]
  },
  {
   "cell_type": "markdown",
   "metadata": {},
   "source": [
    "### Våra frågeställningar:\n",
    "- Kolla igenom vilka sporter som varit med?\n",
    "- Analysera \"Tug-Of-War\"! (dragkamp) Kul att tex kolla hur länge det varit med i OS, vilka har varit bäst? Osv.\n",
    "- Finns det andra gamla eller intressanta sporter att titta på?\n",
    "- Alpinism?\n",
    "- Aeronautics [https://www.topendsports.com/events/demonstration/aeronautics.htm](https://www.topendsports.com/events/demonstration/aeronautics.htm)\n",
    "- Yngsta, äldsta medaljörerna?\n",
    "#### \"Tug of war\" (Dragkamp) (Daniel):\n",
    "- Vilka länder har deltagit och hur ser medaljfördelningen ut?\n",
    "- Vilka år var detta en sport i OS?\n",
    "\n",
    "#### Kulstötning / Slägga / Spjut / Diskus (Daniel):\n",
    "- Hur ser längd- och vikt-utvecklingen ut genom historien?\n",
    "- Analysera män och kvinnor separat\n",
    "- Hade varit intressant att jämföra med resultaten i sporterna också....\n",
    "- Distribution plots? Box-plots? Eller en animation frame, som går igenom åren?"
   ]
  },
  {
   "cell_type": "code",
   "execution_count": 1,
   "metadata": {},
   "outputs": [],
   "source": [
    "import pandas as pd\n",
    "import plotly.express as px\n",
    "from dash import Dash, html, dcc, callback, Output, Input\n",
    "from dash_bootstrap_templates import load_figure_template\n",
    "import dash_bootstrap_components as dbc\n",
    "from dash import dash_table\n",
    "from io import BytesIO\n",
    "import base64\n",
    "athlete_events = pd.read_csv(\"./Data/athlete_events.csv\")"
   ]
  },
  {
   "cell_type": "markdown",
   "metadata": {},
   "source": [
    "### 10 Bästa sporter för Frankrike"
   ]
  },
  {
   "cell_type": "markdown",
   "metadata": {},
   "source": [
    "Här skapar jag en DataFrame med lämplig information för att plotta alla olika grafer som ska undersökas.\n",
    "\n",
    "Informationen är:\n",
    "- Totala medaljer vunnet av de top 10 sporterna.\n",
    "- Av det totala, hur många av dem guld, silver och brons.\n",
    "- Av varje guld silver och brons. Hur många var kvinnor och hur många var män."
   ]
  },
  {
   "cell_type": "code",
   "execution_count": 76,
   "metadata": {},
   "outputs": [
    {
     "data": {
      "text/html": [
       "<div>\n",
       "<style scoped>\n",
       "    .dataframe tbody tr th:only-of-type {\n",
       "        vertical-align: middle;\n",
       "    }\n",
       "\n",
       "    .dataframe tbody tr th {\n",
       "        vertical-align: top;\n",
       "    }\n",
       "\n",
       "    .dataframe thead th {\n",
       "        text-align: right;\n",
       "    }\n",
       "</style>\n",
       "<table border=\"1\" class=\"dataframe\">\n",
       "  <thead>\n",
       "    <tr style=\"text-align: right;\">\n",
       "      <th>Medal</th>\n",
       "      <th>Bronze</th>\n",
       "      <th>Gold</th>\n",
       "      <th>Silver</th>\n",
       "      <th>Total</th>\n",
       "      <th>Participations</th>\n",
       "      <th>Gold Female</th>\n",
       "      <th>Silver Female</th>\n",
       "      <th>Bronze Female</th>\n",
       "      <th>Gold Male</th>\n",
       "      <th>Silver Male</th>\n",
       "      <th>Bronze Male</th>\n",
       "      <th>Total Female</th>\n",
       "      <th>Total Male</th>\n",
       "    </tr>\n",
       "    <tr>\n",
       "      <th>Sport</th>\n",
       "      <th></th>\n",
       "      <th></th>\n",
       "      <th></th>\n",
       "      <th></th>\n",
       "      <th></th>\n",
       "      <th></th>\n",
       "      <th></th>\n",
       "      <th></th>\n",
       "      <th></th>\n",
       "      <th></th>\n",
       "      <th></th>\n",
       "      <th></th>\n",
       "      <th></th>\n",
       "    </tr>\n",
       "  </thead>\n",
       "  <tbody>\n",
       "    <tr>\n",
       "      <th>Alpine Skiing</th>\n",
       "      <td>15.0</td>\n",
       "      <td>15.0</td>\n",
       "      <td>15.0</td>\n",
       "      <td>45.0</td>\n",
       "      <td>90.0</td>\n",
       "      <td>4.0</td>\n",
       "      <td>8.0</td>\n",
       "      <td>7.0</td>\n",
       "      <td>11.0</td>\n",
       "      <td>7.0</td>\n",
       "      <td>8.0</td>\n",
       "      <td>19.0</td>\n",
       "      <td>26.0</td>\n",
       "    </tr>\n",
       "    <tr>\n",
       "      <th>Archery</th>\n",
       "      <td>16.0</td>\n",
       "      <td>7.0</td>\n",
       "      <td>25.0</td>\n",
       "      <td>48.0</td>\n",
       "      <td>96.0</td>\n",
       "      <td>0.0</td>\n",
       "      <td>0.0</td>\n",
       "      <td>3.0</td>\n",
       "      <td>7.0</td>\n",
       "      <td>25.0</td>\n",
       "      <td>13.0</td>\n",
       "      <td>3.0</td>\n",
       "      <td>45.0</td>\n",
       "    </tr>\n",
       "    <tr>\n",
       "      <th>Art Competitions</th>\n",
       "      <td>5.0</td>\n",
       "      <td>6.0</td>\n",
       "      <td>4.0</td>\n",
       "      <td>15.0</td>\n",
       "      <td>30.0</td>\n",
       "      <td>0.0</td>\n",
       "      <td>1.0</td>\n",
       "      <td>0.0</td>\n",
       "      <td>6.0</td>\n",
       "      <td>3.0</td>\n",
       "      <td>5.0</td>\n",
       "      <td>1.0</td>\n",
       "      <td>14.0</td>\n",
       "    </tr>\n",
       "    <tr>\n",
       "      <th>Athletics</th>\n",
       "      <td>62.0</td>\n",
       "      <td>14.0</td>\n",
       "      <td>34.0</td>\n",
       "      <td>110.0</td>\n",
       "      <td>220.0</td>\n",
       "      <td>6.0</td>\n",
       "      <td>2.0</td>\n",
       "      <td>8.0</td>\n",
       "      <td>8.0</td>\n",
       "      <td>32.0</td>\n",
       "      <td>54.0</td>\n",
       "      <td>16.0</td>\n",
       "      <td>94.0</td>\n",
       "    </tr>\n",
       "    <tr>\n",
       "      <th>Basketball</th>\n",
       "      <td>0.0</td>\n",
       "      <td>0.0</td>\n",
       "      <td>38.0</td>\n",
       "      <td>38.0</td>\n",
       "      <td>76.0</td>\n",
       "      <td>0.0</td>\n",
       "      <td>12.0</td>\n",
       "      <td>0.0</td>\n",
       "      <td>0.0</td>\n",
       "      <td>26.0</td>\n",
       "      <td>0.0</td>\n",
       "      <td>12.0</td>\n",
       "      <td>26.0</td>\n",
       "    </tr>\n",
       "    <tr>\n",
       "      <th>Biathlon</th>\n",
       "      <td>24.0</td>\n",
       "      <td>8.0</td>\n",
       "      <td>8.0</td>\n",
       "      <td>40.0</td>\n",
       "      <td>80.0</td>\n",
       "      <td>4.0</td>\n",
       "      <td>5.0</td>\n",
       "      <td>10.0</td>\n",
       "      <td>4.0</td>\n",
       "      <td>3.0</td>\n",
       "      <td>14.0</td>\n",
       "      <td>19.0</td>\n",
       "      <td>21.0</td>\n",
       "    </tr>\n",
       "    <tr>\n",
       "      <th>Bobsleigh</th>\n",
       "      <td>4.0</td>\n",
       "      <td>0.0</td>\n",
       "      <td>0.0</td>\n",
       "      <td>4.0</td>\n",
       "      <td>8.0</td>\n",
       "      <td>0.0</td>\n",
       "      <td>0.0</td>\n",
       "      <td>0.0</td>\n",
       "      <td>0.0</td>\n",
       "      <td>0.0</td>\n",
       "      <td>4.0</td>\n",
       "      <td>0.0</td>\n",
       "      <td>4.0</td>\n",
       "    </tr>\n",
       "    <tr>\n",
       "      <th>Boxing</th>\n",
       "      <td>10.0</td>\n",
       "      <td>6.0</td>\n",
       "      <td>9.0</td>\n",
       "      <td>25.0</td>\n",
       "      <td>50.0</td>\n",
       "      <td>1.0</td>\n",
       "      <td>1.0</td>\n",
       "      <td>0.0</td>\n",
       "      <td>5.0</td>\n",
       "      <td>8.0</td>\n",
       "      <td>10.0</td>\n",
       "      <td>2.0</td>\n",
       "      <td>23.0</td>\n",
       "    </tr>\n",
       "    <tr>\n",
       "      <th>Canoeing</th>\n",
       "      <td>29.0</td>\n",
       "      <td>8.0</td>\n",
       "      <td>12.0</td>\n",
       "      <td>49.0</td>\n",
       "      <td>98.0</td>\n",
       "      <td>1.0</td>\n",
       "      <td>1.0</td>\n",
       "      <td>4.0</td>\n",
       "      <td>7.0</td>\n",
       "      <td>11.0</td>\n",
       "      <td>25.0</td>\n",
       "      <td>6.0</td>\n",
       "      <td>43.0</td>\n",
       "    </tr>\n",
       "    <tr>\n",
       "      <th>Croquet</th>\n",
       "      <td>2.0</td>\n",
       "      <td>4.0</td>\n",
       "      <td>2.0</td>\n",
       "      <td>8.0</td>\n",
       "      <td>16.0</td>\n",
       "      <td>0.0</td>\n",
       "      <td>0.0</td>\n",
       "      <td>0.0</td>\n",
       "      <td>4.0</td>\n",
       "      <td>2.0</td>\n",
       "      <td>2.0</td>\n",
       "      <td>0.0</td>\n",
       "      <td>8.0</td>\n",
       "    </tr>\n",
       "  </tbody>\n",
       "</table>\n",
       "</div>"
      ],
      "text/plain": [
       "Medal             Bronze  Gold  Silver  Total  Participations  Gold Female  \\\n",
       "Sport                                                                        \n",
       "Alpine Skiing       15.0  15.0    15.0   45.0            90.0          4.0   \n",
       "Archery             16.0   7.0    25.0   48.0            96.0          0.0   \n",
       "Art Competitions     5.0   6.0     4.0   15.0            30.0          0.0   \n",
       "Athletics           62.0  14.0    34.0  110.0           220.0          6.0   \n",
       "Basketball           0.0   0.0    38.0   38.0            76.0          0.0   \n",
       "Biathlon            24.0   8.0     8.0   40.0            80.0          4.0   \n",
       "Bobsleigh            4.0   0.0     0.0    4.0             8.0          0.0   \n",
       "Boxing              10.0   6.0     9.0   25.0            50.0          1.0   \n",
       "Canoeing            29.0   8.0    12.0   49.0            98.0          1.0   \n",
       "Croquet              2.0   4.0     2.0    8.0            16.0          0.0   \n",
       "\n",
       "Medal             Silver Female  Bronze Female  Gold Male  Silver Male  \\\n",
       "Sport                                                                    \n",
       "Alpine Skiing               8.0            7.0       11.0          7.0   \n",
       "Archery                     0.0            3.0        7.0         25.0   \n",
       "Art Competitions            1.0            0.0        6.0          3.0   \n",
       "Athletics                   2.0            8.0        8.0         32.0   \n",
       "Basketball                 12.0            0.0        0.0         26.0   \n",
       "Biathlon                    5.0           10.0        4.0          3.0   \n",
       "Bobsleigh                   0.0            0.0        0.0          0.0   \n",
       "Boxing                      1.0            0.0        5.0          8.0   \n",
       "Canoeing                    1.0            4.0        7.0         11.0   \n",
       "Croquet                     0.0            0.0        4.0          2.0   \n",
       "\n",
       "Medal             Bronze Male  Total Female  Total Male  \n",
       "Sport                                                    \n",
       "Alpine Skiing             8.0          19.0        26.0  \n",
       "Archery                  13.0           3.0        45.0  \n",
       "Art Competitions          5.0           1.0        14.0  \n",
       "Athletics                54.0          16.0        94.0  \n",
       "Basketball                0.0          12.0        26.0  \n",
       "Biathlon                 14.0          19.0        21.0  \n",
       "Bobsleigh                 4.0           0.0         4.0  \n",
       "Boxing                   10.0           2.0        23.0  \n",
       "Canoeing                 25.0           6.0        43.0  \n",
       "Croquet                   2.0           0.0         8.0  "
      ]
     },
     "execution_count": 76,
     "metadata": {},
     "output_type": "execute_result"
    }
   ],
   "source": [
    "only_france_df = athlete_events[athlete_events['Team'] == 'France']\n",
    "only_france_df.head()\n",
    "medal_counts = only_france_df.groupby('Sport')['Medal'].value_counts().unstack().fillna(0)\n",
    "medal_counts[['Gold', 'Silver', 'Bronze']]\n",
    "medal_counts['Total'] = medal_counts[['Gold', 'Silver', 'Bronze']].sum(axis=1)\n",
    "medal_counts[['Gold', 'Silver', 'Bronze', 'Total']]\n",
    "medal_counts['Participations'] = medal_counts.sum(axis=1)\n",
    "medal_counts[['Gold', 'Silver', 'Bronze', 'Total', 'Participations']]\n",
    "gold_female_counts = only_france_df[only_france_df['Medal'] == 'Gold'].loc[only_france_df['Sex'] == 'F'].groupby('Sport').size()\n",
    "medal_counts['Gold Female'] = gold_female_counts.fillna(0)\n",
    "silver_female_counts = only_france_df[only_france_df['Medal'] == 'Silver'].loc[only_france_df['Sex'] == 'F'].groupby('Sport').size()\n",
    "medal_counts['Silver Female'] = silver_female_counts.fillna(0)\n",
    "\n",
    "bronze_female_counts = only_france_df[only_france_df['Medal'] == 'Bronze'].loc[only_france_df['Sex'] == 'F'].groupby('Sport').size()\n",
    "medal_counts['Bronze Female'] = bronze_female_counts.fillna(0)\n",
    "\n",
    "gold_male_counts = only_france_df[only_france_df['Medal'] == 'Gold'].loc[only_france_df['Sex'] == 'M'].groupby('Sport').size()\n",
    "medal_counts['Gold Male'] = gold_male_counts.fillna(0)\n",
    "\n",
    "silver_male_counts = only_france_df[only_france_df['Medal'] == 'Silver'].loc[only_france_df['Sex'] == 'M'].groupby('Sport').size()\n",
    "medal_counts['Silver Male'] = silver_male_counts.fillna(0)\n",
    "\n",
    "bronze_male_counts = only_france_df[only_france_df['Medal'] == 'Bronze'].loc[only_france_df['Sex'] == 'M'].groupby('Sport').size()\n",
    "medal_counts['Bronze Male'] = bronze_male_counts.fillna(0)\n",
    "\n",
    "medal_counts['Total Female'] = medal_counts[['Gold Female', 'Silver Female', 'Bronze Female']].sum(axis=1)\n",
    "medal_counts['Total Male'] = medal_counts[['Gold Male', 'Silver Male', 'Bronze Male']].sum(axis=1)\n",
    "medal_counts.fillna(0, inplace=True)\n",
    "\n",
    "medal_counts.head(10)"
   ]
  },
  {
   "cell_type": "code",
   "execution_count": 77,
   "metadata": {},
   "outputs": [
    {
     "data": {
      "application/vnd.plotly.v1+json": {
       "config": {
        "plotlyServerURL": "https://plot.ly"
       },
       "data": [
        {
         "alignmentgroup": "True",
         "hovertemplate": "variable=Bronze<br>Sport=%{x}<br>value=%{y}<extra></extra>",
         "legendgroup": "Bronze",
         "marker": {
          "color": "#CD7F32",
          "pattern": {
           "shape": ""
          }
         },
         "name": "Bronze",
         "offsetgroup": "Bronze",
         "orientation": "v",
         "showlegend": true,
         "textposition": "auto",
         "type": "bar",
         "x": [
          "Fencing",
          "Cycling",
          "Athletics",
          "Rowing",
          "Equestrianism",
          "Handball",
          "Swimming",
          "Shooting",
          "Gymnastics",
          "Canoeing"
         ],
         "xaxis": "x",
         "y": [
          89,
          43,
          62,
          37,
          20,
          16,
          30,
          30,
          36,
          29
         ],
         "yaxis": "y"
        },
        {
         "alignmentgroup": "True",
         "hovertemplate": "variable=Silver<br>Sport=%{x}<br>value=%{y}<extra></extra>",
         "legendgroup": "Silver",
         "marker": {
          "color": "silver",
          "pattern": {
           "shape": ""
          }
         },
         "name": "Silver",
         "offsetgroup": "Silver",
         "orientation": "v",
         "showlegend": true,
         "textposition": "auto",
         "type": "bar",
         "x": [
          "Fencing",
          "Cycling",
          "Athletics",
          "Rowing",
          "Equestrianism",
          "Handball",
          "Swimming",
          "Shooting",
          "Gymnastics",
          "Canoeing"
         ],
         "xaxis": "x",
         "y": [
          92,
          39,
          34,
          37,
          25,
          31,
          28,
          27,
          17,
          12
         ],
         "yaxis": "y"
        },
        {
         "alignmentgroup": "True",
         "hovertemplate": "variable=Gold<br>Sport=%{x}<br>value=%{y}<extra></extra>",
         "legendgroup": "Gold",
         "marker": {
          "color": "gold",
          "pattern": {
           "shape": ""
          }
         },
         "name": "Gold",
         "offsetgroup": "Gold",
         "orientation": "v",
         "showlegend": true,
         "textposition": "auto",
         "type": "bar",
         "x": [
          "Fencing",
          "Cycling",
          "Athletics",
          "Rowing",
          "Equestrianism",
          "Handball",
          "Swimming",
          "Shooting",
          "Gymnastics",
          "Canoeing"
         ],
         "xaxis": "x",
         "y": [
          129,
          69,
          14,
          15,
          32,
          30,
          13,
          12,
          5,
          8
         ],
         "yaxis": "y"
        }
       ],
       "layout": {
        "barmode": "stack",
        "font": {
         "color": "white"
        },
        "legend": {
         "title": {
          "text": "variable"
         },
         "tracegroupgap": 0
        },
        "paper_bgcolor": "black",
        "plot_bgcolor": "black",
        "template": {
         "data": {
          "bar": [
           {
            "error_x": {
             "color": "#2a3f5f"
            },
            "error_y": {
             "color": "#2a3f5f"
            },
            "marker": {
             "line": {
              "color": "#E5ECF6",
              "width": 0.5
             },
             "pattern": {
              "fillmode": "overlay",
              "size": 10,
              "solidity": 0.2
             }
            },
            "type": "bar"
           }
          ],
          "barpolar": [
           {
            "marker": {
             "line": {
              "color": "#E5ECF6",
              "width": 0.5
             },
             "pattern": {
              "fillmode": "overlay",
              "size": 10,
              "solidity": 0.2
             }
            },
            "type": "barpolar"
           }
          ],
          "carpet": [
           {
            "aaxis": {
             "endlinecolor": "#2a3f5f",
             "gridcolor": "white",
             "linecolor": "white",
             "minorgridcolor": "white",
             "startlinecolor": "#2a3f5f"
            },
            "baxis": {
             "endlinecolor": "#2a3f5f",
             "gridcolor": "white",
             "linecolor": "white",
             "minorgridcolor": "white",
             "startlinecolor": "#2a3f5f"
            },
            "type": "carpet"
           }
          ],
          "choropleth": [
           {
            "colorbar": {
             "outlinewidth": 0,
             "ticks": ""
            },
            "type": "choropleth"
           }
          ],
          "contour": [
           {
            "colorbar": {
             "outlinewidth": 0,
             "ticks": ""
            },
            "colorscale": [
             [
              0,
              "#0d0887"
             ],
             [
              0.1111111111111111,
              "#46039f"
             ],
             [
              0.2222222222222222,
              "#7201a8"
             ],
             [
              0.3333333333333333,
              "#9c179e"
             ],
             [
              0.4444444444444444,
              "#bd3786"
             ],
             [
              0.5555555555555556,
              "#d8576b"
             ],
             [
              0.6666666666666666,
              "#ed7953"
             ],
             [
              0.7777777777777778,
              "#fb9f3a"
             ],
             [
              0.8888888888888888,
              "#fdca26"
             ],
             [
              1,
              "#f0f921"
             ]
            ],
            "type": "contour"
           }
          ],
          "contourcarpet": [
           {
            "colorbar": {
             "outlinewidth": 0,
             "ticks": ""
            },
            "type": "contourcarpet"
           }
          ],
          "heatmap": [
           {
            "colorbar": {
             "outlinewidth": 0,
             "ticks": ""
            },
            "colorscale": [
             [
              0,
              "#0d0887"
             ],
             [
              0.1111111111111111,
              "#46039f"
             ],
             [
              0.2222222222222222,
              "#7201a8"
             ],
             [
              0.3333333333333333,
              "#9c179e"
             ],
             [
              0.4444444444444444,
              "#bd3786"
             ],
             [
              0.5555555555555556,
              "#d8576b"
             ],
             [
              0.6666666666666666,
              "#ed7953"
             ],
             [
              0.7777777777777778,
              "#fb9f3a"
             ],
             [
              0.8888888888888888,
              "#fdca26"
             ],
             [
              1,
              "#f0f921"
             ]
            ],
            "type": "heatmap"
           }
          ],
          "heatmapgl": [
           {
            "colorbar": {
             "outlinewidth": 0,
             "ticks": ""
            },
            "colorscale": [
             [
              0,
              "#0d0887"
             ],
             [
              0.1111111111111111,
              "#46039f"
             ],
             [
              0.2222222222222222,
              "#7201a8"
             ],
             [
              0.3333333333333333,
              "#9c179e"
             ],
             [
              0.4444444444444444,
              "#bd3786"
             ],
             [
              0.5555555555555556,
              "#d8576b"
             ],
             [
              0.6666666666666666,
              "#ed7953"
             ],
             [
              0.7777777777777778,
              "#fb9f3a"
             ],
             [
              0.8888888888888888,
              "#fdca26"
             ],
             [
              1,
              "#f0f921"
             ]
            ],
            "type": "heatmapgl"
           }
          ],
          "histogram": [
           {
            "marker": {
             "pattern": {
              "fillmode": "overlay",
              "size": 10,
              "solidity": 0.2
             }
            },
            "type": "histogram"
           }
          ],
          "histogram2d": [
           {
            "colorbar": {
             "outlinewidth": 0,
             "ticks": ""
            },
            "colorscale": [
             [
              0,
              "#0d0887"
             ],
             [
              0.1111111111111111,
              "#46039f"
             ],
             [
              0.2222222222222222,
              "#7201a8"
             ],
             [
              0.3333333333333333,
              "#9c179e"
             ],
             [
              0.4444444444444444,
              "#bd3786"
             ],
             [
              0.5555555555555556,
              "#d8576b"
             ],
             [
              0.6666666666666666,
              "#ed7953"
             ],
             [
              0.7777777777777778,
              "#fb9f3a"
             ],
             [
              0.8888888888888888,
              "#fdca26"
             ],
             [
              1,
              "#f0f921"
             ]
            ],
            "type": "histogram2d"
           }
          ],
          "histogram2dcontour": [
           {
            "colorbar": {
             "outlinewidth": 0,
             "ticks": ""
            },
            "colorscale": [
             [
              0,
              "#0d0887"
             ],
             [
              0.1111111111111111,
              "#46039f"
             ],
             [
              0.2222222222222222,
              "#7201a8"
             ],
             [
              0.3333333333333333,
              "#9c179e"
             ],
             [
              0.4444444444444444,
              "#bd3786"
             ],
             [
              0.5555555555555556,
              "#d8576b"
             ],
             [
              0.6666666666666666,
              "#ed7953"
             ],
             [
              0.7777777777777778,
              "#fb9f3a"
             ],
             [
              0.8888888888888888,
              "#fdca26"
             ],
             [
              1,
              "#f0f921"
             ]
            ],
            "type": "histogram2dcontour"
           }
          ],
          "mesh3d": [
           {
            "colorbar": {
             "outlinewidth": 0,
             "ticks": ""
            },
            "type": "mesh3d"
           }
          ],
          "parcoords": [
           {
            "line": {
             "colorbar": {
              "outlinewidth": 0,
              "ticks": ""
             }
            },
            "type": "parcoords"
           }
          ],
          "pie": [
           {
            "automargin": true,
            "type": "pie"
           }
          ],
          "scatter": [
           {
            "fillpattern": {
             "fillmode": "overlay",
             "size": 10,
             "solidity": 0.2
            },
            "type": "scatter"
           }
          ],
          "scatter3d": [
           {
            "line": {
             "colorbar": {
              "outlinewidth": 0,
              "ticks": ""
             }
            },
            "marker": {
             "colorbar": {
              "outlinewidth": 0,
              "ticks": ""
             }
            },
            "type": "scatter3d"
           }
          ],
          "scattercarpet": [
           {
            "marker": {
             "colorbar": {
              "outlinewidth": 0,
              "ticks": ""
             }
            },
            "type": "scattercarpet"
           }
          ],
          "scattergeo": [
           {
            "marker": {
             "colorbar": {
              "outlinewidth": 0,
              "ticks": ""
             }
            },
            "type": "scattergeo"
           }
          ],
          "scattergl": [
           {
            "marker": {
             "colorbar": {
              "outlinewidth": 0,
              "ticks": ""
             }
            },
            "type": "scattergl"
           }
          ],
          "scattermapbox": [
           {
            "marker": {
             "colorbar": {
              "outlinewidth": 0,
              "ticks": ""
             }
            },
            "type": "scattermapbox"
           }
          ],
          "scatterpolar": [
           {
            "marker": {
             "colorbar": {
              "outlinewidth": 0,
              "ticks": ""
             }
            },
            "type": "scatterpolar"
           }
          ],
          "scatterpolargl": [
           {
            "marker": {
             "colorbar": {
              "outlinewidth": 0,
              "ticks": ""
             }
            },
            "type": "scatterpolargl"
           }
          ],
          "scatterternary": [
           {
            "marker": {
             "colorbar": {
              "outlinewidth": 0,
              "ticks": ""
             }
            },
            "type": "scatterternary"
           }
          ],
          "surface": [
           {
            "colorbar": {
             "outlinewidth": 0,
             "ticks": ""
            },
            "colorscale": [
             [
              0,
              "#0d0887"
             ],
             [
              0.1111111111111111,
              "#46039f"
             ],
             [
              0.2222222222222222,
              "#7201a8"
             ],
             [
              0.3333333333333333,
              "#9c179e"
             ],
             [
              0.4444444444444444,
              "#bd3786"
             ],
             [
              0.5555555555555556,
              "#d8576b"
             ],
             [
              0.6666666666666666,
              "#ed7953"
             ],
             [
              0.7777777777777778,
              "#fb9f3a"
             ],
             [
              0.8888888888888888,
              "#fdca26"
             ],
             [
              1,
              "#f0f921"
             ]
            ],
            "type": "surface"
           }
          ],
          "table": [
           {
            "cells": {
             "fill": {
              "color": "#EBF0F8"
             },
             "line": {
              "color": "white"
             }
            },
            "header": {
             "fill": {
              "color": "#C8D4E3"
             },
             "line": {
              "color": "white"
             }
            },
            "type": "table"
           }
          ]
         },
         "layout": {
          "annotationdefaults": {
           "arrowcolor": "#2a3f5f",
           "arrowhead": 0,
           "arrowwidth": 1
          },
          "autotypenumbers": "strict",
          "coloraxis": {
           "colorbar": {
            "outlinewidth": 0,
            "ticks": ""
           }
          },
          "colorscale": {
           "diverging": [
            [
             0,
             "#8e0152"
            ],
            [
             0.1,
             "#c51b7d"
            ],
            [
             0.2,
             "#de77ae"
            ],
            [
             0.3,
             "#f1b6da"
            ],
            [
             0.4,
             "#fde0ef"
            ],
            [
             0.5,
             "#f7f7f7"
            ],
            [
             0.6,
             "#e6f5d0"
            ],
            [
             0.7,
             "#b8e186"
            ],
            [
             0.8,
             "#7fbc41"
            ],
            [
             0.9,
             "#4d9221"
            ],
            [
             1,
             "#276419"
            ]
           ],
           "sequential": [
            [
             0,
             "#0d0887"
            ],
            [
             0.1111111111111111,
             "#46039f"
            ],
            [
             0.2222222222222222,
             "#7201a8"
            ],
            [
             0.3333333333333333,
             "#9c179e"
            ],
            [
             0.4444444444444444,
             "#bd3786"
            ],
            [
             0.5555555555555556,
             "#d8576b"
            ],
            [
             0.6666666666666666,
             "#ed7953"
            ],
            [
             0.7777777777777778,
             "#fb9f3a"
            ],
            [
             0.8888888888888888,
             "#fdca26"
            ],
            [
             1,
             "#f0f921"
            ]
           ],
           "sequentialminus": [
            [
             0,
             "#0d0887"
            ],
            [
             0.1111111111111111,
             "#46039f"
            ],
            [
             0.2222222222222222,
             "#7201a8"
            ],
            [
             0.3333333333333333,
             "#9c179e"
            ],
            [
             0.4444444444444444,
             "#bd3786"
            ],
            [
             0.5555555555555556,
             "#d8576b"
            ],
            [
             0.6666666666666666,
             "#ed7953"
            ],
            [
             0.7777777777777778,
             "#fb9f3a"
            ],
            [
             0.8888888888888888,
             "#fdca26"
            ],
            [
             1,
             "#f0f921"
            ]
           ]
          },
          "colorway": [
           "#636efa",
           "#EF553B",
           "#00cc96",
           "#ab63fa",
           "#FFA15A",
           "#19d3f3",
           "#FF6692",
           "#B6E880",
           "#FF97FF",
           "#FECB52"
          ],
          "font": {
           "color": "#2a3f5f"
          },
          "geo": {
           "bgcolor": "white",
           "lakecolor": "white",
           "landcolor": "#E5ECF6",
           "showlakes": true,
           "showland": true,
           "subunitcolor": "white"
          },
          "hoverlabel": {
           "align": "left"
          },
          "hovermode": "closest",
          "mapbox": {
           "style": "light"
          },
          "paper_bgcolor": "white",
          "plot_bgcolor": "#E5ECF6",
          "polar": {
           "angularaxis": {
            "gridcolor": "white",
            "linecolor": "white",
            "ticks": ""
           },
           "bgcolor": "#E5ECF6",
           "radialaxis": {
            "gridcolor": "white",
            "linecolor": "white",
            "ticks": ""
           }
          },
          "scene": {
           "xaxis": {
            "backgroundcolor": "#E5ECF6",
            "gridcolor": "white",
            "gridwidth": 2,
            "linecolor": "white",
            "showbackground": true,
            "ticks": "",
            "zerolinecolor": "white"
           },
           "yaxis": {
            "backgroundcolor": "#E5ECF6",
            "gridcolor": "white",
            "gridwidth": 2,
            "linecolor": "white",
            "showbackground": true,
            "ticks": "",
            "zerolinecolor": "white"
           },
           "zaxis": {
            "backgroundcolor": "#E5ECF6",
            "gridcolor": "white",
            "gridwidth": 2,
            "linecolor": "white",
            "showbackground": true,
            "ticks": "",
            "zerolinecolor": "white"
           }
          },
          "shapedefaults": {
           "line": {
            "color": "#2a3f5f"
           }
          },
          "ternary": {
           "aaxis": {
            "gridcolor": "white",
            "linecolor": "white",
            "ticks": ""
           },
           "baxis": {
            "gridcolor": "white",
            "linecolor": "white",
            "ticks": ""
           },
           "bgcolor": "#E5ECF6",
           "caxis": {
            "gridcolor": "white",
            "linecolor": "white",
            "ticks": ""
           }
          },
          "title": {
           "x": 0.05
          },
          "xaxis": {
           "automargin": true,
           "gridcolor": "white",
           "linecolor": "white",
           "ticks": "",
           "title": {
            "standoff": 15
           },
           "zerolinecolor": "white",
           "zerolinewidth": 2
          },
          "yaxis": {
           "automargin": true,
           "gridcolor": "white",
           "linecolor": "white",
           "ticks": "",
           "title": {
            "standoff": 15
           },
           "zerolinecolor": "white",
           "zerolinewidth": 2
          }
         }
        },
        "title": {
         "text": "Top 10 sports with the highest total medals won by France"
        },
        "xaxis": {
         "anchor": "y",
         "domain": [
          0,
          1
         ],
         "title": {
          "text": "Sport"
         }
        },
        "yaxis": {
         "anchor": "x",
         "domain": [
          0,
          1
         ],
         "title": {
          "text": "Total medals won"
         }
        }
       }
      }
     },
     "metadata": {},
     "output_type": "display_data"
    }
   ],
   "source": [
    "top_10_sports_total = medal_counts.nlargest(10, 'Total')\n",
    "top_10_sports_total_plot = px.bar(top_10_sports_total, x=top_10_sports_total.index, y=['Bronze', 'Silver', 'Gold'], title='Top 10 sports with the highest total medals won by France', barmode='stack')\n",
    "\n",
    "top_10_sports_total_plot.update_layout(\n",
    "    paper_bgcolor=\"black\",\n",
    "    plot_bgcolor=\"black\",\n",
    "    font_color=\"white\",\n",
    "    yaxis_title=\"Total medals won\",\n",
    ")\n",
    "top_10_sports_total_plot.update_traces(marker_color='#CD7F32', selector=dict(name='Bronze'))\n",
    "top_10_sports_total_plot.update_traces(marker_color='silver', selector=dict(name='Silver'))\n",
    "top_10_sports_total_plot.update_traces(marker_color='gold', selector=dict(name='Gold'))\n",
    "top_10_sports_total_plot.show()"
   ]
  },
  {
   "cell_type": "code",
   "execution_count": 81,
   "metadata": {},
   "outputs": [
    {
     "data": {
      "application/vnd.plotly.v1+json": {
       "config": {
        "plotlyServerURL": "https://plot.ly"
       },
       "data": [
        {
         "alignmentgroup": "True",
         "hovertemplate": "variable=Gold Female<br>Sport=%{x}<br>value=%{y}<extra></extra>",
         "legendgroup": "Gold Female",
         "marker": {
          "color": "#636efa",
          "pattern": {
           "shape": ""
          }
         },
         "name": "Gold Female",
         "offsetgroup": "Gold Female",
         "orientation": "v",
         "showlegend": true,
         "textposition": "auto",
         "type": "bar",
         "x": [
          "Fencing",
          "Cycling",
          "Equestrianism",
          "Handball",
          "Football",
          "Alpine Skiing",
          "Rowing",
          "Athletics",
          "Judo",
          "Swimming"
         ],
         "xaxis": "x",
         "y": [
          10,
          7,
          1,
          0,
          0,
          4,
          0,
          6,
          6,
          2
         ],
         "yaxis": "y"
        },
        {
         "alignmentgroup": "True",
         "hovertemplate": "variable=Gold Male<br>Sport=%{x}<br>value=%{y}<extra></extra>",
         "legendgroup": "Gold Male",
         "marker": {
          "color": "#EF553B",
          "pattern": {
           "shape": ""
          }
         },
         "name": "Gold Male",
         "offsetgroup": "Gold Male",
         "orientation": "v",
         "showlegend": true,
         "textposition": "auto",
         "type": "bar",
         "x": [
          "Fencing",
          "Cycling",
          "Equestrianism",
          "Handball",
          "Football",
          "Alpine Skiing",
          "Rowing",
          "Athletics",
          "Judo",
          "Swimming"
         ],
         "xaxis": "x",
         "y": [
          119,
          62,
          31,
          30,
          16,
          11,
          15,
          8,
          8,
          11
         ],
         "yaxis": "y"
        }
       ],
       "layout": {
        "barmode": "stack",
        "font": {
         "color": "white"
        },
        "legend": {
         "title": {
          "text": "variable"
         },
         "tracegroupgap": 0
        },
        "paper_bgcolor": "black",
        "plot_bgcolor": "black",
        "template": {
         "data": {
          "bar": [
           {
            "error_x": {
             "color": "#2a3f5f"
            },
            "error_y": {
             "color": "#2a3f5f"
            },
            "marker": {
             "line": {
              "color": "#E5ECF6",
              "width": 0.5
             },
             "pattern": {
              "fillmode": "overlay",
              "size": 10,
              "solidity": 0.2
             }
            },
            "type": "bar"
           }
          ],
          "barpolar": [
           {
            "marker": {
             "line": {
              "color": "#E5ECF6",
              "width": 0.5
             },
             "pattern": {
              "fillmode": "overlay",
              "size": 10,
              "solidity": 0.2
             }
            },
            "type": "barpolar"
           }
          ],
          "carpet": [
           {
            "aaxis": {
             "endlinecolor": "#2a3f5f",
             "gridcolor": "white",
             "linecolor": "white",
             "minorgridcolor": "white",
             "startlinecolor": "#2a3f5f"
            },
            "baxis": {
             "endlinecolor": "#2a3f5f",
             "gridcolor": "white",
             "linecolor": "white",
             "minorgridcolor": "white",
             "startlinecolor": "#2a3f5f"
            },
            "type": "carpet"
           }
          ],
          "choropleth": [
           {
            "colorbar": {
             "outlinewidth": 0,
             "ticks": ""
            },
            "type": "choropleth"
           }
          ],
          "contour": [
           {
            "colorbar": {
             "outlinewidth": 0,
             "ticks": ""
            },
            "colorscale": [
             [
              0,
              "#0d0887"
             ],
             [
              0.1111111111111111,
              "#46039f"
             ],
             [
              0.2222222222222222,
              "#7201a8"
             ],
             [
              0.3333333333333333,
              "#9c179e"
             ],
             [
              0.4444444444444444,
              "#bd3786"
             ],
             [
              0.5555555555555556,
              "#d8576b"
             ],
             [
              0.6666666666666666,
              "#ed7953"
             ],
             [
              0.7777777777777778,
              "#fb9f3a"
             ],
             [
              0.8888888888888888,
              "#fdca26"
             ],
             [
              1,
              "#f0f921"
             ]
            ],
            "type": "contour"
           }
          ],
          "contourcarpet": [
           {
            "colorbar": {
             "outlinewidth": 0,
             "ticks": ""
            },
            "type": "contourcarpet"
           }
          ],
          "heatmap": [
           {
            "colorbar": {
             "outlinewidth": 0,
             "ticks": ""
            },
            "colorscale": [
             [
              0,
              "#0d0887"
             ],
             [
              0.1111111111111111,
              "#46039f"
             ],
             [
              0.2222222222222222,
              "#7201a8"
             ],
             [
              0.3333333333333333,
              "#9c179e"
             ],
             [
              0.4444444444444444,
              "#bd3786"
             ],
             [
              0.5555555555555556,
              "#d8576b"
             ],
             [
              0.6666666666666666,
              "#ed7953"
             ],
             [
              0.7777777777777778,
              "#fb9f3a"
             ],
             [
              0.8888888888888888,
              "#fdca26"
             ],
             [
              1,
              "#f0f921"
             ]
            ],
            "type": "heatmap"
           }
          ],
          "heatmapgl": [
           {
            "colorbar": {
             "outlinewidth": 0,
             "ticks": ""
            },
            "colorscale": [
             [
              0,
              "#0d0887"
             ],
             [
              0.1111111111111111,
              "#46039f"
             ],
             [
              0.2222222222222222,
              "#7201a8"
             ],
             [
              0.3333333333333333,
              "#9c179e"
             ],
             [
              0.4444444444444444,
              "#bd3786"
             ],
             [
              0.5555555555555556,
              "#d8576b"
             ],
             [
              0.6666666666666666,
              "#ed7953"
             ],
             [
              0.7777777777777778,
              "#fb9f3a"
             ],
             [
              0.8888888888888888,
              "#fdca26"
             ],
             [
              1,
              "#f0f921"
             ]
            ],
            "type": "heatmapgl"
           }
          ],
          "histogram": [
           {
            "marker": {
             "pattern": {
              "fillmode": "overlay",
              "size": 10,
              "solidity": 0.2
             }
            },
            "type": "histogram"
           }
          ],
          "histogram2d": [
           {
            "colorbar": {
             "outlinewidth": 0,
             "ticks": ""
            },
            "colorscale": [
             [
              0,
              "#0d0887"
             ],
             [
              0.1111111111111111,
              "#46039f"
             ],
             [
              0.2222222222222222,
              "#7201a8"
             ],
             [
              0.3333333333333333,
              "#9c179e"
             ],
             [
              0.4444444444444444,
              "#bd3786"
             ],
             [
              0.5555555555555556,
              "#d8576b"
             ],
             [
              0.6666666666666666,
              "#ed7953"
             ],
             [
              0.7777777777777778,
              "#fb9f3a"
             ],
             [
              0.8888888888888888,
              "#fdca26"
             ],
             [
              1,
              "#f0f921"
             ]
            ],
            "type": "histogram2d"
           }
          ],
          "histogram2dcontour": [
           {
            "colorbar": {
             "outlinewidth": 0,
             "ticks": ""
            },
            "colorscale": [
             [
              0,
              "#0d0887"
             ],
             [
              0.1111111111111111,
              "#46039f"
             ],
             [
              0.2222222222222222,
              "#7201a8"
             ],
             [
              0.3333333333333333,
              "#9c179e"
             ],
             [
              0.4444444444444444,
              "#bd3786"
             ],
             [
              0.5555555555555556,
              "#d8576b"
             ],
             [
              0.6666666666666666,
              "#ed7953"
             ],
             [
              0.7777777777777778,
              "#fb9f3a"
             ],
             [
              0.8888888888888888,
              "#fdca26"
             ],
             [
              1,
              "#f0f921"
             ]
            ],
            "type": "histogram2dcontour"
           }
          ],
          "mesh3d": [
           {
            "colorbar": {
             "outlinewidth": 0,
             "ticks": ""
            },
            "type": "mesh3d"
           }
          ],
          "parcoords": [
           {
            "line": {
             "colorbar": {
              "outlinewidth": 0,
              "ticks": ""
             }
            },
            "type": "parcoords"
           }
          ],
          "pie": [
           {
            "automargin": true,
            "type": "pie"
           }
          ],
          "scatter": [
           {
            "fillpattern": {
             "fillmode": "overlay",
             "size": 10,
             "solidity": 0.2
            },
            "type": "scatter"
           }
          ],
          "scatter3d": [
           {
            "line": {
             "colorbar": {
              "outlinewidth": 0,
              "ticks": ""
             }
            },
            "marker": {
             "colorbar": {
              "outlinewidth": 0,
              "ticks": ""
             }
            },
            "type": "scatter3d"
           }
          ],
          "scattercarpet": [
           {
            "marker": {
             "colorbar": {
              "outlinewidth": 0,
              "ticks": ""
             }
            },
            "type": "scattercarpet"
           }
          ],
          "scattergeo": [
           {
            "marker": {
             "colorbar": {
              "outlinewidth": 0,
              "ticks": ""
             }
            },
            "type": "scattergeo"
           }
          ],
          "scattergl": [
           {
            "marker": {
             "colorbar": {
              "outlinewidth": 0,
              "ticks": ""
             }
            },
            "type": "scattergl"
           }
          ],
          "scattermapbox": [
           {
            "marker": {
             "colorbar": {
              "outlinewidth": 0,
              "ticks": ""
             }
            },
            "type": "scattermapbox"
           }
          ],
          "scatterpolar": [
           {
            "marker": {
             "colorbar": {
              "outlinewidth": 0,
              "ticks": ""
             }
            },
            "type": "scatterpolar"
           }
          ],
          "scatterpolargl": [
           {
            "marker": {
             "colorbar": {
              "outlinewidth": 0,
              "ticks": ""
             }
            },
            "type": "scatterpolargl"
           }
          ],
          "scatterternary": [
           {
            "marker": {
             "colorbar": {
              "outlinewidth": 0,
              "ticks": ""
             }
            },
            "type": "scatterternary"
           }
          ],
          "surface": [
           {
            "colorbar": {
             "outlinewidth": 0,
             "ticks": ""
            },
            "colorscale": [
             [
              0,
              "#0d0887"
             ],
             [
              0.1111111111111111,
              "#46039f"
             ],
             [
              0.2222222222222222,
              "#7201a8"
             ],
             [
              0.3333333333333333,
              "#9c179e"
             ],
             [
              0.4444444444444444,
              "#bd3786"
             ],
             [
              0.5555555555555556,
              "#d8576b"
             ],
             [
              0.6666666666666666,
              "#ed7953"
             ],
             [
              0.7777777777777778,
              "#fb9f3a"
             ],
             [
              0.8888888888888888,
              "#fdca26"
             ],
             [
              1,
              "#f0f921"
             ]
            ],
            "type": "surface"
           }
          ],
          "table": [
           {
            "cells": {
             "fill": {
              "color": "#EBF0F8"
             },
             "line": {
              "color": "white"
             }
            },
            "header": {
             "fill": {
              "color": "#C8D4E3"
             },
             "line": {
              "color": "white"
             }
            },
            "type": "table"
           }
          ]
         },
         "layout": {
          "annotationdefaults": {
           "arrowcolor": "#2a3f5f",
           "arrowhead": 0,
           "arrowwidth": 1
          },
          "autotypenumbers": "strict",
          "coloraxis": {
           "colorbar": {
            "outlinewidth": 0,
            "ticks": ""
           }
          },
          "colorscale": {
           "diverging": [
            [
             0,
             "#8e0152"
            ],
            [
             0.1,
             "#c51b7d"
            ],
            [
             0.2,
             "#de77ae"
            ],
            [
             0.3,
             "#f1b6da"
            ],
            [
             0.4,
             "#fde0ef"
            ],
            [
             0.5,
             "#f7f7f7"
            ],
            [
             0.6,
             "#e6f5d0"
            ],
            [
             0.7,
             "#b8e186"
            ],
            [
             0.8,
             "#7fbc41"
            ],
            [
             0.9,
             "#4d9221"
            ],
            [
             1,
             "#276419"
            ]
           ],
           "sequential": [
            [
             0,
             "#0d0887"
            ],
            [
             0.1111111111111111,
             "#46039f"
            ],
            [
             0.2222222222222222,
             "#7201a8"
            ],
            [
             0.3333333333333333,
             "#9c179e"
            ],
            [
             0.4444444444444444,
             "#bd3786"
            ],
            [
             0.5555555555555556,
             "#d8576b"
            ],
            [
             0.6666666666666666,
             "#ed7953"
            ],
            [
             0.7777777777777778,
             "#fb9f3a"
            ],
            [
             0.8888888888888888,
             "#fdca26"
            ],
            [
             1,
             "#f0f921"
            ]
           ],
           "sequentialminus": [
            [
             0,
             "#0d0887"
            ],
            [
             0.1111111111111111,
             "#46039f"
            ],
            [
             0.2222222222222222,
             "#7201a8"
            ],
            [
             0.3333333333333333,
             "#9c179e"
            ],
            [
             0.4444444444444444,
             "#bd3786"
            ],
            [
             0.5555555555555556,
             "#d8576b"
            ],
            [
             0.6666666666666666,
             "#ed7953"
            ],
            [
             0.7777777777777778,
             "#fb9f3a"
            ],
            [
             0.8888888888888888,
             "#fdca26"
            ],
            [
             1,
             "#f0f921"
            ]
           ]
          },
          "colorway": [
           "#636efa",
           "#EF553B",
           "#00cc96",
           "#ab63fa",
           "#FFA15A",
           "#19d3f3",
           "#FF6692",
           "#B6E880",
           "#FF97FF",
           "#FECB52"
          ],
          "font": {
           "color": "#2a3f5f"
          },
          "geo": {
           "bgcolor": "white",
           "lakecolor": "white",
           "landcolor": "#E5ECF6",
           "showlakes": true,
           "showland": true,
           "subunitcolor": "white"
          },
          "hoverlabel": {
           "align": "left"
          },
          "hovermode": "closest",
          "mapbox": {
           "style": "light"
          },
          "paper_bgcolor": "white",
          "plot_bgcolor": "#E5ECF6",
          "polar": {
           "angularaxis": {
            "gridcolor": "white",
            "linecolor": "white",
            "ticks": ""
           },
           "bgcolor": "#E5ECF6",
           "radialaxis": {
            "gridcolor": "white",
            "linecolor": "white",
            "ticks": ""
           }
          },
          "scene": {
           "xaxis": {
            "backgroundcolor": "#E5ECF6",
            "gridcolor": "white",
            "gridwidth": 2,
            "linecolor": "white",
            "showbackground": true,
            "ticks": "",
            "zerolinecolor": "white"
           },
           "yaxis": {
            "backgroundcolor": "#E5ECF6",
            "gridcolor": "white",
            "gridwidth": 2,
            "linecolor": "white",
            "showbackground": true,
            "ticks": "",
            "zerolinecolor": "white"
           },
           "zaxis": {
            "backgroundcolor": "#E5ECF6",
            "gridcolor": "white",
            "gridwidth": 2,
            "linecolor": "white",
            "showbackground": true,
            "ticks": "",
            "zerolinecolor": "white"
           }
          },
          "shapedefaults": {
           "line": {
            "color": "#2a3f5f"
           }
          },
          "ternary": {
           "aaxis": {
            "gridcolor": "white",
            "linecolor": "white",
            "ticks": ""
           },
           "baxis": {
            "gridcolor": "white",
            "linecolor": "white",
            "ticks": ""
           },
           "bgcolor": "#E5ECF6",
           "caxis": {
            "gridcolor": "white",
            "linecolor": "white",
            "ticks": ""
           }
          },
          "title": {
           "x": 0.05
          },
          "xaxis": {
           "automargin": true,
           "gridcolor": "white",
           "linecolor": "white",
           "ticks": "",
           "title": {
            "standoff": 15
           },
           "zerolinecolor": "white",
           "zerolinewidth": 2
          },
          "yaxis": {
           "automargin": true,
           "gridcolor": "white",
           "linecolor": "white",
           "ticks": "",
           "title": {
            "standoff": 15
           },
           "zerolinecolor": "white",
           "zerolinewidth": 2
          }
         }
        },
        "title": {
         "text": "Top 10 sports with the highest number of gold medals won by France"
        },
        "xaxis": {
         "anchor": "y",
         "domain": [
          0,
          1
         ],
         "title": {
          "text": "Sport"
         }
        },
        "yaxis": {
         "anchor": "x",
         "domain": [
          0,
          1
         ],
         "title": {
          "text": "Number of gold medals won"
         }
        }
       }
      }
     },
     "metadata": {},
     "output_type": "display_data"
    }
   ],
   "source": [
    "top_10_sports_gold = medal_counts.nlargest(10, 'Gold')\n",
    "top_10_sports_gold_plot = px.bar(top_10_sports_gold, x=top_10_sports_gold.index, y=['Gold Female', 'Gold Male'], title='Top 10 sports with the highest number of gold medals won by France', barmode='stack')\n",
    "top_10_sports_gold_plot.update_layout(\n",
    "    paper_bgcolor=\"black\",\n",
    "    plot_bgcolor=\"black\",\n",
    "    font_color=\"white\",\n",
    "    yaxis_title=\"Number of gold medals won\"\n",
    ")\n",
    "top_10_sports_gold_plot.show()"
   ]
  },
  {
   "cell_type": "code",
   "execution_count": 82,
   "metadata": {},
   "outputs": [
    {
     "data": {
      "application/vnd.plotly.v1+json": {
       "config": {
        "plotlyServerURL": "https://plot.ly"
       },
       "data": [
        {
         "alignmentgroup": "True",
         "hovertemplate": "variable=Silver Female<br>Sport=%{x}<br>value=%{y}<extra></extra>",
         "legendgroup": "Silver Female",
         "marker": {
          "color": "#636efa",
          "pattern": {
           "shape": ""
          }
         },
         "name": "Silver Female",
         "offsetgroup": "Silver Female",
         "orientation": "v",
         "showlegend": true,
         "textposition": "auto",
         "type": "bar",
         "x": [
          "Fencing",
          "Cycling",
          "Basketball",
          "Rowing",
          "Athletics",
          "Rugby",
          "Handball",
          "Swimming",
          "Shooting",
          "Archery"
         ],
         "xaxis": "x",
         "y": [
          7,
          5,
          12,
          0,
          2,
          0,
          16,
          5,
          2,
          0
         ],
         "yaxis": "y"
        },
        {
         "alignmentgroup": "True",
         "hovertemplate": "variable=Silver Male<br>Sport=%{x}<br>value=%{y}<extra></extra>",
         "legendgroup": "Silver Male",
         "marker": {
          "color": "#EF553B",
          "pattern": {
           "shape": ""
          }
         },
         "name": "Silver Male",
         "offsetgroup": "Silver Male",
         "orientation": "v",
         "showlegend": true,
         "textposition": "auto",
         "type": "bar",
         "x": [
          "Fencing",
          "Cycling",
          "Basketball",
          "Rowing",
          "Athletics",
          "Rugby",
          "Handball",
          "Swimming",
          "Shooting",
          "Archery"
         ],
         "xaxis": "x",
         "y": [
          85,
          34,
          26,
          37,
          32,
          34,
          15,
          23,
          25,
          25
         ],
         "yaxis": "y"
        }
       ],
       "layout": {
        "barmode": "stack",
        "font": {
         "color": "white"
        },
        "legend": {
         "title": {
          "text": "variable"
         },
         "tracegroupgap": 0
        },
        "paper_bgcolor": "black",
        "plot_bgcolor": "black",
        "template": {
         "data": {
          "bar": [
           {
            "error_x": {
             "color": "#2a3f5f"
            },
            "error_y": {
             "color": "#2a3f5f"
            },
            "marker": {
             "line": {
              "color": "#E5ECF6",
              "width": 0.5
             },
             "pattern": {
              "fillmode": "overlay",
              "size": 10,
              "solidity": 0.2
             }
            },
            "type": "bar"
           }
          ],
          "barpolar": [
           {
            "marker": {
             "line": {
              "color": "#E5ECF6",
              "width": 0.5
             },
             "pattern": {
              "fillmode": "overlay",
              "size": 10,
              "solidity": 0.2
             }
            },
            "type": "barpolar"
           }
          ],
          "carpet": [
           {
            "aaxis": {
             "endlinecolor": "#2a3f5f",
             "gridcolor": "white",
             "linecolor": "white",
             "minorgridcolor": "white",
             "startlinecolor": "#2a3f5f"
            },
            "baxis": {
             "endlinecolor": "#2a3f5f",
             "gridcolor": "white",
             "linecolor": "white",
             "minorgridcolor": "white",
             "startlinecolor": "#2a3f5f"
            },
            "type": "carpet"
           }
          ],
          "choropleth": [
           {
            "colorbar": {
             "outlinewidth": 0,
             "ticks": ""
            },
            "type": "choropleth"
           }
          ],
          "contour": [
           {
            "colorbar": {
             "outlinewidth": 0,
             "ticks": ""
            },
            "colorscale": [
             [
              0,
              "#0d0887"
             ],
             [
              0.1111111111111111,
              "#46039f"
             ],
             [
              0.2222222222222222,
              "#7201a8"
             ],
             [
              0.3333333333333333,
              "#9c179e"
             ],
             [
              0.4444444444444444,
              "#bd3786"
             ],
             [
              0.5555555555555556,
              "#d8576b"
             ],
             [
              0.6666666666666666,
              "#ed7953"
             ],
             [
              0.7777777777777778,
              "#fb9f3a"
             ],
             [
              0.8888888888888888,
              "#fdca26"
             ],
             [
              1,
              "#f0f921"
             ]
            ],
            "type": "contour"
           }
          ],
          "contourcarpet": [
           {
            "colorbar": {
             "outlinewidth": 0,
             "ticks": ""
            },
            "type": "contourcarpet"
           }
          ],
          "heatmap": [
           {
            "colorbar": {
             "outlinewidth": 0,
             "ticks": ""
            },
            "colorscale": [
             [
              0,
              "#0d0887"
             ],
             [
              0.1111111111111111,
              "#46039f"
             ],
             [
              0.2222222222222222,
              "#7201a8"
             ],
             [
              0.3333333333333333,
              "#9c179e"
             ],
             [
              0.4444444444444444,
              "#bd3786"
             ],
             [
              0.5555555555555556,
              "#d8576b"
             ],
             [
              0.6666666666666666,
              "#ed7953"
             ],
             [
              0.7777777777777778,
              "#fb9f3a"
             ],
             [
              0.8888888888888888,
              "#fdca26"
             ],
             [
              1,
              "#f0f921"
             ]
            ],
            "type": "heatmap"
           }
          ],
          "heatmapgl": [
           {
            "colorbar": {
             "outlinewidth": 0,
             "ticks": ""
            },
            "colorscale": [
             [
              0,
              "#0d0887"
             ],
             [
              0.1111111111111111,
              "#46039f"
             ],
             [
              0.2222222222222222,
              "#7201a8"
             ],
             [
              0.3333333333333333,
              "#9c179e"
             ],
             [
              0.4444444444444444,
              "#bd3786"
             ],
             [
              0.5555555555555556,
              "#d8576b"
             ],
             [
              0.6666666666666666,
              "#ed7953"
             ],
             [
              0.7777777777777778,
              "#fb9f3a"
             ],
             [
              0.8888888888888888,
              "#fdca26"
             ],
             [
              1,
              "#f0f921"
             ]
            ],
            "type": "heatmapgl"
           }
          ],
          "histogram": [
           {
            "marker": {
             "pattern": {
              "fillmode": "overlay",
              "size": 10,
              "solidity": 0.2
             }
            },
            "type": "histogram"
           }
          ],
          "histogram2d": [
           {
            "colorbar": {
             "outlinewidth": 0,
             "ticks": ""
            },
            "colorscale": [
             [
              0,
              "#0d0887"
             ],
             [
              0.1111111111111111,
              "#46039f"
             ],
             [
              0.2222222222222222,
              "#7201a8"
             ],
             [
              0.3333333333333333,
              "#9c179e"
             ],
             [
              0.4444444444444444,
              "#bd3786"
             ],
             [
              0.5555555555555556,
              "#d8576b"
             ],
             [
              0.6666666666666666,
              "#ed7953"
             ],
             [
              0.7777777777777778,
              "#fb9f3a"
             ],
             [
              0.8888888888888888,
              "#fdca26"
             ],
             [
              1,
              "#f0f921"
             ]
            ],
            "type": "histogram2d"
           }
          ],
          "histogram2dcontour": [
           {
            "colorbar": {
             "outlinewidth": 0,
             "ticks": ""
            },
            "colorscale": [
             [
              0,
              "#0d0887"
             ],
             [
              0.1111111111111111,
              "#46039f"
             ],
             [
              0.2222222222222222,
              "#7201a8"
             ],
             [
              0.3333333333333333,
              "#9c179e"
             ],
             [
              0.4444444444444444,
              "#bd3786"
             ],
             [
              0.5555555555555556,
              "#d8576b"
             ],
             [
              0.6666666666666666,
              "#ed7953"
             ],
             [
              0.7777777777777778,
              "#fb9f3a"
             ],
             [
              0.8888888888888888,
              "#fdca26"
             ],
             [
              1,
              "#f0f921"
             ]
            ],
            "type": "histogram2dcontour"
           }
          ],
          "mesh3d": [
           {
            "colorbar": {
             "outlinewidth": 0,
             "ticks": ""
            },
            "type": "mesh3d"
           }
          ],
          "parcoords": [
           {
            "line": {
             "colorbar": {
              "outlinewidth": 0,
              "ticks": ""
             }
            },
            "type": "parcoords"
           }
          ],
          "pie": [
           {
            "automargin": true,
            "type": "pie"
           }
          ],
          "scatter": [
           {
            "fillpattern": {
             "fillmode": "overlay",
             "size": 10,
             "solidity": 0.2
            },
            "type": "scatter"
           }
          ],
          "scatter3d": [
           {
            "line": {
             "colorbar": {
              "outlinewidth": 0,
              "ticks": ""
             }
            },
            "marker": {
             "colorbar": {
              "outlinewidth": 0,
              "ticks": ""
             }
            },
            "type": "scatter3d"
           }
          ],
          "scattercarpet": [
           {
            "marker": {
             "colorbar": {
              "outlinewidth": 0,
              "ticks": ""
             }
            },
            "type": "scattercarpet"
           }
          ],
          "scattergeo": [
           {
            "marker": {
             "colorbar": {
              "outlinewidth": 0,
              "ticks": ""
             }
            },
            "type": "scattergeo"
           }
          ],
          "scattergl": [
           {
            "marker": {
             "colorbar": {
              "outlinewidth": 0,
              "ticks": ""
             }
            },
            "type": "scattergl"
           }
          ],
          "scattermapbox": [
           {
            "marker": {
             "colorbar": {
              "outlinewidth": 0,
              "ticks": ""
             }
            },
            "type": "scattermapbox"
           }
          ],
          "scatterpolar": [
           {
            "marker": {
             "colorbar": {
              "outlinewidth": 0,
              "ticks": ""
             }
            },
            "type": "scatterpolar"
           }
          ],
          "scatterpolargl": [
           {
            "marker": {
             "colorbar": {
              "outlinewidth": 0,
              "ticks": ""
             }
            },
            "type": "scatterpolargl"
           }
          ],
          "scatterternary": [
           {
            "marker": {
             "colorbar": {
              "outlinewidth": 0,
              "ticks": ""
             }
            },
            "type": "scatterternary"
           }
          ],
          "surface": [
           {
            "colorbar": {
             "outlinewidth": 0,
             "ticks": ""
            },
            "colorscale": [
             [
              0,
              "#0d0887"
             ],
             [
              0.1111111111111111,
              "#46039f"
             ],
             [
              0.2222222222222222,
              "#7201a8"
             ],
             [
              0.3333333333333333,
              "#9c179e"
             ],
             [
              0.4444444444444444,
              "#bd3786"
             ],
             [
              0.5555555555555556,
              "#d8576b"
             ],
             [
              0.6666666666666666,
              "#ed7953"
             ],
             [
              0.7777777777777778,
              "#fb9f3a"
             ],
             [
              0.8888888888888888,
              "#fdca26"
             ],
             [
              1,
              "#f0f921"
             ]
            ],
            "type": "surface"
           }
          ],
          "table": [
           {
            "cells": {
             "fill": {
              "color": "#EBF0F8"
             },
             "line": {
              "color": "white"
             }
            },
            "header": {
             "fill": {
              "color": "#C8D4E3"
             },
             "line": {
              "color": "white"
             }
            },
            "type": "table"
           }
          ]
         },
         "layout": {
          "annotationdefaults": {
           "arrowcolor": "#2a3f5f",
           "arrowhead": 0,
           "arrowwidth": 1
          },
          "autotypenumbers": "strict",
          "coloraxis": {
           "colorbar": {
            "outlinewidth": 0,
            "ticks": ""
           }
          },
          "colorscale": {
           "diverging": [
            [
             0,
             "#8e0152"
            ],
            [
             0.1,
             "#c51b7d"
            ],
            [
             0.2,
             "#de77ae"
            ],
            [
             0.3,
             "#f1b6da"
            ],
            [
             0.4,
             "#fde0ef"
            ],
            [
             0.5,
             "#f7f7f7"
            ],
            [
             0.6,
             "#e6f5d0"
            ],
            [
             0.7,
             "#b8e186"
            ],
            [
             0.8,
             "#7fbc41"
            ],
            [
             0.9,
             "#4d9221"
            ],
            [
             1,
             "#276419"
            ]
           ],
           "sequential": [
            [
             0,
             "#0d0887"
            ],
            [
             0.1111111111111111,
             "#46039f"
            ],
            [
             0.2222222222222222,
             "#7201a8"
            ],
            [
             0.3333333333333333,
             "#9c179e"
            ],
            [
             0.4444444444444444,
             "#bd3786"
            ],
            [
             0.5555555555555556,
             "#d8576b"
            ],
            [
             0.6666666666666666,
             "#ed7953"
            ],
            [
             0.7777777777777778,
             "#fb9f3a"
            ],
            [
             0.8888888888888888,
             "#fdca26"
            ],
            [
             1,
             "#f0f921"
            ]
           ],
           "sequentialminus": [
            [
             0,
             "#0d0887"
            ],
            [
             0.1111111111111111,
             "#46039f"
            ],
            [
             0.2222222222222222,
             "#7201a8"
            ],
            [
             0.3333333333333333,
             "#9c179e"
            ],
            [
             0.4444444444444444,
             "#bd3786"
            ],
            [
             0.5555555555555556,
             "#d8576b"
            ],
            [
             0.6666666666666666,
             "#ed7953"
            ],
            [
             0.7777777777777778,
             "#fb9f3a"
            ],
            [
             0.8888888888888888,
             "#fdca26"
            ],
            [
             1,
             "#f0f921"
            ]
           ]
          },
          "colorway": [
           "#636efa",
           "#EF553B",
           "#00cc96",
           "#ab63fa",
           "#FFA15A",
           "#19d3f3",
           "#FF6692",
           "#B6E880",
           "#FF97FF",
           "#FECB52"
          ],
          "font": {
           "color": "#2a3f5f"
          },
          "geo": {
           "bgcolor": "white",
           "lakecolor": "white",
           "landcolor": "#E5ECF6",
           "showlakes": true,
           "showland": true,
           "subunitcolor": "white"
          },
          "hoverlabel": {
           "align": "left"
          },
          "hovermode": "closest",
          "mapbox": {
           "style": "light"
          },
          "paper_bgcolor": "white",
          "plot_bgcolor": "#E5ECF6",
          "polar": {
           "angularaxis": {
            "gridcolor": "white",
            "linecolor": "white",
            "ticks": ""
           },
           "bgcolor": "#E5ECF6",
           "radialaxis": {
            "gridcolor": "white",
            "linecolor": "white",
            "ticks": ""
           }
          },
          "scene": {
           "xaxis": {
            "backgroundcolor": "#E5ECF6",
            "gridcolor": "white",
            "gridwidth": 2,
            "linecolor": "white",
            "showbackground": true,
            "ticks": "",
            "zerolinecolor": "white"
           },
           "yaxis": {
            "backgroundcolor": "#E5ECF6",
            "gridcolor": "white",
            "gridwidth": 2,
            "linecolor": "white",
            "showbackground": true,
            "ticks": "",
            "zerolinecolor": "white"
           },
           "zaxis": {
            "backgroundcolor": "#E5ECF6",
            "gridcolor": "white",
            "gridwidth": 2,
            "linecolor": "white",
            "showbackground": true,
            "ticks": "",
            "zerolinecolor": "white"
           }
          },
          "shapedefaults": {
           "line": {
            "color": "#2a3f5f"
           }
          },
          "ternary": {
           "aaxis": {
            "gridcolor": "white",
            "linecolor": "white",
            "ticks": ""
           },
           "baxis": {
            "gridcolor": "white",
            "linecolor": "white",
            "ticks": ""
           },
           "bgcolor": "#E5ECF6",
           "caxis": {
            "gridcolor": "white",
            "linecolor": "white",
            "ticks": ""
           }
          },
          "title": {
           "x": 0.05
          },
          "xaxis": {
           "automargin": true,
           "gridcolor": "white",
           "linecolor": "white",
           "ticks": "",
           "title": {
            "standoff": 15
           },
           "zerolinecolor": "white",
           "zerolinewidth": 2
          },
          "yaxis": {
           "automargin": true,
           "gridcolor": "white",
           "linecolor": "white",
           "ticks": "",
           "title": {
            "standoff": 15
           },
           "zerolinecolor": "white",
           "zerolinewidth": 2
          }
         }
        },
        "title": {
         "text": "Top 10 sports with the highest number of silver medals won by France"
        },
        "xaxis": {
         "anchor": "y",
         "domain": [
          0,
          1
         ],
         "title": {
          "text": "Sport"
         }
        },
        "yaxis": {
         "anchor": "x",
         "domain": [
          0,
          1
         ],
         "title": {
          "text": "Number of silver medals won"
         }
        }
       }
      }
     },
     "metadata": {},
     "output_type": "display_data"
    }
   ],
   "source": [
    "top_10_sports_silver = medal_counts.nlargest(10, 'Silver')\n",
    "top_10_sports_silver_plot = px.bar(top_10_sports_silver, x=top_10_sports_silver.index, y=['Silver Female', 'Silver Male'], title='Top 10 sports with the highest number of silver medals won by France', barmode='stack')\n",
    "top_10_sports_silver_plot.update_layout(\n",
    "    paper_bgcolor=\"black\",\n",
    "    plot_bgcolor=\"black\",\n",
    "    font_color=\"white\",\n",
    "    yaxis_title=\"Number of silver medals won\"\n",
    ")\n",
    "top_10_sports_silver_plot.show()"
   ]
  },
  {
   "cell_type": "code",
   "execution_count": 83,
   "metadata": {},
   "outputs": [
    {
     "data": {
      "application/vnd.plotly.v1+json": {
       "config": {
        "plotlyServerURL": "https://plot.ly"
       },
       "data": [
        {
         "alignmentgroup": "True",
         "hovertemplate": "variable=Bronze Female<br>Sport=%{x}<br>value=%{y}<extra></extra>",
         "legendgroup": "Bronze Female",
         "marker": {
          "color": "#636efa",
          "pattern": {
           "shape": ""
          }
         },
         "name": "Bronze Female",
         "offsetgroup": "Bronze Female",
         "orientation": "v",
         "showlegend": true,
         "textposition": "auto",
         "type": "bar",
         "x": [
          "Fencing",
          "Athletics",
          "Cycling",
          "Rowing",
          "Gymnastics",
          "Shooting",
          "Swimming",
          "Canoeing",
          "Judo",
          "Biathlon"
         ],
         "xaxis": "x",
         "y": [
          12,
          8,
          1,
          2,
          0,
          1,
          11,
          4,
          8,
          10
         ],
         "yaxis": "y"
        },
        {
         "alignmentgroup": "True",
         "hovertemplate": "variable=Bronze Male<br>Sport=%{x}<br>value=%{y}<extra></extra>",
         "legendgroup": "Bronze Male",
         "marker": {
          "color": "#EF553B",
          "pattern": {
           "shape": ""
          }
         },
         "name": "Bronze Male",
         "offsetgroup": "Bronze Male",
         "orientation": "v",
         "showlegend": true,
         "textposition": "auto",
         "type": "bar",
         "x": [
          "Fencing",
          "Athletics",
          "Cycling",
          "Rowing",
          "Gymnastics",
          "Shooting",
          "Swimming",
          "Canoeing",
          "Judo",
          "Biathlon"
         ],
         "xaxis": "x",
         "y": [
          77,
          54,
          42,
          35,
          36,
          29,
          19,
          25,
          17,
          14
         ],
         "yaxis": "y"
        }
       ],
       "layout": {
        "barmode": "stack",
        "font": {
         "color": "white"
        },
        "legend": {
         "title": {
          "text": "variable"
         },
         "tracegroupgap": 0
        },
        "paper_bgcolor": "black",
        "plot_bgcolor": "black",
        "template": {
         "data": {
          "bar": [
           {
            "error_x": {
             "color": "#2a3f5f"
            },
            "error_y": {
             "color": "#2a3f5f"
            },
            "marker": {
             "line": {
              "color": "#E5ECF6",
              "width": 0.5
             },
             "pattern": {
              "fillmode": "overlay",
              "size": 10,
              "solidity": 0.2
             }
            },
            "type": "bar"
           }
          ],
          "barpolar": [
           {
            "marker": {
             "line": {
              "color": "#E5ECF6",
              "width": 0.5
             },
             "pattern": {
              "fillmode": "overlay",
              "size": 10,
              "solidity": 0.2
             }
            },
            "type": "barpolar"
           }
          ],
          "carpet": [
           {
            "aaxis": {
             "endlinecolor": "#2a3f5f",
             "gridcolor": "white",
             "linecolor": "white",
             "minorgridcolor": "white",
             "startlinecolor": "#2a3f5f"
            },
            "baxis": {
             "endlinecolor": "#2a3f5f",
             "gridcolor": "white",
             "linecolor": "white",
             "minorgridcolor": "white",
             "startlinecolor": "#2a3f5f"
            },
            "type": "carpet"
           }
          ],
          "choropleth": [
           {
            "colorbar": {
             "outlinewidth": 0,
             "ticks": ""
            },
            "type": "choropleth"
           }
          ],
          "contour": [
           {
            "colorbar": {
             "outlinewidth": 0,
             "ticks": ""
            },
            "colorscale": [
             [
              0,
              "#0d0887"
             ],
             [
              0.1111111111111111,
              "#46039f"
             ],
             [
              0.2222222222222222,
              "#7201a8"
             ],
             [
              0.3333333333333333,
              "#9c179e"
             ],
             [
              0.4444444444444444,
              "#bd3786"
             ],
             [
              0.5555555555555556,
              "#d8576b"
             ],
             [
              0.6666666666666666,
              "#ed7953"
             ],
             [
              0.7777777777777778,
              "#fb9f3a"
             ],
             [
              0.8888888888888888,
              "#fdca26"
             ],
             [
              1,
              "#f0f921"
             ]
            ],
            "type": "contour"
           }
          ],
          "contourcarpet": [
           {
            "colorbar": {
             "outlinewidth": 0,
             "ticks": ""
            },
            "type": "contourcarpet"
           }
          ],
          "heatmap": [
           {
            "colorbar": {
             "outlinewidth": 0,
             "ticks": ""
            },
            "colorscale": [
             [
              0,
              "#0d0887"
             ],
             [
              0.1111111111111111,
              "#46039f"
             ],
             [
              0.2222222222222222,
              "#7201a8"
             ],
             [
              0.3333333333333333,
              "#9c179e"
             ],
             [
              0.4444444444444444,
              "#bd3786"
             ],
             [
              0.5555555555555556,
              "#d8576b"
             ],
             [
              0.6666666666666666,
              "#ed7953"
             ],
             [
              0.7777777777777778,
              "#fb9f3a"
             ],
             [
              0.8888888888888888,
              "#fdca26"
             ],
             [
              1,
              "#f0f921"
             ]
            ],
            "type": "heatmap"
           }
          ],
          "heatmapgl": [
           {
            "colorbar": {
             "outlinewidth": 0,
             "ticks": ""
            },
            "colorscale": [
             [
              0,
              "#0d0887"
             ],
             [
              0.1111111111111111,
              "#46039f"
             ],
             [
              0.2222222222222222,
              "#7201a8"
             ],
             [
              0.3333333333333333,
              "#9c179e"
             ],
             [
              0.4444444444444444,
              "#bd3786"
             ],
             [
              0.5555555555555556,
              "#d8576b"
             ],
             [
              0.6666666666666666,
              "#ed7953"
             ],
             [
              0.7777777777777778,
              "#fb9f3a"
             ],
             [
              0.8888888888888888,
              "#fdca26"
             ],
             [
              1,
              "#f0f921"
             ]
            ],
            "type": "heatmapgl"
           }
          ],
          "histogram": [
           {
            "marker": {
             "pattern": {
              "fillmode": "overlay",
              "size": 10,
              "solidity": 0.2
             }
            },
            "type": "histogram"
           }
          ],
          "histogram2d": [
           {
            "colorbar": {
             "outlinewidth": 0,
             "ticks": ""
            },
            "colorscale": [
             [
              0,
              "#0d0887"
             ],
             [
              0.1111111111111111,
              "#46039f"
             ],
             [
              0.2222222222222222,
              "#7201a8"
             ],
             [
              0.3333333333333333,
              "#9c179e"
             ],
             [
              0.4444444444444444,
              "#bd3786"
             ],
             [
              0.5555555555555556,
              "#d8576b"
             ],
             [
              0.6666666666666666,
              "#ed7953"
             ],
             [
              0.7777777777777778,
              "#fb9f3a"
             ],
             [
              0.8888888888888888,
              "#fdca26"
             ],
             [
              1,
              "#f0f921"
             ]
            ],
            "type": "histogram2d"
           }
          ],
          "histogram2dcontour": [
           {
            "colorbar": {
             "outlinewidth": 0,
             "ticks": ""
            },
            "colorscale": [
             [
              0,
              "#0d0887"
             ],
             [
              0.1111111111111111,
              "#46039f"
             ],
             [
              0.2222222222222222,
              "#7201a8"
             ],
             [
              0.3333333333333333,
              "#9c179e"
             ],
             [
              0.4444444444444444,
              "#bd3786"
             ],
             [
              0.5555555555555556,
              "#d8576b"
             ],
             [
              0.6666666666666666,
              "#ed7953"
             ],
             [
              0.7777777777777778,
              "#fb9f3a"
             ],
             [
              0.8888888888888888,
              "#fdca26"
             ],
             [
              1,
              "#f0f921"
             ]
            ],
            "type": "histogram2dcontour"
           }
          ],
          "mesh3d": [
           {
            "colorbar": {
             "outlinewidth": 0,
             "ticks": ""
            },
            "type": "mesh3d"
           }
          ],
          "parcoords": [
           {
            "line": {
             "colorbar": {
              "outlinewidth": 0,
              "ticks": ""
             }
            },
            "type": "parcoords"
           }
          ],
          "pie": [
           {
            "automargin": true,
            "type": "pie"
           }
          ],
          "scatter": [
           {
            "fillpattern": {
             "fillmode": "overlay",
             "size": 10,
             "solidity": 0.2
            },
            "type": "scatter"
           }
          ],
          "scatter3d": [
           {
            "line": {
             "colorbar": {
              "outlinewidth": 0,
              "ticks": ""
             }
            },
            "marker": {
             "colorbar": {
              "outlinewidth": 0,
              "ticks": ""
             }
            },
            "type": "scatter3d"
           }
          ],
          "scattercarpet": [
           {
            "marker": {
             "colorbar": {
              "outlinewidth": 0,
              "ticks": ""
             }
            },
            "type": "scattercarpet"
           }
          ],
          "scattergeo": [
           {
            "marker": {
             "colorbar": {
              "outlinewidth": 0,
              "ticks": ""
             }
            },
            "type": "scattergeo"
           }
          ],
          "scattergl": [
           {
            "marker": {
             "colorbar": {
              "outlinewidth": 0,
              "ticks": ""
             }
            },
            "type": "scattergl"
           }
          ],
          "scattermapbox": [
           {
            "marker": {
             "colorbar": {
              "outlinewidth": 0,
              "ticks": ""
             }
            },
            "type": "scattermapbox"
           }
          ],
          "scatterpolar": [
           {
            "marker": {
             "colorbar": {
              "outlinewidth": 0,
              "ticks": ""
             }
            },
            "type": "scatterpolar"
           }
          ],
          "scatterpolargl": [
           {
            "marker": {
             "colorbar": {
              "outlinewidth": 0,
              "ticks": ""
             }
            },
            "type": "scatterpolargl"
           }
          ],
          "scatterternary": [
           {
            "marker": {
             "colorbar": {
              "outlinewidth": 0,
              "ticks": ""
             }
            },
            "type": "scatterternary"
           }
          ],
          "surface": [
           {
            "colorbar": {
             "outlinewidth": 0,
             "ticks": ""
            },
            "colorscale": [
             [
              0,
              "#0d0887"
             ],
             [
              0.1111111111111111,
              "#46039f"
             ],
             [
              0.2222222222222222,
              "#7201a8"
             ],
             [
              0.3333333333333333,
              "#9c179e"
             ],
             [
              0.4444444444444444,
              "#bd3786"
             ],
             [
              0.5555555555555556,
              "#d8576b"
             ],
             [
              0.6666666666666666,
              "#ed7953"
             ],
             [
              0.7777777777777778,
              "#fb9f3a"
             ],
             [
              0.8888888888888888,
              "#fdca26"
             ],
             [
              1,
              "#f0f921"
             ]
            ],
            "type": "surface"
           }
          ],
          "table": [
           {
            "cells": {
             "fill": {
              "color": "#EBF0F8"
             },
             "line": {
              "color": "white"
             }
            },
            "header": {
             "fill": {
              "color": "#C8D4E3"
             },
             "line": {
              "color": "white"
             }
            },
            "type": "table"
           }
          ]
         },
         "layout": {
          "annotationdefaults": {
           "arrowcolor": "#2a3f5f",
           "arrowhead": 0,
           "arrowwidth": 1
          },
          "autotypenumbers": "strict",
          "coloraxis": {
           "colorbar": {
            "outlinewidth": 0,
            "ticks": ""
           }
          },
          "colorscale": {
           "diverging": [
            [
             0,
             "#8e0152"
            ],
            [
             0.1,
             "#c51b7d"
            ],
            [
             0.2,
             "#de77ae"
            ],
            [
             0.3,
             "#f1b6da"
            ],
            [
             0.4,
             "#fde0ef"
            ],
            [
             0.5,
             "#f7f7f7"
            ],
            [
             0.6,
             "#e6f5d0"
            ],
            [
             0.7,
             "#b8e186"
            ],
            [
             0.8,
             "#7fbc41"
            ],
            [
             0.9,
             "#4d9221"
            ],
            [
             1,
             "#276419"
            ]
           ],
           "sequential": [
            [
             0,
             "#0d0887"
            ],
            [
             0.1111111111111111,
             "#46039f"
            ],
            [
             0.2222222222222222,
             "#7201a8"
            ],
            [
             0.3333333333333333,
             "#9c179e"
            ],
            [
             0.4444444444444444,
             "#bd3786"
            ],
            [
             0.5555555555555556,
             "#d8576b"
            ],
            [
             0.6666666666666666,
             "#ed7953"
            ],
            [
             0.7777777777777778,
             "#fb9f3a"
            ],
            [
             0.8888888888888888,
             "#fdca26"
            ],
            [
             1,
             "#f0f921"
            ]
           ],
           "sequentialminus": [
            [
             0,
             "#0d0887"
            ],
            [
             0.1111111111111111,
             "#46039f"
            ],
            [
             0.2222222222222222,
             "#7201a8"
            ],
            [
             0.3333333333333333,
             "#9c179e"
            ],
            [
             0.4444444444444444,
             "#bd3786"
            ],
            [
             0.5555555555555556,
             "#d8576b"
            ],
            [
             0.6666666666666666,
             "#ed7953"
            ],
            [
             0.7777777777777778,
             "#fb9f3a"
            ],
            [
             0.8888888888888888,
             "#fdca26"
            ],
            [
             1,
             "#f0f921"
            ]
           ]
          },
          "colorway": [
           "#636efa",
           "#EF553B",
           "#00cc96",
           "#ab63fa",
           "#FFA15A",
           "#19d3f3",
           "#FF6692",
           "#B6E880",
           "#FF97FF",
           "#FECB52"
          ],
          "font": {
           "color": "#2a3f5f"
          },
          "geo": {
           "bgcolor": "white",
           "lakecolor": "white",
           "landcolor": "#E5ECF6",
           "showlakes": true,
           "showland": true,
           "subunitcolor": "white"
          },
          "hoverlabel": {
           "align": "left"
          },
          "hovermode": "closest",
          "mapbox": {
           "style": "light"
          },
          "paper_bgcolor": "white",
          "plot_bgcolor": "#E5ECF6",
          "polar": {
           "angularaxis": {
            "gridcolor": "white",
            "linecolor": "white",
            "ticks": ""
           },
           "bgcolor": "#E5ECF6",
           "radialaxis": {
            "gridcolor": "white",
            "linecolor": "white",
            "ticks": ""
           }
          },
          "scene": {
           "xaxis": {
            "backgroundcolor": "#E5ECF6",
            "gridcolor": "white",
            "gridwidth": 2,
            "linecolor": "white",
            "showbackground": true,
            "ticks": "",
            "zerolinecolor": "white"
           },
           "yaxis": {
            "backgroundcolor": "#E5ECF6",
            "gridcolor": "white",
            "gridwidth": 2,
            "linecolor": "white",
            "showbackground": true,
            "ticks": "",
            "zerolinecolor": "white"
           },
           "zaxis": {
            "backgroundcolor": "#E5ECF6",
            "gridcolor": "white",
            "gridwidth": 2,
            "linecolor": "white",
            "showbackground": true,
            "ticks": "",
            "zerolinecolor": "white"
           }
          },
          "shapedefaults": {
           "line": {
            "color": "#2a3f5f"
           }
          },
          "ternary": {
           "aaxis": {
            "gridcolor": "white",
            "linecolor": "white",
            "ticks": ""
           },
           "baxis": {
            "gridcolor": "white",
            "linecolor": "white",
            "ticks": ""
           },
           "bgcolor": "#E5ECF6",
           "caxis": {
            "gridcolor": "white",
            "linecolor": "white",
            "ticks": ""
           }
          },
          "title": {
           "x": 0.05
          },
          "xaxis": {
           "automargin": true,
           "gridcolor": "white",
           "linecolor": "white",
           "ticks": "",
           "title": {
            "standoff": 15
           },
           "zerolinecolor": "white",
           "zerolinewidth": 2
          },
          "yaxis": {
           "automargin": true,
           "gridcolor": "white",
           "linecolor": "white",
           "ticks": "",
           "title": {
            "standoff": 15
           },
           "zerolinecolor": "white",
           "zerolinewidth": 2
          }
         }
        },
        "title": {
         "text": "Top 10 sports with the highest number of bronze medals won by France"
        },
        "xaxis": {
         "anchor": "y",
         "domain": [
          0,
          1
         ],
         "title": {
          "text": "Sport"
         }
        },
        "yaxis": {
         "anchor": "x",
         "domain": [
          0,
          1
         ],
         "title": {
          "text": "Number of bronze medals won"
         }
        }
       }
      }
     },
     "metadata": {},
     "output_type": "display_data"
    }
   ],
   "source": [
    "top_10_sports_bronze = medal_counts.nlargest(10, 'Bronze')\n",
    "top_10_sports_bronze_plot = px.bar(top_10_sports_bronze, x=top_10_sports_bronze.index, y=['Bronze Female', 'Bronze Male'], title='Top 10 sports with the highest number of bronze medals won by France', barmode='stack')\n",
    "top_10_sports_bronze_plot.update_layout(\n",
    "    paper_bgcolor=\"black\",\n",
    "    plot_bgcolor=\"black\",\n",
    "    font_color=\"white\",\n",
    "    yaxis_title=\"Number of bronze medals won\"\n",
    ")\n",
    "top_10_sports_bronze_plot.show()"
   ]
  },
  {
   "cell_type": "markdown",
   "metadata": {},
   "source": [
    "### Histogram över olika åldrar över tid"
   ]
  },
  {
   "cell_type": "code",
   "execution_count": 123,
   "metadata": {},
   "outputs": [
    {
     "name": "stderr",
     "output_type": "stream",
     "text": [
      "/var/folders/qs/52nq18yx781_kc58fhrjc7n00000gn/T/ipykernel_53225/2360890153.py:3: SettingWithCopyWarning:\n",
      "\n",
      "\n",
      "A value is trying to be set on a copy of a slice from a DataFrame\n",
      "\n",
      "See the caveats in the documentation: https://pandas.pydata.org/pandas-docs/stable/user_guide/indexing.html#returning-a-view-versus-a-copy\n",
      "\n",
      "/var/folders/qs/52nq18yx781_kc58fhrjc7n00000gn/T/ipykernel_53225/2360890153.py:4: SettingWithCopyWarning:\n",
      "\n",
      "\n",
      "A value is trying to be set on a copy of a slice from a DataFrame\n",
      "\n",
      "See the caveats in the documentation: https://pandas.pydata.org/pandas-docs/stable/user_guide/indexing.html#returning-a-view-versus-a-copy\n",
      "\n"
     ]
    },
    {
     "data": {
      "application/vnd.plotly.v1+json": {
       "config": {
        "plotlyServerURL": "https://plot.ly"
       },
       "data": [
        {
         "alignmentgroup": "True",
         "bingroup": "x",
         "hovertemplate": "Year=1896<br>Age=%{x}<br>count=%{y}<extra></extra>",
         "legendgroup": "",
         "marker": {
          "color": "#636efa",
          "pattern": {
           "shape": ""
          }
         },
         "name": "",
         "offsetgroup": "",
         "orientation": "v",
         "showlegend": false,
         "type": "histogram",
         "x": [
          20,
          17,
          19,
          19,
          19,
          21,
          18,
          18,
          20,
          18,
          21,
          19,
          21,
          18,
          19,
          21,
          25,
          25,
          18
         ],
         "xaxis": "x",
         "yaxis": "y"
        }
       ],
       "frames": [
        {
         "data": [
          {
           "alignmentgroup": "True",
           "bingroup": "x",
           "hovertemplate": "Year=1896<br>Age=%{x}<br>count=%{y}<extra></extra>",
           "legendgroup": "",
           "marker": {
            "color": "#636efa",
            "pattern": {
             "shape": ""
            }
           },
           "name": "",
           "offsetgroup": "",
           "orientation": "v",
           "showlegend": false,
           "type": "histogram",
           "x": [
            20,
            17,
            19,
            19,
            19,
            21,
            18,
            18,
            20,
            18,
            21,
            19,
            21,
            18,
            19,
            21,
            25,
            25,
            18
           ],
           "xaxis": "x",
           "yaxis": "y"
          }
         ],
         "name": "1896"
        },
        {
         "data": [
          {
           "alignmentgroup": "True",
           "bingroup": "x",
           "hovertemplate": "Year=1900<br>Age=%{x}<br>count=%{y}<extra></extra>",
           "legendgroup": "",
           "marker": {
            "color": "#636efa",
            "pattern": {
             "shape": ""
            }
           },
           "name": "",
           "offsetgroup": "",
           "orientation": "v",
           "showlegend": false,
           "type": "histogram",
           "x": [
            33,
            20,
            20,
            20,
            18,
            35,
            18,
            22,
            29,
            43,
            43,
            29,
            29,
            19,
            22,
            22,
            16,
            17,
            43,
            43,
            35,
            35,
            46,
            22,
            22,
            21,
            22,
            22,
            39,
            56,
            34,
            37,
            20,
            20,
            23,
            19,
            35,
            19,
            40,
            33,
            33,
            32,
            40,
            32,
            32,
            32,
            32,
            32,
            24,
            24,
            38,
            32,
            22,
            37,
            37,
            17,
            26,
            51,
            34,
            34,
            34,
            34,
            34,
            26,
            26,
            26,
            20,
            18,
            31,
            18,
            18,
            16,
            21,
            16,
            26,
            29,
            29,
            38,
            23,
            21,
            21,
            26,
            31,
            21,
            18,
            22,
            34,
            18,
            19,
            25,
            19,
            23,
            33,
            30,
            26,
            26,
            34,
            34,
            34,
            32,
            26,
            43,
            29,
            46,
            35,
            46,
            46,
            27,
            31,
            31,
            46,
            45,
            45,
            41,
            46,
            46,
            46,
            38,
            22,
            38,
            41,
            24,
            19,
            45,
            25,
            25,
            36,
            25,
            25,
            25,
            24,
            24,
            39,
            39,
            21,
            41,
            19,
            49,
            28,
            31,
            22,
            22,
            19,
            28,
            28,
            27,
            28,
            26,
            17,
            26,
            26,
            26,
            36,
            18,
            26,
            20,
            32,
            25,
            46,
            45,
            22,
            40,
            28,
            33,
            20,
            33,
            32,
            18,
            35,
            31,
            19,
            24,
            24,
            24,
            23,
            47,
            22,
            22,
            13,
            24,
            18,
            20,
            31,
            20,
            34,
            34,
            32,
            33,
            33,
            21,
            34,
            34,
            34,
            19,
            19,
            40,
            38,
            32,
            18,
            24,
            22,
            20,
            20,
            28,
            44,
            48,
            48,
            48,
            33,
            48,
            29,
            22,
            21,
            21,
            26,
            43,
            43,
            26,
            34,
            34,
            34,
            34,
            23,
            20,
            17,
            34,
            26,
            26,
            17,
            23,
            48,
            48,
            48,
            48,
            48,
            48,
            48,
            28,
            43,
            29,
            58,
            58,
            20,
            22,
            29,
            57,
            43,
            23,
            21,
            18,
            18,
            43,
            25,
            30,
            25,
            27,
            30,
            30,
            23,
            30,
            17,
            30,
            33,
            40,
            35,
            23,
            24,
            18,
            33,
            46,
            15,
            15,
            21,
            33,
            46
           ],
           "xaxis": "x",
           "yaxis": "y"
          }
         ],
         "name": "1900"
        },
        {
         "data": [
          {
           "alignmentgroup": "True",
           "bingroup": "x",
           "hovertemplate": "Year=1906<br>Age=%{x}<br>count=%{y}<extra></extra>",
           "legendgroup": "",
           "marker": {
            "color": "#636efa",
            "pattern": {
             "shape": ""
            }
           },
           "name": "",
           "offsetgroup": "",
           "orientation": "v",
           "showlegend": false,
           "type": "histogram",
           "x": [
            52,
            22,
            22,
            33,
            43,
            43,
            52,
            43,
            43,
            43,
            22,
            43,
            23,
            24,
            43,
            32,
            43,
            43,
            32,
            43,
            43,
            24,
            32,
            22,
            22,
            22,
            22,
            54,
            20,
            54,
            54,
            52,
            23,
            54,
            23,
            54,
            54,
            54,
            54,
            54,
            54,
            23,
            23,
            52,
            52,
            52,
            43,
            33,
            33,
            33,
            25,
            32,
            23,
            32,
            52,
            32,
            29,
            20,
            40,
            40,
            40,
            20,
            20,
            24,
            52,
            52,
            19,
            27,
            27,
            19,
            30,
            19,
            30,
            30,
            46,
            21,
            46,
            46,
            46,
            24,
            19,
            21,
            23,
            23,
            52,
            19,
            30,
            20,
            46,
            21,
            21,
            20,
            20,
            21,
            21,
            46,
            30,
            41,
            46,
            46,
            24,
            23,
            46,
            29,
            46,
            46,
            46
           ],
           "xaxis": "x",
           "yaxis": "y"
          }
         ],
         "name": "1906"
        },
        {
         "data": [
          {
           "alignmentgroup": "True",
           "bingroup": "x",
           "hovertemplate": "Year=1908<br>Age=%{x}<br>count=%{y}<extra></extra>",
           "legendgroup": "",
           "marker": {
            "color": "#636efa",
            "pattern": {
             "shape": ""
            }
           },
           "name": "",
           "offsetgroup": "",
           "orientation": "v",
           "showlegend": false,
           "type": "histogram",
           "x": [
            20,
            28,
            22,
            26,
            26,
            53,
            23,
            20,
            53,
            21,
            34,
            23,
            24,
            29,
            43,
            54,
            54,
            43,
            40,
            40,
            18,
            23,
            19,
            35,
            26,
            33,
            23,
            30,
            31,
            30,
            28,
            26,
            25,
            25,
            25,
            25,
            26,
            22,
            26,
            40,
            35,
            55,
            31,
            24,
            18,
            42,
            30,
            30,
            27,
            39,
            39,
            23,
            26,
            26,
            39,
            31,
            31,
            31,
            26,
            19,
            26,
            20,
            20,
            31,
            40,
            55,
            29,
            23,
            23,
            20,
            20,
            29,
            42,
            24,
            30,
            19,
            28,
            36,
            33,
            27,
            27,
            33,
            33,
            23,
            23,
            20,
            23,
            20,
            18,
            33,
            18,
            21,
            45,
            18,
            20,
            41,
            20,
            20,
            20,
            20,
            41,
            23,
            45,
            23,
            45,
            29,
            28,
            41,
            46,
            23,
            23,
            23,
            32,
            32,
            32,
            27,
            41,
            27,
            25,
            37,
            29,
            26,
            26,
            18,
            23,
            32,
            37,
            29,
            20,
            33,
            23,
            33,
            33,
            40,
            26,
            26,
            29,
            29,
            25,
            19,
            19,
            27,
            56,
            19,
            56,
            19,
            56,
            32,
            32,
            20,
            20,
            16,
            19,
            18,
            16,
            18,
            16
           ],
           "xaxis": "x",
           "yaxis": "y"
          }
         ],
         "name": "1908"
        },
        {
         "data": [
          {
           "alignmentgroup": "True",
           "bingroup": "x",
           "hovertemplate": "Year=1912<br>Age=%{x}<br>count=%{y}<extra></extra>",
           "legendgroup": "",
           "marker": {
            "color": "#636efa",
            "pattern": {
             "shape": ""
            }
           },
           "name": "",
           "offsetgroup": "",
           "orientation": "v",
           "showlegend": false,
           "type": "histogram",
           "x": [
            33,
            29,
            39,
            44,
            44,
            22,
            29,
            28,
            20,
            34,
            34,
            24,
            33,
            44,
            34,
            33,
            31,
            22,
            28,
            39,
            25,
            33,
            31,
            31,
            39,
            31,
            39,
            28,
            35,
            27,
            24,
            29,
            48,
            25,
            48,
            48,
            35,
            48,
            23,
            59,
            23,
            49,
            49,
            41,
            41,
            59,
            48,
            29,
            44,
            27,
            27,
            31,
            34,
            27,
            34,
            34,
            34,
            29,
            29,
            35,
            57,
            57,
            57,
            35,
            41,
            31,
            38,
            25,
            28,
            47,
            18,
            62,
            18,
            21,
            21,
            25,
            20,
            20,
            32,
            24,
            47,
            47,
            47,
            21,
            21,
            20,
            41,
            41,
            49,
            49,
            22,
            24,
            24,
            27,
            22,
            22,
            22,
            19,
            19,
            21,
            20,
            49,
            39,
            25,
            27,
            25,
            24,
            23,
            21,
            23,
            23,
            22,
            23,
            36,
            29,
            22,
            22,
            22,
            22,
            45,
            64,
            21,
            22,
            34,
            22,
            22,
            53,
            22,
            26,
            22,
            26,
            23,
            26,
            26,
            21,
            21,
            23,
            26,
            34,
            29,
            57,
            59,
            59,
            30,
            20,
            21,
            20,
            29,
            30,
            19,
            19,
            33,
            33,
            39,
            39,
            30,
            57,
            29,
            52,
            57,
            30,
            30,
            24,
            24,
            27,
            59,
            30,
            30,
            30,
            30,
            22,
            30,
            52,
            35,
            34,
            22,
            34,
            34,
            49,
            21,
            22,
            21,
            21,
            22,
            22,
            19,
            36,
            22,
            29,
            20,
            22,
            22,
            22,
            25,
            21,
            36,
            19,
            24,
            20,
            28,
            36,
            36,
            36,
            36,
            27,
            21,
            20,
            27
           ],
           "xaxis": "x",
           "yaxis": "y"
          }
         ],
         "name": "1912"
        },
        {
         "data": [
          {
           "alignmentgroup": "True",
           "bingroup": "x",
           "hovertemplate": "Year=1920<br>Age=%{x}<br>count=%{y}<extra></extra>",
           "legendgroup": "",
           "marker": {
            "color": "#636efa",
            "pattern": {
             "shape": ""
            }
           },
           "name": "",
           "offsetgroup": "",
           "orientation": "v",
           "showlegend": false,
           "type": "histogram",
           "x": [
            19,
            30,
            35,
            35,
            30,
            58,
            20,
            19,
            19,
            19,
            24,
            38,
            30,
            19,
            19,
            40,
            22,
            21,
            41,
            36,
            19,
            24,
            19,
            18,
            19,
            36,
            36,
            20,
            21,
            19,
            41,
            22,
            38,
            41,
            21,
            21,
            20,
            26,
            28,
            20,
            38,
            19,
            19,
            23,
            28,
            28,
            22,
            28,
            21,
            38,
            34,
            34,
            20,
            20,
            21,
            21,
            20,
            32,
            21,
            38,
            32,
            27,
            32,
            19,
            29,
            37,
            26,
            41,
            26,
            18,
            27,
            24,
            26,
            22,
            22,
            26,
            23,
            23,
            35,
            18,
            20,
            20,
            20,
            20,
            26,
            20,
            44,
            34,
            20,
            20,
            20,
            38,
            32,
            24,
            43,
            44,
            44,
            44,
            44,
            16,
            34,
            32,
            21,
            45,
            45,
            45,
            23,
            44,
            23,
            23,
            44,
            45,
            45,
            21,
            18,
            21,
            39,
            39,
            26,
            30,
            21,
            61,
            61,
            61,
            30,
            27,
            32,
            52,
            52,
            52,
            31,
            52,
            52,
            52,
            52,
            52,
            52,
            52,
            31,
            31,
            29,
            37,
            21,
            20,
            24,
            21,
            27,
            27,
            28,
            27,
            19,
            19,
            19,
            20,
            35,
            35,
            39,
            35,
            20,
            32,
            41,
            19,
            19,
            19,
            19,
            31,
            20,
            24,
            53,
            38,
            53,
            53,
            26,
            43,
            43,
            43,
            43,
            43,
            43,
            30,
            43,
            31,
            39,
            43,
            26,
            28,
            17,
            26,
            17,
            20,
            20,
            32,
            38,
            31,
            29,
            29,
            20,
            23,
            33,
            34,
            40,
            40,
            40,
            40,
            24,
            39,
            29,
            43,
            43,
            29,
            26,
            26,
            23,
            35,
            22,
            41,
            41,
            41,
            41,
            41,
            41,
            23,
            45,
            20,
            20,
            29,
            30,
            33,
            52,
            52,
            29,
            27,
            55,
            27,
            19,
            27,
            41,
            41,
            42,
            31,
            31,
            25,
            42,
            55,
            28,
            20,
            27,
            20,
            31,
            21,
            31,
            31,
            31,
            31,
            55,
            19,
            31,
            31,
            27,
            37,
            32,
            21,
            37,
            30,
            32,
            19,
            19,
            31,
            45,
            65,
            30,
            44,
            44,
            44,
            44,
            24,
            44,
            27,
            36,
            36,
            44,
            44,
            44,
            44,
            44,
            31,
            32,
            29,
            37,
            29,
            34,
            20,
            29,
            25,
            28,
            26,
            20,
            36,
            20,
            30,
            32,
            30,
            31,
            20,
            20,
            29,
            30,
            26,
            28,
            28,
            28,
            19,
            26,
            31,
            25,
            33,
            28,
            38,
            19,
            28,
            22,
            21,
            26,
            25,
            24,
            21
           ],
           "xaxis": "x",
           "yaxis": "y"
          }
         ],
         "name": "1920"
        },
        {
         "data": [
          {
           "alignmentgroup": "True",
           "bingroup": "x",
           "hovertemplate": "Year=1924<br>Age=%{x}<br>count=%{y}<extra></extra>",
           "legendgroup": "",
           "marker": {
            "color": "#636efa",
            "pattern": {
             "shape": ""
            }
           },
           "name": "",
           "offsetgroup": "",
           "orientation": "v",
           "showlegend": false,
           "type": "histogram",
           "x": [
            27,
            19,
            19,
            24,
            19,
            22,
            31,
            26,
            26,
            16,
            69,
            66,
            26,
            26,
            63,
            24,
            43,
            22,
            48,
            24,
            43,
            24,
            39,
            36,
            35,
            25,
            26,
            18,
            19,
            18,
            48,
            22,
            23,
            30,
            22,
            25,
            25,
            21,
            25,
            46,
            30,
            30,
            41,
            24,
            30,
            27,
            39,
            32,
            17,
            26,
            30,
            21,
            37,
            69,
            37,
            30,
            30,
            30,
            30,
            36,
            25,
            24,
            25,
            25,
            63,
            32,
            26,
            32,
            21,
            25,
            25,
            54,
            23,
            43,
            43,
            20,
            27,
            19,
            25,
            25,
            25,
            25,
            34,
            19,
            55,
            43,
            19,
            19,
            24,
            18,
            18,
            25,
            23,
            22,
            23,
            23,
            29,
            22,
            30,
            30,
            46,
            26,
            50,
            20,
            19,
            32,
            55,
            32,
            52,
            49,
            23,
            30,
            19,
            20,
            38,
            48,
            25,
            19,
            25,
            18,
            30,
            22,
            31,
            14,
            36,
            65,
            30,
            39,
            30,
            22,
            37,
            44,
            20,
            22,
            18,
            26,
            14,
            21,
            30,
            30,
            30,
            21,
            40,
            31,
            29,
            23,
            39,
            23,
            23,
            23,
            18,
            39,
            30,
            36,
            21,
            20,
            22,
            35,
            35,
            23,
            45,
            22,
            47,
            23,
            23,
            23,
            23,
            47,
            22,
            22,
            24,
            48,
            48,
            35,
            17,
            48,
            47,
            47,
            30,
            30,
            30,
            47,
            36,
            24,
            40,
            40,
            28,
            29,
            29,
            29,
            29,
            26,
            41,
            43,
            36,
            36,
            16,
            20,
            20,
            20,
            25,
            23,
            31,
            24,
            31,
            31,
            31,
            24,
            31,
            31,
            31,
            31,
            31,
            30,
            30,
            30,
            30,
            30,
            30,
            40,
            40,
            24,
            35,
            30,
            30,
            23,
            43,
            47,
            47,
            47,
            47,
            47,
            47,
            47,
            47,
            47,
            47,
            47,
            47,
            43,
            22,
            22,
            22,
            32,
            21,
            27,
            21,
            23,
            21,
            43,
            28,
            28,
            28,
            43,
            28,
            30,
            27,
            27,
            27,
            27,
            27,
            29,
            30,
            30,
            30,
            23,
            42,
            30,
            30,
            36,
            24,
            23,
            38,
            24,
            38,
            27,
            30,
            25,
            30,
            30,
            38,
            30,
            23,
            27,
            19,
            34,
            31,
            31,
            41,
            31,
            26,
            23,
            23,
            23,
            36,
            49,
            32,
            23,
            26,
            26,
            25,
            49,
            27,
            28,
            37,
            37,
            27,
            23,
            24,
            27,
            30,
            18,
            41,
            22,
            21,
            21,
            23,
            23,
            23,
            50,
            19,
            50,
            29,
            24,
            23,
            21,
            24,
            28,
            20,
            25,
            44,
            22,
            48,
            44,
            44,
            28,
            44,
            28,
            28,
            28,
            28,
            28,
            25,
            20,
            25,
            22,
            75,
            21,
            75,
            46,
            24,
            23,
            23,
            30,
            33,
            33,
            46,
            21,
            21,
            30,
            25,
            25,
            24,
            38,
            21,
            20,
            20,
            46,
            75,
            34,
            21,
            20,
            30,
            33,
            48,
            39,
            74,
            74,
            74,
            74,
            35,
            35,
            58,
            58,
            22,
            20,
            38,
            45,
            21,
            21,
            20,
            20,
            31,
            36,
            28,
            22,
            24,
            22,
            33,
            24,
            44,
            18,
            27,
            22,
            33,
            45,
            45,
            17,
            24,
            26,
            26,
            23,
            23,
            23,
            22,
            23,
            35,
            41,
            21,
            20,
            23,
            29,
            25,
            47,
            44,
            26,
            35,
            59,
            42,
            41,
            36,
            42,
            23,
            21,
            21,
            27,
            22,
            25,
            26,
            21,
            27,
            21,
            21,
            26,
            19,
            19,
            19,
            22,
            25,
            30,
            30,
            34,
            45,
            30,
            20,
            37,
            81,
            20,
            23,
            21,
            21,
            23,
            45,
            38,
            33,
            33,
            33,
            33,
            27,
            27,
            45,
            38,
            17,
            17,
            28,
            28,
            23,
            32,
            41,
            42,
            42,
            37,
            37,
            37,
            37,
            33,
            33,
            38,
            33,
            32,
            22,
            22,
            31,
            29,
            18,
            18,
            24,
            28,
            31,
            31,
            22,
            19,
            22,
            30,
            33,
            23,
            29,
            23,
            24,
            23,
            24,
            23,
            23,
            33,
            21,
            55,
            26,
            17,
            21,
            23,
            33,
            24,
            44,
            20,
            20,
            24,
            20,
            21
           ],
           "xaxis": "x",
           "yaxis": "y"
          }
         ],
         "name": "1924"
        },
        {
         "data": [
          {
           "alignmentgroup": "True",
           "bingroup": "x",
           "hovertemplate": "Year=1928<br>Age=%{x}<br>count=%{y}<extra></extra>",
           "legendgroup": "",
           "marker": {
            "color": "#636efa",
            "pattern": {
             "shape": ""
            }
           },
           "name": "",
           "offsetgroup": "",
           "orientation": "v",
           "showlegend": false,
           "type": "histogram",
           "x": [
            26,
            34,
            34,
            34,
            34,
            25,
            49,
            18,
            37,
            37,
            37,
            22,
            34,
            37,
            37,
            63,
            31,
            38,
            49,
            25,
            64,
            64,
            21,
            22,
            19,
            37,
            64,
            17,
            23,
            40,
            21,
            21,
            21,
            23,
            40,
            23,
            23,
            40,
            31,
            34,
            20,
            37,
            37,
            28,
            24,
            24,
            26,
            23,
            37,
            34,
            29,
            24,
            29,
            34,
            27,
            37,
            37,
            26,
            24,
            24,
            48,
            22,
            26,
            28,
            40,
            40,
            40,
            40,
            48,
            23,
            19,
            23,
            37,
            37,
            37,
            24,
            37,
            34,
            24,
            24,
            26,
            26,
            37,
            37,
            37,
            37,
            24,
            24,
            37,
            37,
            37,
            37,
            19,
            37,
            37,
            37,
            18,
            21,
            22,
            60,
            29,
            60,
            60,
            60,
            60,
            60,
            21,
            21,
            21,
            26,
            25,
            22,
            71,
            71,
            40,
            44,
            24,
            20,
            29,
            60,
            16,
            26,
            22,
            22,
            43,
            22,
            26,
            43,
            21,
            17,
            20,
            24,
            32,
            27,
            28,
            21,
            17,
            36,
            17,
            20,
            43,
            43,
            21,
            20,
            20,
            25,
            20,
            43,
            19,
            20,
            21,
            34,
            24,
            26,
            27,
            17,
            37,
            21,
            25,
            24,
            16,
            52,
            20,
            19,
            18,
            25,
            27,
            37,
            37,
            64,
            64,
            26,
            26,
            26,
            64,
            49,
            17,
            17,
            24,
            37,
            21,
            32,
            44,
            25,
            24,
            23,
            21,
            24,
            25,
            31,
            32,
            32,
            32,
            31,
            27,
            27,
            22,
            21,
            25,
            25,
            24,
            24,
            29,
            21,
            31,
            27,
            29,
            29,
            29,
            26,
            25,
            20,
            41,
            42,
            25,
            25,
            28,
            28,
            40,
            28,
            43,
            43,
            23,
            40,
            33,
            27,
            24,
            21,
            30,
            25,
            48,
            67,
            41,
            25,
            20,
            48,
            48,
            21,
            21,
            29,
            23,
            22,
            22,
            40,
            25,
            48,
            42,
            28,
            44,
            21,
            42,
            27,
            21,
            21,
            27,
            34,
            34,
            20,
            23,
            29,
            35,
            35,
            17,
            24,
            22,
            26,
            33,
            16,
            31,
            22,
            18,
            29,
            29,
            28,
            40,
            20,
            26,
            39,
            20,
            26,
            41,
            26,
            24,
            23,
            29,
            32,
            34,
            41,
            39,
            23,
            41,
            26,
            29,
            27
           ],
           "xaxis": "x",
           "yaxis": "y"
          }
         ],
         "name": "1928"
        },
        {
         "data": [
          {
           "alignmentgroup": "True",
           "bingroup": "x",
           "hovertemplate": "Year=1932<br>Age=%{x}<br>count=%{y}<extra></extra>",
           "legendgroup": "",
           "marker": {
            "color": "#636efa",
            "pattern": {
             "shape": ""
            }
           },
           "name": "",
           "offsetgroup": "",
           "orientation": "v",
           "showlegend": false,
           "type": "histogram",
           "x": [
            47,
            47,
            42,
            28,
            65,
            20,
            27,
            42,
            54,
            42,
            26,
            53,
            55,
            42,
            25,
            42,
            35,
            21,
            46,
            46,
            39,
            29,
            25,
            30,
            32,
            49,
            38,
            21,
            61,
            38,
            61,
            29,
            35,
            19,
            21,
            25,
            22,
            30,
            23,
            22,
            22,
            24,
            24,
            28,
            56,
            26,
            25,
            45,
            21,
            45,
            28,
            28,
            24,
            23,
            42,
            24,
            21,
            21,
            29,
            47,
            56,
            47,
            42,
            21,
            47,
            43,
            17,
            48,
            48,
            48,
            63,
            31,
            20,
            57,
            26,
            47,
            27,
            72,
            70,
            20,
            42,
            24,
            24,
            42,
            62,
            37,
            42,
            42,
            40,
            40,
            40,
            20,
            58,
            58,
            43,
            49,
            21,
            26,
            27,
            55,
            43,
            61,
            20,
            40,
            18,
            37,
            32,
            18,
            49,
            49,
            20,
            20,
            20,
            22,
            21,
            23,
            58,
            58,
            49,
            58,
            29,
            31,
            38,
            38,
            31,
            31,
            23,
            31,
            60,
            60,
            56,
            58,
            49,
            52,
            20,
            26,
            26,
            52,
            23,
            26,
            23,
            29,
            24,
            52,
            46,
            46,
            55,
            29,
            52,
            20,
            26,
            32,
            52,
            22
           ],
           "xaxis": "x",
           "yaxis": "y"
          }
         ],
         "name": "1932"
        },
        {
         "data": [
          {
           "alignmentgroup": "True",
           "bingroup": "x",
           "hovertemplate": "Year=1936<br>Age=%{x}<br>count=%{y}<extra></extra>",
           "legendgroup": "",
           "marker": {
            "color": "#636efa",
            "pattern": {
             "shape": ""
            }
           },
           "name": "",
           "offsetgroup": "",
           "orientation": "v",
           "showlegend": false,
           "type": "histogram",
           "x": [
            22,
            28,
            24,
            27,
            22,
            19,
            28,
            19,
            29,
            28,
            19,
            28,
            30,
            19,
            28,
            32,
            20,
            24,
            24,
            24,
            21,
            24,
            24,
            24,
            35,
            24,
            24,
            24,
            23,
            24,
            28,
            18,
            18,
            24,
            22,
            22,
            22,
            22,
            32,
            25,
            28,
            37,
            37,
            28,
            23,
            18,
            22,
            23,
            23,
            19,
            28,
            25,
            23,
            25,
            26,
            22,
            22,
            29,
            22,
            22,
            29,
            22,
            28,
            29,
            30,
            23,
            28,
            24,
            31,
            23,
            21,
            26,
            22,
            25,
            22,
            22,
            20,
            20,
            22,
            28,
            23,
            30,
            27,
            27,
            22,
            23,
            23,
            23,
            22,
            31,
            42,
            42,
            22,
            22,
            23,
            30,
            23,
            31,
            44,
            24,
            24,
            27,
            28,
            27,
            27,
            32,
            32,
            32,
            32,
            32,
            32,
            32,
            23,
            25,
            32,
            25,
            30,
            18,
            18,
            23,
            24,
            28,
            39,
            39,
            22,
            28,
            22,
            32,
            29,
            22,
            27,
            34,
            34,
            26,
            29,
            28,
            30,
            27,
            28,
            24,
            31,
            26,
            20,
            29,
            22,
            26,
            30,
            29,
            24,
            22,
            23,
            23,
            22,
            28,
            29,
            29,
            29,
            23,
            29,
            25,
            23,
            20,
            30,
            27,
            31,
            27,
            30,
            20,
            20,
            20,
            27,
            24,
            24,
            28,
            42,
            24,
            41,
            24,
            25,
            25,
            24,
            25,
            24,
            24,
            24,
            25,
            25,
            17,
            25,
            25,
            25,
            26,
            22,
            44,
            32,
            19,
            46,
            46,
            24,
            33,
            26,
            22,
            26,
            17,
            34,
            19,
            38,
            23,
            26,
            27,
            23,
            28,
            27,
            19,
            22,
            22,
            42,
            26,
            23,
            24,
            31,
            36,
            22,
            31,
            33,
            30,
            30,
            26,
            26,
            23,
            25,
            24,
            21,
            19,
            23,
            23,
            35,
            23,
            30,
            35,
            25,
            23,
            25,
            25,
            30,
            37,
            37,
            21,
            24,
            31,
            22,
            34,
            24,
            27,
            23,
            34,
            27,
            27,
            23,
            36,
            20,
            27,
            38,
            24,
            23,
            20,
            31,
            26,
            30,
            35,
            35,
            24,
            39,
            23,
            48,
            17,
            30,
            14,
            30,
            22,
            23,
            30,
            30,
            25,
            25,
            29,
            34,
            21,
            29,
            37,
            28,
            21,
            39,
            26,
            12,
            27,
            24,
            12,
            23,
            34,
            25,
            23,
            23,
            22,
            27,
            25,
            26,
            23,
            19,
            48,
            31
           ],
           "xaxis": "x",
           "yaxis": "y"
          }
         ],
         "name": "1936"
        },
        {
         "data": [
          {
           "alignmentgroup": "True",
           "bingroup": "x",
           "hovertemplate": "Year=1948<br>Age=%{x}<br>count=%{y}<extra></extra>",
           "legendgroup": "",
           "marker": {
            "color": "#636efa",
            "pattern": {
             "shape": ""
            }
           },
           "name": "",
           "offsetgroup": "",
           "orientation": "v",
           "showlegend": false,
           "type": "histogram",
           "x": [
            31,
            32,
            27,
            27,
            24,
            28,
            65,
            27,
            37,
            32,
            21,
            19,
            21,
            65,
            21,
            18,
            20,
            27,
            34,
            18,
            27,
            23,
            19,
            36,
            20,
            28,
            21,
            16,
            23,
            21,
            29,
            30,
            23,
            36,
            36,
            20,
            18,
            18,
            23,
            28,
            31,
            25,
            24,
            26,
            22,
            19,
            28,
            21,
            21,
            28,
            28,
            41,
            41,
            23,
            35,
            28,
            36,
            53,
            53,
            53,
            53,
            25,
            40,
            24,
            21,
            24,
            40,
            24,
            23,
            21,
            21,
            21,
            40,
            36,
            30,
            36,
            36,
            36,
            23,
            28,
            36,
            36,
            25,
            23,
            33,
            19,
            19,
            34,
            27,
            19,
            19,
            19,
            20,
            28,
            21,
            21,
            17,
            25,
            16,
            16,
            16,
            36,
            38,
            23,
            25,
            25,
            20,
            24,
            26,
            26,
            27,
            20,
            20,
            29,
            34,
            37,
            51,
            20,
            27,
            28,
            22,
            22,
            25,
            20,
            36,
            35,
            20,
            27,
            27,
            42,
            27,
            17,
            25,
            16,
            27,
            34,
            26,
            26,
            26,
            26,
            17,
            48,
            20,
            24,
            24,
            26,
            40,
            26,
            32,
            22,
            24,
            23,
            32,
            26,
            24,
            20,
            27,
            74,
            32,
            32,
            28,
            22,
            20,
            26,
            20,
            22,
            20,
            26,
            21,
            40,
            40,
            27,
            29,
            32,
            19,
            64,
            21,
            22,
            29,
            29,
            23,
            23,
            23,
            24,
            23,
            25,
            19,
            25,
            24,
            24,
            21,
            25,
            24,
            32,
            21,
            21,
            21,
            21,
            21,
            21,
            23,
            21,
            28,
            24,
            41,
            23,
            28,
            24,
            24,
            37,
            34,
            19,
            27,
            21,
            21,
            23,
            22,
            21,
            45,
            21,
            21,
            31,
            20,
            31,
            22,
            22,
            34,
            21,
            27,
            23,
            21,
            27,
            41,
            23,
            22,
            30,
            30,
            33,
            25,
            27,
            25,
            22,
            25,
            39,
            28,
            39,
            21,
            22,
            37,
            27,
            22,
            22,
            23,
            47,
            22,
            35,
            22,
            22,
            36,
            35,
            23,
            26,
            20,
            27,
            21,
            35,
            27,
            34,
            28,
            34,
            35,
            34,
            34,
            26,
            36,
            27,
            25,
            24,
            25,
            20,
            52,
            38,
            27,
            34,
            38,
            28,
            34,
            52,
            24,
            28,
            34,
            22,
            25,
            35,
            21,
            22,
            18,
            18,
            32,
            26,
            49,
            22,
            26,
            20,
            44,
            27,
            34,
            27,
            42,
            33,
            31,
            23,
            28,
            31,
            23,
            43,
            28,
            43,
            34,
            33,
            26,
            23,
            56,
            21,
            34,
            23,
            37,
            22,
            23,
            26,
            23,
            21,
            26,
            38,
            19,
            26,
            19,
            22,
            26,
            25,
            27,
            25,
            42,
            23,
            20,
            19,
            18,
            24,
            29,
            33,
            19,
            19,
            19,
            27,
            28,
            28,
            28,
            23,
            24,
            46,
            20,
            28,
            28,
            28,
            28,
            20,
            37,
            28,
            39,
            28,
            24,
            19,
            42,
            34,
            26,
            34,
            24,
            24,
            22,
            39,
            19,
            43,
            24,
            29,
            22,
            33,
            37,
            37,
            33,
            33,
            33,
            33,
            33,
            33,
            47,
            25,
            36,
            23,
            18,
            22,
            28,
            42,
            41,
            36,
            40
           ],
           "xaxis": "x",
           "yaxis": "y"
          }
         ],
         "name": "1948"
        },
        {
         "data": [
          {
           "alignmentgroup": "True",
           "bingroup": "x",
           "hovertemplate": "Year=1952<br>Age=%{x}<br>count=%{y}<extra></extra>",
           "legendgroup": "",
           "marker": {
            "color": "#636efa",
            "pattern": {
             "shape": ""
            }
           },
           "name": "",
           "offsetgroup": "",
           "orientation": "v",
           "showlegend": false,
           "type": "histogram",
           "x": [
            29,
            20,
            20,
            19,
            29,
            20,
            18,
            30,
            20,
            21,
            30,
            26,
            38,
            20,
            20,
            21,
            19,
            20,
            30,
            29,
            30,
            30,
            46,
            46,
            24,
            24,
            30,
            18,
            26,
            25,
            21,
            25,
            21,
            21,
            22,
            24,
            21,
            20,
            21,
            26,
            24,
            30,
            29,
            30,
            20,
            24,
            28,
            29,
            24,
            23,
            37,
            22,
            23,
            23,
            26,
            23,
            23,
            37,
            26,
            20,
            23,
            23,
            23,
            26,
            26,
            37,
            20,
            26,
            26,
            37,
            27,
            27,
            32,
            21,
            12,
            37,
            19,
            22,
            28,
            29,
            27,
            29,
            39,
            25,
            27,
            20,
            27,
            22,
            25,
            22,
            37,
            25,
            37,
            26,
            37,
            29,
            29,
            24,
            22,
            24,
            24,
            24,
            22,
            21,
            24,
            18,
            25,
            29,
            29,
            23,
            29,
            29,
            28,
            29,
            20,
            20,
            41,
            23,
            24,
            29,
            24,
            23,
            37,
            29,
            26,
            22,
            23,
            49,
            42,
            22,
            25,
            26,
            25,
            22,
            25,
            27,
            27,
            25,
            20,
            24,
            30,
            29,
            20,
            23,
            21,
            23,
            22,
            23,
            23,
            26,
            33,
            29,
            31,
            29,
            26,
            26,
            22,
            22,
            22,
            26,
            30,
            23,
            27,
            22,
            30,
            22,
            20,
            20,
            32,
            41,
            19,
            19,
            24,
            19,
            20,
            28,
            39,
            26,
            25,
            26,
            27,
            27,
            20,
            37,
            14,
            44,
            32,
            25,
            37,
            21,
            27,
            27,
            31,
            31,
            39,
            57,
            38,
            38,
            31,
            24,
            30,
            30,
            30,
            31,
            31,
            26,
            24,
            24,
            22,
            22,
            25,
            43,
            43,
            19,
            21,
            32,
            30,
            30,
            21,
            21,
            23,
            23,
            23,
            25,
            22,
            25,
            23,
            23,
            22,
            32,
            32,
            24,
            26,
            25,
            35,
            21,
            32,
            20,
            40,
            40,
            16,
            16,
            24,
            22,
            22,
            22,
            41,
            28,
            41,
            22,
            24,
            28,
            40,
            25,
            25,
            25,
            47,
            25,
            25,
            32,
            24,
            28,
            20,
            29,
            24,
            24,
            24,
            24,
            24,
            24,
            24,
            29,
            24,
            24,
            25,
            30,
            22,
            22,
            17,
            40,
            32,
            22,
            30,
            30,
            32,
            32,
            32,
            19,
            24,
            32,
            29,
            32,
            25,
            40,
            26,
            30,
            21,
            25,
            40,
            40,
            22,
            22,
            27,
            26,
            26,
            20,
            26,
            44,
            20,
            21,
            32,
            28,
            28,
            40,
            26,
            44,
            25,
            25,
            21,
            21,
            42,
            25,
            23,
            23,
            20,
            22,
            31,
            21,
            21,
            25,
            22,
            25,
            21,
            24,
            25,
            25,
            24,
            22,
            24,
            24,
            24,
            25,
            24,
            24,
            30,
            29,
            25,
            22,
            21,
            24,
            42,
            26,
            24,
            32,
            32,
            20,
            21,
            22,
            21,
            24,
            20,
            21,
            28,
            25,
            25,
            23,
            23,
            31,
            31,
            30,
            25,
            21,
            25,
            21,
            32,
            32,
            43,
            25,
            20,
            20,
            25,
            27,
            25,
            57,
            57,
            23,
            31,
            22,
            22,
            20,
            22,
            21,
            19,
            25,
            24,
            25,
            24,
            26,
            24,
            23,
            25,
            25,
            22,
            23,
            18,
            25,
            31,
            22,
            25,
            21,
            18,
            26,
            23,
            30,
            24,
            25,
            25,
            25,
            21,
            18,
            26,
            21,
            25,
            23,
            31,
            25,
            39,
            21,
            25,
            39,
            24,
            25,
            32,
            21,
            25,
            31,
            25,
            21
           ],
           "xaxis": "x",
           "yaxis": "y"
          }
         ],
         "name": "1952"
        },
        {
         "data": [
          {
           "alignmentgroup": "True",
           "bingroup": "x",
           "hovertemplate": "Year=1956<br>Age=%{x}<br>count=%{y}<extra></extra>",
           "legendgroup": "",
           "marker": {
            "color": "#636efa",
            "pattern": {
             "shape": ""
            }
           },
           "name": "",
           "offsetgroup": "",
           "orientation": "v",
           "showlegend": false,
           "type": "histogram",
           "x": [
            22,
            22,
            25,
            25,
            23,
            23,
            23,
            23,
            23,
            35,
            22,
            23,
            25,
            20,
            20,
            20,
            35,
            35,
            25,
            26,
            25,
            25,
            21,
            21,
            23,
            25,
            26,
            21,
            23,
            21,
            23,
            22,
            21,
            22,
            21,
            21,
            25,
            19,
            26,
            21,
            21,
            30,
            30,
            21,
            19,
            29,
            26,
            24,
            27,
            30,
            30,
            30,
            22,
            30,
            30,
            30,
            30,
            31,
            23,
            21,
            21,
            29,
            19,
            15,
            18,
            31,
            31,
            18,
            18,
            32,
            32,
            26,
            22,
            22,
            22,
            22,
            22,
            22,
            29,
            29,
            22,
            23,
            22,
            23,
            20,
            31,
            29,
            24,
            23,
            27,
            23,
            26,
            23,
            23,
            21,
            29,
            29,
            29,
            27,
            24,
            25,
            24,
            29,
            16,
            23,
            27,
            27,
            46,
            19,
            23,
            46,
            24,
            24,
            24,
            33,
            23,
            23,
            29,
            24,
            28,
            20,
            32,
            29,
            29,
            21,
            21,
            21,
            27,
            21,
            21,
            28,
            28,
            29,
            36,
            24,
            24,
            36,
            20,
            23,
            29,
            32,
            29,
            23,
            26,
            20,
            24,
            26,
            22,
            25,
            25,
            25,
            23,
            25,
            25,
            25,
            25,
            29,
            29,
            22,
            23,
            29,
            18,
            61,
            61,
            26,
            18,
            21,
            23,
            23,
            58,
            28,
            28,
            22,
            24,
            20,
            25,
            21,
            42,
            42,
            27,
            21,
            21,
            25,
            20,
            26,
            25,
            31,
            33,
            25,
            25,
            26,
            26,
            25,
            25,
            18,
            26,
            34,
            54,
            54,
            32,
            19,
            34,
            27,
            58,
            23,
            21,
            23,
            32,
            28,
            32,
            32,
            32,
            19,
            24,
            23,
            31,
            24,
            23,
            33,
            28,
            24,
            28,
            24,
            24,
            26,
            23,
            25,
            20,
            25,
            27,
            22,
            27,
            25,
            34,
            34,
            30,
            24,
            28,
            28,
            18,
            22,
            30
           ],
           "xaxis": "x",
           "yaxis": "y"
          }
         ],
         "name": "1956"
        },
        {
         "data": [
          {
           "alignmentgroup": "True",
           "bingroup": "x",
           "hovertemplate": "Year=1960<br>Age=%{x}<br>count=%{y}<extra></extra>",
           "legendgroup": "",
           "marker": {
            "color": "#636efa",
            "pattern": {
             "shape": ""
            }
           },
           "name": "",
           "offsetgroup": "",
           "orientation": "v",
           "showlegend": false,
           "type": "histogram",
           "x": [
            30,
            44,
            28,
            22,
            28,
            21,
            25,
            28,
            28,
            22,
            25,
            21,
            21,
            21,
            24,
            28,
            21,
            28,
            28,
            22,
            28,
            28,
            29,
            34,
            29,
            29,
            20,
            34,
            18,
            22,
            17,
            39,
            22,
            18,
            16,
            31,
            31,
            17,
            28,
            26,
            28,
            21,
            29,
            23,
            34,
            27,
            17,
            17,
            25,
            28,
            28,
            23,
            27,
            32,
            21,
            28,
            20,
            25,
            22,
            25,
            24,
            23,
            23,
            31,
            20,
            17,
            23,
            25,
            25,
            22,
            25,
            24,
            22,
            26,
            26,
            19,
            21,
            34,
            31,
            34,
            34,
            34,
            34,
            34,
            34,
            28,
            25,
            25,
            34,
            22,
            25,
            20,
            40,
            40,
            37,
            21,
            32,
            19,
            27,
            22,
            26,
            21,
            22,
            20,
            29,
            27,
            29,
            19,
            22,
            19,
            19,
            25,
            27,
            24,
            19,
            19,
            24,
            22,
            22,
            21,
            24,
            29,
            15,
            25,
            29,
            20,
            20,
            20,
            20,
            38,
            22,
            25,
            27,
            21,
            30,
            30,
            18,
            18,
            19,
            26,
            23,
            22,
            25,
            26,
            25,
            21,
            33,
            24,
            26,
            29,
            26,
            32,
            25,
            37,
            21,
            21,
            37,
            29,
            25,
            32,
            23,
            18,
            22,
            17,
            22,
            17,
            15,
            15,
            25,
            17,
            18,
            29,
            24,
            22,
            22,
            22,
            24,
            24,
            26,
            22,
            35,
            22,
            36,
            30,
            21,
            20,
            24,
            22,
            22,
            29,
            21,
            21,
            37,
            21,
            21,
            22,
            21,
            21,
            21,
            29,
            22,
            22,
            35,
            26,
            26,
            22,
            22,
            27,
            18,
            41,
            26,
            29,
            18,
            26,
            22,
            29,
            22,
            22,
            26,
            41,
            21,
            21,
            28,
            28,
            29,
            29,
            28,
            30,
            30,
            28,
            28,
            28,
            20,
            36,
            23,
            25,
            19,
            19,
            30,
            28,
            28,
            28,
            22,
            22,
            27,
            22,
            28,
            31,
            22,
            28,
            20,
            22,
            31,
            31,
            22,
            29,
            29,
            16,
            19,
            29,
            29,
            22,
            21,
            20,
            21,
            25,
            21,
            17,
            22,
            23,
            26,
            36,
            21,
            27,
            27,
            36,
            20,
            25,
            22,
            25,
            25,
            17,
            19,
            27,
            27,
            22,
            26,
            21,
            25,
            25,
            22,
            25,
            25,
            25,
            31,
            22,
            20,
            28,
            21,
            17,
            28,
            19,
            21,
            19,
            19,
            21,
            21,
            21,
            27,
            21,
            24,
            22,
            22,
            22,
            36,
            27,
            27,
            31,
            27,
            27,
            27,
            27,
            26,
            22,
            39,
            23,
            24,
            31,
            33,
            33,
            28,
            27,
            24,
            27,
            24,
            21,
            24,
            24,
            36,
            23,
            23,
            28,
            28,
            26,
            35,
            35,
            27,
            24,
            22,
            28,
            26,
            20,
            20,
            23,
            19,
            19,
            27,
            20,
            31,
            22,
            19,
            28,
            28,
            25,
            25,
            22,
            42,
            24,
            22,
            23,
            23,
            24,
            24,
            28,
            22,
            20,
            21,
            23,
            28,
            22,
            28,
            23,
            22,
            21,
            22,
            29,
            22,
            24,
            22,
            23,
            29,
            17,
            27,
            34,
            35,
            19,
            24,
            36,
            20,
            24,
            26,
            24,
            27,
            24,
            48,
            48,
            29,
            31
           ],
           "xaxis": "x",
           "yaxis": "y"
          }
         ],
         "name": "1960"
        },
        {
         "data": [
          {
           "alignmentgroup": "True",
           "bingroup": "x",
           "hovertemplate": "Year=1964<br>Age=%{x}<br>count=%{y}<extra></extra>",
           "legendgroup": "",
           "marker": {
            "color": "#636efa",
            "pattern": {
             "shape": ""
            }
           },
           "name": "",
           "offsetgroup": "",
           "orientation": "v",
           "showlegend": false,
           "type": "histogram",
           "x": [
            32,
            17,
            25,
            27,
            17,
            40,
            23,
            32,
            24,
            26,
            33,
            40,
            19,
            19,
            17,
            23,
            24,
            21,
            23,
            36,
            16,
            34,
            31,
            31,
            26,
            34,
            26,
            33,
            26,
            24,
            24,
            24,
            19,
            36,
            33,
            21,
            20,
            17,
            25,
            32,
            21,
            17,
            17,
            21,
            22,
            24,
            26,
            21,
            21,
            22,
            31,
            29,
            25,
            23,
            18,
            18,
            24,
            18,
            24,
            22,
            22,
            22,
            27,
            29,
            18,
            18,
            18,
            19,
            23,
            19,
            22,
            25,
            18,
            18,
            22,
            44,
            44,
            27,
            23,
            23,
            23,
            20,
            23,
            23,
            23,
            20,
            23,
            23,
            26,
            21,
            26,
            27,
            17,
            27,
            17,
            23,
            21,
            26,
            26,
            21,
            26,
            17,
            26,
            26,
            16,
            25,
            30,
            22,
            27,
            17,
            26,
            23,
            20,
            22,
            20,
            22,
            23,
            22,
            28,
            23,
            22,
            23,
            33,
            32,
            22,
            17,
            26,
            26,
            30,
            27,
            23,
            27,
            20,
            20,
            23,
            21,
            19,
            19,
            21,
            32,
            32,
            21,
            29,
            20,
            33,
            20,
            26,
            19,
            21,
            25,
            21,
            27,
            26,
            34,
            22,
            22,
            20,
            25,
            20,
            28,
            26,
            39,
            23,
            23,
            29,
            22,
            20,
            21,
            33,
            26,
            23,
            22,
            20,
            20,
            21,
            33,
            22,
            28,
            26,
            17,
            20,
            19,
            20,
            21,
            25,
            25,
            23,
            21,
            20,
            25,
            32,
            26,
            26,
            26,
            22,
            29,
            19,
            34,
            24,
            29,
            26,
            26,
            30,
            33,
            41,
            21,
            19,
            20,
            24,
            24,
            29,
            29,
            26,
            24,
            20,
            29,
            30,
            22,
            21,
            22,
            26,
            26,
            24,
            26,
            21,
            29,
            21,
            29,
            26,
            20,
            21,
            26,
            18,
            20,
            22,
            18,
            26,
            20,
            33,
            30,
            20,
            17,
            20,
            29,
            39,
            26,
            18,
            25,
            19,
            25,
            24,
            24,
            41,
            30,
            20,
            22,
            22,
            22,
            24,
            24,
            24,
            30
           ],
           "xaxis": "x",
           "yaxis": "y"
          }
         ],
         "name": "1964"
        },
        {
         "data": [
          {
           "alignmentgroup": "True",
           "bingroup": "x",
           "hovertemplate": "Year=1968<br>Age=%{x}<br>count=%{y}<extra></extra>",
           "legendgroup": "",
           "marker": {
            "color": "#636efa",
            "pattern": {
             "shape": ""
            }
           },
           "name": "",
           "offsetgroup": "",
           "orientation": "v",
           "showlegend": false,
           "type": "histogram",
           "x": [
            27,
            19,
            27,
            33,
            20,
            26,
            21,
            26,
            21,
            21,
            26,
            22,
            22,
            24,
            26,
            21,
            31,
            23,
            23,
            22,
            26,
            21,
            23,
            23,
            18,
            24,
            27,
            23,
            21,
            22,
            21,
            21,
            29,
            19,
            22,
            19,
            22,
            19,
            29,
            22,
            23,
            23,
            19,
            25,
            19,
            19,
            20,
            22,
            22,
            20,
            19,
            19,
            19,
            20,
            22,
            23,
            22,
            22,
            19,
            19,
            28,
            19,
            19,
            30,
            22,
            21,
            32,
            32,
            21,
            22,
            21,
            25,
            30,
            21,
            25,
            21,
            21,
            31,
            25,
            31,
            25,
            25,
            17,
            17,
            24,
            24,
            24,
            33,
            19,
            25,
            25,
            23,
            31,
            30,
            24,
            23,
            23,
            29,
            37,
            22,
            22,
            22,
            22,
            24,
            17,
            34,
            26,
            26,
            20,
            34,
            20,
            20,
            20,
            20,
            28,
            21,
            27,
            27,
            27,
            27,
            27,
            27,
            27,
            27,
            23,
            22,
            22,
            39,
            27,
            26,
            23,
            26,
            24,
            21,
            35,
            35,
            23,
            24,
            20,
            22,
            23,
            20,
            20,
            33,
            24,
            33,
            21,
            24,
            33,
            25,
            25,
            20,
            21,
            21,
            21,
            23,
            23,
            21,
            33,
            25,
            29,
            23,
            21,
            34,
            26,
            30,
            21,
            24,
            30,
            25,
            25,
            19,
            21,
            24,
            15,
            20,
            28,
            21,
            19,
            19,
            20,
            23,
            24,
            24,
            21,
            17,
            25,
            23,
            17,
            28,
            28,
            36,
            28,
            19,
            19,
            19,
            22,
            28,
            27,
            15,
            21,
            21,
            17,
            26,
            18,
            24,
            21,
            21,
            19,
            31,
            18,
            27,
            21,
            29,
            19,
            19,
            19,
            18,
            20,
            25,
            29,
            29,
            25,
            25,
            24,
            22,
            18,
            28,
            34,
            28,
            29,
            29,
            18,
            20,
            24,
            24,
            24,
            19,
            19,
            20,
            19,
            24,
            28,
            20,
            20,
            24,
            20,
            21,
            20,
            18,
            24,
            21,
            21,
            23,
            21,
            21,
            28,
            24,
            26,
            20,
            26,
            26,
            24,
            25,
            19,
            28,
            23,
            30,
            30,
            28,
            28,
            20,
            28,
            20,
            14,
            14,
            14,
            31,
            14,
            19,
            33,
            33,
            26,
            19,
            34,
            36,
            23,
            23,
            20,
            27,
            22,
            25,
            18,
            27,
            27,
            21,
            27,
            28,
            24,
            23,
            24,
            19,
            21,
            31,
            20,
            19,
            37,
            24,
            21,
            19,
            20,
            36,
            33,
            19,
            21,
            21,
            24,
            21,
            30,
            20,
            20,
            33,
            18,
            21,
            18,
            38,
            21,
            31,
            37,
            22,
            28,
            28,
            27,
            27,
            24,
            23,
            31,
            26,
            23,
            24,
            33,
            22,
            19,
            27,
            23,
            18,
            23,
            24,
            29,
            23,
            23,
            26,
            21,
            21,
            27,
            39,
            21,
            21,
            32,
            19,
            24,
            18,
            20,
            22,
            22,
            29,
            18,
            20,
            20,
            18,
            20,
            31,
            27,
            21,
            48,
            25,
            22,
            22,
            21,
            40,
            27,
            27,
            22,
            22,
            22,
            25,
            39,
            24,
            26,
            25,
            20,
            26,
            48,
            21,
            32,
            18,
            23,
            23,
            23,
            30,
            33,
            20,
            20,
            23,
            20,
            23,
            24,
            21,
            22,
            25,
            25,
            22,
            24,
            24,
            20,
            24,
            20
           ],
           "xaxis": "x",
           "yaxis": "y"
          }
         ],
         "name": "1968"
        },
        {
         "data": [
          {
           "alignmentgroup": "True",
           "bingroup": "x",
           "hovertemplate": "Year=1972<br>Age=%{x}<br>count=%{y}<extra></extra>",
           "legendgroup": "",
           "marker": {
            "color": "#636efa",
            "pattern": {
             "shape": ""
            }
           },
           "name": "",
           "offsetgroup": "",
           "orientation": "v",
           "showlegend": false,
           "type": "histogram",
           "x": [
            23,
            21,
            20,
            23,
            19,
            23,
            23,
            27,
            25,
            15,
            27,
            38,
            22,
            15,
            22,
            22,
            21,
            26,
            26,
            26,
            24,
            26,
            27,
            28,
            36,
            20,
            28,
            23,
            21,
            33,
            18,
            23,
            26,
            36,
            36,
            23,
            23,
            32,
            32,
            38,
            40,
            28,
            24,
            25,
            31,
            14,
            14,
            23,
            30,
            19,
            20,
            23,
            30,
            19,
            19,
            17,
            17,
            17,
            20,
            20,
            23,
            31,
            26,
            29,
            29,
            31,
            17,
            17,
            21,
            28,
            20,
            22,
            26,
            28,
            28,
            23,
            28,
            26,
            26,
            29,
            26,
            26,
            28,
            21,
            20,
            16,
            21,
            20,
            26,
            29,
            20,
            17,
            17,
            22,
            17,
            16,
            28,
            25,
            24,
            21,
            23,
            28,
            17,
            24,
            23,
            22,
            21,
            29,
            21,
            25,
            24,
            27,
            21,
            21,
            28,
            15,
            21,
            15,
            28,
            15,
            25,
            28,
            25,
            28,
            23,
            28,
            28,
            28,
            43,
            28,
            15,
            26,
            21,
            15,
            21,
            27,
            17,
            26,
            27,
            24,
            18,
            25,
            25,
            18,
            17,
            51,
            24,
            27,
            28,
            27,
            27,
            19,
            23,
            24,
            39,
            24,
            21,
            21,
            23,
            15,
            27,
            15,
            30,
            15,
            24,
            23,
            22,
            18,
            15,
            28,
            22,
            22,
            23,
            24,
            26,
            26,
            26,
            26,
            26,
            26,
            26,
            26,
            29,
            29,
            22,
            23,
            23,
            23,
            37,
            22,
            25,
            27,
            22,
            26,
            25,
            17,
            25,
            21,
            21,
            20,
            24,
            21,
            23,
            25,
            27,
            20,
            28,
            28,
            25,
            27,
            20,
            20,
            20,
            39,
            40,
            21,
            31,
            31,
            31,
            31,
            31,
            31,
            31,
            31,
            31,
            21,
            28,
            28,
            28,
            27,
            27,
            28,
            28,
            20,
            24,
            25,
            24,
            24,
            20,
            20,
            31,
            31,
            20,
            25,
            30,
            27,
            39,
            21,
            21,
            25,
            25,
            20,
            20,
            23,
            24,
            24,
            24,
            24,
            24,
            22,
            20,
            28,
            28,
            25,
            25,
            25,
            25,
            25,
            25,
            23,
            23,
            19,
            23,
            21,
            21,
            21,
            25,
            30,
            24,
            17,
            27,
            24,
            24,
            28,
            24,
            28,
            22,
            20,
            22,
            22,
            27,
            18,
            18,
            19,
            21,
            21,
            23,
            21,
            19,
            22,
            39,
            22,
            22,
            22,
            22,
            22,
            22,
            22,
            23,
            28,
            33,
            21,
            24,
            24,
            24,
            24,
            24,
            22,
            46,
            22,
            23,
            24,
            23,
            23,
            29,
            29,
            24,
            17,
            23,
            21,
            29,
            29,
            28,
            24,
            25,
            23,
            27,
            24,
            21,
            24,
            24,
            39,
            23,
            22,
            24,
            30,
            24,
            20,
            38,
            24,
            20,
            28,
            26,
            17,
            19,
            27,
            35,
            18,
            18,
            23,
            28,
            24,
            25,
            22,
            25,
            22,
            20,
            21,
            25,
            19,
            19,
            24,
            24,
            24,
            23,
            23,
            22,
            24,
            23,
            23,
            23,
            42,
            29,
            22,
            29,
            14,
            28,
            14,
            30,
            14,
            38,
            14,
            27,
            26,
            26,
            14,
            28,
            14,
            26,
            24,
            25,
            25,
            38,
            25,
            22,
            29,
            22,
            22,
            29,
            26,
            15,
            20,
            23,
            20,
            20,
            23,
            15,
            20,
            26,
            15
           ],
           "xaxis": "x",
           "yaxis": "y"
          }
         ],
         "name": "1972"
        },
        {
         "data": [
          {
           "alignmentgroup": "True",
           "bingroup": "x",
           "hovertemplate": "Year=1976<br>Age=%{x}<br>count=%{y}<extra></extra>",
           "legendgroup": "",
           "marker": {
            "color": "#636efa",
            "pattern": {
             "shape": ""
            }
           },
           "name": "",
           "offsetgroup": "",
           "orientation": "v",
           "showlegend": false,
           "type": "histogram",
           "x": [
            24,
            32,
            19,
            22,
            24,
            21,
            30,
            20,
            31,
            31,
            17,
            21,
            21,
            20,
            28,
            27,
            32,
            36,
            19,
            25,
            25,
            21,
            23,
            28,
            36,
            30,
            25,
            28,
            20,
            30,
            19,
            27,
            24,
            24,
            24,
            24,
            25,
            20,
            32,
            21,
            21,
            23,
            18,
            26,
            19,
            29,
            19,
            21,
            29,
            27,
            41,
            20,
            18,
            20,
            19,
            17,
            31,
            17,
            33,
            33,
            19,
            24,
            26,
            28,
            20,
            18,
            18,
            22,
            24,
            31,
            27,
            24,
            24,
            29,
            33,
            23,
            31,
            28,
            28,
            20,
            21,
            24,
            24,
            24,
            24,
            27,
            23,
            18,
            18,
            22,
            26,
            18,
            23,
            22,
            25,
            30,
            26,
            18,
            24,
            18,
            29,
            22,
            25,
            15,
            21,
            20,
            21,
            29,
            21,
            25,
            25,
            25,
            32,
            21,
            23,
            23,
            32,
            32,
            25,
            26,
            22,
            22,
            20,
            23,
            20,
            29,
            40,
            27,
            23,
            20,
            27,
            42,
            40,
            27,
            32,
            17,
            19,
            25,
            25,
            25,
            25,
            24,
            24,
            20,
            23,
            23,
            29,
            31,
            20,
            20,
            25,
            24,
            25,
            27,
            25,
            27,
            22,
            22,
            20,
            19,
            27,
            25,
            21,
            20,
            22,
            20,
            25,
            31,
            24,
            22,
            26,
            40,
            25,
            28,
            28,
            21,
            21,
            23,
            20,
            21,
            16,
            21,
            23,
            23,
            22,
            22,
            34,
            20,
            27,
            18,
            28,
            21,
            21,
            24,
            27,
            21,
            25,
            20,
            21,
            24,
            24,
            20,
            35,
            20,
            23,
            43,
            43,
            25,
            20,
            20,
            21,
            25,
            22,
            20,
            22,
            22,
            34,
            29,
            19,
            30,
            30,
            24,
            24,
            32,
            24,
            24,
            17,
            20,
            31,
            18,
            24,
            30,
            24,
            24,
            24,
            26,
            19,
            29,
            36,
            24,
            20,
            23,
            31,
            32,
            25,
            23,
            21,
            20,
            21,
            31,
            16,
            43,
            24,
            24,
            24,
            30,
            28,
            16,
            28,
            24,
            24,
            21,
            25,
            29,
            29,
            24,
            28,
            32,
            32,
            15,
            24,
            20,
            16,
            31,
            25,
            20,
            25,
            23,
            23,
            27,
            26,
            20,
            20,
            25,
            44,
            43,
            20,
            23,
            24,
            24,
            24,
            20,
            22,
            26,
            35,
            24,
            24,
            24,
            20,
            24,
            18,
            22,
            28,
            22,
            28,
            31,
            24,
            27,
            19,
            29,
            28,
            24,
            27,
            20,
            21,
            26,
            21,
            21,
            22,
            21,
            20,
            20,
            27,
            24,
            26,
            30,
            27,
            22,
            20,
            20,
            22,
            29,
            21,
            29,
            19,
            30,
            17,
            19,
            19,
            17,
            17,
            25,
            25,
            21,
            17,
            27,
            32,
            19,
            17,
            19,
            17,
            25,
            26,
            28,
            27,
            19,
            24
           ],
           "xaxis": "x",
           "yaxis": "y"
          }
         ],
         "name": "1976"
        },
        {
         "data": [
          {
           "alignmentgroup": "True",
           "bingroup": "x",
           "hovertemplate": "Year=1980<br>Age=%{x}<br>count=%{y}<extra></extra>",
           "legendgroup": "",
           "marker": {
            "color": "#636efa",
            "pattern": {
             "shape": ""
            }
           },
           "name": "",
           "offsetgroup": "",
           "orientation": "v",
           "showlegend": false,
           "type": "histogram",
           "x": [
            22,
            21,
            25,
            24,
            30,
            24,
            24,
            21,
            20,
            20,
            24,
            20,
            24,
            24,
            28,
            19,
            24,
            21,
            17,
            29,
            21,
            19,
            20,
            25,
            23,
            21,
            24,
            24,
            24,
            28,
            19,
            19,
            28,
            25,
            24,
            23,
            22,
            22,
            21,
            25,
            26,
            28,
            25,
            24,
            24,
            23,
            24,
            24,
            19,
            24,
            23,
            23,
            23,
            25,
            28,
            25,
            29,
            19,
            26,
            26,
            26,
            27,
            27,
            23,
            23,
            25,
            25,
            21,
            21,
            22,
            22,
            24,
            28,
            24,
            25,
            16,
            19,
            28,
            23,
            23,
            21,
            19,
            16,
            28,
            16,
            26,
            25,
            20,
            22,
            28,
            25,
            20,
            28,
            22,
            28,
            24,
            19,
            22,
            20,
            21,
            21,
            20,
            25,
            25,
            27,
            19,
            21,
            29,
            29,
            24,
            24,
            25,
            20,
            22,
            31,
            19,
            19,
            28,
            26,
            21,
            24,
            18,
            18,
            21,
            28,
            28,
            17,
            22,
            23,
            24,
            20,
            34,
            31,
            22,
            19,
            19,
            23,
            25,
            25,
            27,
            24,
            22,
            20,
            24,
            22,
            27,
            29,
            29,
            23,
            24,
            24,
            24,
            20,
            25,
            23,
            25,
            23,
            22,
            27,
            28,
            19,
            23,
            20,
            20,
            20,
            20,
            20,
            20,
            20,
            24,
            20,
            23,
            28,
            24,
            24,
            22,
            22,
            31,
            24,
            24,
            22,
            28,
            28,
            22,
            27,
            22,
            34,
            27,
            29,
            25,
            23,
            22,
            21,
            27,
            28,
            21,
            23,
            24,
            28,
            25,
            25,
            21,
            19,
            19,
            21,
            29,
            20,
            20,
            23,
            26,
            26,
            27,
            25,
            27,
            21,
            21,
            24,
            24,
            26,
            19,
            22,
            21,
            24,
            25,
            29,
            24,
            22,
            22,
            23,
            22,
            24,
            22,
            22,
            24,
            29,
            29,
            27,
            21,
            21,
            22,
            22,
            25,
            23,
            22
           ],
           "xaxis": "x",
           "yaxis": "y"
          }
         ],
         "name": "1980"
        },
        {
         "data": [
          {
           "alignmentgroup": "True",
           "bingroup": "x",
           "hovertemplate": "Year=1984<br>Age=%{x}<br>count=%{y}<extra></extra>",
           "legendgroup": "",
           "marker": {
            "color": "#636efa",
            "pattern": {
             "shape": ""
            }
           },
           "name": "",
           "offsetgroup": "",
           "orientation": "v",
           "showlegend": false,
           "type": "histogram",
           "x": [
            18,
            33,
            34,
            21,
            26,
            18,
            33,
            35,
            19,
            39,
            22,
            22,
            22,
            25,
            21,
            22,
            21,
            39,
            22,
            22,
            19,
            35,
            22,
            22,
            26,
            32,
            24,
            25,
            25,
            23,
            25,
            23,
            23,
            22,
            21,
            32,
            22,
            21,
            24,
            21,
            21,
            21,
            19,
            19,
            25,
            21,
            25,
            24,
            22,
            21,
            21,
            15,
            25,
            20,
            21,
            22,
            19,
            21,
            22,
            27,
            26,
            22,
            21,
            27,
            20,
            31,
            25,
            24,
            24,
            30,
            26,
            27,
            35,
            25,
            30,
            24,
            23,
            26,
            22,
            18,
            20,
            17,
            20,
            26,
            21,
            19,
            35,
            23,
            32,
            45,
            25,
            24,
            21,
            21,
            30,
            34,
            31,
            34,
            24,
            26,
            24,
            24,
            20,
            27,
            23,
            24,
            21,
            50,
            50,
            23,
            26,
            23,
            22,
            24,
            26,
            27,
            28,
            23,
            20,
            27,
            31,
            23,
            23,
            27,
            27,
            27,
            25,
            26,
            29,
            20,
            20,
            26,
            23,
            31,
            20,
            22,
            29,
            29,
            26,
            20,
            21,
            21,
            28,
            28,
            16,
            24,
            28,
            25,
            25,
            23,
            24,
            19,
            18,
            23,
            25,
            27,
            23,
            21,
            21,
            25,
            24,
            26,
            32,
            23,
            23,
            23,
            36,
            36,
            23,
            23,
            31,
            29,
            22,
            20,
            23,
            20,
            38,
            38,
            29,
            32,
            35,
            32,
            23,
            38,
            22,
            22,
            23,
            28,
            23,
            28,
            31,
            29,
            20,
            25,
            26,
            27,
            27,
            18,
            23,
            34,
            34,
            20,
            23,
            20,
            23,
            23,
            23,
            21,
            28,
            26,
            20,
            23,
            19,
            31,
            22,
            15,
            23,
            17,
            28,
            28,
            25,
            23,
            29,
            28,
            23,
            19,
            20,
            17,
            20,
            23,
            23,
            27,
            23,
            23,
            23,
            23,
            23,
            23,
            21,
            27,
            21,
            21,
            19,
            28,
            22,
            18,
            25,
            18,
            28,
            22,
            22,
            22,
            22,
            22,
            25,
            28,
            31,
            23,
            22,
            18,
            20,
            18,
            26,
            26,
            23,
            16,
            22,
            25,
            22,
            23,
            20,
            22,
            20,
            28,
            24,
            29,
            23,
            19,
            23,
            20,
            23,
            24,
            19,
            24,
            24,
            33,
            24,
            23,
            35,
            23,
            25,
            26,
            27,
            26,
            28,
            20,
            28,
            26,
            24,
            22,
            25,
            23,
            20,
            20,
            22,
            22,
            27,
            20,
            20,
            22,
            27,
            26,
            32,
            25,
            27,
            22,
            22,
            24,
            22,
            24,
            25,
            23,
            26,
            28,
            33,
            24,
            24,
            25,
            19,
            22,
            21,
            28,
            22,
            23,
            25,
            25,
            21,
            29,
            25,
            29,
            21,
            21,
            14,
            21,
            21,
            20,
            21,
            25,
            19,
            28,
            49,
            33,
            32,
            24,
            22,
            26,
            21,
            26,
            15,
            15,
            15,
            25,
            23,
            27,
            18,
            23,
            24,
            17,
            30,
            29,
            30,
            25,
            24,
            29,
            22,
            27,
            20,
            22,
            28,
            21,
            21,
            20,
            25,
            28,
            21,
            14,
            25,
            28,
            24,
            32,
            22,
            21,
            25,
            14,
            22,
            28,
            22,
            25,
            14,
            24,
            14,
            28,
            22,
            25,
            19,
            24,
            22,
            21,
            21,
            29,
            22
           ],
           "xaxis": "x",
           "yaxis": "y"
          }
         ],
         "name": "1984"
        },
        {
         "data": [
          {
           "alignmentgroup": "True",
           "bingroup": "x",
           "hovertemplate": "Year=1988<br>Age=%{x}<br>count=%{y}<extra></extra>",
           "legendgroup": "",
           "marker": {
            "color": "#636efa",
            "pattern": {
             "shape": ""
            }
           },
           "name": "",
           "offsetgroup": "",
           "orientation": "v",
           "showlegend": false,
           "type": "histogram",
           "x": [
            19,
            22,
            21,
            31,
            22,
            25,
            20,
            23,
            21,
            22,
            22,
            26,
            22,
            32,
            22,
            30,
            22,
            31,
            23,
            26,
            30,
            25,
            23,
            26,
            23,
            24,
            32,
            30,
            28,
            26,
            35,
            25,
            24,
            22,
            29,
            19,
            16,
            21,
            37,
            24,
            22,
            25,
            31,
            32,
            24,
            24,
            24,
            21,
            30,
            21,
            23,
            22,
            22,
            21,
            27,
            21,
            22,
            24,
            22,
            21,
            21,
            40,
            32,
            24,
            40,
            29,
            22,
            22,
            20,
            19,
            25,
            23,
            21,
            22,
            22,
            24,
            22,
            25,
            25,
            29,
            21,
            18,
            18,
            26,
            28,
            17,
            16,
            27,
            25,
            28,
            39,
            34,
            22,
            17,
            39,
            20,
            29,
            40,
            24,
            22,
            22,
            26,
            23,
            39,
            39,
            23,
            34,
            39,
            23,
            37,
            17,
            23,
            22,
            25,
            21,
            25,
            26,
            29,
            27,
            19,
            34,
            25,
            25,
            23,
            19,
            19,
            33,
            28,
            29,
            32,
            28,
            24,
            21,
            17,
            20,
            28,
            20,
            29,
            23,
            19,
            30,
            23,
            24,
            23,
            25,
            30,
            16,
            22,
            25,
            29,
            31,
            29,
            24,
            22,
            28,
            21,
            24,
            24,
            21,
            32,
            24,
            19,
            17,
            28,
            26,
            24,
            32,
            32,
            39,
            39,
            22,
            24,
            24,
            27,
            27,
            27,
            27,
            24,
            27,
            22,
            22,
            22,
            28,
            28,
            18,
            22,
            31,
            28,
            16,
            16,
            27,
            16,
            27,
            24,
            26,
            20,
            16,
            16,
            22,
            16,
            22,
            31,
            22,
            30,
            23,
            24,
            24,
            25,
            19,
            19,
            22,
            25,
            24,
            16,
            25,
            24,
            28,
            31,
            20,
            20,
            31,
            19,
            19,
            35,
            20,
            20,
            22,
            24,
            18,
            28,
            19,
            18,
            20,
            22,
            20,
            20,
            27,
            25,
            34,
            34,
            21,
            21,
            22,
            23,
            24,
            26,
            29,
            26,
            26,
            24,
            27,
            24,
            22,
            23,
            24,
            24,
            29,
            22,
            22,
            36,
            26,
            18,
            27,
            27,
            23,
            29,
            19,
            29,
            19,
            29,
            19,
            24,
            25,
            25,
            24,
            24,
            24,
            23,
            19,
            31,
            25,
            25,
            19,
            26,
            18,
            32,
            20,
            25,
            26,
            23,
            24,
            28,
            23,
            28,
            28,
            29,
            28,
            29,
            19,
            26,
            24,
            24,
            24,
            20,
            20,
            28,
            26,
            19,
            25,
            24,
            25,
            25,
            16,
            16,
            16,
            21,
            16,
            16,
            26,
            24,
            24,
            21,
            26,
            26,
            23,
            23,
            24,
            29,
            29,
            23,
            16,
            22,
            16,
            23,
            16,
            16,
            31,
            24,
            19,
            19,
            23,
            23,
            19,
            19,
            20,
            31,
            32,
            19,
            23,
            39,
            25,
            29,
            22,
            19,
            16,
            26,
            18,
            29,
            32,
            30,
            22,
            24,
            23,
            22,
            22,
            24,
            23,
            21,
            38,
            25,
            25,
            21,
            25,
            26,
            19,
            30,
            30,
            19,
            19,
            25,
            20,
            32,
            30,
            32,
            22,
            18,
            18,
            20,
            26,
            26,
            30,
            36,
            26,
            22,
            36,
            24,
            24,
            24,
            27,
            27,
            22,
            24,
            23,
            24,
            26,
            20,
            26,
            21,
            28,
            27,
            27,
            21,
            21,
            21,
            19,
            21,
            27,
            21,
            19,
            24,
            29,
            16,
            19,
            19,
            22,
            30,
            24,
            32,
            23,
            23,
            22,
            17,
            31,
            23,
            25,
            23,
            16,
            22,
            28,
            22,
            23,
            30,
            27,
            17,
            20,
            26,
            26,
            25,
            26,
            19,
            23,
            36,
            31,
            20,
            22,
            28,
            28,
            20,
            20,
            23,
            24,
            21,
            21,
            24,
            20,
            23,
            20,
            21,
            24,
            33,
            31,
            19,
            19,
            23,
            23,
            23,
            24,
            23,
            21,
            23,
            22,
            27,
            29,
            24,
            27,
            20,
            24,
            20,
            42,
            32,
            42,
            22,
            23,
            25,
            24,
            33,
            33,
            21,
            27,
            22,
            43,
            43,
            23,
            32,
            18,
            22,
            20,
            31,
            22,
            26,
            26,
            21,
            21,
            26,
            22,
            26,
            21,
            26,
            34,
            19,
            22,
            22,
            23
           ],
           "xaxis": "x",
           "yaxis": "y"
          }
         ],
         "name": "1988"
        },
        {
         "data": [
          {
           "alignmentgroup": "True",
           "bingroup": "x",
           "hovertemplate": "Year=1992<br>Age=%{x}<br>count=%{y}<extra></extra>",
           "legendgroup": "",
           "marker": {
            "color": "#636efa",
            "pattern": {
             "shape": ""
            }
           },
           "name": "",
           "offsetgroup": "",
           "orientation": "v",
           "showlegend": false,
           "type": "histogram",
           "x": [
            21,
            26,
            26,
            28,
            26,
            20,
            26,
            19,
            19,
            20,
            21,
            22,
            26,
            22,
            20,
            22,
            22,
            30,
            31,
            21,
            36,
            30,
            26,
            21,
            28,
            26,
            30,
            26,
            28,
            30,
            23,
            21,
            24,
            23,
            24,
            26,
            26,
            21,
            26,
            26,
            29,
            30,
            24,
            23,
            23,
            26,
            22,
            28,
            41,
            40,
            26,
            40,
            26,
            20,
            16,
            26,
            16,
            26,
            16,
            27,
            26,
            30,
            30,
            21,
            24,
            15,
            28,
            23,
            23,
            30,
            23,
            23,
            20,
            25,
            26,
            16,
            16,
            28,
            21,
            23,
            16,
            28,
            24,
            24,
            28,
            32,
            26,
            21,
            27,
            30,
            27,
            28,
            22,
            28,
            26,
            23,
            20,
            26,
            29,
            22,
            29,
            24,
            22,
            29,
            15,
            15,
            15,
            15,
            22,
            26,
            15,
            22,
            22,
            19,
            20,
            20,
            26,
            22,
            25,
            22,
            23,
            23,
            23,
            20,
            19,
            27,
            25,
            30,
            35,
            27,
            24,
            28,
            25,
            24,
            26,
            22,
            19,
            20,
            19,
            22,
            30,
            20,
            28,
            32,
            22,
            19,
            20,
            22,
            22,
            22,
            28,
            28,
            31,
            16,
            25,
            25,
            20,
            33,
            36,
            24,
            20,
            27,
            25,
            23,
            23,
            19,
            26,
            18,
            21,
            25,
            23,
            22,
            26,
            29,
            20,
            19,
            27,
            20,
            26,
            26,
            26,
            26,
            25,
            19,
            27,
            27,
            26,
            24,
            28,
            27,
            28,
            27,
            35,
            22,
            36,
            28,
            29,
            29,
            21,
            21,
            30,
            25,
            30,
            30,
            22,
            35,
            19,
            21,
            27,
            27,
            19,
            19,
            25,
            25,
            27,
            33,
            31,
            31,
            21,
            23,
            31,
            24,
            24,
            24,
            32,
            27,
            24,
            23,
            33,
            31,
            31,
            25,
            32,
            18,
            24,
            24,
            27,
            27,
            24,
            30,
            25,
            25,
            28,
            47,
            46,
            32,
            28,
            19,
            28,
            27,
            28,
            25,
            25,
            23,
            23,
            35,
            30,
            25,
            20,
            20,
            20,
            20,
            20,
            20,
            20,
            21,
            21,
            26,
            22,
            30,
            27,
            46,
            28,
            30,
            31,
            21,
            47,
            17,
            30,
            25,
            37,
            22,
            22,
            22,
            22,
            28,
            22,
            22,
            22,
            22,
            28,
            21,
            22,
            22,
            28,
            17,
            27,
            31,
            31,
            27,
            24,
            28,
            24,
            21,
            22,
            25,
            25,
            25,
            19,
            36,
            36,
            22,
            22,
            22,
            35,
            26,
            23,
            21,
            22,
            25,
            25,
            41,
            22,
            42,
            41,
            28,
            26,
            26,
            22,
            31,
            19,
            21,
            27,
            21,
            15,
            22,
            22,
            28,
            28,
            26,
            22,
            27,
            29,
            26,
            20,
            21,
            27,
            21,
            25,
            28,
            35,
            30,
            24,
            23,
            30,
            24,
            21,
            19,
            24,
            21,
            26,
            27,
            20,
            30,
            30,
            28,
            22,
            25,
            25,
            21,
            21,
            23,
            27,
            25,
            22,
            40,
            30,
            40,
            22,
            22,
            37,
            30,
            25,
            32,
            23,
            19,
            36,
            36,
            22,
            24,
            24,
            33,
            33,
            19,
            19,
            19,
            26,
            24,
            25,
            29,
            26,
            28,
            20,
            23,
            23,
            23,
            25,
            20,
            20,
            27,
            25,
            24,
            24,
            23,
            23,
            13,
            23,
            20,
            20,
            27,
            29,
            29,
            44,
            23,
            28,
            16,
            16,
            21,
            44,
            25,
            25,
            28,
            36,
            16,
            26,
            33,
            19,
            17,
            17,
            17,
            17,
            17,
            17,
            25,
            24,
            29,
            25,
            24,
            28,
            29,
            21,
            30,
            29,
            17,
            17,
            17,
            17,
            17,
            17,
            26,
            24,
            24,
            25,
            16,
            16,
            16,
            16,
            16,
            20,
            22,
            22,
            23,
            23,
            28,
            28,
            16,
            24,
            24,
            24,
            43,
            43,
            34,
            22,
            28,
            26,
            28,
            28,
            21,
            36,
            36,
            19,
            16,
            19,
            27,
            21,
            25,
            35,
            35,
            30,
            26,
            23,
            27,
            27,
            33,
            29,
            21,
            22,
            16,
            16,
            24,
            24,
            24,
            29,
            27,
            24,
            22,
            31,
            23,
            23,
            23,
            31,
            16,
            31,
            29,
            29,
            24,
            24,
            24,
            24,
            26,
            27,
            25,
            26,
            16,
            16,
            29,
            21,
            28,
            23,
            23,
            28,
            23,
            25,
            25,
            24,
            35,
            35,
            39,
            18,
            30,
            28,
            27,
            28,
            28,
            27,
            22,
            27,
            23,
            21,
            22,
            28,
            28,
            32,
            22,
            34,
            27,
            28,
            37,
            19,
            29,
            26,
            22,
            28,
            32,
            32,
            20,
            25,
            17,
            21,
            20,
            23,
            23,
            21,
            23,
            25,
            25,
            24,
            27,
            27,
            21,
            25,
            21,
            24,
            37,
            25,
            25,
            28,
            20,
            25,
            13,
            33,
            33,
            25,
            26,
            26,
            26,
            23,
            16,
            16,
            16,
            23,
            20,
            20,
            23,
            26,
            23,
            23,
            20,
            28,
            28,
            23,
            36,
            21,
            30,
            26,
            33,
            25,
            25,
            26,
            26,
            23,
            25,
            32,
            33,
            28,
            22,
            29,
            24,
            29,
            21,
            46,
            23
           ],
           "xaxis": "x",
           "yaxis": "y"
          }
         ],
         "name": "1992"
        },
        {
         "data": [
          {
           "alignmentgroup": "True",
           "bingroup": "x",
           "hovertemplate": "Year=1994<br>Age=%{x}<br>count=%{y}<extra></extra>",
           "legendgroup": "",
           "marker": {
            "color": "#636efa",
            "pattern": {
             "shape": ""
            }
           },
           "name": "",
           "offsetgroup": "",
           "orientation": "v",
           "showlegend": false,
           "type": "histogram",
           "x": [
            22,
            27,
            28,
            23,
            22,
            30,
            24,
            27,
            25,
            24,
            22,
            30,
            27,
            25,
            25,
            23,
            25,
            24,
            27,
            23,
            25,
            29,
            29,
            21,
            21,
            21,
            24,
            21,
            27,
            27,
            29,
            21,
            21,
            26,
            21,
            20,
            24,
            25,
            21,
            26,
            26,
            26,
            27,
            27,
            27,
            23,
            21,
            25,
            27,
            25,
            25,
            25,
            28,
            24,
            24,
            24,
            24,
            30,
            16,
            16,
            16,
            24,
            17,
            17,
            24,
            24,
            24,
            23,
            20,
            25,
            28,
            21,
            21,
            30,
            21,
            24,
            24,
            26,
            29,
            26,
            26,
            18,
            18,
            23,
            23,
            23,
            23,
            29,
            29,
            29,
            19,
            24,
            30,
            29,
            25,
            25,
            31,
            22,
            22,
            22,
            22,
            32,
            24,
            18,
            26,
            26,
            27,
            27,
            26,
            26,
            26,
            26,
            28,
            25,
            28,
            28,
            30,
            26,
            28,
            28,
            24,
            22,
            30,
            20,
            30,
            18,
            33,
            21,
            31,
            21,
            19,
            19,
            21,
            25,
            32,
            23,
            23,
            23,
            28,
            28,
            30,
            27,
            21,
            21,
            23,
            21,
            28,
            28,
            23,
            23,
            28,
            23,
            24
           ],
           "xaxis": "x",
           "yaxis": "y"
          }
         ],
         "name": "1994"
        },
        {
         "data": [
          {
           "alignmentgroup": "True",
           "bingroup": "x",
           "hovertemplate": "Year=1996<br>Age=%{x}<br>count=%{y}<extra></extra>",
           "legendgroup": "",
           "marker": {
            "color": "#636efa",
            "pattern": {
             "shape": ""
            }
           },
           "name": "",
           "offsetgroup": "",
           "orientation": "v",
           "showlegend": false,
           "type": "histogram",
           "x": [
            25,
            18,
            30,
            15,
            21,
            15,
            15,
            15,
            15,
            15,
            21,
            16,
            16,
            44,
            31,
            21,
            25,
            21,
            27,
            23,
            42,
            29,
            21,
            34,
            22,
            22,
            32,
            35,
            30,
            23,
            28,
            28,
            23,
            29,
            27,
            23,
            23,
            26,
            26,
            32,
            24,
            31,
            23,
            31,
            23,
            29,
            32,
            24,
            27,
            22,
            27,
            30,
            26,
            38,
            26,
            20,
            32,
            38,
            26,
            25,
            28,
            16,
            25,
            19,
            22,
            27,
            26,
            30,
            26,
            24,
            21,
            26,
            30,
            28,
            22,
            27,
            16,
            20,
            20,
            25,
            20,
            16,
            26,
            25,
            20,
            20,
            16,
            16,
            27,
            27,
            21,
            28,
            23,
            21,
            16,
            20,
            21,
            20,
            20,
            28,
            28,
            21,
            27,
            17,
            28,
            26,
            17,
            17,
            17,
            17,
            34,
            17,
            14,
            14,
            14,
            14,
            14,
            24,
            24,
            14,
            28,
            28,
            34,
            31,
            29,
            53,
            53,
            28,
            21,
            19,
            25,
            34,
            19,
            21,
            21,
            21,
            44,
            44,
            30,
            29,
            34,
            22,
            28,
            25,
            23,
            28,
            28,
            28,
            20,
            19,
            29,
            15,
            15,
            15,
            15,
            15,
            15,
            20,
            20,
            25,
            24,
            24,
            17,
            17,
            17,
            17,
            27,
            32,
            27,
            33,
            33,
            29,
            27,
            31,
            22,
            30,
            29,
            34,
            24,
            22,
            22,
            34,
            34,
            24,
            24,
            22,
            21,
            21,
            23,
            27,
            29,
            26,
            31,
            25,
            42,
            22,
            22,
            27,
            27,
            22,
            30,
            34,
            21,
            34,
            29,
            51,
            51,
            21,
            21,
            21,
            22,
            22,
            22,
            39,
            39,
            31,
            33,
            23,
            26,
            29,
            36,
            20,
            28,
            33,
            33,
            21,
            21,
            21,
            15,
            35,
            22,
            21,
            26,
            21,
            25,
            32,
            32,
            15,
            15,
            15,
            15,
            32,
            29,
            23,
            27,
            27,
            27,
            28,
            28,
            25,
            25,
            24,
            30,
            33,
            16,
            16,
            21,
            20,
            23,
            31,
            26,
            28,
            28,
            32,
            28,
            27,
            20,
            26,
            23,
            24,
            20,
            23,
            23,
            28,
            25,
            24,
            22,
            18,
            26,
            24,
            24,
            24,
            24,
            26,
            24,
            24,
            24,
            26,
            26,
            26,
            26,
            26,
            22,
            26,
            26,
            24,
            23,
            20,
            26,
            24,
            31,
            25,
            24,
            23,
            24,
            26,
            24,
            25,
            30,
            18,
            26,
            18,
            26,
            34,
            22,
            34,
            27,
            23,
            21,
            28,
            24,
            22,
            23,
            23,
            27,
            32,
            23,
            27,
            26,
            23,
            27,
            24,
            22,
            22,
            32,
            21,
            25,
            32,
            31,
            22,
            45,
            23,
            27,
            22,
            23,
            23,
            35,
            21,
            30,
            37,
            23,
            23,
            37,
            30,
            30,
            23,
            32,
            27,
            22,
            28,
            23,
            28,
            21,
            23,
            17,
            22,
            25,
            20,
            17,
            22,
            27,
            31,
            27,
            27,
            23,
            22,
            23,
            27,
            27,
            25,
            26,
            31,
            17,
            22,
            23,
            26,
            25,
            24,
            28,
            26,
            16,
            26,
            16,
            27,
            31,
            30,
            16,
            24,
            36,
            24,
            33,
            33,
            37,
            28,
            16,
            21,
            25,
            31,
            22,
            30,
            23,
            50,
            32,
            33,
            16,
            33,
            28,
            26,
            16,
            19,
            19,
            24,
            22,
            28,
            15,
            24,
            24,
            24,
            24,
            32,
            31,
            21,
            25,
            50,
            35,
            21,
            26,
            23,
            30,
            30,
            21,
            26,
            29,
            22,
            21
           ],
           "xaxis": "x",
           "yaxis": "y"
          }
         ],
         "name": "1996"
        },
        {
         "data": [
          {
           "alignmentgroup": "True",
           "bingroup": "x",
           "hovertemplate": "Year=1998<br>Age=%{x}<br>count=%{y}<extra></extra>",
           "legendgroup": "",
           "marker": {
            "color": "#636efa",
            "pattern": {
             "shape": ""
            }
           },
           "name": "",
           "offsetgroup": "",
           "orientation": "v",
           "showlegend": false,
           "type": "histogram",
           "x": [
            19,
            28,
            27,
            23,
            27,
            30,
            22,
            31,
            31,
            32,
            23,
            25,
            25,
            29,
            18,
            28,
            22,
            31,
            30,
            23,
            24,
            23,
            30,
            29,
            23,
            28,
            26,
            18,
            29,
            21,
            31,
            24,
            28,
            22,
            32,
            32,
            21,
            21,
            22,
            22,
            22,
            30,
            24,
            24,
            32,
            32,
            25,
            28,
            28,
            28,
            27,
            29,
            25,
            29,
            25,
            22,
            22,
            20,
            29,
            29,
            20,
            23,
            29,
            29,
            29,
            23,
            29,
            30,
            24,
            24,
            22,
            22,
            23,
            23,
            23,
            23,
            29,
            21,
            24,
            24,
            25,
            23,
            22,
            26,
            26,
            34,
            22,
            24,
            30,
            23,
            31,
            24,
            22,
            22,
            28,
            28,
            22,
            22,
            32,
            28,
            25,
            34,
            23,
            23,
            18,
            19,
            19,
            18,
            23,
            25,
            23,
            23,
            31,
            33,
            31,
            29,
            26,
            23,
            20,
            22,
            33,
            25,
            25,
            20,
            32,
            25,
            20,
            29,
            31,
            23,
            22,
            27,
            24,
            21,
            24,
            27,
            27,
            21,
            27,
            22,
            25,
            25,
            23,
            29,
            29
           ],
           "xaxis": "x",
           "yaxis": "y"
          }
         ],
         "name": "1998"
        },
        {
         "data": [
          {
           "alignmentgroup": "True",
           "bingroup": "x",
           "hovertemplate": "Year=2000<br>Age=%{x}<br>count=%{y}<extra></extra>",
           "legendgroup": "",
           "marker": {
            "color": "#636efa",
            "pattern": {
             "shape": ""
            }
           },
           "name": "",
           "offsetgroup": "",
           "orientation": "v",
           "showlegend": false,
           "type": "histogram",
           "x": [
            31,
            16,
            27,
            16,
            24,
            16,
            16,
            37,
            16,
            24,
            35,
            30,
            21,
            24,
            38,
            31,
            26,
            38,
            30,
            26,
            36,
            36,
            16,
            38,
            37,
            21,
            30,
            16,
            16,
            16,
            31,
            28,
            29,
            24,
            26,
            26,
            32,
            27,
            31,
            24,
            27,
            26,
            30,
            25,
            20,
            25,
            26,
            25,
            27,
            37,
            24,
            22,
            36,
            16,
            16,
            32,
            32,
            23,
            28,
            16,
            16,
            16,
            16,
            23,
            16,
            23,
            16,
            19,
            33,
            28,
            29,
            16,
            33,
            18,
            25,
            25,
            26,
            23,
            28,
            29,
            25,
            24,
            46,
            30,
            26,
            33,
            28,
            21,
            22,
            27,
            19,
            19,
            26,
            21,
            27,
            27,
            28,
            28,
            28,
            32,
            20,
            20,
            34,
            20,
            20,
            34,
            20,
            29,
            20,
            22,
            31,
            20,
            25,
            25,
            29,
            26,
            28,
            27,
            36,
            32,
            25,
            31,
            22,
            32,
            32,
            28,
            22,
            30,
            29,
            32,
            31,
            23,
            25,
            25,
            31,
            26,
            20,
            29,
            35,
            22,
            22,
            32,
            37,
            22,
            29,
            29,
            24,
            21,
            23,
            33,
            42,
            42,
            24,
            28,
            30,
            21,
            18,
            32,
            25,
            30,
            21,
            37,
            20,
            33,
            33,
            26,
            23,
            26,
            26,
            32,
            23,
            31,
            25,
            25,
            31,
            21,
            28,
            31,
            19,
            19,
            19,
            19,
            19,
            19,
            19,
            19,
            22,
            26,
            20,
            26,
            19,
            24,
            22,
            31,
            26,
            30,
            28,
            31,
            29,
            28,
            41,
            41,
            34,
            30,
            34,
            25,
            29,
            27,
            29,
            19,
            22,
            21,
            23,
            28,
            25,
            32,
            27,
            33,
            27,
            32,
            21,
            24,
            28,
            26,
            31,
            31,
            22,
            24,
            31,
            33,
            21,
            16,
            27,
            24,
            20,
            29,
            27,
            20,
            26,
            20,
            20,
            29,
            20,
            20,
            25,
            21,
            25,
            21,
            27,
            28,
            33,
            33,
            25,
            25,
            21,
            33,
            22,
            20,
            22,
            29,
            28,
            29,
            27,
            31,
            30,
            25,
            16,
            19,
            19,
            23,
            21,
            28,
            23,
            19,
            26,
            25,
            19,
            21,
            39,
            22,
            36,
            24,
            23,
            31,
            27,
            28,
            30,
            28,
            20,
            28,
            25,
            35,
            29,
            26,
            29,
            29,
            25,
            19,
            24,
            20,
            24,
            28,
            24,
            27,
            26,
            19,
            24,
            16,
            24,
            17,
            26,
            16,
            16,
            30,
            24,
            21,
            16,
            25,
            27,
            29,
            23,
            25,
            28,
            29,
            41,
            31,
            25,
            22,
            26,
            31,
            21,
            31,
            33,
            21,
            21,
            31,
            26,
            27,
            29,
            30,
            24,
            20,
            34,
            21,
            28,
            27,
            16,
            27,
            27,
            26,
            38,
            23,
            35,
            27,
            19,
            36,
            24,
            29,
            26,
            29,
            27,
            27,
            27,
            22,
            25,
            22,
            20,
            28,
            25,
            27,
            27,
            23,
            27,
            27,
            27,
            27,
            21,
            29,
            36,
            35,
            32,
            34,
            20,
            22,
            33,
            22,
            31,
            19,
            19,
            35,
            32,
            23,
            25,
            23,
            26,
            33,
            30,
            23,
            27,
            25,
            36,
            23,
            31,
            21,
            23,
            29,
            31,
            31,
            29,
            23,
            36,
            23,
            31,
            26,
            27,
            28,
            23,
            25,
            32,
            19,
            18,
            19,
            23,
            23,
            23,
            19,
            19,
            19,
            26,
            29,
            24,
            27,
            39,
            23,
            23,
            29,
            27,
            28,
            26,
            27,
            22,
            23,
            24,
            21,
            28,
            23,
            34,
            30,
            31,
            19,
            23,
            21,
            29,
            29,
            31,
            23,
            25,
            28,
            26,
            16,
            27,
            19,
            23,
            26,
            28,
            19
           ],
           "xaxis": "x",
           "yaxis": "y"
          }
         ],
         "name": "2000"
        },
        {
         "data": [
          {
           "alignmentgroup": "True",
           "bingroup": "x",
           "hovertemplate": "Year=2002<br>Age=%{x}<br>count=%{y}<extra></extra>",
           "legendgroup": "",
           "marker": {
            "color": "#636efa",
            "pattern": {
             "shape": ""
            }
           },
           "name": "",
           "offsetgroup": "",
           "orientation": "v",
           "showlegend": false,
           "type": "histogram",
           "x": [
            27,
            30,
            34,
            23,
            27,
            27,
            26,
            28,
            28,
            34,
            26,
            28,
            27,
            27,
            27,
            27,
            23,
            26,
            26,
            26,
            23,
            27,
            26,
            27,
            27,
            21,
            27,
            27,
            27,
            27,
            27,
            27,
            27,
            27,
            23,
            29,
            28,
            21,
            27,
            21,
            22,
            29,
            25,
            21,
            34,
            34,
            23,
            25,
            21,
            28,
            28,
            31,
            33,
            22,
            22,
            22,
            22,
            22,
            22,
            26,
            26,
            31,
            21,
            25,
            25,
            25,
            24,
            28,
            28,
            29,
            23,
            27,
            27,
            27,
            25,
            25,
            23,
            28,
            24,
            25,
            27,
            24,
            24,
            26,
            36,
            38,
            35,
            26,
            21,
            26,
            35,
            35,
            26,
            24,
            35,
            19,
            19,
            24,
            24,
            20,
            24,
            20,
            20,
            24,
            23,
            23,
            23,
            21,
            21,
            22,
            35,
            28,
            26,
            24,
            25,
            24,
            24,
            28,
            28,
            26,
            26,
            26,
            21,
            27,
            23,
            22,
            27,
            30,
            25,
            26,
            19,
            22,
            30,
            22,
            26,
            28,
            29,
            29,
            29,
            29,
            25,
            23,
            26,
            26,
            26,
            29,
            28,
            21,
            26,
            19,
            26,
            25,
            24,
            29,
            28,
            17,
            24,
            24,
            23,
            17,
            25,
            24,
            26,
            20
           ],
           "xaxis": "x",
           "yaxis": "y"
          }
         ],
         "name": "2002"
        },
        {
         "data": [
          {
           "alignmentgroup": "True",
           "bingroup": "x",
           "hovertemplate": "Year=2004<br>Age=%{x}<br>count=%{y}<extra></extra>",
           "legendgroup": "",
           "marker": {
            "color": "#636efa",
            "pattern": {
             "shape": ""
            }
           },
           "name": "",
           "offsetgroup": "",
           "orientation": "v",
           "showlegend": false,
           "type": "histogram",
           "x": [
            29,
            30,
            26,
            30,
            28,
            25,
            29,
            31,
            22,
            25,
            33,
            34,
            23,
            26,
            24,
            23,
            28,
            28,
            28,
            31,
            32,
            27,
            15,
            22,
            22,
            32,
            23,
            15,
            15,
            27,
            20,
            20,
            22,
            29,
            27,
            29,
            15,
            25,
            28,
            24,
            25,
            26,
            26,
            37,
            29,
            28,
            29,
            25,
            30,
            16,
            16,
            23,
            23,
            23,
            23,
            31,
            26,
            26,
            22,
            21,
            24,
            24,
            24,
            21,
            24,
            24,
            23,
            23,
            26,
            45,
            25,
            33,
            25,
            23,
            32,
            32,
            27,
            24,
            31,
            21,
            23,
            44,
            44,
            25,
            32,
            45,
            21,
            26,
            24,
            22,
            30,
            23,
            31,
            24,
            27,
            24,
            32,
            30,
            24,
            24,
            31,
            31,
            27,
            24,
            24,
            32,
            22,
            20,
            45,
            29,
            27,
            27,
            33,
            28,
            31,
            19,
            18,
            45,
            18,
            30,
            29,
            27,
            32,
            23,
            29,
            44,
            19,
            27,
            21,
            20,
            22,
            23,
            25,
            21,
            24,
            24,
            21,
            21,
            21,
            21,
            21,
            25,
            24,
            36,
            31,
            23,
            30,
            30,
            23,
            26,
            16,
            16,
            16,
            31,
            28,
            16,
            25,
            29,
            23,
            23,
            23,
            23,
            23,
            23,
            35,
            23,
            21,
            30,
            30,
            26,
            15,
            15,
            15,
            28,
            31,
            33,
            26,
            33,
            32,
            33,
            28,
            27,
            20,
            23,
            23,
            28,
            36,
            30,
            15,
            32,
            30,
            30,
            19,
            19,
            30,
            27,
            26,
            25,
            17,
            25,
            23,
            17,
            27,
            15,
            15,
            17,
            34,
            22,
            23,
            25,
            25,
            27,
            24,
            20,
            30,
            31,
            31,
            21,
            27,
            24,
            23,
            29,
            27,
            24,
            23,
            29,
            31,
            24,
            24,
            24,
            24,
            24,
            31,
            29,
            24,
            24,
            25,
            24,
            31,
            22,
            23,
            21,
            28,
            32,
            23,
            29,
            23,
            34,
            22,
            22,
            45,
            22,
            28,
            31,
            23,
            24,
            24,
            23,
            29,
            34,
            32,
            26,
            28,
            27,
            29,
            33,
            33,
            20,
            26,
            23,
            31,
            25,
            19,
            50,
            23,
            27,
            21,
            21,
            25,
            23,
            29,
            24,
            30,
            26,
            31,
            26,
            30,
            20,
            32,
            28,
            32,
            33,
            27,
            18,
            18,
            28,
            19,
            24,
            21,
            19,
            24,
            19,
            28,
            28,
            25,
            19,
            26,
            37,
            25,
            30,
            25,
            25,
            25,
            25,
            25,
            25,
            24,
            25,
            32,
            27,
            25,
            28,
            31,
            23,
            37,
            24,
            35,
            31,
            19,
            50,
            20,
            20,
            28,
            31,
            31,
            31,
            22,
            26,
            27,
            31,
            19,
            35,
            35,
            19,
            22,
            25,
            26,
            39,
            19,
            28,
            22,
            22,
            28,
            30,
            25,
            33,
            22,
            23,
            23,
            26,
            37,
            24,
            29,
            28,
            27,
            30,
            24,
            22,
            22,
            27,
            19,
            19,
            34,
            25,
            22,
            31,
            26,
            24,
            22,
            32,
            15,
            36,
            45,
            45,
            15,
            15,
            25,
            26,
            27,
            26,
            28,
            33,
            31,
            23,
            31,
            24,
            32,
            15,
            15,
            33,
            28,
            32,
            31,
            15,
            29,
            24,
            27,
            29,
            23,
            17,
            17,
            17,
            30,
            27,
            28,
            26,
            26,
            24,
            28,
            23,
            28,
            29,
            30,
            19,
            20,
            24,
            31,
            31,
            25,
            25,
            26,
            30,
            29,
            23,
            45,
            22,
            20,
            33,
            27,
            19,
            28,
            19,
            25,
            23,
            24,
            28,
            24,
            32,
            24,
            27,
            24,
            28,
            25
           ],
           "xaxis": "x",
           "yaxis": "y"
          }
         ],
         "name": "2004"
        },
        {
         "data": [
          {
           "alignmentgroup": "True",
           "bingroup": "x",
           "hovertemplate": "Year=2006<br>Age=%{x}<br>count=%{y}<extra></extra>",
           "legendgroup": "",
           "marker": {
            "color": "#636efa",
            "pattern": {
             "shape": ""
            }
           },
           "name": "",
           "offsetgroup": "",
           "orientation": "v",
           "showlegend": false,
           "type": "histogram",
           "x": [
            22,
            31,
            23,
            23,
            30,
            31,
            24,
            31,
            30,
            29,
            31,
            31,
            23,
            21,
            24,
            23,
            26,
            24,
            21,
            24,
            29,
            29,
            29,
            29,
            21,
            17,
            21,
            21,
            30,
            30,
            30,
            25,
            29,
            30,
            21,
            22,
            24,
            31,
            27,
            26,
            23,
            26,
            24,
            19,
            18,
            24,
            24,
            28,
            28,
            31,
            31,
            38,
            28,
            31,
            24,
            31,
            28,
            31,
            19,
            28,
            19,
            23,
            23,
            28,
            24,
            28,
            25,
            38,
            30,
            27,
            27,
            27,
            21,
            24,
            21,
            25,
            25,
            26,
            24,
            23,
            23,
            30,
            29,
            26,
            31,
            30,
            25,
            21,
            21,
            27,
            23,
            23,
            38,
            24,
            24,
            32,
            27,
            27,
            27,
            22,
            26,
            21,
            31,
            31,
            31,
            31,
            31,
            31,
            31,
            31,
            31,
            31,
            30,
            17,
            17,
            22,
            17,
            17,
            29,
            26,
            26,
            30,
            27,
            27,
            28,
            30,
            20,
            19,
            28,
            28,
            32,
            32,
            27,
            27,
            27,
            25,
            25,
            25,
            25,
            32,
            30,
            20,
            26,
            25,
            20,
            24,
            25,
            25,
            27,
            30,
            30,
            30,
            30,
            19,
            29
           ],
           "xaxis": "x",
           "yaxis": "y"
          }
         ],
         "name": "2006"
        },
        {
         "data": [
          {
           "alignmentgroup": "True",
           "bingroup": "x",
           "hovertemplate": "Year=2008<br>Age=%{x}<br>count=%{y}<extra></extra>",
           "legendgroup": "",
           "marker": {
            "color": "#636efa",
            "pattern": {
             "shape": ""
            }
           },
           "name": "",
           "offsetgroup": "",
           "orientation": "v",
           "showlegend": false,
           "type": "histogram",
           "x": [
            33,
            24,
            21,
            36,
            36,
            15,
            23,
            35,
            27,
            27,
            29,
            27,
            21,
            25,
            35,
            28,
            22,
            35,
            35,
            35,
            32,
            35,
            35,
            21,
            35,
            24,
            33,
            33,
            31,
            46,
            25,
            24,
            46,
            15,
            26,
            21,
            25,
            26,
            21,
            21,
            26,
            29,
            29,
            25,
            27,
            23,
            23,
            27,
            26,
            31,
            31,
            34,
            25,
            23,
            21,
            27,
            23,
            23,
            23,
            25,
            25,
            23,
            23,
            23,
            21,
            22,
            26,
            32,
            32,
            23,
            28,
            21,
            18,
            18,
            18,
            18,
            28,
            26,
            29,
            29,
            22,
            26,
            33,
            27,
            23,
            33,
            24,
            24,
            23,
            27,
            25,
            21,
            34,
            36,
            32,
            21,
            24,
            25,
            33,
            29,
            27,
            27,
            23,
            21,
            32,
            25,
            20,
            30,
            24,
            24,
            26,
            30,
            31,
            30,
            22,
            37,
            15,
            15,
            33,
            28,
            15,
            27,
            27,
            34,
            25,
            29,
            19,
            19,
            29,
            21,
            19,
            21,
            21,
            19,
            27,
            28,
            28,
            32,
            23,
            22,
            22,
            25,
            22,
            22,
            22,
            25,
            25,
            26,
            21,
            21,
            17,
            21,
            26,
            24,
            23,
            24,
            32,
            28,
            36,
            30,
            22,
            28,
            32,
            34,
            25,
            31,
            27,
            22,
            38,
            26,
            18,
            30,
            21,
            29,
            26,
            22,
            22,
            25,
            25,
            34,
            30,
            18,
            22,
            22,
            30,
            18,
            32,
            25,
            18,
            25,
            37,
            33,
            33,
            25,
            30,
            30,
            28,
            19,
            30,
            26,
            21,
            35,
            28,
            31,
            25,
            25,
            32,
            34,
            28,
            31,
            27,
            20,
            21,
            24,
            37,
            28,
            28,
            28,
            28,
            20,
            29,
            27,
            27,
            25,
            22,
            22,
            26,
            28,
            23,
            25,
            21,
            32,
            16,
            16,
            16,
            16,
            24,
            26,
            21,
            16,
            28,
            36,
            23,
            31,
            23,
            20,
            26,
            23,
            36,
            28,
            24,
            24,
            29,
            18,
            35,
            29,
            21,
            26,
            26,
            24,
            26,
            26,
            18,
            18,
            24,
            28,
            42,
            24,
            26,
            28,
            24,
            26,
            22,
            27,
            22,
            25,
            29,
            29,
            29,
            29,
            29,
            25,
            23,
            29,
            22,
            28,
            22,
            28,
            29,
            28,
            22,
            28,
            26,
            26,
            33,
            28,
            34,
            22,
            31,
            30,
            22,
            22,
            21,
            22,
            27,
            28,
            28,
            28,
            36,
            33,
            34,
            24,
            17,
            25,
            18,
            18,
            18,
            18,
            30,
            24,
            20,
            22,
            28,
            30,
            28,
            28,
            26,
            28,
            27,
            31,
            39,
            27,
            26,
            15,
            27,
            27,
            22,
            49,
            49,
            22,
            27,
            22,
            24,
            27,
            27,
            15,
            28,
            22,
            22,
            15,
            15,
            15,
            27,
            32,
            24,
            22,
            25,
            26,
            26,
            26,
            26,
            27,
            27,
            29,
            26,
            36,
            28,
            23,
            30,
            21,
            21,
            31,
            21,
            24,
            23,
            28,
            49,
            22,
            25,
            22,
            22,
            26,
            30,
            35,
            51,
            25,
            29,
            38,
            28,
            23,
            48,
            30,
            20,
            49,
            24,
            28,
            26,
            20,
            18,
            27,
            22,
            29,
            18,
            24,
            25,
            25,
            37,
            27,
            36,
            23,
            17,
            23,
            28,
            20,
            40,
            25,
            30,
            23,
            24,
            24,
            21,
            32,
            21,
            23,
            24,
            24,
            23,
            19,
            29,
            29,
            25,
            25,
            21,
            32,
            27,
            21,
            28,
            37,
            23,
            25,
            37
           ],
           "xaxis": "x",
           "yaxis": "y"
          }
         ],
         "name": "2008"
        },
        {
         "data": [
          {
           "alignmentgroup": "True",
           "bingroup": "x",
           "hovertemplate": "Year=2010<br>Age=%{x}<br>count=%{y}<extra></extra>",
           "legendgroup": "",
           "marker": {
            "color": "#636efa",
            "pattern": {
             "shape": ""
            }
           },
           "name": "",
           "offsetgroup": "",
           "orientation": "v",
           "showlegend": false,
           "type": "histogram",
           "x": [
            26,
            24,
            25,
            33,
            25,
            36,
            23,
            23,
            25,
            24,
            31,
            25,
            24,
            21,
            24,
            28,
            21,
            24,
            27,
            28,
            23,
            21,
            28,
            21,
            26,
            26,
            26,
            20,
            21,
            23,
            21,
            29,
            26,
            29,
            34,
            34,
            34,
            23,
            29,
            20,
            35,
            35,
            33,
            35,
            35,
            35,
            23,
            23,
            23,
            27,
            34,
            26,
            21,
            21,
            21,
            23,
            29,
            34,
            21,
            29,
            25,
            31,
            21,
            37,
            25,
            26,
            26,
            21,
            34,
            21,
            21,
            21,
            21,
            34,
            25,
            26,
            25,
            25,
            25,
            26,
            26,
            27,
            24,
            21,
            25,
            24,
            22,
            21,
            37,
            27,
            22,
            30,
            33,
            27,
            30,
            26,
            24,
            24,
            24,
            27,
            27,
            25,
            25,
            25,
            27,
            27,
            27,
            24,
            24,
            31,
            31,
            24,
            31,
            23,
            18,
            23,
            29,
            26,
            23,
            23,
            23,
            23,
            21,
            28,
            28,
            27,
            27,
            23,
            26,
            24,
            24,
            24,
            30,
            20,
            31,
            22,
            25,
            22,
            26,
            20,
            18,
            18,
            18,
            27,
            38,
            29,
            27,
            32,
            23,
            32,
            24,
            24,
            24,
            23,
            32,
            26,
            24,
            24,
            30,
            30,
            30,
            30,
            24,
            24,
            22,
            32,
            23,
            23,
            23,
            25,
            21,
            25,
            19,
            19,
            24,
            24,
            30,
            24,
            26,
            24,
            34,
            21,
            32,
            21,
            24,
            34,
            34,
            21,
            26,
            21,
            34,
            20
           ],
           "xaxis": "x",
           "yaxis": "y"
          }
         ],
         "name": "2010"
        },
        {
         "data": [
          {
           "alignmentgroup": "True",
           "bingroup": "x",
           "hovertemplate": "Year=2012<br>Age=%{x}<br>count=%{y}<extra></extra>",
           "legendgroup": "",
           "marker": {
            "color": "#636efa",
            "pattern": {
             "shape": ""
            }
           },
           "name": "",
           "offsetgroup": "",
           "orientation": "v",
           "showlegend": false,
           "type": "histogram",
           "x": [
            44,
            32,
            29,
            25,
            35,
            29,
            29,
            24,
            44,
            32,
            18,
            30,
            27,
            34,
            23,
            23,
            29,
            40,
            40,
            20,
            20,
            29,
            22,
            31,
            33,
            30,
            34,
            26,
            29,
            18,
            24,
            18,
            27,
            28,
            33,
            24,
            29,
            25,
            21,
            27,
            30,
            28,
            32,
            34,
            20,
            20,
            23,
            27,
            32,
            31,
            29,
            27,
            27,
            26,
            24,
            21,
            25,
            29,
            32,
            32,
            26,
            20,
            27,
            26,
            22,
            31,
            26,
            20,
            27,
            20,
            36,
            34,
            22,
            22,
            31,
            29,
            20,
            20,
            24,
            20,
            25,
            26,
            31,
            25,
            20,
            28,
            20,
            46,
            33,
            28,
            28,
            20,
            20,
            27,
            35,
            28,
            28,
            25,
            25,
            25,
            21,
            40,
            26,
            23,
            30,
            23,
            23,
            25,
            25,
            21,
            27,
            25,
            25,
            25,
            25,
            25,
            21,
            26,
            20,
            20,
            40,
            34,
            36,
            23,
            27,
            26,
            40,
            30,
            20,
            27,
            29,
            25,
            28,
            25,
            37,
            37,
            22,
            29,
            33,
            33,
            26,
            30,
            22,
            30,
            43,
            22,
            32,
            27,
            19,
            27,
            26,
            21,
            26,
            32,
            32,
            26,
            26,
            22,
            26,
            24,
            24,
            24,
            24,
            27,
            32,
            27,
            27,
            27,
            31,
            32,
            20,
            22,
            23,
            30,
            27,
            25,
            25,
            25,
            33,
            21,
            24,
            28,
            28,
            20,
            18,
            18,
            18,
            18,
            18,
            32,
            43,
            22,
            22,
            22,
            22,
            44,
            22,
            23,
            27,
            31,
            29,
            26,
            27,
            26,
            32,
            32,
            27,
            27,
            31,
            23,
            19,
            29,
            29,
            29,
            29,
            30,
            30,
            28,
            22,
            30,
            30,
            28,
            29,
            27,
            25,
            25,
            25,
            25,
            25,
            25,
            25,
            24,
            31,
            25,
            24,
            23,
            22,
            22,
            21,
            27,
            23,
            25,
            28,
            28,
            20,
            20,
            24,
            24,
            24,
            31,
            24,
            31,
            27,
            31,
            29,
            23,
            26,
            32,
            32,
            24,
            25,
            29,
            32,
            26,
            26,
            17,
            29,
            17,
            17,
            22,
            22,
            22,
            26,
            25,
            25,
            17,
            32,
            35,
            25,
            35,
            33,
            28,
            28,
            18,
            24,
            23,
            28,
            26,
            24,
            23,
            22,
            36,
            30,
            36,
            33,
            23,
            27,
            29,
            18,
            18,
            27,
            27,
            25,
            23,
            37,
            23,
            35,
            33,
            22,
            29,
            22,
            27,
            28,
            30,
            20,
            19,
            49,
            17,
            17,
            33,
            33,
            24,
            22,
            22,
            31,
            24,
            41,
            32,
            17,
            49,
            23,
            38,
            28,
            34,
            28,
            23,
            23,
            23,
            33,
            18,
            18,
            22,
            22,
            21,
            25,
            19,
            24,
            24,
            30,
            20,
            30,
            27,
            23,
            23,
            30,
            25,
            25,
            30,
            24,
            38,
            26,
            31,
            25,
            37,
            22,
            29,
            25,
            15,
            15,
            20,
            27,
            26,
            21,
            24,
            15,
            27,
            27,
            30,
            26,
            31,
            31,
            31,
            31,
            16,
            16,
            36,
            31,
            27,
            36,
            24,
            27,
            25,
            26,
            25,
            15,
            25,
            27,
            24,
            15,
            24,
            22,
            28,
            25,
            24,
            31,
            27,
            25,
            28,
            25,
            27,
            23,
            33,
            28,
            33,
            24,
            36,
            25,
            29,
            27,
            24,
            25,
            27
           ],
           "xaxis": "x",
           "yaxis": "y"
          }
         ],
         "name": "2012"
        },
        {
         "data": [
          {
           "alignmentgroup": "True",
           "bingroup": "x",
           "hovertemplate": "Year=2014<br>Age=%{x}<br>count=%{y}<extra></extra>",
           "legendgroup": "",
           "marker": {
            "color": "#636efa",
            "pattern": {
             "shape": ""
            }
           },
           "name": "",
           "offsetgroup": "",
           "orientation": "v",
           "showlegend": false,
           "type": "histogram",
           "x": [
            19,
            23,
            29,
            22,
            22,
            27,
            22,
            22,
            22,
            28,
            25,
            24,
            28,
            24,
            20,
            20,
            30,
            28,
            30,
            24,
            28,
            20,
            22,
            19,
            30,
            33,
            20,
            28,
            23,
            32,
            28,
            24,
            23,
            28,
            30,
            30,
            20,
            28,
            23,
            22,
            27,
            21,
            29,
            21,
            25,
            15,
            27,
            28,
            28,
            29,
            27,
            27,
            29,
            29,
            27,
            23,
            31,
            31,
            27,
            21,
            27,
            27,
            27,
            28,
            25,
            25,
            28,
            26,
            22,
            18,
            22,
            19,
            27,
            23,
            34,
            27,
            22,
            25,
            22,
            21,
            33,
            27,
            26,
            28,
            33,
            26,
            24,
            24,
            27,
            24,
            24,
            29,
            24,
            20,
            27,
            29,
            19,
            19,
            29,
            25,
            35,
            22,
            22,
            22,
            22,
            22,
            20,
            31,
            27,
            25,
            25,
            22,
            37,
            24,
            28,
            17,
            25,
            28,
            29,
            29,
            26,
            24,
            25,
            24,
            24,
            24,
            28,
            28,
            28,
            28,
            21,
            26,
            27,
            29,
            27,
            28,
            27,
            30,
            33,
            25,
            22,
            33,
            33,
            24,
            33,
            33,
            28,
            29,
            31,
            29,
            25,
            25,
            25,
            26,
            25,
            26,
            25,
            25,
            26,
            26,
            22,
            25,
            26,
            26,
            27,
            28,
            29,
            25,
            25,
            29,
            25,
            26,
            23,
            28,
            25,
            28,
            22,
            17,
            25,
            22,
            26,
            18,
            29,
            25,
            25,
            25,
            29,
            25,
            27
           ],
           "xaxis": "x",
           "yaxis": "y"
          }
         ],
         "name": "2014"
        },
        {
         "data": [
          {
           "alignmentgroup": "True",
           "bingroup": "x",
           "hovertemplate": "Year=2016<br>Age=%{x}<br>count=%{y}<extra></extra>",
           "legendgroup": "",
           "marker": {
            "color": "#636efa",
            "pattern": {
             "shape": ""
            }
           },
           "name": "",
           "offsetgroup": "",
           "orientation": "v",
           "showlegend": false,
           "type": "histogram",
           "x": [
            24,
            32,
            27,
            25,
            25,
            29,
            29,
            31,
            22,
            34,
            32,
            24,
            29,
            32,
            35,
            32,
            28,
            27,
            25,
            22,
            27,
            22,
            23,
            35,
            25,
            32,
            35,
            32,
            22,
            29,
            25,
            23,
            20,
            24,
            27,
            21,
            24,
            28,
            23,
            28,
            21,
            25,
            27,
            27,
            28,
            27,
            24,
            23,
            23,
            29,
            23,
            25,
            23,
            50,
            50,
            25,
            29,
            32,
            24,
            28,
            33,
            27,
            21,
            22,
            20,
            23,
            20,
            22,
            22,
            21,
            35,
            22,
            20,
            24,
            22,
            40,
            34,
            27,
            24,
            34,
            21,
            20,
            24,
            24,
            22,
            22,
            39,
            26,
            26,
            23,
            22,
            28,
            29,
            27,
            24,
            31,
            29,
            20,
            34,
            42,
            21,
            32,
            28,
            31,
            22,
            33,
            33,
            31,
            16,
            16,
            28,
            16,
            29,
            23,
            27,
            23,
            30,
            35,
            42,
            25,
            21,
            21,
            21,
            30,
            33,
            31,
            31,
            31,
            24,
            27,
            21,
            22,
            24,
            21,
            29,
            24,
            25,
            28,
            31,
            27,
            36,
            28,
            33,
            26,
            27,
            29,
            36,
            25,
            21,
            29,
            25,
            38,
            26,
            26,
            35,
            21,
            23,
            25,
            28,
            29,
            21,
            28,
            28,
            28,
            28,
            35,
            29,
            28,
            29,
            35,
            28,
            32,
            28,
            29,
            22,
            30,
            24,
            21,
            30,
            35,
            29,
            26,
            19,
            19,
            21,
            21,
            21,
            21,
            21,
            29,
            21,
            21,
            25,
            23,
            23,
            34,
            27,
            24,
            51,
            26,
            24,
            41,
            26,
            33,
            51,
            26,
            27,
            28,
            20,
            23,
            24,
            23,
            35,
            24,
            31,
            27,
            26,
            28,
            36,
            22,
            53,
            53,
            28,
            47,
            47,
            36,
            31,
            28,
            21,
            25,
            22,
            30,
            30,
            20,
            26,
            21,
            26,
            28,
            17,
            17,
            24,
            32,
            32,
            28,
            32,
            28,
            22,
            28,
            28,
            31,
            22,
            24,
            21,
            28,
            19,
            24,
            30,
            29,
            30,
            30,
            29,
            30,
            27,
            30,
            25,
            26,
            28,
            31,
            30,
            26,
            21,
            21,
            23,
            25,
            29,
            25,
            25,
            25,
            25,
            25,
            28,
            31,
            19,
            24,
            23,
            22,
            29,
            25,
            27,
            27,
            25,
            26,
            27,
            28,
            28,
            29,
            29,
            29,
            26,
            23,
            28,
            34,
            24,
            25,
            37,
            26,
            34,
            34,
            21,
            27,
            24,
            31,
            41,
            41,
            26,
            29,
            34,
            29,
            31,
            22,
            26,
            29,
            27,
            25,
            28,
            28,
            21,
            23,
            34,
            24,
            41,
            29,
            34,
            29,
            22,
            24,
            23,
            24,
            28,
            26,
            15,
            15,
            36,
            36,
            27,
            23,
            30,
            15,
            15,
            15,
            29,
            31,
            25,
            30,
            24,
            29,
            31,
            31,
            26,
            21,
            21,
            23,
            26,
            24,
            21,
            26,
            25,
            24,
            24,
            24,
            24,
            29,
            25,
            25,
            27,
            28,
            20,
            29,
            23,
            32,
            22,
            26,
            26,
            24,
            31,
            28,
            28,
            32,
            32,
            29,
            29,
            25,
            25,
            35,
            21,
            33,
            25,
            31,
            26,
            21,
            31,
            24,
            30,
            24,
            19,
            27,
            32,
            27,
            24,
            29,
            26,
            24,
            24,
            21,
            21,
            21,
            24,
            24,
            21,
            21,
            21,
            25,
            21,
            29,
            20,
            24,
            34,
            31,
            32,
            36,
            23,
            27,
            28,
            26,
            32,
            22,
            25,
            42,
            25,
            42,
            26,
            26,
            33,
            40,
            27,
            23,
            40,
            18,
            27,
            19,
            26,
            30,
            25,
            34,
            27,
            24,
            31,
            26,
            22,
            30,
            25,
            33,
            27,
            27,
            38,
            27,
            23,
            29,
            31,
            32,
            17,
            17,
            17,
            17,
            17,
            25,
            34,
            27,
            24,
            34,
            24,
            28,
            26,
            21,
            25,
            37,
            25,
            31,
            31,
            31,
            31,
            22,
            32,
            28,
            22,
            22,
            23,
            29,
            31,
            31,
            25,
            23,
            27,
            30
           ],
           "xaxis": "x",
           "yaxis": "y"
          }
         ],
         "name": "2016"
        }
       ],
       "layout": {
        "barmode": "relative",
        "font": {
         "color": "white"
        },
        "legend": {
         "tracegroupgap": 0
        },
        "paper_bgcolor": "black",
        "plot_bgcolor": "black",
        "sliders": [
         {
          "active": 0,
          "currentvalue": {
           "prefix": "Year="
          },
          "len": 0.9,
          "pad": {
           "b": 10,
           "t": 60
          },
          "steps": [
           {
            "args": [
             [
              "1896"
             ],
             {
              "frame": {
               "duration": 0,
               "redraw": true
              },
              "fromcurrent": true,
              "mode": "immediate",
              "transition": {
               "duration": 0,
               "easing": "linear"
              }
             }
            ],
            "label": "1896",
            "method": "animate"
           },
           {
            "args": [
             [
              "1900"
             ],
             {
              "frame": {
               "duration": 0,
               "redraw": true
              },
              "fromcurrent": true,
              "mode": "immediate",
              "transition": {
               "duration": 0,
               "easing": "linear"
              }
             }
            ],
            "label": "1900",
            "method": "animate"
           },
           {
            "args": [
             [
              "1906"
             ],
             {
              "frame": {
               "duration": 0,
               "redraw": true
              },
              "fromcurrent": true,
              "mode": "immediate",
              "transition": {
               "duration": 0,
               "easing": "linear"
              }
             }
            ],
            "label": "1906",
            "method": "animate"
           },
           {
            "args": [
             [
              "1908"
             ],
             {
              "frame": {
               "duration": 0,
               "redraw": true
              },
              "fromcurrent": true,
              "mode": "immediate",
              "transition": {
               "duration": 0,
               "easing": "linear"
              }
             }
            ],
            "label": "1908",
            "method": "animate"
           },
           {
            "args": [
             [
              "1912"
             ],
             {
              "frame": {
               "duration": 0,
               "redraw": true
              },
              "fromcurrent": true,
              "mode": "immediate",
              "transition": {
               "duration": 0,
               "easing": "linear"
              }
             }
            ],
            "label": "1912",
            "method": "animate"
           },
           {
            "args": [
             [
              "1920"
             ],
             {
              "frame": {
               "duration": 0,
               "redraw": true
              },
              "fromcurrent": true,
              "mode": "immediate",
              "transition": {
               "duration": 0,
               "easing": "linear"
              }
             }
            ],
            "label": "1920",
            "method": "animate"
           },
           {
            "args": [
             [
              "1924"
             ],
             {
              "frame": {
               "duration": 0,
               "redraw": true
              },
              "fromcurrent": true,
              "mode": "immediate",
              "transition": {
               "duration": 0,
               "easing": "linear"
              }
             }
            ],
            "label": "1924",
            "method": "animate"
           },
           {
            "args": [
             [
              "1928"
             ],
             {
              "frame": {
               "duration": 0,
               "redraw": true
              },
              "fromcurrent": true,
              "mode": "immediate",
              "transition": {
               "duration": 0,
               "easing": "linear"
              }
             }
            ],
            "label": "1928",
            "method": "animate"
           },
           {
            "args": [
             [
              "1932"
             ],
             {
              "frame": {
               "duration": 0,
               "redraw": true
              },
              "fromcurrent": true,
              "mode": "immediate",
              "transition": {
               "duration": 0,
               "easing": "linear"
              }
             }
            ],
            "label": "1932",
            "method": "animate"
           },
           {
            "args": [
             [
              "1936"
             ],
             {
              "frame": {
               "duration": 0,
               "redraw": true
              },
              "fromcurrent": true,
              "mode": "immediate",
              "transition": {
               "duration": 0,
               "easing": "linear"
              }
             }
            ],
            "label": "1936",
            "method": "animate"
           },
           {
            "args": [
             [
              "1948"
             ],
             {
              "frame": {
               "duration": 0,
               "redraw": true
              },
              "fromcurrent": true,
              "mode": "immediate",
              "transition": {
               "duration": 0,
               "easing": "linear"
              }
             }
            ],
            "label": "1948",
            "method": "animate"
           },
           {
            "args": [
             [
              "1952"
             ],
             {
              "frame": {
               "duration": 0,
               "redraw": true
              },
              "fromcurrent": true,
              "mode": "immediate",
              "transition": {
               "duration": 0,
               "easing": "linear"
              }
             }
            ],
            "label": "1952",
            "method": "animate"
           },
           {
            "args": [
             [
              "1956"
             ],
             {
              "frame": {
               "duration": 0,
               "redraw": true
              },
              "fromcurrent": true,
              "mode": "immediate",
              "transition": {
               "duration": 0,
               "easing": "linear"
              }
             }
            ],
            "label": "1956",
            "method": "animate"
           },
           {
            "args": [
             [
              "1960"
             ],
             {
              "frame": {
               "duration": 0,
               "redraw": true
              },
              "fromcurrent": true,
              "mode": "immediate",
              "transition": {
               "duration": 0,
               "easing": "linear"
              }
             }
            ],
            "label": "1960",
            "method": "animate"
           },
           {
            "args": [
             [
              "1964"
             ],
             {
              "frame": {
               "duration": 0,
               "redraw": true
              },
              "fromcurrent": true,
              "mode": "immediate",
              "transition": {
               "duration": 0,
               "easing": "linear"
              }
             }
            ],
            "label": "1964",
            "method": "animate"
           },
           {
            "args": [
             [
              "1968"
             ],
             {
              "frame": {
               "duration": 0,
               "redraw": true
              },
              "fromcurrent": true,
              "mode": "immediate",
              "transition": {
               "duration": 0,
               "easing": "linear"
              }
             }
            ],
            "label": "1968",
            "method": "animate"
           },
           {
            "args": [
             [
              "1972"
             ],
             {
              "frame": {
               "duration": 0,
               "redraw": true
              },
              "fromcurrent": true,
              "mode": "immediate",
              "transition": {
               "duration": 0,
               "easing": "linear"
              }
             }
            ],
            "label": "1972",
            "method": "animate"
           },
           {
            "args": [
             [
              "1976"
             ],
             {
              "frame": {
               "duration": 0,
               "redraw": true
              },
              "fromcurrent": true,
              "mode": "immediate",
              "transition": {
               "duration": 0,
               "easing": "linear"
              }
             }
            ],
            "label": "1976",
            "method": "animate"
           },
           {
            "args": [
             [
              "1980"
             ],
             {
              "frame": {
               "duration": 0,
               "redraw": true
              },
              "fromcurrent": true,
              "mode": "immediate",
              "transition": {
               "duration": 0,
               "easing": "linear"
              }
             }
            ],
            "label": "1980",
            "method": "animate"
           },
           {
            "args": [
             [
              "1984"
             ],
             {
              "frame": {
               "duration": 0,
               "redraw": true
              },
              "fromcurrent": true,
              "mode": "immediate",
              "transition": {
               "duration": 0,
               "easing": "linear"
              }
             }
            ],
            "label": "1984",
            "method": "animate"
           },
           {
            "args": [
             [
              "1988"
             ],
             {
              "frame": {
               "duration": 0,
               "redraw": true
              },
              "fromcurrent": true,
              "mode": "immediate",
              "transition": {
               "duration": 0,
               "easing": "linear"
              }
             }
            ],
            "label": "1988",
            "method": "animate"
           },
           {
            "args": [
             [
              "1992"
             ],
             {
              "frame": {
               "duration": 0,
               "redraw": true
              },
              "fromcurrent": true,
              "mode": "immediate",
              "transition": {
               "duration": 0,
               "easing": "linear"
              }
             }
            ],
            "label": "1992",
            "method": "animate"
           },
           {
            "args": [
             [
              "1994"
             ],
             {
              "frame": {
               "duration": 0,
               "redraw": true
              },
              "fromcurrent": true,
              "mode": "immediate",
              "transition": {
               "duration": 0,
               "easing": "linear"
              }
             }
            ],
            "label": "1994",
            "method": "animate"
           },
           {
            "args": [
             [
              "1996"
             ],
             {
              "frame": {
               "duration": 0,
               "redraw": true
              },
              "fromcurrent": true,
              "mode": "immediate",
              "transition": {
               "duration": 0,
               "easing": "linear"
              }
             }
            ],
            "label": "1996",
            "method": "animate"
           },
           {
            "args": [
             [
              "1998"
             ],
             {
              "frame": {
               "duration": 0,
               "redraw": true
              },
              "fromcurrent": true,
              "mode": "immediate",
              "transition": {
               "duration": 0,
               "easing": "linear"
              }
             }
            ],
            "label": "1998",
            "method": "animate"
           },
           {
            "args": [
             [
              "2000"
             ],
             {
              "frame": {
               "duration": 0,
               "redraw": true
              },
              "fromcurrent": true,
              "mode": "immediate",
              "transition": {
               "duration": 0,
               "easing": "linear"
              }
             }
            ],
            "label": "2000",
            "method": "animate"
           },
           {
            "args": [
             [
              "2002"
             ],
             {
              "frame": {
               "duration": 0,
               "redraw": true
              },
              "fromcurrent": true,
              "mode": "immediate",
              "transition": {
               "duration": 0,
               "easing": "linear"
              }
             }
            ],
            "label": "2002",
            "method": "animate"
           },
           {
            "args": [
             [
              "2004"
             ],
             {
              "frame": {
               "duration": 0,
               "redraw": true
              },
              "fromcurrent": true,
              "mode": "immediate",
              "transition": {
               "duration": 0,
               "easing": "linear"
              }
             }
            ],
            "label": "2004",
            "method": "animate"
           },
           {
            "args": [
             [
              "2006"
             ],
             {
              "frame": {
               "duration": 0,
               "redraw": true
              },
              "fromcurrent": true,
              "mode": "immediate",
              "transition": {
               "duration": 0,
               "easing": "linear"
              }
             }
            ],
            "label": "2006",
            "method": "animate"
           },
           {
            "args": [
             [
              "2008"
             ],
             {
              "frame": {
               "duration": 0,
               "redraw": true
              },
              "fromcurrent": true,
              "mode": "immediate",
              "transition": {
               "duration": 0,
               "easing": "linear"
              }
             }
            ],
            "label": "2008",
            "method": "animate"
           },
           {
            "args": [
             [
              "2010"
             ],
             {
              "frame": {
               "duration": 0,
               "redraw": true
              },
              "fromcurrent": true,
              "mode": "immediate",
              "transition": {
               "duration": 0,
               "easing": "linear"
              }
             }
            ],
            "label": "2010",
            "method": "animate"
           },
           {
            "args": [
             [
              "2012"
             ],
             {
              "frame": {
               "duration": 0,
               "redraw": true
              },
              "fromcurrent": true,
              "mode": "immediate",
              "transition": {
               "duration": 0,
               "easing": "linear"
              }
             }
            ],
            "label": "2012",
            "method": "animate"
           },
           {
            "args": [
             [
              "2014"
             ],
             {
              "frame": {
               "duration": 0,
               "redraw": true
              },
              "fromcurrent": true,
              "mode": "immediate",
              "transition": {
               "duration": 0,
               "easing": "linear"
              }
             }
            ],
            "label": "2014",
            "method": "animate"
           },
           {
            "args": [
             [
              "2016"
             ],
             {
              "frame": {
               "duration": 0,
               "redraw": true
              },
              "fromcurrent": true,
              "mode": "immediate",
              "transition": {
               "duration": 0,
               "easing": "linear"
              }
             }
            ],
            "label": "2016",
            "method": "animate"
           }
          ],
          "x": 0.1,
          "xanchor": "left",
          "y": 0,
          "yanchor": "top"
         }
        ],
        "template": {
         "data": {
          "bar": [
           {
            "error_x": {
             "color": "#2a3f5f"
            },
            "error_y": {
             "color": "#2a3f5f"
            },
            "marker": {
             "line": {
              "color": "#E5ECF6",
              "width": 0.5
             },
             "pattern": {
              "fillmode": "overlay",
              "size": 10,
              "solidity": 0.2
             }
            },
            "type": "bar"
           }
          ],
          "barpolar": [
           {
            "marker": {
             "line": {
              "color": "#E5ECF6",
              "width": 0.5
             },
             "pattern": {
              "fillmode": "overlay",
              "size": 10,
              "solidity": 0.2
             }
            },
            "type": "barpolar"
           }
          ],
          "carpet": [
           {
            "aaxis": {
             "endlinecolor": "#2a3f5f",
             "gridcolor": "white",
             "linecolor": "white",
             "minorgridcolor": "white",
             "startlinecolor": "#2a3f5f"
            },
            "baxis": {
             "endlinecolor": "#2a3f5f",
             "gridcolor": "white",
             "linecolor": "white",
             "minorgridcolor": "white",
             "startlinecolor": "#2a3f5f"
            },
            "type": "carpet"
           }
          ],
          "choropleth": [
           {
            "colorbar": {
             "outlinewidth": 0,
             "ticks": ""
            },
            "type": "choropleth"
           }
          ],
          "contour": [
           {
            "colorbar": {
             "outlinewidth": 0,
             "ticks": ""
            },
            "colorscale": [
             [
              0,
              "#0d0887"
             ],
             [
              0.1111111111111111,
              "#46039f"
             ],
             [
              0.2222222222222222,
              "#7201a8"
             ],
             [
              0.3333333333333333,
              "#9c179e"
             ],
             [
              0.4444444444444444,
              "#bd3786"
             ],
             [
              0.5555555555555556,
              "#d8576b"
             ],
             [
              0.6666666666666666,
              "#ed7953"
             ],
             [
              0.7777777777777778,
              "#fb9f3a"
             ],
             [
              0.8888888888888888,
              "#fdca26"
             ],
             [
              1,
              "#f0f921"
             ]
            ],
            "type": "contour"
           }
          ],
          "contourcarpet": [
           {
            "colorbar": {
             "outlinewidth": 0,
             "ticks": ""
            },
            "type": "contourcarpet"
           }
          ],
          "heatmap": [
           {
            "colorbar": {
             "outlinewidth": 0,
             "ticks": ""
            },
            "colorscale": [
             [
              0,
              "#0d0887"
             ],
             [
              0.1111111111111111,
              "#46039f"
             ],
             [
              0.2222222222222222,
              "#7201a8"
             ],
             [
              0.3333333333333333,
              "#9c179e"
             ],
             [
              0.4444444444444444,
              "#bd3786"
             ],
             [
              0.5555555555555556,
              "#d8576b"
             ],
             [
              0.6666666666666666,
              "#ed7953"
             ],
             [
              0.7777777777777778,
              "#fb9f3a"
             ],
             [
              0.8888888888888888,
              "#fdca26"
             ],
             [
              1,
              "#f0f921"
             ]
            ],
            "type": "heatmap"
           }
          ],
          "heatmapgl": [
           {
            "colorbar": {
             "outlinewidth": 0,
             "ticks": ""
            },
            "colorscale": [
             [
              0,
              "#0d0887"
             ],
             [
              0.1111111111111111,
              "#46039f"
             ],
             [
              0.2222222222222222,
              "#7201a8"
             ],
             [
              0.3333333333333333,
              "#9c179e"
             ],
             [
              0.4444444444444444,
              "#bd3786"
             ],
             [
              0.5555555555555556,
              "#d8576b"
             ],
             [
              0.6666666666666666,
              "#ed7953"
             ],
             [
              0.7777777777777778,
              "#fb9f3a"
             ],
             [
              0.8888888888888888,
              "#fdca26"
             ],
             [
              1,
              "#f0f921"
             ]
            ],
            "type": "heatmapgl"
           }
          ],
          "histogram": [
           {
            "marker": {
             "pattern": {
              "fillmode": "overlay",
              "size": 10,
              "solidity": 0.2
             }
            },
            "type": "histogram"
           }
          ],
          "histogram2d": [
           {
            "colorbar": {
             "outlinewidth": 0,
             "ticks": ""
            },
            "colorscale": [
             [
              0,
              "#0d0887"
             ],
             [
              0.1111111111111111,
              "#46039f"
             ],
             [
              0.2222222222222222,
              "#7201a8"
             ],
             [
              0.3333333333333333,
              "#9c179e"
             ],
             [
              0.4444444444444444,
              "#bd3786"
             ],
             [
              0.5555555555555556,
              "#d8576b"
             ],
             [
              0.6666666666666666,
              "#ed7953"
             ],
             [
              0.7777777777777778,
              "#fb9f3a"
             ],
             [
              0.8888888888888888,
              "#fdca26"
             ],
             [
              1,
              "#f0f921"
             ]
            ],
            "type": "histogram2d"
           }
          ],
          "histogram2dcontour": [
           {
            "colorbar": {
             "outlinewidth": 0,
             "ticks": ""
            },
            "colorscale": [
             [
              0,
              "#0d0887"
             ],
             [
              0.1111111111111111,
              "#46039f"
             ],
             [
              0.2222222222222222,
              "#7201a8"
             ],
             [
              0.3333333333333333,
              "#9c179e"
             ],
             [
              0.4444444444444444,
              "#bd3786"
             ],
             [
              0.5555555555555556,
              "#d8576b"
             ],
             [
              0.6666666666666666,
              "#ed7953"
             ],
             [
              0.7777777777777778,
              "#fb9f3a"
             ],
             [
              0.8888888888888888,
              "#fdca26"
             ],
             [
              1,
              "#f0f921"
             ]
            ],
            "type": "histogram2dcontour"
           }
          ],
          "mesh3d": [
           {
            "colorbar": {
             "outlinewidth": 0,
             "ticks": ""
            },
            "type": "mesh3d"
           }
          ],
          "parcoords": [
           {
            "line": {
             "colorbar": {
              "outlinewidth": 0,
              "ticks": ""
             }
            },
            "type": "parcoords"
           }
          ],
          "pie": [
           {
            "automargin": true,
            "type": "pie"
           }
          ],
          "scatter": [
           {
            "fillpattern": {
             "fillmode": "overlay",
             "size": 10,
             "solidity": 0.2
            },
            "type": "scatter"
           }
          ],
          "scatter3d": [
           {
            "line": {
             "colorbar": {
              "outlinewidth": 0,
              "ticks": ""
             }
            },
            "marker": {
             "colorbar": {
              "outlinewidth": 0,
              "ticks": ""
             }
            },
            "type": "scatter3d"
           }
          ],
          "scattercarpet": [
           {
            "marker": {
             "colorbar": {
              "outlinewidth": 0,
              "ticks": ""
             }
            },
            "type": "scattercarpet"
           }
          ],
          "scattergeo": [
           {
            "marker": {
             "colorbar": {
              "outlinewidth": 0,
              "ticks": ""
             }
            },
            "type": "scattergeo"
           }
          ],
          "scattergl": [
           {
            "marker": {
             "colorbar": {
              "outlinewidth": 0,
              "ticks": ""
             }
            },
            "type": "scattergl"
           }
          ],
          "scattermapbox": [
           {
            "marker": {
             "colorbar": {
              "outlinewidth": 0,
              "ticks": ""
             }
            },
            "type": "scattermapbox"
           }
          ],
          "scatterpolar": [
           {
            "marker": {
             "colorbar": {
              "outlinewidth": 0,
              "ticks": ""
             }
            },
            "type": "scatterpolar"
           }
          ],
          "scatterpolargl": [
           {
            "marker": {
             "colorbar": {
              "outlinewidth": 0,
              "ticks": ""
             }
            },
            "type": "scatterpolargl"
           }
          ],
          "scatterternary": [
           {
            "marker": {
             "colorbar": {
              "outlinewidth": 0,
              "ticks": ""
             }
            },
            "type": "scatterternary"
           }
          ],
          "surface": [
           {
            "colorbar": {
             "outlinewidth": 0,
             "ticks": ""
            },
            "colorscale": [
             [
              0,
              "#0d0887"
             ],
             [
              0.1111111111111111,
              "#46039f"
             ],
             [
              0.2222222222222222,
              "#7201a8"
             ],
             [
              0.3333333333333333,
              "#9c179e"
             ],
             [
              0.4444444444444444,
              "#bd3786"
             ],
             [
              0.5555555555555556,
              "#d8576b"
             ],
             [
              0.6666666666666666,
              "#ed7953"
             ],
             [
              0.7777777777777778,
              "#fb9f3a"
             ],
             [
              0.8888888888888888,
              "#fdca26"
             ],
             [
              1,
              "#f0f921"
             ]
            ],
            "type": "surface"
           }
          ],
          "table": [
           {
            "cells": {
             "fill": {
              "color": "#EBF0F8"
             },
             "line": {
              "color": "white"
             }
            },
            "header": {
             "fill": {
              "color": "#C8D4E3"
             },
             "line": {
              "color": "white"
             }
            },
            "type": "table"
           }
          ]
         },
         "layout": {
          "annotationdefaults": {
           "arrowcolor": "#2a3f5f",
           "arrowhead": 0,
           "arrowwidth": 1
          },
          "autotypenumbers": "strict",
          "coloraxis": {
           "colorbar": {
            "outlinewidth": 0,
            "ticks": ""
           }
          },
          "colorscale": {
           "diverging": [
            [
             0,
             "#8e0152"
            ],
            [
             0.1,
             "#c51b7d"
            ],
            [
             0.2,
             "#de77ae"
            ],
            [
             0.3,
             "#f1b6da"
            ],
            [
             0.4,
             "#fde0ef"
            ],
            [
             0.5,
             "#f7f7f7"
            ],
            [
             0.6,
             "#e6f5d0"
            ],
            [
             0.7,
             "#b8e186"
            ],
            [
             0.8,
             "#7fbc41"
            ],
            [
             0.9,
             "#4d9221"
            ],
            [
             1,
             "#276419"
            ]
           ],
           "sequential": [
            [
             0,
             "#0d0887"
            ],
            [
             0.1111111111111111,
             "#46039f"
            ],
            [
             0.2222222222222222,
             "#7201a8"
            ],
            [
             0.3333333333333333,
             "#9c179e"
            ],
            [
             0.4444444444444444,
             "#bd3786"
            ],
            [
             0.5555555555555556,
             "#d8576b"
            ],
            [
             0.6666666666666666,
             "#ed7953"
            ],
            [
             0.7777777777777778,
             "#fb9f3a"
            ],
            [
             0.8888888888888888,
             "#fdca26"
            ],
            [
             1,
             "#f0f921"
            ]
           ],
           "sequentialminus": [
            [
             0,
             "#0d0887"
            ],
            [
             0.1111111111111111,
             "#46039f"
            ],
            [
             0.2222222222222222,
             "#7201a8"
            ],
            [
             0.3333333333333333,
             "#9c179e"
            ],
            [
             0.4444444444444444,
             "#bd3786"
            ],
            [
             0.5555555555555556,
             "#d8576b"
            ],
            [
             0.6666666666666666,
             "#ed7953"
            ],
            [
             0.7777777777777778,
             "#fb9f3a"
            ],
            [
             0.8888888888888888,
             "#fdca26"
            ],
            [
             1,
             "#f0f921"
            ]
           ]
          },
          "colorway": [
           "#636efa",
           "#EF553B",
           "#00cc96",
           "#ab63fa",
           "#FFA15A",
           "#19d3f3",
           "#FF6692",
           "#B6E880",
           "#FF97FF",
           "#FECB52"
          ],
          "font": {
           "color": "#2a3f5f"
          },
          "geo": {
           "bgcolor": "white",
           "lakecolor": "white",
           "landcolor": "#E5ECF6",
           "showlakes": true,
           "showland": true,
           "subunitcolor": "white"
          },
          "hoverlabel": {
           "align": "left"
          },
          "hovermode": "closest",
          "mapbox": {
           "style": "light"
          },
          "paper_bgcolor": "white",
          "plot_bgcolor": "#E5ECF6",
          "polar": {
           "angularaxis": {
            "gridcolor": "white",
            "linecolor": "white",
            "ticks": ""
           },
           "bgcolor": "#E5ECF6",
           "radialaxis": {
            "gridcolor": "white",
            "linecolor": "white",
            "ticks": ""
           }
          },
          "scene": {
           "xaxis": {
            "backgroundcolor": "#E5ECF6",
            "gridcolor": "white",
            "gridwidth": 2,
            "linecolor": "white",
            "showbackground": true,
            "ticks": "",
            "zerolinecolor": "white"
           },
           "yaxis": {
            "backgroundcolor": "#E5ECF6",
            "gridcolor": "white",
            "gridwidth": 2,
            "linecolor": "white",
            "showbackground": true,
            "ticks": "",
            "zerolinecolor": "white"
           },
           "zaxis": {
            "backgroundcolor": "#E5ECF6",
            "gridcolor": "white",
            "gridwidth": 2,
            "linecolor": "white",
            "showbackground": true,
            "ticks": "",
            "zerolinecolor": "white"
           }
          },
          "shapedefaults": {
           "line": {
            "color": "#2a3f5f"
           }
          },
          "ternary": {
           "aaxis": {
            "gridcolor": "white",
            "linecolor": "white",
            "ticks": ""
           },
           "baxis": {
            "gridcolor": "white",
            "linecolor": "white",
            "ticks": ""
           },
           "bgcolor": "#E5ECF6",
           "caxis": {
            "gridcolor": "white",
            "linecolor": "white",
            "ticks": ""
           }
          },
          "title": {
           "x": 0.05
          },
          "xaxis": {
           "automargin": true,
           "gridcolor": "white",
           "linecolor": "white",
           "ticks": "",
           "title": {
            "standoff": 15
           },
           "zerolinecolor": "white",
           "zerolinewidth": 2
          },
          "yaxis": {
           "automargin": true,
           "gridcolor": "white",
           "linecolor": "white",
           "ticks": "",
           "title": {
            "standoff": 15
           },
           "zerolinecolor": "white",
           "zerolinewidth": 2
          }
         }
        },
        "title": {
         "text": "Histogram of Ages Over Time"
        },
        "updatemenus": [
         {
          "buttons": [
           {
            "args": [
             null,
             {
              "frame": {
               "duration": 500,
               "redraw": true
              },
              "fromcurrent": true,
              "mode": "immediate",
              "transition": {
               "duration": 500,
               "easing": "linear"
              }
             }
            ],
            "label": "&#9654;",
            "method": "animate"
           },
           {
            "args": [
             [
              null
             ],
             {
              "frame": {
               "duration": 0,
               "redraw": true
              },
              "fromcurrent": true,
              "mode": "immediate",
              "transition": {
               "duration": 0,
               "easing": "linear"
              }
             }
            ],
            "label": "&#9724;",
            "method": "animate"
           }
          ],
          "direction": "left",
          "pad": {
           "r": 10,
           "t": 70
          },
          "showactive": false,
          "type": "buttons",
          "x": 0.1,
          "xanchor": "right",
          "y": 0,
          "yanchor": "top"
         }
        ],
        "xaxis": {
         "anchor": "y",
         "domain": [
          0,
          1
         ],
         "range": [
          10,
          80
         ],
         "title": {
          "text": "Age"
         }
        },
        "yaxis": {
         "anchor": "x",
         "domain": [
          0,
          1
         ],
         "range": [
          0,
          100
         ],
         "title": {
          "text": "Count"
         }
        }
       }
      }
     },
     "metadata": {},
     "output_type": "display_data"
    }
   ],
   "source": [
    "# Filter the dataframe to include only rows where the Team is 'France'\n",
    "only_france_df = athlete_events[athlete_events['Team'] == 'France']\n",
    "only_france_df.sort_values(by=['Year'], inplace=True)\n",
    "only_france_df.dropna(subset=['Age'], inplace=True)\n",
    "\n",
    "# Create a histogram of ages over time\n",
    "histogram_ages_over_time = px.histogram(only_france_df, x='Age', title='Histogram of Ages Over Time', animation_frame='Year', range_x=[10, 80])\n",
    "\n",
    "# Customize the layout of the histogram\n",
    "histogram_ages_over_time.update_layout(\n",
    "    xaxis_title='Age',\n",
    "    yaxis_title='Count',\n",
    "    paper_bgcolor=\"black\",\n",
    "    plot_bgcolor=\"black\",\n",
    "    font_color=\"white\",\n",
    "    yaxis_range=[0, 100]\n",
    ")\n",
    "\n",
    "# Show the histogram\n",
    "histogram_ages_over_time.show()"
   ]
  },
  {
   "cell_type": "code",
   "execution_count": 98,
   "metadata": {},
   "outputs": [
    {
     "data": {
      "text/html": [
       "<div>\n",
       "<style scoped>\n",
       "    .dataframe tbody tr th:only-of-type {\n",
       "        vertical-align: middle;\n",
       "    }\n",
       "\n",
       "    .dataframe tbody tr th {\n",
       "        vertical-align: top;\n",
       "    }\n",
       "\n",
       "    .dataframe thead th {\n",
       "        text-align: right;\n",
       "    }\n",
       "</style>\n",
       "<table border=\"1\" class=\"dataframe\">\n",
       "  <thead>\n",
       "    <tr style=\"text-align: right;\">\n",
       "      <th></th>\n",
       "      <th>ID</th>\n",
       "      <th>Name</th>\n",
       "      <th>Sex</th>\n",
       "      <th>Age</th>\n",
       "      <th>Height</th>\n",
       "      <th>Weight</th>\n",
       "      <th>Team</th>\n",
       "      <th>NOC</th>\n",
       "      <th>Games</th>\n",
       "      <th>Year</th>\n",
       "      <th>Season</th>\n",
       "      <th>City</th>\n",
       "      <th>Sport</th>\n",
       "      <th>Event</th>\n",
       "      <th>Medal</th>\n",
       "      <th>Age_Range</th>\n",
       "    </tr>\n",
       "  </thead>\n",
       "  <tbody>\n",
       "    <tr>\n",
       "      <th>1202</th>\n",
       "      <td>676</td>\n",
       "      <td>Gaston Achille</td>\n",
       "      <td>M</td>\n",
       "      <td>NaN</td>\n",
       "      <td>NaN</td>\n",
       "      <td>NaN</td>\n",
       "      <td>France</td>\n",
       "      <td>FRA</td>\n",
       "      <td>1900 Summer</td>\n",
       "      <td>1900</td>\n",
       "      <td>Summer</td>\n",
       "      <td>Paris</td>\n",
       "      <td>Fencing</td>\n",
       "      <td>Fencing Men's epee, Individual</td>\n",
       "      <td>NaN</td>\n",
       "      <td>nan-nan</td>\n",
       "    </tr>\n",
       "    <tr>\n",
       "      <th>1340</th>\n",
       "      <td>757</td>\n",
       "      <td>Adam</td>\n",
       "      <td>M</td>\n",
       "      <td>NaN</td>\n",
       "      <td>NaN</td>\n",
       "      <td>NaN</td>\n",
       "      <td>France</td>\n",
       "      <td>FRA</td>\n",
       "      <td>1900 Summer</td>\n",
       "      <td>1900</td>\n",
       "      <td>Summer</td>\n",
       "      <td>Paris</td>\n",
       "      <td>Fencing</td>\n",
       "      <td>Fencing Men's epee, Individual</td>\n",
       "      <td>NaN</td>\n",
       "      <td>nan-nan</td>\n",
       "    </tr>\n",
       "    <tr>\n",
       "      <th>4467</th>\n",
       "      <td>2550</td>\n",
       "      <td>Antoine Luc Alessandri</td>\n",
       "      <td>M</td>\n",
       "      <td>57.0</td>\n",
       "      <td>NaN</td>\n",
       "      <td>NaN</td>\n",
       "      <td>France</td>\n",
       "      <td>FRA</td>\n",
       "      <td>1900 Summer</td>\n",
       "      <td>1900</td>\n",
       "      <td>Summer</td>\n",
       "      <td>Paris</td>\n",
       "      <td>Fencing</td>\n",
       "      <td>Fencing Men's Sabre, Masters, Individual</td>\n",
       "      <td>NaN</td>\n",
       "      <td>50.0-59.0</td>\n",
       "    </tr>\n",
       "    <tr>\n",
       "      <th>4766</th>\n",
       "      <td>2723</td>\n",
       "      <td>Gaston Jules Louis Antoine Alibert</td>\n",
       "      <td>M</td>\n",
       "      <td>22.0</td>\n",
       "      <td>NaN</td>\n",
       "      <td>NaN</td>\n",
       "      <td>France</td>\n",
       "      <td>FRA</td>\n",
       "      <td>1900 Summer</td>\n",
       "      <td>1900</td>\n",
       "      <td>Summer</td>\n",
       "      <td>Paris</td>\n",
       "      <td>Fencing</td>\n",
       "      <td>Fencing Men's epee, Individual</td>\n",
       "      <td>NaN</td>\n",
       "      <td>20.0-29.0</td>\n",
       "    </tr>\n",
       "    <tr>\n",
       "      <th>4767</th>\n",
       "      <td>2723</td>\n",
       "      <td>Gaston Jules Louis Antoine Alibert</td>\n",
       "      <td>M</td>\n",
       "      <td>30.0</td>\n",
       "      <td>NaN</td>\n",
       "      <td>NaN</td>\n",
       "      <td>France</td>\n",
       "      <td>FRA</td>\n",
       "      <td>1908 Summer</td>\n",
       "      <td>1908</td>\n",
       "      <td>Summer</td>\n",
       "      <td>London</td>\n",
       "      <td>Fencing</td>\n",
       "      <td>Fencing Men's epee, Individual</td>\n",
       "      <td>Gold</td>\n",
       "      <td>30.0-39.0</td>\n",
       "    </tr>\n",
       "    <tr>\n",
       "      <th>...</th>\n",
       "      <td>...</td>\n",
       "      <td>...</td>\n",
       "      <td>...</td>\n",
       "      <td>...</td>\n",
       "      <td>...</td>\n",
       "      <td>...</td>\n",
       "      <td>...</td>\n",
       "      <td>...</td>\n",
       "      <td>...</td>\n",
       "      <td>...</td>\n",
       "      <td>...</td>\n",
       "      <td>...</td>\n",
       "      <td>...</td>\n",
       "      <td>...</td>\n",
       "      <td>...</td>\n",
       "      <td>...</td>\n",
       "    </tr>\n",
       "    <tr>\n",
       "      <th>26243</th>\n",
       "      <td>13681</td>\n",
       "      <td>Marcelle Bory</td>\n",
       "      <td>F</td>\n",
       "      <td>NaN</td>\n",
       "      <td>NaN</td>\n",
       "      <td>NaN</td>\n",
       "      <td>France</td>\n",
       "      <td>FRA</td>\n",
       "      <td>1924 Summer</td>\n",
       "      <td>1924</td>\n",
       "      <td>Summer</td>\n",
       "      <td>Paris</td>\n",
       "      <td>Fencing</td>\n",
       "      <td>Fencing Women's Foil, Individual</td>\n",
       "      <td>NaN</td>\n",
       "      <td>nan-nan</td>\n",
       "    </tr>\n",
       "    <tr>\n",
       "      <th>26372</th>\n",
       "      <td>13726</td>\n",
       "      <td>Bruno Boscherie</td>\n",
       "      <td>M</td>\n",
       "      <td>29.0</td>\n",
       "      <td>180.0</td>\n",
       "      <td>74.0</td>\n",
       "      <td>France</td>\n",
       "      <td>FRA</td>\n",
       "      <td>1980 Summer</td>\n",
       "      <td>1980</td>\n",
       "      <td>Summer</td>\n",
       "      <td>Moskva</td>\n",
       "      <td>Fencing</td>\n",
       "      <td>Fencing Men's Foil, Team</td>\n",
       "      <td>Gold</td>\n",
       "      <td>20.0-29.0</td>\n",
       "    </tr>\n",
       "    <tr>\n",
       "      <th>26720</th>\n",
       "      <td>13903</td>\n",
       "      <td>mile Bouard</td>\n",
       "      <td>M</td>\n",
       "      <td>NaN</td>\n",
       "      <td>NaN</td>\n",
       "      <td>NaN</td>\n",
       "      <td>France</td>\n",
       "      <td>FRA</td>\n",
       "      <td>1900 Summer</td>\n",
       "      <td>1900</td>\n",
       "      <td>Summer</td>\n",
       "      <td>Paris</td>\n",
       "      <td>Fencing</td>\n",
       "      <td>Fencing Men's Foil, Masters, Individual</td>\n",
       "      <td>NaN</td>\n",
       "      <td>nan-nan</td>\n",
       "    </tr>\n",
       "    <tr>\n",
       "      <th>26868</th>\n",
       "      <td>13970</td>\n",
       "      <td>Saoussen Boudiaf</td>\n",
       "      <td>F</td>\n",
       "      <td>22.0</td>\n",
       "      <td>173.0</td>\n",
       "      <td>69.0</td>\n",
       "      <td>France</td>\n",
       "      <td>FRA</td>\n",
       "      <td>2016 Summer</td>\n",
       "      <td>2016</td>\n",
       "      <td>Summer</td>\n",
       "      <td>Rio de Janeiro</td>\n",
       "      <td>Fencing</td>\n",
       "      <td>Fencing Women's Sabre, Team</td>\n",
       "      <td>NaN</td>\n",
       "      <td>20.0-29.0</td>\n",
       "    </tr>\n",
       "    <tr>\n",
       "      <th>26911</th>\n",
       "      <td>13995</td>\n",
       "      <td>Gilbert Bougnol</td>\n",
       "      <td>M</td>\n",
       "      <td>33.0</td>\n",
       "      <td>NaN</td>\n",
       "      <td>NaN</td>\n",
       "      <td>France</td>\n",
       "      <td>FRA</td>\n",
       "      <td>1900 Summer</td>\n",
       "      <td>1900</td>\n",
       "      <td>Summer</td>\n",
       "      <td>Paris</td>\n",
       "      <td>Fencing</td>\n",
       "      <td>Fencing Men's epee, Masters, Individual</td>\n",
       "      <td>Silver</td>\n",
       "      <td>30.0-39.0</td>\n",
       "    </tr>\n",
       "  </tbody>\n",
       "</table>\n",
       "<p>100 rows × 16 columns</p>\n",
       "</div>"
      ],
      "text/plain": [
       "          ID                                Name Sex   Age  Height  Weight  \\\n",
       "1202     676                      Gaston Achille   M   NaN     NaN     NaN   \n",
       "1340     757                                Adam   M   NaN     NaN     NaN   \n",
       "4467    2550              Antoine Luc Alessandri   M  57.0     NaN     NaN   \n",
       "4766    2723  Gaston Jules Louis Antoine Alibert   M  22.0     NaN     NaN   \n",
       "4767    2723  Gaston Jules Louis Antoine Alibert   M  30.0     NaN     NaN   \n",
       "...      ...                                 ...  ..   ...     ...     ...   \n",
       "26243  13681                       Marcelle Bory   F   NaN     NaN     NaN   \n",
       "26372  13726                     Bruno Boscherie   M  29.0   180.0    74.0   \n",
       "26720  13903                         mile Bouard   M   NaN     NaN     NaN   \n",
       "26868  13970                    Saoussen Boudiaf   F  22.0   173.0    69.0   \n",
       "26911  13995                     Gilbert Bougnol   M  33.0     NaN     NaN   \n",
       "\n",
       "         Team  NOC        Games  Year  Season            City    Sport  \\\n",
       "1202   France  FRA  1900 Summer  1900  Summer           Paris  Fencing   \n",
       "1340   France  FRA  1900 Summer  1900  Summer           Paris  Fencing   \n",
       "4467   France  FRA  1900 Summer  1900  Summer           Paris  Fencing   \n",
       "4766   France  FRA  1900 Summer  1900  Summer           Paris  Fencing   \n",
       "4767   France  FRA  1908 Summer  1908  Summer          London  Fencing   \n",
       "...       ...  ...          ...   ...     ...             ...      ...   \n",
       "26243  France  FRA  1924 Summer  1924  Summer           Paris  Fencing   \n",
       "26372  France  FRA  1980 Summer  1980  Summer          Moskva  Fencing   \n",
       "26720  France  FRA  1900 Summer  1900  Summer           Paris  Fencing   \n",
       "26868  France  FRA  2016 Summer  2016  Summer  Rio de Janeiro  Fencing   \n",
       "26911  France  FRA  1900 Summer  1900  Summer           Paris  Fencing   \n",
       "\n",
       "                                          Event   Medal  Age_Range  \n",
       "1202             Fencing Men's epee, Individual     NaN    nan-nan  \n",
       "1340             Fencing Men's epee, Individual     NaN    nan-nan  \n",
       "4467   Fencing Men's Sabre, Masters, Individual     NaN  50.0-59.0  \n",
       "4766             Fencing Men's epee, Individual     NaN  20.0-29.0  \n",
       "4767             Fencing Men's epee, Individual    Gold  30.0-39.0  \n",
       "...                                         ...     ...        ...  \n",
       "26243          Fencing Women's Foil, Individual     NaN    nan-nan  \n",
       "26372                  Fencing Men's Foil, Team    Gold  20.0-29.0  \n",
       "26720   Fencing Men's Foil, Masters, Individual     NaN    nan-nan  \n",
       "26868               Fencing Women's Sabre, Team     NaN  20.0-29.0  \n",
       "26911   Fencing Men's epee, Masters, Individual  Silver  30.0-39.0  \n",
       "\n",
       "[100 rows x 16 columns]"
      ]
     },
     "execution_count": 98,
     "metadata": {},
     "output_type": "execute_result"
    }
   ],
   "source": [
    "fencing_df = only_france_df[only_france_df['Sport'] == 'Fencing']\n",
    "\n"
   ]
  },
  {
   "cell_type": "markdown",
   "metadata": {},
   "source": [
    "# Weightlifting"
   ]
  },
  {
   "cell_type": "code",
   "execution_count": 39,
   "metadata": {},
   "outputs": [
    {
     "data": {
      "text/plain": [
       "array([\"Women's Super-Heavyweight\", \"Men's Lightweight\",\n",
       "       \"Men's Middleweight\", \"Women's Featherweight\", \"Men's Heavyweight\",\n",
       "       \"Men's Flyweight\", \"Men's Light-Heavyweight\",\n",
       "       \"Men's Middle-Heavyweight\", \"Women's Lightweight\",\n",
       "       \"Women's Light-Heavyweight\", \"Women's Heavyweight\",\n",
       "       \"Men's Featherweight\", \"Women's Middleweight\", \"Women's Flyweight\",\n",
       "       \"Men's Super-Heavyweight\", \"Men's Bantamweight\",\n",
       "       \"Men's Heavyweight I\", \"Men's Heavyweight II\",\n",
       "       \"Men's Unlimited, One Hand\", \"Men's Unlimited, Two Hands\",\n",
       "       \"Men's All-Around Dumbbell Contest\"], dtype=object)"
      ]
     },
     "metadata": {},
     "output_type": "display_data"
    },
    {
     "data": {
      "application/vnd.plotly.v1+json": {
       "config": {
        "plotlyServerURL": "https://plot.ly"
       },
       "data": [
        {
         "alignmentgroup": "True",
         "hovertemplate": "Year=%{x}<br>Weight=%{y}<extra></extra>",
         "legendgroup": "",
         "marker": {
          "color": "#636efa"
         },
         "name": "",
         "notched": false,
         "offsetgroup": "",
         "orientation": "v",
         "showlegend": false,
         "type": "box",
         "x": [
          2016,
          2000,
          2012,
          2008,
          2000,
          2004,
          2016,
          2008,
          2000,
          2008,
          2016,
          2008,
          2016,
          2000,
          2004,
          2008,
          2016,
          2016,
          2000,
          2004,
          2008,
          2012,
          2004,
          2012,
          2012,
          2016,
          2004,
          2008,
          2016,
          2016,
          2008,
          2016,
          2012,
          2008,
          2016,
          2000,
          2012,
          2008,
          2012,
          2000,
          2016,
          2012,
          2016,
          2012,
          2004,
          2000,
          2012,
          2016,
          2000,
          2004,
          2004,
          2012,
          2004,
          2016,
          2000,
          2004,
          2008,
          2012,
          2016,
          2004,
          2000,
          2004,
          2012
         ],
         "x0": " ",
         "xaxis": "x",
         "y": [
          125,
          100,
          84,
          118,
          93,
          93,
          123,
          87,
          102,
          96,
          114,
          113,
          85,
          136,
          136,
          136,
          77,
          77,
          75,
          118,
          118,
          118,
          118,
          75,
          76,
          100,
          167,
          167,
          105,
          118,
          94,
          101,
          155,
          102,
          123,
          80,
          90,
          124,
          124,
          90,
          105,
          101,
          101,
          106,
          109,
          96,
          141,
          141,
          105,
          75,
          81,
          103,
          136,
          112,
          90,
          120,
          112,
          112,
          112,
          95,
          122,
          122,
          133
         ],
         "y0": " ",
         "yaxis": "y"
        }
       ],
       "layout": {
        "boxmode": "group",
        "legend": {
         "tracegroupgap": 0
        },
        "margin": {
         "t": 60
        },
        "template": {
         "data": {
          "bar": [
           {
            "error_x": {
             "color": "#2a3f5f"
            },
            "error_y": {
             "color": "#2a3f5f"
            },
            "marker": {
             "line": {
              "color": "#E5ECF6",
              "width": 0.5
             },
             "pattern": {
              "fillmode": "overlay",
              "size": 10,
              "solidity": 0.2
             }
            },
            "type": "bar"
           }
          ],
          "barpolar": [
           {
            "marker": {
             "line": {
              "color": "#E5ECF6",
              "width": 0.5
             },
             "pattern": {
              "fillmode": "overlay",
              "size": 10,
              "solidity": 0.2
             }
            },
            "type": "barpolar"
           }
          ],
          "carpet": [
           {
            "aaxis": {
             "endlinecolor": "#2a3f5f",
             "gridcolor": "white",
             "linecolor": "white",
             "minorgridcolor": "white",
             "startlinecolor": "#2a3f5f"
            },
            "baxis": {
             "endlinecolor": "#2a3f5f",
             "gridcolor": "white",
             "linecolor": "white",
             "minorgridcolor": "white",
             "startlinecolor": "#2a3f5f"
            },
            "type": "carpet"
           }
          ],
          "choropleth": [
           {
            "colorbar": {
             "outlinewidth": 0,
             "ticks": ""
            },
            "type": "choropleth"
           }
          ],
          "contour": [
           {
            "colorbar": {
             "outlinewidth": 0,
             "ticks": ""
            },
            "colorscale": [
             [
              0,
              "#0d0887"
             ],
             [
              0.1111111111111111,
              "#46039f"
             ],
             [
              0.2222222222222222,
              "#7201a8"
             ],
             [
              0.3333333333333333,
              "#9c179e"
             ],
             [
              0.4444444444444444,
              "#bd3786"
             ],
             [
              0.5555555555555556,
              "#d8576b"
             ],
             [
              0.6666666666666666,
              "#ed7953"
             ],
             [
              0.7777777777777778,
              "#fb9f3a"
             ],
             [
              0.8888888888888888,
              "#fdca26"
             ],
             [
              1,
              "#f0f921"
             ]
            ],
            "type": "contour"
           }
          ],
          "contourcarpet": [
           {
            "colorbar": {
             "outlinewidth": 0,
             "ticks": ""
            },
            "type": "contourcarpet"
           }
          ],
          "heatmap": [
           {
            "colorbar": {
             "outlinewidth": 0,
             "ticks": ""
            },
            "colorscale": [
             [
              0,
              "#0d0887"
             ],
             [
              0.1111111111111111,
              "#46039f"
             ],
             [
              0.2222222222222222,
              "#7201a8"
             ],
             [
              0.3333333333333333,
              "#9c179e"
             ],
             [
              0.4444444444444444,
              "#bd3786"
             ],
             [
              0.5555555555555556,
              "#d8576b"
             ],
             [
              0.6666666666666666,
              "#ed7953"
             ],
             [
              0.7777777777777778,
              "#fb9f3a"
             ],
             [
              0.8888888888888888,
              "#fdca26"
             ],
             [
              1,
              "#f0f921"
             ]
            ],
            "type": "heatmap"
           }
          ],
          "heatmapgl": [
           {
            "colorbar": {
             "outlinewidth": 0,
             "ticks": ""
            },
            "colorscale": [
             [
              0,
              "#0d0887"
             ],
             [
              0.1111111111111111,
              "#46039f"
             ],
             [
              0.2222222222222222,
              "#7201a8"
             ],
             [
              0.3333333333333333,
              "#9c179e"
             ],
             [
              0.4444444444444444,
              "#bd3786"
             ],
             [
              0.5555555555555556,
              "#d8576b"
             ],
             [
              0.6666666666666666,
              "#ed7953"
             ],
             [
              0.7777777777777778,
              "#fb9f3a"
             ],
             [
              0.8888888888888888,
              "#fdca26"
             ],
             [
              1,
              "#f0f921"
             ]
            ],
            "type": "heatmapgl"
           }
          ],
          "histogram": [
           {
            "marker": {
             "pattern": {
              "fillmode": "overlay",
              "size": 10,
              "solidity": 0.2
             }
            },
            "type": "histogram"
           }
          ],
          "histogram2d": [
           {
            "colorbar": {
             "outlinewidth": 0,
             "ticks": ""
            },
            "colorscale": [
             [
              0,
              "#0d0887"
             ],
             [
              0.1111111111111111,
              "#46039f"
             ],
             [
              0.2222222222222222,
              "#7201a8"
             ],
             [
              0.3333333333333333,
              "#9c179e"
             ],
             [
              0.4444444444444444,
              "#bd3786"
             ],
             [
              0.5555555555555556,
              "#d8576b"
             ],
             [
              0.6666666666666666,
              "#ed7953"
             ],
             [
              0.7777777777777778,
              "#fb9f3a"
             ],
             [
              0.8888888888888888,
              "#fdca26"
             ],
             [
              1,
              "#f0f921"
             ]
            ],
            "type": "histogram2d"
           }
          ],
          "histogram2dcontour": [
           {
            "colorbar": {
             "outlinewidth": 0,
             "ticks": ""
            },
            "colorscale": [
             [
              0,
              "#0d0887"
             ],
             [
              0.1111111111111111,
              "#46039f"
             ],
             [
              0.2222222222222222,
              "#7201a8"
             ],
             [
              0.3333333333333333,
              "#9c179e"
             ],
             [
              0.4444444444444444,
              "#bd3786"
             ],
             [
              0.5555555555555556,
              "#d8576b"
             ],
             [
              0.6666666666666666,
              "#ed7953"
             ],
             [
              0.7777777777777778,
              "#fb9f3a"
             ],
             [
              0.8888888888888888,
              "#fdca26"
             ],
             [
              1,
              "#f0f921"
             ]
            ],
            "type": "histogram2dcontour"
           }
          ],
          "mesh3d": [
           {
            "colorbar": {
             "outlinewidth": 0,
             "ticks": ""
            },
            "type": "mesh3d"
           }
          ],
          "parcoords": [
           {
            "line": {
             "colorbar": {
              "outlinewidth": 0,
              "ticks": ""
             }
            },
            "type": "parcoords"
           }
          ],
          "pie": [
           {
            "automargin": true,
            "type": "pie"
           }
          ],
          "scatter": [
           {
            "fillpattern": {
             "fillmode": "overlay",
             "size": 10,
             "solidity": 0.2
            },
            "type": "scatter"
           }
          ],
          "scatter3d": [
           {
            "line": {
             "colorbar": {
              "outlinewidth": 0,
              "ticks": ""
             }
            },
            "marker": {
             "colorbar": {
              "outlinewidth": 0,
              "ticks": ""
             }
            },
            "type": "scatter3d"
           }
          ],
          "scattercarpet": [
           {
            "marker": {
             "colorbar": {
              "outlinewidth": 0,
              "ticks": ""
             }
            },
            "type": "scattercarpet"
           }
          ],
          "scattergeo": [
           {
            "marker": {
             "colorbar": {
              "outlinewidth": 0,
              "ticks": ""
             }
            },
            "type": "scattergeo"
           }
          ],
          "scattergl": [
           {
            "marker": {
             "colorbar": {
              "outlinewidth": 0,
              "ticks": ""
             }
            },
            "type": "scattergl"
           }
          ],
          "scattermapbox": [
           {
            "marker": {
             "colorbar": {
              "outlinewidth": 0,
              "ticks": ""
             }
            },
            "type": "scattermapbox"
           }
          ],
          "scatterpolar": [
           {
            "marker": {
             "colorbar": {
              "outlinewidth": 0,
              "ticks": ""
             }
            },
            "type": "scatterpolar"
           }
          ],
          "scatterpolargl": [
           {
            "marker": {
             "colorbar": {
              "outlinewidth": 0,
              "ticks": ""
             }
            },
            "type": "scatterpolargl"
           }
          ],
          "scatterternary": [
           {
            "marker": {
             "colorbar": {
              "outlinewidth": 0,
              "ticks": ""
             }
            },
            "type": "scatterternary"
           }
          ],
          "surface": [
           {
            "colorbar": {
             "outlinewidth": 0,
             "ticks": ""
            },
            "colorscale": [
             [
              0,
              "#0d0887"
             ],
             [
              0.1111111111111111,
              "#46039f"
             ],
             [
              0.2222222222222222,
              "#7201a8"
             ],
             [
              0.3333333333333333,
              "#9c179e"
             ],
             [
              0.4444444444444444,
              "#bd3786"
             ],
             [
              0.5555555555555556,
              "#d8576b"
             ],
             [
              0.6666666666666666,
              "#ed7953"
             ],
             [
              0.7777777777777778,
              "#fb9f3a"
             ],
             [
              0.8888888888888888,
              "#fdca26"
             ],
             [
              1,
              "#f0f921"
             ]
            ],
            "type": "surface"
           }
          ],
          "table": [
           {
            "cells": {
             "fill": {
              "color": "#EBF0F8"
             },
             "line": {
              "color": "white"
             }
            },
            "header": {
             "fill": {
              "color": "#C8D4E3"
             },
             "line": {
              "color": "white"
             }
            },
            "type": "table"
           }
          ]
         },
         "layout": {
          "annotationdefaults": {
           "arrowcolor": "#2a3f5f",
           "arrowhead": 0,
           "arrowwidth": 1
          },
          "autotypenumbers": "strict",
          "coloraxis": {
           "colorbar": {
            "outlinewidth": 0,
            "ticks": ""
           }
          },
          "colorscale": {
           "diverging": [
            [
             0,
             "#8e0152"
            ],
            [
             0.1,
             "#c51b7d"
            ],
            [
             0.2,
             "#de77ae"
            ],
            [
             0.3,
             "#f1b6da"
            ],
            [
             0.4,
             "#fde0ef"
            ],
            [
             0.5,
             "#f7f7f7"
            ],
            [
             0.6,
             "#e6f5d0"
            ],
            [
             0.7,
             "#b8e186"
            ],
            [
             0.8,
             "#7fbc41"
            ],
            [
             0.9,
             "#4d9221"
            ],
            [
             1,
             "#276419"
            ]
           ],
           "sequential": [
            [
             0,
             "#0d0887"
            ],
            [
             0.1111111111111111,
             "#46039f"
            ],
            [
             0.2222222222222222,
             "#7201a8"
            ],
            [
             0.3333333333333333,
             "#9c179e"
            ],
            [
             0.4444444444444444,
             "#bd3786"
            ],
            [
             0.5555555555555556,
             "#d8576b"
            ],
            [
             0.6666666666666666,
             "#ed7953"
            ],
            [
             0.7777777777777778,
             "#fb9f3a"
            ],
            [
             0.8888888888888888,
             "#fdca26"
            ],
            [
             1,
             "#f0f921"
            ]
           ],
           "sequentialminus": [
            [
             0,
             "#0d0887"
            ],
            [
             0.1111111111111111,
             "#46039f"
            ],
            [
             0.2222222222222222,
             "#7201a8"
            ],
            [
             0.3333333333333333,
             "#9c179e"
            ],
            [
             0.4444444444444444,
             "#bd3786"
            ],
            [
             0.5555555555555556,
             "#d8576b"
            ],
            [
             0.6666666666666666,
             "#ed7953"
            ],
            [
             0.7777777777777778,
             "#fb9f3a"
            ],
            [
             0.8888888888888888,
             "#fdca26"
            ],
            [
             1,
             "#f0f921"
            ]
           ]
          },
          "colorway": [
           "#636efa",
           "#EF553B",
           "#00cc96",
           "#ab63fa",
           "#FFA15A",
           "#19d3f3",
           "#FF6692",
           "#B6E880",
           "#FF97FF",
           "#FECB52"
          ],
          "font": {
           "color": "#2a3f5f"
          },
          "geo": {
           "bgcolor": "white",
           "lakecolor": "white",
           "landcolor": "#E5ECF6",
           "showlakes": true,
           "showland": true,
           "subunitcolor": "white"
          },
          "hoverlabel": {
           "align": "left"
          },
          "hovermode": "closest",
          "mapbox": {
           "style": "light"
          },
          "paper_bgcolor": "white",
          "plot_bgcolor": "#E5ECF6",
          "polar": {
           "angularaxis": {
            "gridcolor": "white",
            "linecolor": "white",
            "ticks": ""
           },
           "bgcolor": "#E5ECF6",
           "radialaxis": {
            "gridcolor": "white",
            "linecolor": "white",
            "ticks": ""
           }
          },
          "scene": {
           "xaxis": {
            "backgroundcolor": "#E5ECF6",
            "gridcolor": "white",
            "gridwidth": 2,
            "linecolor": "white",
            "showbackground": true,
            "ticks": "",
            "zerolinecolor": "white"
           },
           "yaxis": {
            "backgroundcolor": "#E5ECF6",
            "gridcolor": "white",
            "gridwidth": 2,
            "linecolor": "white",
            "showbackground": true,
            "ticks": "",
            "zerolinecolor": "white"
           },
           "zaxis": {
            "backgroundcolor": "#E5ECF6",
            "gridcolor": "white",
            "gridwidth": 2,
            "linecolor": "white",
            "showbackground": true,
            "ticks": "",
            "zerolinecolor": "white"
           }
          },
          "shapedefaults": {
           "line": {
            "color": "#2a3f5f"
           }
          },
          "ternary": {
           "aaxis": {
            "gridcolor": "white",
            "linecolor": "white",
            "ticks": ""
           },
           "baxis": {
            "gridcolor": "white",
            "linecolor": "white",
            "ticks": ""
           },
           "bgcolor": "#E5ECF6",
           "caxis": {
            "gridcolor": "white",
            "linecolor": "white",
            "ticks": ""
           }
          },
          "title": {
           "x": 0.05
          },
          "xaxis": {
           "automargin": true,
           "gridcolor": "white",
           "linecolor": "white",
           "ticks": "",
           "title": {
            "standoff": 15
           },
           "zerolinecolor": "white",
           "zerolinewidth": 2
          },
          "yaxis": {
           "automargin": true,
           "gridcolor": "white",
           "linecolor": "white",
           "ticks": "",
           "title": {
            "standoff": 15
           },
           "zerolinecolor": "white",
           "zerolinewidth": 2
          }
         }
        },
        "xaxis": {
         "anchor": "y",
         "domain": [
          0,
          1
         ],
         "title": {
          "text": "Year"
         }
        },
        "yaxis": {
         "anchor": "x",
         "domain": [
          0,
          1
         ],
         "title": {
          "text": "Weight"
         }
        }
       }
      }
     },
     "metadata": {},
     "output_type": "display_data"
    }
   ],
   "source": [
    "# Create DataFrame with only sport = weightlifting\n",
    "weightlifting = athlete_events.query(\"Sport == 'Weightlifting'\") # DF med all weightlifting\n",
    "\n",
    "#remove NaN's from weight, height and age:\n",
    "weightlifting = weightlifting.dropna(subset='Weight')\n",
    "weightlifting = weightlifting.dropna(subset='Height')\n",
    "weightlifting = weightlifting.dropna(subset='Age')\n",
    "\n",
    "# removes \"weightlifting\" from Event column:\n",
    "weightlifting['Event'] = weightlifting['Event'].str.replace(\"Weightlifting \",\"\")\n",
    "\n",
    "display(weightlifting['Event'].unique()) # kollar vilka event som finns\n",
    "px.box(weightlifting.query('''Event == \"Women's Super-Heavyweight\"'''), x='Year', y='Weight')\n",
    "#display(type(weightlifting))"
   ]
  },
  {
   "cell_type": "markdown",
   "metadata": {},
   "source": [
    "# Speed skating"
   ]
  },
  {
   "cell_type": "code",
   "execution_count": 40,
   "metadata": {},
   "outputs": [
    {
     "data": {
      "text/plain": [
       "array([\"Speed Skating Women's 500 metres\",\n",
       "       \"Speed Skating Women's 1,000 metres\",\n",
       "       \"Speed Skating Men's 500 metres\",\n",
       "       \"Speed Skating Men's 1,500 metres\",\n",
       "       \"Speed Skating Men's 5,000 metres\",\n",
       "       \"Speed Skating Men's 10,000 metres\",\n",
       "       \"Speed Skating Women's 1,500 metres\",\n",
       "       \"Speed Skating Women's Team Pursuit (6 laps)\",\n",
       "       \"Speed Skating Men's 1,000 metres\",\n",
       "       \"Short Track Speed Skating Men's 5,000 metres Relay\",\n",
       "       \"Speed Skating Women's 3,000 metres\",\n",
       "       \"Short Track Speed Skating Women's 3,000 metres Relay\",\n",
       "       \"Short Track Speed Skating Men's 500 metres\",\n",
       "       \"Short Track Speed Skating Men's 1,000 metres\",\n",
       "       \"Short Track Speed Skating Men's 1,500 metres\",\n",
       "       \"Speed Skating Men's Team Pursuit (8 laps)\",\n",
       "       \"Speed Skating Women's 5,000 metres\",\n",
       "       \"Short Track Speed Skating Women's 500 metres\",\n",
       "       \"Short Track Speed Skating Women's 1,000 metres\",\n",
       "       \"Short Track Speed Skating Women's 1,500 metres\",\n",
       "       \"Speed Skating Men's Allround\"], dtype=object)"
      ]
     },
     "execution_count": 40,
     "metadata": {},
     "output_type": "execute_result"
    }
   ],
   "source": [
    "x = athlete_events['Sport'].str.contains('Speed Skating')\n",
    "speedskating = athlete_events.loc[x]\n",
    "speedskating['Event'].unique()"
   ]
  },
  {
   "cell_type": "code",
   "execution_count": 41,
   "metadata": {},
   "outputs": [
    {
     "data": {
      "text/html": [
       "<div>\n",
       "<style scoped>\n",
       "    .dataframe tbody tr th:only-of-type {\n",
       "        vertical-align: middle;\n",
       "    }\n",
       "\n",
       "    .dataframe tbody tr th {\n",
       "        vertical-align: top;\n",
       "    }\n",
       "\n",
       "    .dataframe thead th {\n",
       "        text-align: right;\n",
       "    }\n",
       "</style>\n",
       "<table border=\"1\" class=\"dataframe\">\n",
       "  <thead>\n",
       "    <tr style=\"text-align: right;\">\n",
       "      <th></th>\n",
       "      <th>ID</th>\n",
       "      <th>Name</th>\n",
       "      <th>Sex</th>\n",
       "      <th>Age</th>\n",
       "      <th>Height</th>\n",
       "      <th>Weight</th>\n",
       "      <th>Team</th>\n",
       "      <th>NOC</th>\n",
       "      <th>Games</th>\n",
       "      <th>Year</th>\n",
       "      <th>Season</th>\n",
       "      <th>City</th>\n",
       "      <th>Sport</th>\n",
       "      <th>Event</th>\n",
       "      <th>Medal</th>\n",
       "    </tr>\n",
       "  </thead>\n",
       "  <tbody>\n",
       "    <tr>\n",
       "      <th>4</th>\n",
       "      <td>5</td>\n",
       "      <td>Christine Jacoba Aaftink</td>\n",
       "      <td>F</td>\n",
       "      <td>21.0</td>\n",
       "      <td>185.0</td>\n",
       "      <td>82.0</td>\n",
       "      <td>Netherlands</td>\n",
       "      <td>NED</td>\n",
       "      <td>1988 Winter</td>\n",
       "      <td>1988</td>\n",
       "      <td>Winter</td>\n",
       "      <td>Calgary</td>\n",
       "      <td>Speed Skating</td>\n",
       "      <td>Speed Skating Women's 500 metres</td>\n",
       "      <td>NaN</td>\n",
       "    </tr>\n",
       "    <tr>\n",
       "      <th>5</th>\n",
       "      <td>5</td>\n",
       "      <td>Christine Jacoba Aaftink</td>\n",
       "      <td>F</td>\n",
       "      <td>21.0</td>\n",
       "      <td>185.0</td>\n",
       "      <td>82.0</td>\n",
       "      <td>Netherlands</td>\n",
       "      <td>NED</td>\n",
       "      <td>1988 Winter</td>\n",
       "      <td>1988</td>\n",
       "      <td>Winter</td>\n",
       "      <td>Calgary</td>\n",
       "      <td>Speed Skating</td>\n",
       "      <td>Speed Skating Women's 1,000 metres</td>\n",
       "      <td>NaN</td>\n",
       "    </tr>\n",
       "    <tr>\n",
       "      <th>6</th>\n",
       "      <td>5</td>\n",
       "      <td>Christine Jacoba Aaftink</td>\n",
       "      <td>F</td>\n",
       "      <td>25.0</td>\n",
       "      <td>185.0</td>\n",
       "      <td>82.0</td>\n",
       "      <td>Netherlands</td>\n",
       "      <td>NED</td>\n",
       "      <td>1992 Winter</td>\n",
       "      <td>1992</td>\n",
       "      <td>Winter</td>\n",
       "      <td>Albertville</td>\n",
       "      <td>Speed Skating</td>\n",
       "      <td>Speed Skating Women's 500 metres</td>\n",
       "      <td>NaN</td>\n",
       "    </tr>\n",
       "    <tr>\n",
       "      <th>7</th>\n",
       "      <td>5</td>\n",
       "      <td>Christine Jacoba Aaftink</td>\n",
       "      <td>F</td>\n",
       "      <td>25.0</td>\n",
       "      <td>185.0</td>\n",
       "      <td>82.0</td>\n",
       "      <td>Netherlands</td>\n",
       "      <td>NED</td>\n",
       "      <td>1992 Winter</td>\n",
       "      <td>1992</td>\n",
       "      <td>Winter</td>\n",
       "      <td>Albertville</td>\n",
       "      <td>Speed Skating</td>\n",
       "      <td>Speed Skating Women's 1,000 metres</td>\n",
       "      <td>NaN</td>\n",
       "    </tr>\n",
       "    <tr>\n",
       "      <th>8</th>\n",
       "      <td>5</td>\n",
       "      <td>Christine Jacoba Aaftink</td>\n",
       "      <td>F</td>\n",
       "      <td>27.0</td>\n",
       "      <td>185.0</td>\n",
       "      <td>82.0</td>\n",
       "      <td>Netherlands</td>\n",
       "      <td>NED</td>\n",
       "      <td>1994 Winter</td>\n",
       "      <td>1994</td>\n",
       "      <td>Winter</td>\n",
       "      <td>Lillehammer</td>\n",
       "      <td>Speed Skating</td>\n",
       "      <td>Speed Skating Women's 500 metres</td>\n",
       "      <td>NaN</td>\n",
       "    </tr>\n",
       "    <tr>\n",
       "      <th>...</th>\n",
       "      <td>...</td>\n",
       "      <td>...</td>\n",
       "      <td>...</td>\n",
       "      <td>...</td>\n",
       "      <td>...</td>\n",
       "      <td>...</td>\n",
       "      <td>...</td>\n",
       "      <td>...</td>\n",
       "      <td>...</td>\n",
       "      <td>...</td>\n",
       "      <td>...</td>\n",
       "      <td>...</td>\n",
       "      <td>...</td>\n",
       "      <td>...</td>\n",
       "      <td>...</td>\n",
       "    </tr>\n",
       "    <tr>\n",
       "      <th>271094</th>\n",
       "      <td>135559</td>\n",
       "      <td>Pawe Jan Zygmunt</td>\n",
       "      <td>M</td>\n",
       "      <td>25.0</td>\n",
       "      <td>182.0</td>\n",
       "      <td>79.0</td>\n",
       "      <td>Poland</td>\n",
       "      <td>POL</td>\n",
       "      <td>1998 Winter</td>\n",
       "      <td>1998</td>\n",
       "      <td>Winter</td>\n",
       "      <td>Nagano</td>\n",
       "      <td>Speed Skating</td>\n",
       "      <td>Speed Skating Men's 1,500 metres</td>\n",
       "      <td>NaN</td>\n",
       "    </tr>\n",
       "    <tr>\n",
       "      <th>271095</th>\n",
       "      <td>135559</td>\n",
       "      <td>Pawe Jan Zygmunt</td>\n",
       "      <td>M</td>\n",
       "      <td>25.0</td>\n",
       "      <td>182.0</td>\n",
       "      <td>79.0</td>\n",
       "      <td>Poland</td>\n",
       "      <td>POL</td>\n",
       "      <td>1998 Winter</td>\n",
       "      <td>1998</td>\n",
       "      <td>Winter</td>\n",
       "      <td>Nagano</td>\n",
       "      <td>Speed Skating</td>\n",
       "      <td>Speed Skating Men's 5,000 metres</td>\n",
       "      <td>NaN</td>\n",
       "    </tr>\n",
       "    <tr>\n",
       "      <th>271096</th>\n",
       "      <td>135559</td>\n",
       "      <td>Pawe Jan Zygmunt</td>\n",
       "      <td>M</td>\n",
       "      <td>29.0</td>\n",
       "      <td>182.0</td>\n",
       "      <td>79.0</td>\n",
       "      <td>Poland</td>\n",
       "      <td>POL</td>\n",
       "      <td>2002 Winter</td>\n",
       "      <td>2002</td>\n",
       "      <td>Winter</td>\n",
       "      <td>Salt Lake City</td>\n",
       "      <td>Speed Skating</td>\n",
       "      <td>Speed Skating Men's 5,000 metres</td>\n",
       "      <td>NaN</td>\n",
       "    </tr>\n",
       "    <tr>\n",
       "      <th>271097</th>\n",
       "      <td>135559</td>\n",
       "      <td>Pawe Jan Zygmunt</td>\n",
       "      <td>M</td>\n",
       "      <td>29.0</td>\n",
       "      <td>182.0</td>\n",
       "      <td>79.0</td>\n",
       "      <td>Poland</td>\n",
       "      <td>POL</td>\n",
       "      <td>2002 Winter</td>\n",
       "      <td>2002</td>\n",
       "      <td>Winter</td>\n",
       "      <td>Salt Lake City</td>\n",
       "      <td>Speed Skating</td>\n",
       "      <td>Speed Skating Men's 10,000 metres</td>\n",
       "      <td>NaN</td>\n",
       "    </tr>\n",
       "    <tr>\n",
       "      <th>271098</th>\n",
       "      <td>135559</td>\n",
       "      <td>Pawe Jan Zygmunt</td>\n",
       "      <td>M</td>\n",
       "      <td>33.0</td>\n",
       "      <td>182.0</td>\n",
       "      <td>79.0</td>\n",
       "      <td>Poland</td>\n",
       "      <td>POL</td>\n",
       "      <td>2006 Winter</td>\n",
       "      <td>2006</td>\n",
       "      <td>Winter</td>\n",
       "      <td>Torino</td>\n",
       "      <td>Speed Skating</td>\n",
       "      <td>Speed Skating Men's 5,000 metres</td>\n",
       "      <td>NaN</td>\n",
       "    </tr>\n",
       "  </tbody>\n",
       "</table>\n",
       "<p>5405 rows × 15 columns</p>\n",
       "</div>"
      ],
      "text/plain": [
       "            ID                      Name Sex   Age  Height  Weight  \\\n",
       "4            5  Christine Jacoba Aaftink   F  21.0   185.0    82.0   \n",
       "5            5  Christine Jacoba Aaftink   F  21.0   185.0    82.0   \n",
       "6            5  Christine Jacoba Aaftink   F  25.0   185.0    82.0   \n",
       "7            5  Christine Jacoba Aaftink   F  25.0   185.0    82.0   \n",
       "8            5  Christine Jacoba Aaftink   F  27.0   185.0    82.0   \n",
       "...        ...                       ...  ..   ...     ...     ...   \n",
       "271094  135559          Pawe Jan Zygmunt   M  25.0   182.0    79.0   \n",
       "271095  135559          Pawe Jan Zygmunt   M  25.0   182.0    79.0   \n",
       "271096  135559          Pawe Jan Zygmunt   M  29.0   182.0    79.0   \n",
       "271097  135559          Pawe Jan Zygmunt   M  29.0   182.0    79.0   \n",
       "271098  135559          Pawe Jan Zygmunt   M  33.0   182.0    79.0   \n",
       "\n",
       "               Team  NOC        Games  Year  Season            City  \\\n",
       "4       Netherlands  NED  1988 Winter  1988  Winter         Calgary   \n",
       "5       Netherlands  NED  1988 Winter  1988  Winter         Calgary   \n",
       "6       Netherlands  NED  1992 Winter  1992  Winter     Albertville   \n",
       "7       Netherlands  NED  1992 Winter  1992  Winter     Albertville   \n",
       "8       Netherlands  NED  1994 Winter  1994  Winter     Lillehammer   \n",
       "...             ...  ...          ...   ...     ...             ...   \n",
       "271094       Poland  POL  1998 Winter  1998  Winter          Nagano   \n",
       "271095       Poland  POL  1998 Winter  1998  Winter          Nagano   \n",
       "271096       Poland  POL  2002 Winter  2002  Winter  Salt Lake City   \n",
       "271097       Poland  POL  2002 Winter  2002  Winter  Salt Lake City   \n",
       "271098       Poland  POL  2006 Winter  2006  Winter          Torino   \n",
       "\n",
       "                Sport                               Event Medal  \n",
       "4       Speed Skating    Speed Skating Women's 500 metres   NaN  \n",
       "5       Speed Skating  Speed Skating Women's 1,000 metres   NaN  \n",
       "6       Speed Skating    Speed Skating Women's 500 metres   NaN  \n",
       "7       Speed Skating  Speed Skating Women's 1,000 metres   NaN  \n",
       "8       Speed Skating    Speed Skating Women's 500 metres   NaN  \n",
       "...               ...                                 ...   ...  \n",
       "271094  Speed Skating    Speed Skating Men's 1,500 metres   NaN  \n",
       "271095  Speed Skating    Speed Skating Men's 5,000 metres   NaN  \n",
       "271096  Speed Skating    Speed Skating Men's 5,000 metres   NaN  \n",
       "271097  Speed Skating   Speed Skating Men's 10,000 metres   NaN  \n",
       "271098  Speed Skating    Speed Skating Men's 5,000 metres   NaN  \n",
       "\n",
       "[5405 rows x 15 columns]"
      ]
     },
     "execution_count": 41,
     "metadata": {},
     "output_type": "execute_result"
    }
   ],
   "source": [
    "# filtrerar dataframen så att bara de events vi är intresserade av kommer med:\n",
    "speed_skating = athlete_events[\n",
    "    (athlete_events['Event'] == \"Speed Skating Men's 1,500 metres\") |\n",
    "    (athlete_events['Event'] == \"Speed Skating Men's 500 metres\") |\n",
    "    (athlete_events['Event'] == \"Speed Skating Men's 5,000 metres\") |\n",
    "    (athlete_events['Event'] == \"Speed Skating Men's 10,000 metres\") |\n",
    "    (athlete_events['Event'] == \"Speed Skating Women's 1,000 metres\") |\n",
    "    (athlete_events['Event'] == \"Speed Skating Women's 1,500 metres\") |\n",
    "    (athlete_events['Event'] == \"Speed Skating Women's 500 metres\") |\n",
    "    (athlete_events['Event'] == \"Speed Skating Men's 1,000 metres\") |\n",
    "    (athlete_events['Event'] == \"Speed Skating Women's 3,000 metres\") |\n",
    "    (athlete_events['Event'] == \"Speed Skating Women's 5,000 metres\")\n",
    "    ]\n",
    "speed_skating"
   ]
  },
  {
   "cell_type": "code",
   "execution_count": 42,
   "metadata": {},
   "outputs": [
    {
     "name": "stderr",
     "output_type": "stream",
     "text": [
      "C:\\Users\\danie\\AppData\\Local\\Temp\\ipykernel_9204\\1088245756.py:6: SettingWithCopyWarning:\n",
      "\n",
      "\n",
      "A value is trying to be set on a copy of a slice from a DataFrame.\n",
      "Try using .loc[row_indexer,col_indexer] = value instead\n",
      "\n",
      "See the caveats in the documentation: https://pandas.pydata.org/pandas-docs/stable/user_guide/indexing.html#returning-a-view-versus-a-copy\n",
      "\n"
     ]
    }
   ],
   "source": [
    "# dropna NaN's in medal column:\n",
    "speed_skating = speed_skating.dropna(axis=0, subset='Medal')\n",
    "speed_skating\n",
    "\n",
    "# remove \"Speed Skating\" som är onödig:\n",
    "speed_skating['Event'] = speed_skating['Event'].str.replace(\"Speed Skating \",\"\")"
   ]
  },
  {
   "cell_type": "code",
   "execution_count": 43,
   "metadata": {},
   "outputs": [
    {
     "data": {
      "text/plain": [
       "[1924,\n",
       " 1928,\n",
       " 1932,\n",
       " 1936,\n",
       " 1948,\n",
       " 1952,\n",
       " 1956,\n",
       " 1960,\n",
       " 1964,\n",
       " 1968,\n",
       " 1972,\n",
       " 1976,\n",
       " 1980,\n",
       " 1984,\n",
       " 1988,\n",
       " 1992,\n",
       " 1994,\n",
       " 1998,\n",
       " 2002,\n",
       " 2006,\n",
       " 2010,\n",
       " 2014]"
      ]
     },
     "metadata": {},
     "output_type": "display_data"
    }
   ],
   "source": [
    "speed_skating_gb_df = speed_skating.groupby(['Team','Medal','Event','Year'])['Medal'].count().reset_index(name='Medal Count')\n",
    "\n",
    "# # sorterar ut  de 10 bästa länderna map antal guldmedaljer\n",
    "# speed_sakting_sorted = speed_skating_gb_df[speed_skating_gb_df['Medal'] == 'Gold'].groupby('Team')['Medal Count'].sum().sort_values(ascending=False).reset_index()\n",
    "# top_10_countries = speed_sakting_sorted.head(10)['Team'].tolist()\n",
    "# speed_skating_df_top_10 = speed_skating_gb_df[speed_skating_gb_df['Team'].isin(top_10_countries)]\n",
    "# speed_skating_df_top_10['Team'].sort_values()\n",
    "# display(speed_skating_df_top_10.head())\n",
    "\n",
    "# Mask out years with Speed Skating\n",
    "years = speed_skating_gb_df['Year'].sort_values().unique().tolist()\n",
    "display(years)"
   ]
  },
  {
   "cell_type": "code",
   "execution_count": 44,
   "metadata": {},
   "outputs": [
    {
     "name": "stdout",
     "output_type": "stream",
     "text": [
      "Dash app running on http://127.0.0.1:8050/\n"
     ]
    }
   ],
   "source": [
    "app = Dash(\n",
    "    __name__,\n",
    "    suppress_callback_exceptions=True,\n",
    "    external_stylesheets=[dbc.themes.FLATLY],\n",
    "    meta_tags=[{\"name\": \"viewport\", \"content\": \"width=device-width, initial-scale=1\"}]\n",
    ")\n",
    "\n",
    "app.layout = dbc.Container([\n",
    "    dbc.Row([\n",
    "        dbc.Col([\n",
    "            html.H1(\"Speed Skating Dashboard\", className='text-center text-primary mx-3'),\n",
    "            html.Br(),\n",
    "            dcc.Dropdown(\n",
    "                id=\"multi_dropdown\",\n",
    "                multi=True,\n",
    "                searchable=False, \n",
    "                className='mb-2',\n",
    "                placeholder='Select event',\n",
    "                options=[event for event in speed_skating_gb_df['Event'].unique()],\n",
    "                value=[\"Men's 1,500 metres\"]\n",
    "            ),\n",
    "            html.Br(),\n",
    "            html.P(\"Select year interval:\"),\n",
    "            dcc.RangeSlider(\n",
    "                min=min(years),\n",
    "                max=max(years),\n",
    "                step=1,\n",
    "                marks=None,\n",
    "                id=\"RangeSlider\",\n",
    "                ),\n",
    "            dcc.Graph(\n",
    "                id='skate_graph',\n",
    "                config={'staticPlot':True},\n",
    "                figure={}\n",
    "            ),\n",
    "            html.Button(\"Download Image\", id=\"download-img-btn\", n_clicks=0),\n",
    "            dcc.Download(id=\"img-downloader\"),\n",
    "            html.Br(),\n",
    "            html.H1(\"Weightlifting: Age, Weight and Height Analysis over time.\"),\n",
    "            html.P(\"Select class for analysis:\"),\n",
    "            dcc.RadioItems(\n",
    "                options=[event for event in weightlifting['Event'].unique()],\n",
    "                id=\"weightlifting-event\",\n",
    "                value=\"Women's Super-Heavyweight\"\n",
    "            ),\n",
    "            html.P(\"Select analysis:\"),\n",
    "            dcc.RadioItems(\n",
    "                ['Age','Weight','Height'],\n",
    "                id=\"weightlifting-attr\",\n",
    "                value='Age'\n",
    "            ),\n",
    "            dcc.Graph(\n",
    "                id='weightlifting-graph',\n",
    "                config={'staticPlot':True},\n",
    "                figure={}\n",
    "            )\n",
    "        ], xs=12, sm=11, md=10, lg=5)\n",
    "    ], justify='center'),\n",
    "], fluid=True)\n",
    "\n",
    "\n",
    "@callback(\n",
    "    Output(\"skate_graph\", \"figure\"),\n",
    "    Input(\"RangeSlider\", \"value\"),\n",
    "    Input(\"multi_dropdown\", \"value\")\n",
    ")\n",
    "\n",
    "def update_multidropdown(year, events):\n",
    "    if events is None: events = []\n",
    "    if year is None: year = [1896, 1922]\n",
    "    df = speed_skating_gb_df[(speed_skating_gb_df['Event'].isin(events)) & (speed_skating_gb_df['Year'] >= year[0]) & (speed_skating_gb_df['Year'] <= year[1])]\n",
    "    return px.bar(df,\n",
    "                x='Team',\n",
    "                y='Medal Count',\n",
    "                hover_name='Event',\n",
    "                hover_data='Event',\n",
    "                color='Medal',\n",
    "                title=f'Speed Skating medals, between {year[0]} and {year[1]}:')\n",
    "\n",
    "@callback(\n",
    "    Output('img-downloader', 'data'),\n",
    "    Input('download-img-btn', 'n_clicks' ),\n",
    "    Input('skate-graph','figure')\n",
    ")\n",
    "def save_img(n_clicks, figure):\n",
    "    if n_clicks:\n",
    "        img_bytes = figure.to_image(format='png')\n",
    "        return dcc.send_bytes(img_bytes, \"../Images/speed_skate.png\")\n",
    "        \n",
    "@callback(\n",
    "    Output('weightlifting-graph','figure'),\n",
    "    Input('weightlifting-event','value'),\n",
    "    Input('weightlifting-attr', 'value')\n",
    ")\n",
    "\n",
    "def update_weightlifting(event, attr):\n",
    "    event = [event] #måste göra om str till list\n",
    "    if event is None: event = [\"Women's Super-Heavyweight\"]\n",
    "    if attr is None: attr = []\n",
    "    df = weightlifting[(weightlifting['Event'].isin(event))]\n",
    "    return px.box(\n",
    "        df,\n",
    "        x='Year',\n",
    "        y=attr,\n",
    "        title=f'{attr} for {event[0]}.')\n",
    "\n",
    "     \n",
    "# app.run(host='0.0.0.0', port=8050,debug=True, jupyter_mode='external')\n",
    "app.run(debug=True, jupyter_mode='external')"
   ]
  }
 ],
 "metadata": {
  "kernelspec": {
   "display_name": "Dataprocessing-Asajad-Hussein-sglkyhwr",
   "language": "python",
   "name": "python3"
  },
  "language_info": {
   "codemirror_mode": {
    "name": "ipython",
    "version": 3
   },
   "file_extension": ".py",
   "mimetype": "text/x-python",
   "name": "python",
   "nbconvert_exporter": "python",
   "pygments_lexer": "ipython3",
   "version": "3.11.5"
  }
 },
 "nbformat": 4,
 "nbformat_minor": 2
}
