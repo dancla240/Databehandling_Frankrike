{
 "cells": [
  {
   "cell_type": "markdown",
   "metadata": {},
   "source": [
    "# Uppgift 2 - Sportstatistik\n",
    "- Välj 2-4 sporter och skapa lämpliga grafer/diagram för att visualisera exempelvis:\n",
    "- medaljfördelning mellan länder i sporterna, åldersfördelning i sporterna\n",
    "- Skapa fler plots för att visualisera olika aspekter kring sporterna."
   ]
  },
  {
   "cell_type": "markdown",
   "metadata": {},
   "source": [
    "### Våra frågeställningar:\n",
    "- Kolla igenom vilka sporter som varit med?\n",
    "- Analysera \"Tug-Of-War\"! (dragkamp) Kul att tex kolla hur länge det varit med i OS, vilka har varit bäst? Osv.\n",
    "- Finns det andra gamla eller intressanta sporter att titta på?\n",
    "- Alpinism?\n",
    "- Aeronautics [https://www.topendsports.com/events/demonstration/aeronautics.htm](https://www.topendsports.com/events/demonstration/aeronautics.htm)\n",
    "- Yngsta, äldsta medaljörerna?\n",
    "#### \"Tug of war\" (Dragkamp) (Daniel):\n",
    "- Vilka länder har deltagit och hur ser medaljfördelningen ut?\n",
    "- Vilka år var detta en sport i OS?\n",
    "\n",
    "#### Kulstötning / Slägga / Spjut / Diskus (Daniel):\n",
    "- Hur ser längd- och vikt-utvecklingen ut genom historien?\n",
    "- Analysera män och kvinnor separat\n",
    "- Hade varit intressant att jämföra med resultaten i sporterna också....\n",
    "- Distribution plots? Box-plots? Eller en animation frame, som går igenom åren?"
   ]
  },
  {
   "cell_type": "code",
   "execution_count": null,
   "metadata": {},
   "outputs": [],
   "source": [
    "import pandas as pd\n",
    "import plotly.express as px\n",
    "from dash import Dash, html, dcc, callback, Output, Input\n",
    "from dash_bootstrap_templates import load_figure_template\n",
    "import dash_bootstrap_components as dbc\n",
    "from dash import dash_table\n",
    "from io import BytesIO\n",
    "import base64\n",
    "athlete_events = pd.read_csv(\"./Data/athlete_events.csv\")"
   ]
  },
  {
   "cell_type": "markdown",
   "metadata": {},
   "source": [
    "### 10 Bästa sporter för Frankrike"
   ]
  },
  {
   "cell_type": "markdown",
   "metadata": {},
   "source": [
    "Här skapar jag en DataFrame med lämplig information för att plotta alla olika grafer som ska undersökas.\n",
    "\n",
    "Informationen är:\n",
    "- Totala medaljer vunnet av de top 10 sporterna.\n",
    "- Av det totala, hur många av dem guld, silver och brons.\n",
    "- Av varje guld silver och brons. Hur många var kvinnor och hur många var män."
   ]
  },
  {
   "cell_type": "code",
   "execution_count": null,
   "metadata": {},
   "outputs": [],
   "source": [
    "only_france_df = athlete_events[athlete_events['Team'] == 'France']\n",
    "only_france_df.head()\n",
    "medal_counts = only_france_df.groupby('Sport')['Medal'].value_counts().unstack().fillna(0)\n",
    "medal_counts[['Gold', 'Silver', 'Bronze']]\n",
    "medal_counts['Total'] = medal_counts[['Gold', 'Silver', 'Bronze']].sum(axis=1)\n",
    "medal_counts[['Gold', 'Silver', 'Bronze', 'Total']]\n",
    "medal_counts['Participations'] = medal_counts.sum(axis=1)\n",
    "medal_counts[['Gold', 'Silver', 'Bronze', 'Total', 'Participations']]\n",
    "gold_female_counts = only_france_df[only_france_df['Medal'] == 'Gold'].loc[only_france_df['Sex'] == 'F'].groupby('Sport').size()\n",
    "medal_counts['Gold Female'] = gold_female_counts.fillna(0)\n",
    "silver_female_counts = only_france_df[only_france_df['Medal'] == 'Silver'].loc[only_france_df['Sex'] == 'F'].groupby('Sport').size()\n",
    "medal_counts['Silver Female'] = silver_female_counts.fillna(0)\n",
    "\n",
    "bronze_female_counts = only_france_df[only_france_df['Medal'] == 'Bronze'].loc[only_france_df['Sex'] == 'F'].groupby('Sport').size()\n",
    "medal_counts['Bronze Female'] = bronze_female_counts.fillna(0)\n",
    "\n",
    "gold_male_counts = only_france_df[only_france_df['Medal'] == 'Gold'].loc[only_france_df['Sex'] == 'M'].groupby('Sport').size()\n",
    "medal_counts['Gold Male'] = gold_male_counts.fillna(0)\n",
    "\n",
    "silver_male_counts = only_france_df[only_france_df['Medal'] == 'Silver'].loc[only_france_df['Sex'] == 'M'].groupby('Sport').size()\n",
    "medal_counts['Silver Male'] = silver_male_counts.fillna(0)\n",
    "\n",
    "bronze_male_counts = only_france_df[only_france_df['Medal'] == 'Bronze'].loc[only_france_df['Sex'] == 'M'].groupby('Sport').size()\n",
    "medal_counts['Bronze Male'] = bronze_male_counts.fillna(0)\n",
    "\n",
    "medal_counts['Total Female'] = medal_counts[['Gold Female', 'Silver Female', 'Bronze Female']].sum(axis=1)\n",
    "medal_counts['Total Male'] = medal_counts[['Gold Male', 'Silver Male', 'Bronze Male']].sum(axis=1)\n",
    "medal_counts.fillna(0, inplace=True)\n",
    "\n",
    "medal_counts.head(10)"
   ]
  },
  {
   "cell_type": "code",
   "execution_count": null,
   "metadata": {},
   "outputs": [],
   "source": [
    "top_10_sports_total = medal_counts.nlargest(10, 'Total')\n",
    "top_10_sports_total_plot = px.bar(top_10_sports_total, x=top_10_sports_total.index, y=['Bronze', 'Silver', 'Gold'], title='Top 10 sports with the highest total medals won by France', barmode='stack')\n",
    "\n",
    "top_10_sports_total_plot.update_layout(\n",
    "    paper_bgcolor=\"black\",\n",
    "    plot_bgcolor=\"black\",\n",
    "    font_color=\"white\",\n",
    "    yaxis_title=\"Total medals won\",\n",
    ")\n",
    "top_10_sports_total_plot.update_traces(marker_color='#CD7F32', selector=dict(name='Bronze'))\n",
    "top_10_sports_total_plot.update_traces(marker_color='silver', selector=dict(name='Silver'))\n",
    "top_10_sports_total_plot.update_traces(marker_color='gold', selector=dict(name='Gold'))\n",
    "top_10_sports_total_plot.show()"
   ]
  },
  {
   "cell_type": "code",
   "execution_count": null,
   "metadata": {},
   "outputs": [],
   "source": [
    "top_10_sports_gold = medal_counts.nlargest(10, 'Gold')\n",
    "top_10_sports_gold_plot = px.bar(top_10_sports_gold, x=top_10_sports_gold.index, y=['Gold Female', 'Gold Male'], title='Top 10 sports with the highest number of gold medals won by France', barmode='stack')\n",
    "top_10_sports_gold_plot.update_layout(\n",
    "    paper_bgcolor=\"black\",\n",
    "    plot_bgcolor=\"black\",\n",
    "    font_color=\"white\",\n",
    "    yaxis_title=\"Number of gold medals won\"\n",
    ")\n",
    "top_10_sports_gold_plot.show()"
   ]
  },
  {
   "cell_type": "code",
   "execution_count": null,
   "metadata": {},
   "outputs": [],
   "source": [
    "top_10_sports_silver = medal_counts.nlargest(10, 'Silver')\n",
    "top_10_sports_silver_plot = px.bar(top_10_sports_silver, x=top_10_sports_silver.index, y=['Silver Female', 'Silver Male'], title='Top 10 sports with the highest number of silver medals won by France', barmode='stack')\n",
    "top_10_sports_silver_plot.update_layout(\n",
    "    paper_bgcolor=\"black\",\n",
    "    plot_bgcolor=\"black\",\n",
    "    font_color=\"white\",\n",
    "    yaxis_title=\"Number of silver medals won\"\n",
    ")\n",
    "top_10_sports_silver_plot.show()"
   ]
  },
  {
   "cell_type": "code",
   "execution_count": null,
   "metadata": {},
   "outputs": [],
   "source": [
    "top_10_sports_bronze = medal_counts.nlargest(10, 'Bronze')\n",
    "top_10_sports_bronze_plot = px.bar(top_10_sports_bronze, x=top_10_sports_bronze.index, y=['Bronze Female', 'Bronze Male'], title='Top 10 sports with the highest number of bronze medals won by France', barmode='stack')\n",
    "top_10_sports_bronze_plot.update_layout(\n",
    "    paper_bgcolor=\"black\",\n",
    "    plot_bgcolor=\"black\",\n",
    "    font_color=\"white\",\n",
    "    yaxis_title=\"Number of bronze medals won\"\n",
    ")\n",
    "top_10_sports_bronze_plot.show()"
   ]
  },
  {
   "cell_type": "markdown",
   "metadata": {},
   "source": [
    "### Histogram över olika åldrar över tid"
   ]
  },
  {
   "cell_type": "code",
   "execution_count": null,
   "metadata": {},
   "outputs": [],
   "source": [
    "# Filter the dataframe to include only rows where the Team is 'France'\n",
    "only_france_df = athlete_events[athlete_events['Team'] == 'France']\n",
    "only_france_df.sort_values(by=['Year'], inplace=True)\n",
    "only_france_df.dropna(subset=['Age'], inplace=True)\n",
    "\n",
    "# Create a histogram of ages over time\n",
    "histogram_ages_over_time = px.histogram(only_france_df, x='Age', title='Histogram of Ages Over Time', animation_frame='Year', range_x=[10, 80])\n",
    "\n",
    "# Customize the layout of the histogram\n",
    "histogram_ages_over_time.update_layout(\n",
    "    xaxis_title='Age',\n",
    "    yaxis_title='Count',\n",
    "    paper_bgcolor=\"black\",\n",
    "    plot_bgcolor=\"black\",\n",
    "    font_color=\"white\",\n",
    "    yaxis_range=[0, 100]\n",
    ")\n",
    "\n",
    "# Show the histogram\n",
    "histogram_ages_over_time.show()"
   ]
  },
  {
   "cell_type": "code",
   "execution_count": null,
   "metadata": {},
   "outputs": [],
   "source": [
    "fencing_df = only_france_df[only_france_df['Sport'] == 'Fencing']\n",
    "\n"
   ]
  },
  {
   "cell_type": "markdown",
   "metadata": {},
   "source": [
    "# FRA    (Ars)"
   ]
  },
  {
   "cell_type": "code",
   "execution_count": null,
   "metadata": {},
   "outputs": [],
   "source": [
    "import hashlib as hl\n",
    "import pandas as pd\n",
    "import plotly.express as px\n",
    "athlete_events = pd.read_csv(\"./Data/athlete_events.csv\")"
   ]
  },
  {
   "cell_type": "code",
   "execution_count": null,
   "metadata": {},
   "outputs": [],
   "source": [
    "filter_france = athlete_events[\"NOC\"] == \"FRA\" \n",
    "france = athlete_events[filter_france] # New DF france \n",
    "france.reset_index(drop=True, inplace=True) # set new idx\n",
    "# Anonym DF of FRA\n",
    "france.loc[:, \"Name\"] = france.loc[:, \"Name\"].apply(lambda name: hl.sha256(name.encode()).hexdigest()) \n",
    "display(france.shape, france.head(1))"
   ]
  },
  {
   "cell_type": "code",
   "execution_count": null,
   "metadata": {},
   "outputs": [],
   "source": [
    "all_year_medals = france.groupby(\"Year\")[\"Medal\"].value_counts().unstack().fillna(0)\n",
    "all_year_medals.reset_index(inplace=True)\n",
    "all_year_medals.head(3)"
   ]
  },
  {
   "cell_type": "code",
   "execution_count": null,
   "metadata": {},
   "outputs": [],
   "source": [
    "plt_all_years_medals = px.bar(all_year_medals, x=\"Year\", y=[\"Gold\", \"Silver\", \"Bronze\"],\n",
    "                              barmode=\"stack\", \n",
    "                              title=\"Frankrike: OS\",\n",
    "                              color_discrete_sequence=['#FFD700', '#C0C0C0', '#CD7F32'])\n",
    "plt_all_years_medals.update_layout(legend_title_text=\"Medalj\", \n",
    "                                yaxis_title=\"Antal\",\n",
    "                                xaxis_title=\"År\")\n",
    "plt_all_years_medals.update_traces(hovertemplate='Medaljer: %{y}<br>År: %{x}')\n",
    "plt_all_years_medals.show()"
   ]
  },
  {
   "cell_type": "code",
   "execution_count": null,
   "metadata": {},
   "outputs": [],
   "source": [
    "# Summer\n",
    "filter_winter = france[\"Season\"] == \"Summer\" \n",
    "summer_fra = france[filter_winter] # New DF only summer\n",
    "# Winter\n",
    "filter_winter = france[\"Season\"] == \"Winter\" \n",
    "winter_fra = france[filter_winter] # New DF only summer"
   ]
  },
  {
   "cell_type": "code",
   "execution_count": null,
   "metadata": {},
   "outputs": [],
   "source": [
    "summer_medals = summer_fra.groupby(\"Year\")[\"Medal\"].value_counts().unstack().fillna(0)\n",
    "summer_medals.reset_index(inplace=True)\n",
    "summer_medals.head(1)"
   ]
  },
  {
   "cell_type": "code",
   "execution_count": null,
   "metadata": {},
   "outputs": [],
   "source": [
    "plt_summer_medals = px.bar(summer_medals, x=\"Year\", y=[\"Gold\", \"Silver\", \"Bronze\"],\n",
    "                            barmode=\"stack\",\n",
    "                            title=\"Frankrike: Sommar OS\",\n",
    "                            color_discrete_sequence=['#FFD700', '#C0C0C0', '#CD7F32'])\n",
    "plt_summer_medals.update_layout(legend_title_text=\"Medalj\", \n",
    "                                yaxis_title=\"Antal\",\n",
    "                                xaxis_title=\"År\")\n",
    "plt_summer_medals.update_traces(hovertemplate='Medaljer: %{y}<br>År: %{x}')\n",
    "plt_summer_medals.show()"
   ]
  },
  {
   "cell_type": "code",
   "execution_count": null,
   "metadata": {},
   "outputs": [],
   "source": [
    "winter_medals = winter_fra.groupby(\"Year\")[\"Medal\"].value_counts().unstack().fillna(0)\n",
    "winter_medals.reset_index(inplace=True)\n",
    "winter_medals.head(1)"
   ]
  },
  {
   "cell_type": "code",
   "execution_count": null,
   "metadata": {},
   "outputs": [],
   "source": [
    "plt_winter_medals = px.bar(winter_medals, x=\"Year\", y=[\"Gold\", \"Silver\", \"Bronze\"],\n",
    "                            barmode=\"stack\",\n",
    "                            title=\"Frankrike: Vinter OS\",\n",
    "                            color_discrete_sequence=['#FFD700', '#C0C0C0', '#CD7F32'])\n",
    "plt_winter_medals.update_layout(legend_title_text=\"Medalj\", \n",
    "                                yaxis_title=\"Antal\",\n",
    "                                xaxis_title=\"År\")\n",
    "plt_winter_medals.update_traces(hovertemplate='Medaljer: %{y}<br>År: %{x}')\n",
    "plt_winter_medals.show()"
   ]
  },
  {
   "cell_type": "code",
   "execution_count": null,
   "metadata": {},
   "outputs": [],
   "source": [
    "all_medals = athlete_events.groupby(\"Year\")[\"Medal\"].count()\n",
    "all_medals = all_medals.reset_index()\n",
    "all_medals.head(2)"
   ]
  },
  {
   "cell_type": "code",
   "execution_count": null,
   "metadata": {},
   "outputs": [],
   "source": [
    "fra_all_medals = france.groupby(\"Year\")[\"Medal\"].count()\n",
    "fra_all_medals = fra_all_medals.reset_index()\n",
    "fra_all_medals.head(2)"
   ]
  },
  {
   "cell_type": "code",
   "execution_count": null,
   "metadata": {},
   "outputs": [],
   "source": [
    "fra_all_medals[\"Andel_%\"] = (fra_all_medals.loc[:, \"Medal\"] / all_medals.loc[:, \"Medal\"]) * 100\n",
    "fra_all_medals.head(1)"
   ]
  },
  {
   "cell_type": "code",
   "execution_count": null,
   "metadata": {},
   "outputs": [],
   "source": [
    "plt_fra_andel = px.line(fra_all_medals, x=\"Year\", y=\"Andel_%\", title=\"Frankrike: Andel medaljer per OS\")\n",
    "plt_fra_andel.update_layout(yaxis_title=\"Andel - %\", xaxis_title=\"År\")\n",
    "plt_fra_andel.show()"
   ]
  },
  {
   "cell_type": "markdown",
   "metadata": {},
   "source": [
    "# Weightlifting"
   ]
  },
  {
   "cell_type": "code",
   "execution_count": null,
   "metadata": {},
   "outputs": [],
   "source": [
    "# Create DataFrame with only sport = weightlifting\n",
    "weightlifting = athlete_events.query(\"Sport == 'Weightlifting'\") # DF med all weightlifting\n",
    "\n",
    "#remove NaN's from weight, height and age:\n",
    "weightlifting = weightlifting.dropna(subset='Weight')\n",
    "weightlifting = weightlifting.dropna(subset='Height')\n",
    "weightlifting = weightlifting.dropna(subset='Age')\n",
    "\n",
    "# removes \"weightlifting\" from Event column:\n",
    "weightlifting['Event'] = weightlifting['Event'].str.replace(\"Weightlifting \",\"\")\n",
    "\n",
    "display(weightlifting['Event'].unique()) # kollar vilka event som finns\n",
    "px.box(weightlifting.query('''Event == \"Women's Super-Heavyweight\"'''), x='Year', y='Weight')\n",
    "#display(type(weightlifting))"
   ]
  },
  {
   "cell_type": "markdown",
   "metadata": {},
   "source": [
    "# Speed skating"
   ]
  },
  {
   "cell_type": "code",
   "execution_count": null,
   "metadata": {},
   "outputs": [],
   "source": [
    "x = athlete_events['Sport'].str.contains('Speed Skating')\n",
    "speedskating = athlete_events.loc[x]\n",
    "speedskating['Event'].unique()"
   ]
  },
  {
   "cell_type": "code",
   "execution_count": null,
   "metadata": {},
   "outputs": [],
   "source": [
    "# filtrerar dataframen så att bara de events vi är intresserade av kommer med:\n",
    "speed_skating = athlete_events[\n",
    "    (athlete_events['Event'] == \"Speed Skating Men's 1,500 metres\") |\n",
    "    (athlete_events['Event'] == \"Speed Skating Men's 500 metres\") |\n",
    "    (athlete_events['Event'] == \"Speed Skating Men's 5,000 metres\") |\n",
    "    (athlete_events['Event'] == \"Speed Skating Men's 10,000 metres\") |\n",
    "    (athlete_events['Event'] == \"Speed Skating Women's 1,000 metres\") |\n",
    "    (athlete_events['Event'] == \"Speed Skating Women's 1,500 metres\") |\n",
    "    (athlete_events['Event'] == \"Speed Skating Women's 500 metres\") |\n",
    "    (athlete_events['Event'] == \"Speed Skating Men's 1,000 metres\") |\n",
    "    (athlete_events['Event'] == \"Speed Skating Women's 3,000 metres\") |\n",
    "    (athlete_events['Event'] == \"Speed Skating Women's 5,000 metres\")\n",
    "    ]\n",
    "speed_skating"
   ]
  },
  {
   "cell_type": "code",
   "execution_count": null,
   "metadata": {},
   "outputs": [],
   "source": [
    "# dropna NaN's in medal column:\n",
    "speed_skating = speed_skating.dropna(axis=0, subset='Medal')\n",
    "speed_skating\n",
    "\n",
    "# remove \"Speed Skating\" som är onödig:\n",
    "speed_skating['Event'] = speed_skating['Event'].str.replace(\"Speed Skating \",\"\")"
   ]
  },
  {
   "cell_type": "code",
   "execution_count": null,
   "metadata": {},
   "outputs": [],
   "source": [
    "speed_skating_gb_df = speed_skating.groupby(['Team','Medal','Event','Year'])['Medal'].count().reset_index(name='Medal Count')\n",
    "\n",
    "# # sorterar ut  de 10 bästa länderna map antal guldmedaljer\n",
    "# speed_sakting_sorted = speed_skating_gb_df[speed_skating_gb_df['Medal'] == 'Gold'].groupby('Team')['Medal Count'].sum().sort_values(ascending=False).reset_index()\n",
    "# top_10_countries = speed_sakting_sorted.head(10)['Team'].tolist()\n",
    "# speed_skating_df_top_10 = speed_skating_gb_df[speed_skating_gb_df['Team'].isin(top_10_countries)]\n",
    "# speed_skating_df_top_10['Team'].sort_values()\n",
    "# display(speed_skating_df_top_10.head())\n",
    "\n",
    "# Mask out years with Speed Skating\n",
    "years = speed_skating_gb_df['Year'].sort_values().unique().tolist()\n",
    "display(years)"
   ]
  },
  {
   "cell_type": "code",
   "execution_count": null,
   "metadata": {},
   "outputs": [],
   "source": [
    "app = Dash(\n",
    "    __name__,\n",
    "    suppress_callback_exceptions=True,\n",
    "    external_stylesheets=[dbc.themes.FLATLY],\n",
    "    meta_tags=[{\"name\": \"viewport\", \"content\": \"width=device-width, initial-scale=1\"}]\n",
    ")\n",
    "\n",
    "app.layout = dbc.Container([\n",
    "    dbc.Row([\n",
    "        dbc.Col([\n",
    "            html.H1(\"Speed Skating Dashboard\", className='text-center text-primary mx-3'),\n",
    "            html.Br(),\n",
    "            dcc.Dropdown(\n",
    "                id=\"multi_dropdown\",\n",
    "                multi=True,\n",
    "                searchable=False, \n",
    "                className='mb-2',\n",
    "                placeholder='Select event',\n",
    "                options=[event for event in speed_skating_gb_df['Event'].unique()],\n",
    "                value=[\"Men's 1,500 metres\"]\n",
    "            ),\n",
    "            html.Br(),\n",
    "            html.P(\"Select year interval:\"),\n",
    "            dcc.RangeSlider(\n",
    "                min=min(years),\n",
    "                max=max(years),\n",
    "                step=1,\n",
    "                marks=None,\n",
    "                id=\"RangeSlider\",\n",
    "                ),\n",
    "            dcc.Graph(\n",
    "                id='skate_graph',\n",
    "                config={'staticPlot':True},\n",
    "                figure={}\n",
    "            ),\n",
    "            html.Button(\"Download Image\", id=\"download-img-btn\", n_clicks=0),\n",
    "            dcc.Download(id=\"img-downloader\"),\n",
    "            html.Br(),\n",
    "            html.H1(\"Weightlifting: Age, Weight and Height Analysis over time.\"),\n",
    "            html.P(\"Select class for analysis:\"),\n",
    "            dcc.RadioItems(\n",
    "                options=[event for event in weightlifting['Event'].unique()],\n",
    "                id=\"weightlifting-event\",\n",
    "                value=\"Women's Super-Heavyweight\"\n",
    "            ),\n",
    "            html.P(\"Select analysis:\"),\n",
    "            dcc.RadioItems(\n",
    "                ['Age','Weight','Height'],\n",
    "                id=\"weightlifting-attr\",\n",
    "                value='Age'\n",
    "            ),\n",
    "            dcc.Graph(\n",
    "                id='weightlifting-graph',\n",
    "                config={'staticPlot':True},\n",
    "                figure={}\n",
    "            )\n",
    "        ], xs=12, sm=11, md=10, lg=5)\n",
    "    ], justify='center'),\n",
    "], fluid=True)\n",
    "\n",
    "\n",
    "@callback(\n",
    "    Output(\"skate_graph\", \"figure\"),\n",
    "    Input(\"RangeSlider\", \"value\"),\n",
    "    Input(\"multi_dropdown\", \"value\")\n",
    ")\n",
    "\n",
    "def update_multidropdown(year, events):\n",
    "    if events is None: events = []\n",
    "    if year is None: year = [1896, 1922]\n",
    "    df = speed_skating_gb_df[(speed_skating_gb_df['Event'].isin(events)) & (speed_skating_gb_df['Year'] >= year[0]) & (speed_skating_gb_df['Year'] <= year[1])]\n",
    "    return px.bar(df,\n",
    "                x='Team',\n",
    "                y='Medal Count',\n",
    "                hover_name='Event',\n",
    "                hover_data='Event',\n",
    "                color='Medal',\n",
    "                title=f'Speed Skating medals, between {year[0]} and {year[1]}:')\n",
    "\n",
    "@callback(\n",
    "    Output('img-downloader', 'data'),\n",
    "    Input('download-img-btn', 'n_clicks' ),\n",
    "    Input('skate-graph','figure')\n",
    ")\n",
    "def save_img(n_clicks, figure):\n",
    "    if n_clicks:\n",
    "        img_bytes = figure.to_image(format='png')\n",
    "        return dcc.send_bytes(img_bytes, \"../Images/speed_skate.png\")\n",
    "        \n",
    "@callback(\n",
    "    Output('weightlifting-graph','figure'),\n",
    "    Input('weightlifting-event','value'),\n",
    "    Input('weightlifting-attr', 'value')\n",
    ")\n",
    "\n",
    "def update_weightlifting(event, attr):\n",
    "    event = [event] #måste göra om str till list\n",
    "    if event is None: event = [\"Women's Super-Heavyweight\"]\n",
    "    if attr is None: attr = []\n",
    "    df = weightlifting[(weightlifting['Event'].isin(event))]\n",
    "    return px.box(\n",
    "        df,\n",
    "        x='Year',\n",
    "        y=attr,\n",
    "        title=f'{attr} for {event[0]}.')\n",
    "\n",
    "     \n",
    "# app.run(host='0.0.0.0', port=8050,debug=True, jupyter_mode='external')\n",
    "app.run(debug=True, jupyter_mode='external')"
   ]
  },
  {
   "cell_type": "markdown",
   "metadata": {},
   "source": [
    "# ARS"
   ]
  },
  {
   "cell_type": "code",
   "execution_count": null,
   "metadata": {},
   "outputs": [],
   "source": [
    "filter_basket = athlete_events[\"Sport\"] == \"Basketball\"\n",
    "basket = athlete_events[filter_basket]\n",
    "basket.head(1)"
   ]
  },
  {
   "cell_type": "code",
   "execution_count": null,
   "metadata": {},
   "outputs": [],
   "source": [
    "top_basket = basket.groupby(\"NOC\")[\"Medal\"].value_counts().unstack().fillna(0)\n",
    "top_basket.head(1)"
   ]
  },
  {
   "cell_type": "code",
   "execution_count": null,
   "metadata": {},
   "outputs": [],
   "source": [
    "top_basket[\"Tot\"] = top_basket.loc[:, \"Bronze\"] + top_basket.loc[:, \"Silver\"] + top_basket.loc[:, \"Gold\"] \n",
    "top_basket.sort_values(by=\"Tot\", ascending=False, inplace=True)\n",
    "top_basket.reset_index(inplace=True)\n",
    "top_ten_basket = top_basket.loc[:9, :]\n",
    "top_ten_basket.head(1)"
   ]
  },
  {
   "cell_type": "code",
   "execution_count": null,
   "metadata": {},
   "outputs": [],
   "source": [
    "plt_top_basket = px.bar(top_ten_basket, x=\"NOC\", y=[\"Gold\", \"Silver\", \"Bronze\"],\n",
    "                        barmode=\"stack\", \n",
    "                        title=\"Top 10 Basketball\",\n",
    "                        color_discrete_sequence=['#FFD700', '#C0C0C0', '#CD7F32'])\n",
    "plt_top_basket.update_layout(legend_title_text=\"Medal\", \n",
    "                                yaxis_title=\"Count\",\n",
    "                                xaxis_title=\"Countries\")\n",
    "plt_top_basket.show()"
   ]
  },
  {
   "cell_type": "markdown",
   "metadata": {},
   "source": [
    "# Wrestling"
   ]
  },
  {
   "cell_type": "code",
   "execution_count": null,
   "metadata": {},
   "outputs": [],
   "source": [
    "filter_wrest = athlete_events[\"Sport\"] == \"Wrestling\"\n",
    "wrestling = athlete_events[filter_wrest]\n",
    "wrestling.head(1)"
   ]
  },
  {
   "cell_type": "code",
   "execution_count": null,
   "metadata": {},
   "outputs": [],
   "source": [
    "top_wrestling = wrestling.groupby(\"NOC\")[\"Medal\"].value_counts().unstack().fillna(0)\n",
    "top_wrestling.head(1)"
   ]
  },
  {
   "cell_type": "code",
   "execution_count": null,
   "metadata": {},
   "outputs": [],
   "source": [
    "top_wrestling[\"Tot\"] = top_wrestling.loc[:, \"Bronze\"] + top_wrestling.loc[:, \"Silver\"] + top_wrestling.loc[:, \"Gold\"] \n",
    "top_wrestling.sort_values(by=\"Tot\", ascending=False, inplace=True)\n",
    "top_wrestling.reset_index(inplace=True)\n",
    "top_ten_wrestling = top_wrestling.loc[:9, :]\n",
    "top_ten_wrestling"
   ]
  },
  {
   "cell_type": "code",
   "execution_count": null,
   "metadata": {},
   "outputs": [],
   "source": [
    "plt_top_wrestling = px.bar(top_ten_wrestling, x=\"NOC\", y=[\"Gold\", \"Silver\", \"Bronze\"],\n",
    "                        barmode=\"stack\", \n",
    "                        title=\"Top 10 Wrestling\",\n",
    "                        color_discrete_sequence=['#FFD700', '#C0C0C0', '#CD7F32'])\n",
    "plt_top_wrestling.update_layout(legend_title_text=\"Medal\", \n",
    "                                yaxis_title=\"Count\",\n",
    "                                xaxis_title=\"Countries\")\n",
    "plt_top_wrestling.show()"
   ]
  },
  {
   "cell_type": "markdown",
   "metadata": {},
   "source": [
    "# Height"
   ]
  },
  {
   "cell_type": "code",
   "execution_count": null,
   "metadata": {},
   "outputs": [],
   "source": [
    "avg_height_wrestling = wrestling.groupby(\"NOC\")[\"Height\"].mean().reset_index()\n",
    "avg_height_wrestling = avg_height_wrestling.dropna(subset=['Height'])\n",
    "avg_height_wrestling.head(2)\n",
    "\n",
    "avg_height_basket = basket.groupby(\"NOC\")[\"Height\"].mean().reset_index()\n",
    "avg_height_basket = avg_height_basket.dropna(subset=['Height'])\n",
    "avg_height_basket.head(5)"
   ]
  },
  {
   "cell_type": "code",
   "execution_count": null,
   "metadata": {},
   "outputs": [],
   "source": [
    "merged_height = pd.merge(avg_height_wrestling, avg_height_basket, on=\"NOC\", suffixes=(' Wrestling', ' Basketball'))\n",
    "display(merged_height.shape, merged_height.head(3))"
   ]
  },
  {
   "cell_type": "code",
   "execution_count": null,
   "metadata": {},
   "outputs": [],
   "source": [
    "plt_height_compair = px.line(merged_height, x=\"NOC\", y=[\"Height Basketball\", \"Height Wrestling\"],\n",
    "                             title=\"Average Height: Basketball vs Wrestling\")\n",
    "plt_height_compair.update_layout(legend_title_text=\"Sports\",\n",
    "                                yaxis_title=\"Length cm\",\n",
    "                                xaxis_title=\"Countries\")\n",
    "plt_height_compair.show()"
   ]
  },
  {
   "cell_type": "code",
   "execution_count": null,
   "metadata": {},
   "outputs": [],
   "source": [
    "b = merged_height[\"Height Basketball\"].mean()\n",
    "w = merged_height[\"Height Wrestling\"].mean()\n",
    "print(b, w)"
   ]
  },
  {
   "cell_type": "markdown",
   "metadata": {},
   "source": [
    "# Gender Distribution"
   ]
  },
  {
   "cell_type": "code",
   "execution_count": null,
   "metadata": {},
   "outputs": [],
   "source": [
    "all_pep_basket = basket[\"Name\"].nunique()\n",
    "all_pep_wrestling = wrestling[\"Name\"].nunique()\n",
    "\n",
    "# W wrest\n",
    "women_w = wrestling[wrestling[\"Sex\"] == \"F\"]\n",
    "women_wrestling = women_w[\"Name\"].nunique()\n",
    "men_wrestling = all_pep_wrestling - women_wrestling\n",
    "\n",
    "# W basket\n",
    "women_b = basket[basket[\"Sex\"] == \"F\"]\n",
    "women_basket = women_b[\"Name\"].nunique()\n",
    "men_basket = all_pep_basket - women_basket\n"
   ]
  },
  {
   "cell_type": "code",
   "execution_count": null,
   "metadata": {},
   "outputs": [],
   "source": [
    "my_df = {'Sports': ['Basket', 'Wrestling'],\n",
    "               'M': [men_basket, men_wrestling],\n",
    "               'F': [women_basket, women_wrestling],\n",
    "               'All': [all_pep_basket, all_pep_wrestling],\n",
    "               'Women %': [(women_basket/all_pep_basket)*100, (women_wrestling/all_pep_wrestling)*100],\n",
    "               'Men %': [(men_basket/all_pep_basket)*100, (men_wrestling/all_pep_wrestling)*100]}\n",
    "gender_df = pd.DataFrame(my_df)\n",
    "gender_df\n"
   ]
  },
  {
   "cell_type": "code",
   "execution_count": null,
   "metadata": {},
   "outputs": [],
   "source": [
    "plt_gender = px.bar(gender_df, x=\"Sports\", y=[\"Men %\", \"Women %\"],\n",
    "                    title=\"Gender Distribution\",\n",
    "                    barmode=\"group\",\n",
    "                    color_discrete_sequence=['#383fff', '#ff8af5'])\n",
    "plt_gender.update_layout(legend_title_text=\"Sex\", \n",
    "                                yaxis_title=\"%\")\n",
    "plt_gender.show()"
   ]
  },
  {
   "cell_type": "markdown",
   "metadata": {},
   "source": [
    "# Dash"
   ]
  },
  {
   "cell_type": "code",
   "execution_count": null,
   "metadata": {},
   "outputs": [],
   "source": [
    "from dash import Dash, html, dcc, callback, Output, Input, State\n",
    "from dash_bootstrap_templates import load_figure_template\n",
    "import dash_bootstrap_components as dbc\n",
    "from dash import dash_table"
   ]
  },
  {
   "cell_type": "code",
   "execution_count": null,
   "metadata": {},
   "outputs": [],
   "source": [
    "# load_figure_template(\"flatly\")\n",
    "\n",
    "# app = Dash(\n",
    "#     __name__, \n",
    "#     external_stylesheets=[dbc.themes.FLATLY],\n",
    "#     meta_tags=[{\"name\": \"viewport\", \"content\": \"width=device-width, initial-scale=1\"}]\n",
    "# )\n",
    "\n",
    "# app.layout = dbc.Container([\n",
    "#     dbc.Row([\n",
    "#         dbc.Col([\n",
    "#             html.H1(\"Uppgift_2\", className='text-center text-primary mx-3'),\n",
    "#             html.Br()\n",
    "#         ], width=12, style={'text-align': 'center'})\n",
    "#     ]),\n",
    "\n",
    "#     dbc.Row([\n",
    "#         dbc.Col([\n",
    "#             dcc.Graph(id=\"basket\", figure=plt_top_basket)\n",
    "#         ], xs=12, sm=11, md=10, lg=8),\n",
    "#         dbc.Col([\n",
    "#             dcc.Graph(id=\"wrestling\", figure=plt_top_wrestling)\n",
    "#         ], xs=12, sm=11, md=10, lg=8),\n",
    "#         ], justify=\"evenly\"),\n",
    "    \n",
    "#     dbc.Row([\n",
    "#         dbc.Col([\n",
    "#             html.Br(),\n",
    "#             html.H2('Height: Basket vs Wrestling', id='height_vs'),\n",
    "#             dash_table.DataTable(id='title_height', page_size=15)\n",
    "#         ], width=10),\n",
    "#         dbc.Col([\n",
    "#             dcc.Graph(id=\"height\", figure=plt_height_compair)\n",
    "#         ], xs=12, sm=11, md=10, lg=8),\n",
    "#     ], justify='center'),\n",
    "\n",
    "#     dbc.Row([\n",
    "#         dbc.Col([\n",
    "#             html.Br(),\n",
    "#             html.H2('Gender Distribution', id='data_label'),\n",
    "#             dash_table.DataTable(id='title_gen', page_size=15)\n",
    "#         ], width=10),\n",
    "#         dbc.Col([\n",
    "#             dcc.Graph(id=\"gender\", figure=plt_gender)\n",
    "#         ], xs=12, sm=11, md=10, lg=8),\n",
    "#     ], justify='center'),\n",
    "# ], fluid=True)\n",
    "\n",
    "# app.run(debug=True, jupyter_mode='external')"
   ]
  },
  {
   "cell_type": "code",
   "execution_count": null,
   "metadata": {},
   "outputs": [],
   "source": [
    "load_figure_template(\"flatly\")\n",
    "\n",
    "app = Dash(\n",
    "    __name__, \n",
    "    external_stylesheets=[dbc.themes.FLATLY],\n",
    "    meta_tags=[{\"name\": \"viewport\", \"content\": \"width=device-width, initial-scale=1\"}]\n",
    ")\n",
    "\n",
    "# Antag att plt_top_basket och plt_top_wrestling redan är definierade plotly grafer\n",
    "\n",
    "# Skapa en lista med alternativ för dropdown-menyn\n",
    "options = [\n",
    "    {'label': 'Top Basket', 'value': 'basket'},\n",
    "    {'label': 'Top Wrestling', 'value': 'wrestling'}\n",
    "]\n",
    "\n",
    "app.layout = dbc.Container([\n",
    "    dbc.Row([\n",
    "        dbc.Col([\n",
    "            html.H1(\"Uppgift_2\", className='text-center text-primary mx-3'),\n",
    "            html.Br()\n",
    "        ], width=12, style={'text-align': 'center'})\n",
    "    ]),\n",
    "    \n",
    "    # Lägg till en Dropdown för att välja mellan graferna\n",
    "    dbc.Row([\n",
    "        dbc.Col([\n",
    "            dcc.Dropdown(\n",
    "                id='graph-dropdown',\n",
    "                options=options,\n",
    "                value='basket'  # Standardvärde för grafen\n",
    "            )\n",
    "        ], xs=12, sm=11, md=10, lg=8),\n",
    "    ], justify=\"center\"),\n",
    "\n",
    "    # Lägg till en plats för att visa vald graf\n",
    "    dbc.Row([\n",
    "        dbc.Col([\n",
    "            dcc.Graph(id=\"selected_graph\")\n",
    "        ], xs=12, sm=11, md=10, lg=8),\n",
    "    ], justify=\"center\"),\n",
    "    \n",
    "    # Resten av din layout här\n",
    "\n",
    "], fluid=True)\n",
    "\n",
    "\n",
    "# Skapa en callback-funktion för att uppdatera den valda grafen baserat på dropdown-valet\n",
    "@app.callback(\n",
    "    Output('selected_graph', 'figure'),\n",
    "    [Input('graph-dropdown', 'value')]\n",
    ")\n",
    "def update_graph(selected_value):\n",
    "    # Returnera rätt figur baserat på dropdown-valet\n",
    "    if selected_value == 'basket':\n",
    "        return plt_top_basket\n",
    "    elif selected_value == 'wrestling':\n",
    "        return plt_top_wrestling\n",
    "\n",
    "# Starta servern\n",
    "app.run_server(debug=True, jupyter_mode='external')\n"
   ]
  }
 ],
 "metadata": {
  "kernelspec": {
   "display_name": "Dataprocessing-Asajad-Hussein-sglkyhwr",
   "language": "python",
   "name": "python3"
  },
  "language_info": {
   "codemirror_mode": {
    "name": "ipython",
    "version": 3
   },
   "file_extension": ".py",
   "mimetype": "text/x-python",
   "name": "python",
   "nbconvert_exporter": "python",
   "pygments_lexer": "ipython3",
   "version": "3.11.5"
  }
 },
 "nbformat": 4,
 "nbformat_minor": 2
}
