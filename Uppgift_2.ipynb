{
 "cells": [
  {
   "cell_type": "markdown",
   "metadata": {},
   "source": [
    "# Uppgift 2 - Sportstatistik\n",
    "- Välj 2-4 sporter och skapa lämpliga grafer/diagram för att visualisera exempelvis:\n",
    "- medaljfördelning mellan länder i sporterna, åldersfördelning i sporterna\n",
    "- Skapa fler plots för att visualisera olika aspekter kring sporterna."
   ]
  },
  {
   "cell_type": "markdown",
   "metadata": {},
   "source": [
    "### Våra frågeställningar:\n",
    "- Kolla igenom vilka sporter som varit med?\n",
    "- Analysera \"Tug-Of-War\"! (dragkamp) Kul att tex kolla hur länge det varit med i OS, vilka har varit bäst? Osv.\n",
    "- Finns det andra gamla eller intressanta sporter att titta på?\n",
    "- Alpinism?\n",
    "- Aeronautics [https://www.topendsports.com/events/demonstration/aeronautics.htm](https://www.topendsports.com/events/demonstration/aeronautics.htm)\n",
    "- Yngsta, äldsta medaljörerna?\n",
    "#### \"Tug of war\" (Dragkamp) (Daniel):\n",
    "- Vilka länder har deltagit och hur ser medaljfördelningen ut?\n",
    "- Vilka år var detta en sport i OS?\n",
    "\n",
    "#### Kulstötning / Slägga / Spjut / Diskus (Daniel):\n",
    "- Hur ser längd- och vikt-utvecklingen ut genom historien?\n",
    "- Analysera män och kvinnor separat\n",
    "- Hade varit intressant att jämföra med resultaten i sporterna också....\n",
    "- Distribution plots? Box-plots? Eller en animation frame, som går igenom åren?"
   ]
  },
  {
   "cell_type": "code",
   "execution_count": null,
   "metadata": {},
   "outputs": [],
   "source": []
  }
 ],
 "metadata": {
  "language_info": {
   "name": "python"
  }
 },
 "nbformat": 4,
 "nbformat_minor": 2
}
