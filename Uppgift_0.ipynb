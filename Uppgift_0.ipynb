{
 "cells": [
  {
   "cell_type": "markdown",
   "metadata": {},
   "source": [
    "## Project - France"
   ]
  },
  {
   "cell_type": "code",
   "execution_count": null,
   "metadata": {},
   "outputs": [],
   "source": [
    "import pandas as pd\n",
    "import numpy as np\n",
    "import plotly_express as px\n",
    "regions = pd.read_csv(\"./Data/noc_regions.csv\")\n",
    "athlete_events = pd.read_csv(\"./Data/athlete_events.csv\")"
   ]
  },
  {
   "cell_type": "code",
   "execution_count": null,
   "metadata": {},
   "outputs": [],
   "source": [
    "regions.head(3)"
   ]
  },
  {
   "cell_type": "markdown",
   "metadata": {},
   "source": [
    "- a. hur många länder som är med i datan?"
   ]
  },
  {
   "cell_type": "code",
   "execution_count": null,
   "metadata": {},
   "outputs": [],
   "source": [
    "print(f\"{regions['NOC'].nunique() = }\")\n",
    "print(f\"{regions['region'].nunique() = }\")\n",
    "print(f\"{athlete_events['NOC'].nunique() = }\")\n",
    "print(f\"{athlete_events['Team'].nunique() = }\")"
   ]
  },
  {
   "cell_type": "markdown",
   "metadata": {},
   "source": [
    "Svar: Det finns 206 'region' representerade i datasetet och det finns 230 \"NOC\"'s (National Olympic Committée's) representerade. Att det är olika antal beror på att samma 'region' historiskt har haft flera olika nationella olympiska komittéer.\n",
    "Några exepel:\n",
    "- 'region' som heter 'Germany' har historiskt varit representerade av flera NOC's: Väst Tyskland (FRG), Östtyskland (GDR) och Saar Protectorate (SAA).\n",
    "- 'region' som heter 'Russia' har historiskt varit representerade av flera NOC's: Soviet Union (URS), Unified Team (EUN).\n",
    "- Det finns 1184 'Team' representerade i datasetet. \n",
    "  \n",
    "Slutsats: Man kan säga att det finns 230 länder representerade, eftersom det finns 230 NOC's representerade. Men det är en definitionsfråga.\n",
    "  \n",
    "[Link to Wikipedia](https://en.wikipedia.org/wiki/All-time_Olympic_Games_medal_table)"
   ]
  },
  {
   "cell_type": "code",
   "execution_count": null,
   "metadata": {},
   "outputs": [],
   "source": [
    "display(regions[regions['region'] == 'Germany'])\n",
    "display(regions[regions['region'] == 'Russia'])"
   ]
  },
  {
   "cell_type": "code",
   "execution_count": null,
   "metadata": {},
   "outputs": [],
   "source": [
    "athlete_events.head(2)"
   ]
  },
  {
   "cell_type": "markdown",
   "metadata": {},
   "source": [
    "- b. vilka länder är med? (förkortningarna räcker)"
   ]
  },
  {
   "cell_type": "code",
   "execution_count": null,
   "metadata": {},
   "outputs": [],
   "source": [
    "unique_regions = regions['region'].unique() # skapar en variabel ifall vi behöver den senare.\n",
    "NOCs = pd.Index(regions['NOC'].unique())\n",
    "print(f\"Dessa National Olympic Commités är med i datasetet: {NOCs}.\")"
   ]
  },
  {
   "cell_type": "markdown",
   "metadata": {},
   "source": [
    "-  c. vilka sporter är med?"
   ]
  },
  {
   "cell_type": "code",
   "execution_count": null,
   "metadata": {},
   "outputs": [],
   "source": [
    "#sports = pd.Index(athlete_events['Sport'].sort_values().unique())\n",
    "sports = athlete_events['Sport'].sort_values().unique()\n",
    "#type(sports)\n",
    "\"Aeronautics\" in sports\n",
    "print(f\"Dessa sporter är med: {sports}.\")"
   ]
  },
  {
   "cell_type": "markdown",
   "metadata": {},
   "source": [
    "-  d. vilka medaljtyper finns det?"
   ]
  },
  {
   "cell_type": "code",
   "execution_count": null,
   "metadata": {},
   "outputs": [],
   "source": [
    "medal_types = pd.Index(athlete_events['Medal'].unique())\n",
    "medal_types = medal_types.dropna()\n",
    "print(f'The medal types are {medal_types[0]}, {medal_types[1]} and {medal_types[2]}.')"
   ]
  },
  {
   "cell_type": "markdown",
   "metadata": {},
   "source": [
    "-  e. ta reda på statistik för åldern: medelvärde, median, min, max, standardavvikelse,"
   ]
  },
  {
   "cell_type": "code",
   "execution_count": null,
   "metadata": {},
   "outputs": [],
   "source": [
    "# age_statistics = athlete_events[\"Age\"].agg([\"mean\",\"median\",\"min\",\"max\",\"std\"])\n",
    "# age_statistics\n",
    "athlete_events['Age'].describe()"
   ]
  },
  {
   "cell_type": "markdown",
   "metadata": {},
   "source": [
    "### f. utforska datan vidare med egna frågor.\n",
    "- Medelålder, högsta och lägsta ålder för medaljörer. (Asajad)"
   ]
  },
  {
   "cell_type": "markdown",
   "metadata": {},
   "source": [
    "- Vilket land har fått flest guldmedaljer (Arsen)"
   ]
  },
  {
   "cell_type": "code",
   "execution_count": null,
   "metadata": {},
   "outputs": [],
   "source": [
    "filter_gold = athlete_events[\"Medal\"] == \"Gold\" # .isin(\"Gold\")\n",
    "only_gold_countries = athlete_events[filter_gold]\n",
    "most_gold_country = only_gold_countries.groupby(\"NOC\")[\"Medal\"].size().idxmax() # idx = country\n",
    "number_gold = only_gold_countries.groupby(\"NOC\")[\"Medal\"].size().max() # max = value\n",
    "print(f'{most_gold_country = }, \\n{number_gold = }')"
   ]
  },
  {
   "cell_type": "markdown",
   "metadata": {},
   "source": [
    "- 10 bästa länderna/flest Guld (om hinner: uppdelat på sommar och vinter OS) (Arsen)"
   ]
  },
  {
   "cell_type": "code",
   "execution_count": null,
   "metadata": {},
   "outputs": [],
   "source": [
    "filter_gold = athlete_events[\"Medal\"] == \"Gold\"\n",
    "only_gold_countries = athlete_events[filter_gold] # new df with only \"Gold\" \n",
    "\n",
    "filter_summer = only_gold_countries[\"Season\"] == \"Summer\"\n",
    "summer_gold = only_gold_countries[filter_summer] # new df with only \"Gold\" and \"Summer\"\n",
    "\n",
    "filter_winter = only_gold_countries[\"Season\"] == \"Winter\"\n",
    "winter_gold = only_gold_countries[filter_winter] # new df with only \"Gold\" and \"Winter\"\n",
    "\n",
    "top_ten_summer = summer_gold.groupby(\"NOC\")[\"Medal\"].size().nlargest(10)\n",
    "top_ten_winter = winter_gold.groupby(\"NOC\")[\"Medal\"].size().nlargest(10)\n",
    "\n",
    "top_ten_summer = top_ten_summer.reset_index() # DF os Serie\n",
    "top_ten_winter = top_ten_winter.reset_index() # DF os Serie\n",
    "display(top_ten_summer, top_ten_winter)\n"
   ]
  },
  {
   "cell_type": "markdown",
   "metadata": {},
   "source": [
    "### 0f. Om vi har tid:\n",
    "- Karta med alla länder som varit med i sommar-OS och vinter-OS, over time med animation frame."
   ]
  },
  {
   "cell_type": "code",
   "execution_count": null,
   "metadata": {},
   "outputs": [],
   "source": [
    "# 0f, kartor, kod här:"
   ]
  },
  {
   "cell_type": "markdown",
   "metadata": {},
   "source": [
    "### g: Diagram över könsfördelningen (Daniel)\n",
    "- könsfördelning per OS över tid"
   ]
  },
  {
   "cell_type": "code",
   "execution_count": null,
   "metadata": {},
   "outputs": [],
   "source": [
    "# 0g kod här:\n",
    "# #x = athlete_events[athlete_events['Sex'] == 'M'].value_counts()\n",
    "# x = athlete_events['Sex'].value_counts()\n",
    "# x = pd.DataFrame(x)\n",
    "# x.reset_index(inplace=True)\n",
    "# # x\n",
    "# fig = px.bar(x, x='Sex', y='count', template=\"seaborn\")\n",
    "# fig.show()\n",
    "# #px.bar(athlete_events)\n",
    "gender_year_distr = athlete_events.groupby(['Sex','Year'])\n",
    "\n",
    "def remove_duplicates(group):\n",
    "    return group.drop_duplicates(subset='Name')\n",
    "\n",
    "gender_year_distr_result = gender_year_distr.apply(remove_duplicates)\n",
    "gender_year_distr_result.head(15)\n",
    "#                 gender_year_distr['Sex'].count()\n",
    "\n",
    "gender_year_distr_result = gender_year_distr_result.reset_index(drop=True)\n",
    "gender_year_distr_result.head(15)\n",
    "# gender_year_distr_result.head(15)\n",
    "\n",
    "gender_year_distr_result = gender_year_distr_result.groupby(['Year','Sex'])\n",
    "\n",
    "my_df = pd.DataFrame(gender_year_distr_result['Name'].count())\n",
    "my_df.head()\n",
    "my_df.reset_index(drop=True)\n",
    "my_df.head()\n",
    "#my_df.index\n",
    "#my_df.columns\n",
    "#type(gender_year_distr_result)\n",
    "#my_df = pd.DataFrame(gender_year_distr_result)\n",
    "\n",
    "#my_df.head()\n",
    "\n",
    "#type(my_df)\n",
    "\n",
    "#px.bar(my_df, x=('Year','Sex'), y='Name')\n",
    "\n",
    "\n"
   ]
  },
  {
   "cell_type": "markdown",
   "metadata": {},
   "source": [
    "###  h. diagram över topp 10 länder som tagit flest medaljer:\n",
    "- Arsen"
   ]
  },
  {
   "cell_type": "code",
   "execution_count": null,
   "metadata": {},
   "outputs": [],
   "source": [
    "# Fel USA = 2600+ not 5600+\n",
    "top_ten_countries = athlete_events.groupby(\"NOC\")[\"Medal\"].count().nlargest(10) # Serie\n",
    "top_ten_countries = top_ten_countries.reset_index() # DF\n",
    "# Plt\n",
    "top_ten_plt = px.bar(top_ten_countries, x=\"NOC\", y=\"Medal\")\n",
    "top_ten_plt.update_layout(xaxis_title=\"Countries\", yaxis_title=\"Medals\", title=\"Top Ten Countries by Number of Medals\")\n",
    "top_ten_plt.show()"
   ]
  },
  {
   "cell_type": "markdown",
   "metadata": {},
   "source": [
    "### i. plotta gärna fler saker som är intressant:"
   ]
  },
  {
   "cell_type": "code",
   "execution_count": null,
   "metadata": {},
   "outputs": [],
   "source": [
    "# 0i kod här:"
   ]
  }
 ],
 "metadata": {
  "kernelspec": {
   "display_name": "Databehandling-Arsen-YSaeh726",
   "language": "python",
   "name": "python3"
  },
  "language_info": {
   "codemirror_mode": {
    "name": "ipython",
    "version": 3
   },
   "file_extension": ".py",
   "mimetype": "text/x-python",
   "name": "python",
   "nbconvert_exporter": "python",
   "pygments_lexer": "ipython3",
   "version": "3.11.5"
  }
 },
 "nbformat": 4,
 "nbformat_minor": 2
}
