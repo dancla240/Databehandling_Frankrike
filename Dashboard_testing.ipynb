{
 "cells": [
  {
   "cell_type": "code",
   "execution_count": null,
   "metadata": {},
   "outputs": [],
   "source": [
    "from dash import Dash, html, dcc, callback, Input, Output, dash_table\n",
    "import dash_bootstrap_components as dbc\n",
    "import plotly.express as px\n",
    "import pandas as pd\n",
    "from dash_bootstrap_templates import load_figure_template"
   ]
  },
  {
   "cell_type": "code",
   "execution_count": null,
   "metadata": {},
   "outputs": [],
   "source": [
    "load_figure_template(\"flatly\")\n",
    "\n",
    "# Load the data\n",
    "athlete_events = pd.read_csv('Data/athlete_events.csv')\n",
    "\n",
    "app = Dash(__name__, external_stylesheets=[dbc.themes.FLATLY])\n",
    "\n",
    "athlete_events.head()"
   ]
  }
 ],
 "metadata": {
  "kernelspec": {
   "display_name": "Dataprocessing-Asajad-Hussein-sglkyhwr",
   "language": "python",
   "name": "python3"
  },
  "language_info": {
   "name": "python",
   "version": "3.11.5"
  },
  "orig_nbformat": 4
 },
 "nbformat": 4,
 "nbformat_minor": 2
}
