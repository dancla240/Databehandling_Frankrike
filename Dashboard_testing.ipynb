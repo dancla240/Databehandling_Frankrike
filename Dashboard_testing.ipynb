{
 "cells": [
  {
   "cell_type": "code",
   "execution_count": 6,
   "metadata": {},
   "outputs": [],
   "source": [
    "from dash import Dash, html, dcc, callback, Input, Output, dash_table\n",
    "import dash_bootstrap_components as dbc\n",
    "import plotly.express as px\n",
    "import pandas as pd\n",
    "from dash_bootstrap_templates import load_figure_template"
   ]
  },
  {
   "cell_type": "code",
   "execution_count": 28,
   "metadata": {},
   "outputs": [],
   "source": [
    "# Load the data\n",
    "athlete_events = pd.read_csv('Data/athlete_events.csv')\n",
    "athlete_events.sort_values(by='Year', inplace=True)"
   ]
  },
  {
   "cell_type": "code",
   "execution_count": 67,
   "metadata": {},
   "outputs": [
    {
     "name": "stdout",
     "output_type": "stream",
     "text": [
      "Dash app running on http://127.0.0.1:8050/\n"
     ]
    }
   ],
   "source": [
    "load_figure_template(\"flatly\")\n",
    "\n",
    "app = Dash(__name__, external_stylesheets=[dbc.themes.FLATLY])\n",
    "\n",
    "app.layout = dbc.Container([\n",
    "    dbc.Row([\n",
    "        dbc.Col([\n",
    "            html.H1('Olympic Games')\n",
    "        ], width=4),\n",
    "\n",
    "        dbc.Col([\n",
    "            html.H3('No. of competitors', style={'fontSize': '24px'}),\n",
    "            html.H3(id=\"no_competitors\")\n",
    "        ], width=2),\n",
    "    ]),\n",
    "\n",
    "    dbc.Row([\n",
    "        dbc.Col([\n",
    "            dcc.Dropdown(\n",
    "                id='year_dropdown',\n",
    "                options=[{'label': i, 'value': i} for i in athlete_events['Year'].unique()],\n",
    "                value=None\n",
    "            )\n",
    "        ], width=3),\n",
    "    ]),\n",
    "], fluid=True)\n",
    "\n",
    "@callback(\n",
    "    Output('no_competitors', 'children'),\n",
    "    Input('year_dropdown', 'value')\n",
    ")\n",
    "def update_text(year):\n",
    "    if year is None:\n",
    "        no_of_competitors = athlete_events['Name'].nunique()  # Sum of all years combined\n",
    "    else:\n",
    "        no_of_competitors = athlete_events.groupby('Year').get_group(year)['Name'].nunique()\n",
    "    return no_of_competitors\n",
    "\n",
    "app.run_server(debug=True, jupyter_mode='external')\n"
   ]
  }
 ],
 "metadata": {
  "kernelspec": {
   "display_name": "Dataprocessing-Asajad-Hussein-sglkyhwr",
   "language": "python",
   "name": "python3"
  },
  "language_info": {
   "codemirror_mode": {
    "name": "ipython",
    "version": 3
   },
   "file_extension": ".py",
   "mimetype": "text/x-python",
   "name": "python",
   "nbconvert_exporter": "python",
   "pygments_lexer": "ipython3",
   "version": "3.11.5"
  },
  "orig_nbformat": 4
 },
 "nbformat": 4,
 "nbformat_minor": 2
}
