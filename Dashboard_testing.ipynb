{
 "cells": [
  {
   "cell_type": "code",
   "execution_count": 2,
   "metadata": {},
   "outputs": [],
   "source": [
    "from dash import Dash, html, dcc, callback, Input, Output, dash_table\n",
    "import dash_bootstrap_components as dbc\n",
    "import plotly.express as px\n",
    "import pandas as pd\n",
    "from dash_bootstrap_templates import load_figure_template"
   ]
  },
  {
   "cell_type": "code",
   "execution_count": 48,
   "metadata": {},
   "outputs": [
    {
     "name": "stderr",
     "output_type": "stream",
     "text": [
      "/var/folders/qs/52nq18yx781_kc58fhrjc7n00000gn/T/ipykernel_72976/3480607003.py:16: SettingWithCopyWarning:\n",
      "\n",
      "\n",
      "A value is trying to be set on a copy of a slice from a DataFrame.\n",
      "Try using .loc[row_indexer,col_indexer] = value instead\n",
      "\n",
      "See the caveats in the documentation: https://pandas.pydata.org/pandas-docs/stable/user_guide/indexing.html#returning-a-view-versus-a-copy\n",
      "\n",
      "/var/folders/qs/52nq18yx781_kc58fhrjc7n00000gn/T/ipykernel_72976/3480607003.py:17: SettingWithCopyWarning:\n",
      "\n",
      "\n",
      "A value is trying to be set on a copy of a slice from a DataFrame\n",
      "\n",
      "See the caveats in the documentation: https://pandas.pydata.org/pandas-docs/stable/user_guide/indexing.html#returning-a-view-versus-a-copy\n",
      "\n"
     ]
    },
    {
     "data": {
      "application/vnd.plotly.v1+json": {
       "config": {
        "plotlyServerURL": "https://plot.ly"
       },
       "data": [
        {
         "alignmentgroup": "True",
         "hovertemplate": "variable=Bronze<br>value=%{x}<br>Sport=%{y}<extra></extra>",
         "legendgroup": "Bronze",
         "marker": {
          "color": "#CD7F32",
          "pattern": {
           "shape": ""
          }
         },
         "name": "Bronze",
         "offsetgroup": "Bronze",
         "orientation": "h",
         "showlegend": true,
         "textposition": "auto",
         "type": "bar",
         "x": [
          0,
          0,
          3,
          2,
          1,
          3,
          2,
          0,
          1,
          0
         ],
         "xaxis": "x",
         "y": [
          "Archery",
          "Modern Pentathlon",
          "Cycling",
          "Canoeing",
          "Judo",
          "Athletics",
          "Boxing",
          "Equestrianism",
          "Fencing",
          "Handball"
         ],
         "yaxis": "y"
        },
        {
         "alignmentgroup": "True",
         "hovertemplate": "variable=Silver<br>value=%{x}<br>Sport=%{y}<extra></extra>",
         "legendgroup": "Silver",
         "marker": {
          "color": "silver",
          "pattern": {
           "shape": ""
          }
         },
         "name": "Silver",
         "offsetgroup": "Silver",
         "orientation": "h",
         "showlegend": true,
         "textposition": "auto",
         "type": "bar",
         "x": [
          1,
          1,
          0,
          1,
          2,
          3,
          2,
          1,
          4,
          31
         ],
         "xaxis": "x",
         "y": [
          "Archery",
          "Modern Pentathlon",
          "Cycling",
          "Canoeing",
          "Judo",
          "Athletics",
          "Boxing",
          "Equestrianism",
          "Fencing",
          "Handball"
         ],
         "yaxis": "y"
        },
        {
         "alignmentgroup": "True",
         "hovertemplate": "variable=Gold<br>value=%{x}<br>Sport=%{y}<extra></extra>",
         "legendgroup": "Gold",
         "marker": {
          "color": "gold",
          "pattern": {
           "shape": ""
          }
         },
         "name": "Gold",
         "offsetgroup": "Gold",
         "orientation": "h",
         "showlegend": true,
         "textposition": "auto",
         "type": "bar",
         "x": [
          0,
          0,
          0,
          1,
          2,
          0,
          2,
          8,
          4,
          0
         ],
         "xaxis": "x",
         "y": [
          "Archery",
          "Modern Pentathlon",
          "Cycling",
          "Canoeing",
          "Judo",
          "Athletics",
          "Boxing",
          "Equestrianism",
          "Fencing",
          "Handball"
         ],
         "yaxis": "y"
        }
       ],
       "layout": {
        "barmode": "stack",
        "legend": {
         "title": {
          "text": "variable"
         },
         "tracegroupgap": 0
        },
        "margin": {
         "t": 60
        },
        "template": {
         "data": {
          "bar": [
           {
            "error_x": {
             "color": "#2a3f5f"
            },
            "error_y": {
             "color": "#2a3f5f"
            },
            "marker": {
             "line": {
              "color": "white",
              "width": 0.5
             },
             "pattern": {
              "fillmode": "overlay",
              "size": 10,
              "solidity": 0.2
             }
            },
            "type": "bar"
           }
          ],
          "barpolar": [
           {
            "marker": {
             "line": {
              "color": "white",
              "width": 0.5
             },
             "pattern": {
              "fillmode": "overlay",
              "size": 10,
              "solidity": 0.2
             }
            },
            "type": "barpolar"
           }
          ],
          "carpet": [
           {
            "aaxis": {
             "endlinecolor": "#2a3f5f",
             "gridcolor": "#C8D4E3",
             "linecolor": "#C8D4E3",
             "minorgridcolor": "#C8D4E3",
             "startlinecolor": "#2a3f5f"
            },
            "baxis": {
             "endlinecolor": "#2a3f5f",
             "gridcolor": "#C8D4E3",
             "linecolor": "#C8D4E3",
             "minorgridcolor": "#C8D4E3",
             "startlinecolor": "#2a3f5f"
            },
            "type": "carpet"
           }
          ],
          "choropleth": [
           {
            "colorbar": {
             "outlinewidth": 0,
             "ticks": ""
            },
            "type": "choropleth"
           }
          ],
          "contour": [
           {
            "colorbar": {
             "outlinewidth": 0,
             "ticks": ""
            },
            "colorscale": [
             [
              0,
              "#0d0887"
             ],
             [
              0.1111111111111111,
              "#46039f"
             ],
             [
              0.2222222222222222,
              "#7201a8"
             ],
             [
              0.3333333333333333,
              "#9c179e"
             ],
             [
              0.4444444444444444,
              "#bd3786"
             ],
             [
              0.5555555555555556,
              "#d8576b"
             ],
             [
              0.6666666666666666,
              "#ed7953"
             ],
             [
              0.7777777777777778,
              "#fb9f3a"
             ],
             [
              0.8888888888888888,
              "#fdca26"
             ],
             [
              1,
              "#f0f921"
             ]
            ],
            "type": "contour"
           }
          ],
          "contourcarpet": [
           {
            "colorbar": {
             "outlinewidth": 0,
             "ticks": ""
            },
            "type": "contourcarpet"
           }
          ],
          "heatmap": [
           {
            "colorbar": {
             "outlinewidth": 0,
             "ticks": ""
            },
            "colorscale": [
             [
              0,
              "#0d0887"
             ],
             [
              0.1111111111111111,
              "#46039f"
             ],
             [
              0.2222222222222222,
              "#7201a8"
             ],
             [
              0.3333333333333333,
              "#9c179e"
             ],
             [
              0.4444444444444444,
              "#bd3786"
             ],
             [
              0.5555555555555556,
              "#d8576b"
             ],
             [
              0.6666666666666666,
              "#ed7953"
             ],
             [
              0.7777777777777778,
              "#fb9f3a"
             ],
             [
              0.8888888888888888,
              "#fdca26"
             ],
             [
              1,
              "#f0f921"
             ]
            ],
            "type": "heatmap"
           }
          ],
          "heatmapgl": [
           {
            "colorbar": {
             "outlinewidth": 0,
             "ticks": ""
            },
            "colorscale": [
             [
              0,
              "#0d0887"
             ],
             [
              0.1111111111111111,
              "#46039f"
             ],
             [
              0.2222222222222222,
              "#7201a8"
             ],
             [
              0.3333333333333333,
              "#9c179e"
             ],
             [
              0.4444444444444444,
              "#bd3786"
             ],
             [
              0.5555555555555556,
              "#d8576b"
             ],
             [
              0.6666666666666666,
              "#ed7953"
             ],
             [
              0.7777777777777778,
              "#fb9f3a"
             ],
             [
              0.8888888888888888,
              "#fdca26"
             ],
             [
              1,
              "#f0f921"
             ]
            ],
            "type": "heatmapgl"
           }
          ],
          "histogram": [
           {
            "marker": {
             "pattern": {
              "fillmode": "overlay",
              "size": 10,
              "solidity": 0.2
             }
            },
            "type": "histogram"
           }
          ],
          "histogram2d": [
           {
            "colorbar": {
             "outlinewidth": 0,
             "ticks": ""
            },
            "colorscale": [
             [
              0,
              "#0d0887"
             ],
             [
              0.1111111111111111,
              "#46039f"
             ],
             [
              0.2222222222222222,
              "#7201a8"
             ],
             [
              0.3333333333333333,
              "#9c179e"
             ],
             [
              0.4444444444444444,
              "#bd3786"
             ],
             [
              0.5555555555555556,
              "#d8576b"
             ],
             [
              0.6666666666666666,
              "#ed7953"
             ],
             [
              0.7777777777777778,
              "#fb9f3a"
             ],
             [
              0.8888888888888888,
              "#fdca26"
             ],
             [
              1,
              "#f0f921"
             ]
            ],
            "type": "histogram2d"
           }
          ],
          "histogram2dcontour": [
           {
            "colorbar": {
             "outlinewidth": 0,
             "ticks": ""
            },
            "colorscale": [
             [
              0,
              "#0d0887"
             ],
             [
              0.1111111111111111,
              "#46039f"
             ],
             [
              0.2222222222222222,
              "#7201a8"
             ],
             [
              0.3333333333333333,
              "#9c179e"
             ],
             [
              0.4444444444444444,
              "#bd3786"
             ],
             [
              0.5555555555555556,
              "#d8576b"
             ],
             [
              0.6666666666666666,
              "#ed7953"
             ],
             [
              0.7777777777777778,
              "#fb9f3a"
             ],
             [
              0.8888888888888888,
              "#fdca26"
             ],
             [
              1,
              "#f0f921"
             ]
            ],
            "type": "histogram2dcontour"
           }
          ],
          "mesh3d": [
           {
            "colorbar": {
             "outlinewidth": 0,
             "ticks": ""
            },
            "type": "mesh3d"
           }
          ],
          "parcoords": [
           {
            "line": {
             "colorbar": {
              "outlinewidth": 0,
              "ticks": ""
             }
            },
            "type": "parcoords"
           }
          ],
          "pie": [
           {
            "automargin": true,
            "type": "pie"
           }
          ],
          "scatter": [
           {
            "marker": {
             "line": {
              "color": "#fff"
             }
            },
            "type": "scatter"
           }
          ],
          "scatter3d": [
           {
            "line": {
             "colorbar": {
              "outlinewidth": 0,
              "ticks": ""
             }
            },
            "marker": {
             "colorbar": {
              "outlinewidth": 0,
              "ticks": ""
             }
            },
            "type": "scatter3d"
           }
          ],
          "scattercarpet": [
           {
            "marker": {
             "colorbar": {
              "outlinewidth": 0,
              "ticks": ""
             }
            },
            "type": "scattercarpet"
           }
          ],
          "scattergeo": [
           {
            "marker": {
             "colorbar": {
              "outlinewidth": 0,
              "ticks": ""
             }
            },
            "type": "scattergeo"
           }
          ],
          "scattergl": [
           {
            "marker": {
             "line": {
              "color": "#fff"
             }
            },
            "type": "scattergl"
           }
          ],
          "scattermapbox": [
           {
            "marker": {
             "colorbar": {
              "outlinewidth": 0,
              "ticks": ""
             }
            },
            "type": "scattermapbox"
           }
          ],
          "scatterpolar": [
           {
            "marker": {
             "colorbar": {
              "outlinewidth": 0,
              "ticks": ""
             }
            },
            "type": "scatterpolar"
           }
          ],
          "scatterpolargl": [
           {
            "marker": {
             "colorbar": {
              "outlinewidth": 0,
              "ticks": ""
             }
            },
            "type": "scatterpolargl"
           }
          ],
          "scatterternary": [
           {
            "marker": {
             "colorbar": {
              "outlinewidth": 0,
              "ticks": ""
             }
            },
            "type": "scatterternary"
           }
          ],
          "surface": [
           {
            "colorbar": {
             "outlinewidth": 0,
             "ticks": ""
            },
            "colorscale": [
             [
              0,
              "#0d0887"
             ],
             [
              0.1111111111111111,
              "#46039f"
             ],
             [
              0.2222222222222222,
              "#7201a8"
             ],
             [
              0.3333333333333333,
              "#9c179e"
             ],
             [
              0.4444444444444444,
              "#bd3786"
             ],
             [
              0.5555555555555556,
              "#d8576b"
             ],
             [
              0.6666666666666666,
              "#ed7953"
             ],
             [
              0.7777777777777778,
              "#fb9f3a"
             ],
             [
              0.8888888888888888,
              "#fdca26"
             ],
             [
              1,
              "#f0f921"
             ]
            ],
            "type": "surface"
           }
          ],
          "table": [
           {
            "cells": {
             "fill": {
              "color": "#EBF0F8"
             },
             "line": {
              "color": "white"
             }
            },
            "header": {
             "fill": {
              "color": "#C8D4E3"
             },
             "line": {
              "color": "white"
             }
            },
            "type": "table"
           }
          ]
         },
         "layout": {
          "annotationdefaults": {
           "arrowcolor": "#2a3f5f",
           "arrowhead": 0,
           "arrowwidth": 1,
           "font": {
            "color": "#212529"
           }
          },
          "autotypenumbers": "strict",
          "coloraxis": {
           "colorbar": {
            "outlinewidth": 0,
            "ticks": ""
           }
          },
          "colorscale": {
           "diverging": [
            [
             0,
             "#8e0152"
            ],
            [
             0.1,
             "#c51b7d"
            ],
            [
             0.2,
             "#de77ae"
            ],
            [
             0.3,
             "#f1b6da"
            ],
            [
             0.4,
             "#fde0ef"
            ],
            [
             0.5,
             "#f7f7f7"
            ],
            [
             0.6,
             "#e6f5d0"
            ],
            [
             0.7,
             "#b8e186"
            ],
            [
             0.8,
             "#7fbc41"
            ],
            [
             0.9,
             "#4d9221"
            ],
            [
             1,
             "#276419"
            ]
           ],
           "sequential": [
            [
             0,
             "#2c3e50"
            ],
            [
             0.1,
             "#454553"
            ],
            [
             0.2,
             "#5d4c56"
            ],
            [
             0.30000000000000004,
             "#765359"
            ],
            [
             0.4,
             "#8f5a5c"
            ],
            [
             0.5,
             "#a7615f"
            ],
            [
             0.6000000000000001,
             "#c06861"
            ],
            [
             0.7000000000000001,
             "#d96f64"
            ],
            [
             0.8,
             "#f17667"
            ],
            [
             0.9,
             "#ff7d6a"
            ],
            [
             1,
             "#ff846d"
            ]
           ],
           "sequentialminus": [
            [
             0,
             "#0d0887"
            ],
            [
             0.1111111111111111,
             "#46039f"
            ],
            [
             0.2222222222222222,
             "#7201a8"
            ],
            [
             0.3333333333333333,
             "#9c179e"
            ],
            [
             0.4444444444444444,
             "#bd3786"
            ],
            [
             0.5555555555555556,
             "#d8576b"
            ],
            [
             0.6666666666666666,
             "#ed7953"
            ],
            [
             0.7777777777777778,
             "#fb9f3a"
            ],
            [
             0.8888888888888888,
             "#fdca26"
            ],
            [
             1,
             "#f0f921"
            ]
           ]
          },
          "colorway": [
           "#526074",
           "#b71e1d",
           "#1bbd9b",
           "#ec9d0e",
           "#78b8ff"
          ],
          "font": {
           "color": "#212529",
           "family": "Lato,-apple-system,BlinkMacSystemFont,\"Segoe UI\",Roboto,\"Helvetica Neue\",Arial,sans-serif,\"Apple Color Emoji\",\"Segoe UI Emoji\",\"Segoe UI Symbol\""
          },
          "geo": {
           "bgcolor": "#fff",
           "lakecolor": "#fff",
           "landcolor": "#fff",
           "showlakes": true,
           "showland": true,
           "subunitcolor": "#C8D4E3"
          },
          "hoverlabel": {
           "align": "left",
           "font": {
            "family": "Lato,-apple-system,BlinkMacSystemFont,\"Segoe UI\",Roboto,\"Helvetica Neue\",Arial,sans-serif,\"Apple Color Emoji\",\"Segoe UI Emoji\",\"Segoe UI Symbol\""
           }
          },
          "hovermode": "closest",
          "mapbox": {
           "style": "light"
          },
          "paper_bgcolor": "#fff",
          "piecolorway": [
           "#526074",
           "#b71e1d",
           "#1bbd9b",
           "#ec9d0e",
           "#78b8ff"
          ],
          "plot_bgcolor": "#fff",
          "polar": {
           "angularaxis": {
            "gridcolor": "#EBF0F8",
            "linecolor": "#EBF0F8",
            "ticks": ""
           },
           "bgcolor": "white",
           "radialaxis": {
            "gridcolor": "#EBF0F8",
            "linecolor": "#EBF0F8",
            "ticks": ""
           }
          },
          "scene": {
           "xaxis": {
            "backgroundcolor": "white",
            "gridcolor": "#DFE8F3",
            "gridwidth": 2,
            "linecolor": "#EBF0F8",
            "showbackground": true,
            "ticks": "",
            "zerolinecolor": "#EBF0F8"
           },
           "yaxis": {
            "backgroundcolor": "white",
            "gridcolor": "#DFE8F3",
            "gridwidth": 2,
            "linecolor": "#EBF0F8",
            "showbackground": true,
            "ticks": "",
            "zerolinecolor": "#EBF0F8"
           },
           "zaxis": {
            "backgroundcolor": "white",
            "gridcolor": "#DFE8F3",
            "gridwidth": 2,
            "linecolor": "#EBF0F8",
            "showbackground": true,
            "ticks": "",
            "zerolinecolor": "#EBF0F8"
           }
          },
          "shapedefaults": {
           "line": {
            "color": "#2a3f5f"
           }
          },
          "ternary": {
           "aaxis": {
            "gridcolor": "#DFE8F3",
            "linecolor": "#A2B1C6",
            "ticks": ""
           },
           "baxis": {
            "gridcolor": "#DFE8F3",
            "linecolor": "#A2B1C6",
            "ticks": ""
           },
           "bgcolor": "white",
           "caxis": {
            "gridcolor": "#DFE8F3",
            "linecolor": "#A2B1C6",
            "ticks": ""
           }
          },
          "title": {
           "x": 0.05
          },
          "xaxis": {
           "automargin": true,
           "gridcolor": "#edeeee",
           "gridwidth": 0.5,
           "linecolor": "#EBF0F8",
           "ticks": "",
           "title": {
            "standoff": 15
           },
           "zerolinecolor": "#edeeee",
           "zerolinewidth": 2
          },
          "yaxis": {
           "automargin": true,
           "gridcolor": "#edeeee",
           "gridwidth": 0.5,
           "linecolor": "#EBF0F8",
           "ticks": "",
           "title": {
            "standoff": 15
           },
           "zerolinecolor": "#edeeee",
           "zerolinewidth": 2
          }
         }
        },
        "xaxis": {
         "anchor": "y",
         "domain": [
          0,
          1
         ],
         "title": {
          "text": "value"
         }
        },
        "yaxis": {
         "anchor": "x",
         "domain": [
          0,
          1
         ],
         "title": {
          "text": "Sport"
         }
        }
       }
      }
     },
     "metadata": {},
     "output_type": "display_data"
    }
   ],
   "source": [
    "# Load the data\n",
    "athlete_events = pd.read_csv('Data/athlete_events.csv')\n",
    "athlete_events.sort_values(by='Year', inplace=True, ascending=False)\n",
    "\n",
    "filtered_data = athlete_events[(athlete_events['NOC'] == 'FRA') & (athlete_events['Year'] == 2016)]\n",
    "\n",
    "# Calculate the medal count for each sport\n",
    "medal_counts = filtered_data.pivot_table(index='Sport', columns='Medal', values='ID', aggfunc='count', fill_value=0)\n",
    "\n",
    "# Rename the columns\n",
    "medal_counts.columns = ['Bronze', 'Gold', 'Silver']\n",
    "medal_counts\n",
    "# Sort the dataframe by medal count in descending order\n",
    "# Display the top 10 sports with medal counts\n",
    "medal_top_10_sports = medal_counts.head(10)\n",
    "medal_top_10_sports['Total'] = medal_top_10_sports.sum(axis=1)\n",
    "medal_top_10_sports.sort_values(by='Total', inplace=True, ascending=True)\n",
    "\n",
    "# Create a horizontal stacked bar chart for medal breakdown by athlete for the selected country and sport\n",
    "fig_sports = px.bar(medal_top_10_sports, y=medal_top_10_sports.index, x=['Bronze', 'Silver', 'Gold'], barmode='stack', orientation='h')\n",
    "fig_sports.update_traces(marker_color='#CD7F32', selector=dict(name='Bronze'))\n",
    "fig_sports.update_traces(marker_color='silver', selector=dict(name='Silver'))\n",
    "fig_sports.update_traces(marker_color='gold', selector=dict(name='Gold'))"
   ]
  },
  {
   "cell_type": "code",
   "execution_count": 49,
   "metadata": {},
   "outputs": [
    {
     "name": "stdout",
     "output_type": "stream",
     "text": [
      "Dash app running on http://127.0.0.1:8050/\n"
     ]
    },
    {
     "name": "stderr",
     "output_type": "stream",
     "text": [
      "/var/folders/qs/52nq18yx781_kc58fhrjc7n00000gn/T/ipykernel_72976/161380851.py:122: SettingWithCopyWarning:\n",
      "\n",
      "\n",
      "A value is trying to be set on a copy of a slice from a DataFrame.\n",
      "Try using .loc[row_indexer,col_indexer] = value instead\n",
      "\n",
      "See the caveats in the documentation: https://pandas.pydata.org/pandas-docs/stable/user_guide/indexing.html#returning-a-view-versus-a-copy\n",
      "\n",
      "/var/folders/qs/52nq18yx781_kc58fhrjc7n00000gn/T/ipykernel_72976/161380851.py:123: SettingWithCopyWarning:\n",
      "\n",
      "\n",
      "A value is trying to be set on a copy of a slice from a DataFrame\n",
      "\n",
      "See the caveats in the documentation: https://pandas.pydata.org/pandas-docs/stable/user_guide/indexing.html#returning-a-view-versus-a-copy\n",
      "\n",
      "/var/folders/qs/52nq18yx781_kc58fhrjc7n00000gn/T/ipykernel_72976/161380851.py:135: SettingWithCopyWarning:\n",
      "\n",
      "\n",
      "A value is trying to be set on a copy of a slice from a DataFrame.\n",
      "Try using .loc[row_indexer,col_indexer] = value instead\n",
      "\n",
      "See the caveats in the documentation: https://pandas.pydata.org/pandas-docs/stable/user_guide/indexing.html#returning-a-view-versus-a-copy\n",
      "\n",
      "/var/folders/qs/52nq18yx781_kc58fhrjc7n00000gn/T/ipykernel_72976/161380851.py:136: SettingWithCopyWarning:\n",
      "\n",
      "\n",
      "A value is trying to be set on a copy of a slice from a DataFrame\n",
      "\n",
      "See the caveats in the documentation: https://pandas.pydata.org/pandas-docs/stable/user_guide/indexing.html#returning-a-view-versus-a-copy\n",
      "\n",
      "/var/folders/qs/52nq18yx781_kc58fhrjc7n00000gn/T/ipykernel_72976/161380851.py:281: SettingWithCopyWarning:\n",
      "\n",
      "\n",
      "A value is trying to be set on a copy of a slice from a DataFrame.\n",
      "Try using .loc[row_indexer,col_indexer] = value instead\n",
      "\n",
      "See the caveats in the documentation: https://pandas.pydata.org/pandas-docs/stable/user_guide/indexing.html#returning-a-view-versus-a-copy\n",
      "\n",
      "/var/folders/qs/52nq18yx781_kc58fhrjc7n00000gn/T/ipykernel_72976/161380851.py:282: SettingWithCopyWarning:\n",
      "\n",
      "\n",
      "A value is trying to be set on a copy of a slice from a DataFrame\n",
      "\n",
      "See the caveats in the documentation: https://pandas.pydata.org/pandas-docs/stable/user_guide/indexing.html#returning-a-view-versus-a-copy\n",
      "\n",
      "/var/folders/qs/52nq18yx781_kc58fhrjc7n00000gn/T/ipykernel_72976/161380851.py:294: SettingWithCopyWarning:\n",
      "\n",
      "\n",
      "A value is trying to be set on a copy of a slice from a DataFrame.\n",
      "Try using .loc[row_indexer,col_indexer] = value instead\n",
      "\n",
      "See the caveats in the documentation: https://pandas.pydata.org/pandas-docs/stable/user_guide/indexing.html#returning-a-view-versus-a-copy\n",
      "\n",
      "/var/folders/qs/52nq18yx781_kc58fhrjc7n00000gn/T/ipykernel_72976/161380851.py:295: SettingWithCopyWarning:\n",
      "\n",
      "\n",
      "A value is trying to be set on a copy of a slice from a DataFrame\n",
      "\n",
      "See the caveats in the documentation: https://pandas.pydata.org/pandas-docs/stable/user_guide/indexing.html#returning-a-view-versus-a-copy\n",
      "\n",
      "/var/folders/qs/52nq18yx781_kc58fhrjc7n00000gn/T/ipykernel_72976/161380851.py:403: SettingWithCopyWarning:\n",
      "\n",
      "\n",
      "A value is trying to be set on a copy of a slice from a DataFrame.\n",
      "Try using .loc[row_indexer,col_indexer] = value instead\n",
      "\n",
      "See the caveats in the documentation: https://pandas.pydata.org/pandas-docs/stable/user_guide/indexing.html#returning-a-view-versus-a-copy\n",
      "\n",
      "/var/folders/qs/52nq18yx781_kc58fhrjc7n00000gn/T/ipykernel_72976/161380851.py:404: SettingWithCopyWarning:\n",
      "\n",
      "\n",
      "A value is trying to be set on a copy of a slice from a DataFrame\n",
      "\n",
      "See the caveats in the documentation: https://pandas.pydata.org/pandas-docs/stable/user_guide/indexing.html#returning-a-view-versus-a-copy\n",
      "\n",
      "/var/folders/qs/52nq18yx781_kc58fhrjc7n00000gn/T/ipykernel_72976/161380851.py:416: SettingWithCopyWarning:\n",
      "\n",
      "\n",
      "A value is trying to be set on a copy of a slice from a DataFrame.\n",
      "Try using .loc[row_indexer,col_indexer] = value instead\n",
      "\n",
      "See the caveats in the documentation: https://pandas.pydata.org/pandas-docs/stable/user_guide/indexing.html#returning-a-view-versus-a-copy\n",
      "\n",
      "/var/folders/qs/52nq18yx781_kc58fhrjc7n00000gn/T/ipykernel_72976/161380851.py:281: SettingWithCopyWarning:\n",
      "\n",
      "\n",
      "A value is trying to be set on a copy of a slice from a DataFrame.\n",
      "Try using .loc[row_indexer,col_indexer] = value instead\n",
      "\n",
      "See the caveats in the documentation: https://pandas.pydata.org/pandas-docs/stable/user_guide/indexing.html#returning-a-view-versus-a-copy\n",
      "\n",
      "/var/folders/qs/52nq18yx781_kc58fhrjc7n00000gn/T/ipykernel_72976/161380851.py:282: SettingWithCopyWarning:\n",
      "\n",
      "\n",
      "A value is trying to be set on a copy of a slice from a DataFrame\n",
      "\n",
      "See the caveats in the documentation: https://pandas.pydata.org/pandas-docs/stable/user_guide/indexing.html#returning-a-view-versus-a-copy\n",
      "\n",
      "/var/folders/qs/52nq18yx781_kc58fhrjc7n00000gn/T/ipykernel_72976/161380851.py:294: SettingWithCopyWarning:\n",
      "\n",
      "\n",
      "A value is trying to be set on a copy of a slice from a DataFrame.\n",
      "Try using .loc[row_indexer,col_indexer] = value instead\n",
      "\n",
      "See the caveats in the documentation: https://pandas.pydata.org/pandas-docs/stable/user_guide/indexing.html#returning-a-view-versus-a-copy\n",
      "\n",
      "/var/folders/qs/52nq18yx781_kc58fhrjc7n00000gn/T/ipykernel_72976/161380851.py:295: SettingWithCopyWarning:\n",
      "\n",
      "\n",
      "A value is trying to be set on a copy of a slice from a DataFrame\n",
      "\n",
      "See the caveats in the documentation: https://pandas.pydata.org/pandas-docs/stable/user_guide/indexing.html#returning-a-view-versus-a-copy\n",
      "\n",
      "/var/folders/qs/52nq18yx781_kc58fhrjc7n00000gn/T/ipykernel_72976/161380851.py:342: SettingWithCopyWarning:\n",
      "\n",
      "\n",
      "A value is trying to be set on a copy of a slice from a DataFrame.\n",
      "Try using .loc[row_indexer,col_indexer] = value instead\n",
      "\n",
      "See the caveats in the documentation: https://pandas.pydata.org/pandas-docs/stable/user_guide/indexing.html#returning-a-view-versus-a-copy\n",
      "\n",
      "/var/folders/qs/52nq18yx781_kc58fhrjc7n00000gn/T/ipykernel_72976/161380851.py:343: SettingWithCopyWarning:\n",
      "\n",
      "\n",
      "A value is trying to be set on a copy of a slice from a DataFrame\n",
      "\n",
      "See the caveats in the documentation: https://pandas.pydata.org/pandas-docs/stable/user_guide/indexing.html#returning-a-view-versus-a-copy\n",
      "\n",
      "/var/folders/qs/52nq18yx781_kc58fhrjc7n00000gn/T/ipykernel_72976/161380851.py:355: SettingWithCopyWarning:\n",
      "\n",
      "\n",
      "A value is trying to be set on a copy of a slice from a DataFrame.\n",
      "Try using .loc[row_indexer,col_indexer] = value instead\n",
      "\n",
      "See the caveats in the documentation: https://pandas.pydata.org/pandas-docs/stable/user_guide/indexing.html#returning-a-view-versus-a-copy\n",
      "\n",
      "/var/folders/qs/52nq18yx781_kc58fhrjc7n00000gn/T/ipykernel_72976/161380851.py:356: SettingWithCopyWarning:\n",
      "\n",
      "\n",
      "A value is trying to be set on a copy of a slice from a DataFrame\n",
      "\n",
      "See the caveats in the documentation: https://pandas.pydata.org/pandas-docs/stable/user_guide/indexing.html#returning-a-view-versus-a-copy\n",
      "\n",
      "/var/folders/qs/52nq18yx781_kc58fhrjc7n00000gn/T/ipykernel_72976/161380851.py:184: SettingWithCopyWarning:\n",
      "\n",
      "\n",
      "A value is trying to be set on a copy of a slice from a DataFrame.\n",
      "Try using .loc[row_indexer,col_indexer] = value instead\n",
      "\n",
      "See the caveats in the documentation: https://pandas.pydata.org/pandas-docs/stable/user_guide/indexing.html#returning-a-view-versus-a-copy\n",
      "\n",
      "/var/folders/qs/52nq18yx781_kc58fhrjc7n00000gn/T/ipykernel_72976/161380851.py:185: SettingWithCopyWarning:\n",
      "\n",
      "\n",
      "A value is trying to be set on a copy of a slice from a DataFrame\n",
      "\n",
      "See the caveats in the documentation: https://pandas.pydata.org/pandas-docs/stable/user_guide/indexing.html#returning-a-view-versus-a-copy\n",
      "\n",
      "/var/folders/qs/52nq18yx781_kc58fhrjc7n00000gn/T/ipykernel_72976/161380851.py:464: SettingWithCopyWarning:\n",
      "\n",
      "\n",
      "A value is trying to be set on a copy of a slice from a DataFrame.\n",
      "Try using .loc[row_indexer,col_indexer] = value instead\n",
      "\n",
      "See the caveats in the documentation: https://pandas.pydata.org/pandas-docs/stable/user_guide/indexing.html#returning-a-view-versus-a-copy\n",
      "\n",
      "/var/folders/qs/52nq18yx781_kc58fhrjc7n00000gn/T/ipykernel_72976/161380851.py:465: SettingWithCopyWarning:\n",
      "\n",
      "\n",
      "A value is trying to be set on a copy of a slice from a DataFrame\n",
      "\n",
      "See the caveats in the documentation: https://pandas.pydata.org/pandas-docs/stable/user_guide/indexing.html#returning-a-view-versus-a-copy\n",
      "\n",
      "/var/folders/qs/52nq18yx781_kc58fhrjc7n00000gn/T/ipykernel_72976/161380851.py:477: SettingWithCopyWarning:\n",
      "\n",
      "\n",
      "A value is trying to be set on a copy of a slice from a DataFrame.\n",
      "Try using .loc[row_indexer,col_indexer] = value instead\n",
      "\n",
      "See the caveats in the documentation: https://pandas.pydata.org/pandas-docs/stable/user_guide/indexing.html#returning-a-view-versus-a-copy\n",
      "\n",
      "/var/folders/qs/52nq18yx781_kc58fhrjc7n00000gn/T/ipykernel_72976/161380851.py:184: SettingWithCopyWarning:\n",
      "\n",
      "\n",
      "A value is trying to be set on a copy of a slice from a DataFrame.\n",
      "Try using .loc[row_indexer,col_indexer] = value instead\n",
      "\n",
      "See the caveats in the documentation: https://pandas.pydata.org/pandas-docs/stable/user_guide/indexing.html#returning-a-view-versus-a-copy\n",
      "\n",
      "/var/folders/qs/52nq18yx781_kc58fhrjc7n00000gn/T/ipykernel_72976/161380851.py:185: SettingWithCopyWarning:\n",
      "\n",
      "\n",
      "A value is trying to be set on a copy of a slice from a DataFrame\n",
      "\n",
      "See the caveats in the documentation: https://pandas.pydata.org/pandas-docs/stable/user_guide/indexing.html#returning-a-view-versus-a-copy\n",
      "\n",
      "/var/folders/qs/52nq18yx781_kc58fhrjc7n00000gn/T/ipykernel_72976/161380851.py:122: SettingWithCopyWarning:\n",
      "\n",
      "\n",
      "A value is trying to be set on a copy of a slice from a DataFrame.\n",
      "Try using .loc[row_indexer,col_indexer] = value instead\n",
      "\n",
      "See the caveats in the documentation: https://pandas.pydata.org/pandas-docs/stable/user_guide/indexing.html#returning-a-view-versus-a-copy\n",
      "\n",
      "/var/folders/qs/52nq18yx781_kc58fhrjc7n00000gn/T/ipykernel_72976/161380851.py:123: SettingWithCopyWarning:\n",
      "\n",
      "\n",
      "A value is trying to be set on a copy of a slice from a DataFrame\n",
      "\n",
      "See the caveats in the documentation: https://pandas.pydata.org/pandas-docs/stable/user_guide/indexing.html#returning-a-view-versus-a-copy\n",
      "\n",
      "/var/folders/qs/52nq18yx781_kc58fhrjc7n00000gn/T/ipykernel_72976/161380851.py:135: SettingWithCopyWarning:\n",
      "\n",
      "\n",
      "A value is trying to be set on a copy of a slice from a DataFrame.\n",
      "Try using .loc[row_indexer,col_indexer] = value instead\n",
      "\n",
      "See the caveats in the documentation: https://pandas.pydata.org/pandas-docs/stable/user_guide/indexing.html#returning-a-view-versus-a-copy\n",
      "\n",
      "/var/folders/qs/52nq18yx781_kc58fhrjc7n00000gn/T/ipykernel_72976/161380851.py:136: SettingWithCopyWarning:\n",
      "\n",
      "\n",
      "A value is trying to be set on a copy of a slice from a DataFrame\n",
      "\n",
      "See the caveats in the documentation: https://pandas.pydata.org/pandas-docs/stable/user_guide/indexing.html#returning-a-view-versus-a-copy\n",
      "\n"
     ]
    }
   ],
   "source": [
    "# Load the 'flatly' theme for the Dash application\n",
    "load_figure_template(\"flatly\")\n",
    "\n",
    "# Initialize a Dash app with the 'flatly' theme\n",
    "app = Dash(__name__, external_stylesheets=[dbc.themes.FLATLY])\n",
    "\n",
    "# Define the layout of the app using the Dash Bootstrap Components (dbc)\n",
    "app.layout = dbc.Container([\n",
    "    dbc.Row([\n",
    "        dbc.Col([\n",
    "            html.H1('Previous Page')\n",
    "        ], width=3),\n",
    "        dbc.Col([\n",
    "            html.H1('Next Page')\n",
    "        ], width=3),\n",
    "    ]),\n",
    "\n",
    "    # First Row: Filters for Year, Nation Code, and Sport and also the Title\n",
    "    dbc.Row([\n",
    "        dbc.Col([\n",
    "            dbc.Row([\n",
    "                html.H1('Olympic Games', style={'fontSize': '30px', 'border-width': '0px', 'border-style': 'solid', 'border-radius': '20px', 'box-shadow': '0px 0px 14px 5px rgba(32,73,179,0.75)', 'text-align': 'center', 'padding-top': '10px', 'padding-bottom': '10px'}),\n",
    "            ], justify='center', style={}),\n",
    "            dbc.Row([\n",
    "                dbc.Col([\n",
    "                    html.H3('Year', style={'fontSize': '24px'}, className=\"mt-2\"),\n",
    "                    dcc.Dropdown(\n",
    "                        id='year_dropdown',\n",
    "                        options=[{'label': i, 'value': i} for i in athlete_events['Year'].unique()],\n",
    "                        value=None,\n",
    "                        style={'width': '95%'}\n",
    "                    ),\n",
    "                ], width = 3, style={'border-color': 'black', 'border-width': '0px', 'border-style': 'solid', 'border-radius': '20px', 'box-shadow': '0px 0px 14px 5px rgba(32,73,179,0.75)', 'text-align': 'center', 'margin-top': '10px', 'margin-right': '10px'}),\n",
    "                dbc.Col([\n",
    "                    html.H3('Nation Code', style={'fontSize': '24px'}, className=\"mt-2\"),\n",
    "                    dcc.Dropdown(\n",
    "                        id='country_dropdown',\n",
    "                        options=[{'label': i, 'value': i} for i in athlete_events['NOC'].unique()],\n",
    "                        value=None,\n",
    "                        style={'width': '95%'}\n",
    "                    ),\n",
    "                ], width = 3, style={'border-color': 'black', 'border-width': '0px', 'border-style': 'solid', 'border-radius': '20px', 'box-shadow': '0px 0px 14px 5px rgba(32,73,179,0.75)', 'text-align': 'center', 'margin-top': '10px', 'margin-right': '10px'}),\n",
    "                dbc.Col([\n",
    "                    html.Div(\n",
    "                        [html.H3('Sport', style={'fontSize': '24px'}, className=\"mt-2\"),\n",
    "                        dcc.Dropdown(\n",
    "                            id='sport_dropdown',\n",
    "                            options=[{'label': i, 'value': i} for i in athlete_events['Sport'].unique()],\n",
    "                            value=None,\n",
    "                            style={'width': '95%'}\n",
    "                        )],\n",
    "                    ),\n",
    "                ], width=3, style={'border-color': 'black', 'border-width': '0px', 'border-style': 'solid', 'border-radius': '20px', 'box-shadow': '0px 0px 14px 5px rgba(32,73,179,0.75)', 'text-align': 'center', 'margin-top': '10px', 'margin-right': '10px'}),\n",
    "            ])\n",
    "        ], xs=11, sm=11, md=10, lg=4),\n",
    "\n",
    "        # Second Column: Display number of competitors and number of medals\n",
    "        dbc.Col([\n",
    "            html.Div(\n",
    "                [html.H3('No. of competitors:', style={'fontSize': '20px', }),\n",
    "                html.H3(id=\"no_competitors\")],\n",
    "                style={'border-color': 'black', 'border-width': '0px', 'border-style': 'solid', 'border-radius': '20px', 'box-shadow': '0px 0px 14px 5px rgba(32,73,179,0.75)', 'text-align': 'center', 'margin-right': '10px'}\n",
    "            ),\n",
    "            html.Div(\n",
    "                [html.H3('No. of Medals:', style={'fontSize': '20px'}),\n",
    "                html.H3(id=\"no_medals\")],\n",
    "                style={'border-color': 'black', 'border-width': '0px', 'border-style': 'solid', 'border-radius': '20px', 'box-shadow': '0px 0px 14px 5px rgba(32,73,179,0.75)', 'text-align': 'center', 'margin-top': '10px', 'margin-right': '10px'}\n",
    "            )\n",
    "        ], xs=11, sm=11, md=10, lg=2),\n",
    "\n",
    "        # Third Column: Medal Breakdown by Top 10 Sports & Type\n",
    "        dbc.Col([\n",
    "            html.H3('Medal Breakdown By Top 10 Sports & Type', style={'fontSize': '16px'}),\n",
    "            dcc.Graph(id='medal_breakdown_sport')\n",
    "        ], xs=11, sm=11, md=10, lg=3, style={'border-color': 'black', 'border-width': '0px', 'border-style': 'solid', 'border-radius': '20px', 'box-shadow': '0px 0px 14px 5px rgba(32,73,179,0.75)', 'margin-right': 'auto'}),\n",
    "\n",
    "        # Fourth Column: Medal Breakdown By Top 10 Athlete & Type\n",
    "        dbc.Col([\n",
    "            html.H3('Medal breakdown By Top 10 Athlete & Type', style={'fontSize': '16px'}),\n",
    "            dcc.Graph(id='medal_breakdown_athlete')\n",
    "        ], xs=11, sm=11, md=10, lg=3, style={'border-color': 'black', 'border-width': '0px', 'border-style': 'solid', 'border-radius': '20px', 'box-shadow': '0px 0px 14px 5px rgba(32,73,179,0.75)', 'margin-right': 'auto'}),    \n",
    "    ], justify='center', style={'margin-top': '20px'}),\n",
    "\n",
    "    # Second Row: Pie charts for competitor gender and medal gender\n",
    "    dbc.Row([\n",
    "        dbc.Col([\n",
    "            dcc.Graph(id='pie_chart_competitor_gender', style={'margin-top': '20px'}),\n",
    "        ], xs=11, sm=11, md=10, lg=4, style={'border-color': 'black', 'border-width': '0px', 'border-style': 'solid', 'border-radius': '20px', 'box-shadow': '0px 0px 14px 5px rgba(32,73,179,0.75)', 'margin': 'auto'}),\n",
    "\n",
    "        dbc.Col([\n",
    "            dcc.Graph(id=\"pie_chart_medal_gender\", style={'margin-top': '20px'}),\n",
    "        ], xs=11, sm=11, md=10, lg=4, style={'border-color': 'black', 'border-width': '0px', 'border-style': 'solid', 'border-radius': '20px', 'box-shadow': '0px 0px 14px 5px rgba(32,73,179,0.75)', 'margin': 'auto'}),\n",
    "    ])\n",
    "], fluid=True)\n",
    "\n",
    "\n",
    "# Define a callback function that updates multiple components in the app based on user inputs\n",
    "@callback(\n",
    "    Output('no_competitors', 'children'),\n",
    "    Output('no_medals', 'children'),\n",
    "    Output('medal_breakdown_sport', 'figure'),\n",
    "    Output('medal_breakdown_athlete', 'figure'),\n",
    "    Output('pie_chart_competitor_gender', 'figure'),\n",
    "    Output('pie_chart_medal_gender', 'figure'),\n",
    "    Input('year_dropdown', 'value'),\n",
    "    Input('country_dropdown', 'value'),\n",
    "    Input('sport_dropdown', 'value'),\n",
    ")\n",
    "def update_graph(year, country, sport):\n",
    "    # If no specific filters are applied, provide overall statistics\n",
    "    if year is None and country is None and sport is None:\n",
    "        # Calculate the total number of unique competitors\n",
    "        no_of_competitors = athlete_events['Name'].nunique()\n",
    "\n",
    "        # Calculate the total number of medals\n",
    "        no_of_medals = athlete_events['Medal'].count()\n",
    "\n",
    "        # Medal breakdown by sport for the top 10 sports with the most medals\n",
    "        medal_breakdown = athlete_events.groupby(['Sport', 'Medal'])['Medal'].count().reset_index(name='Count')\n",
    "        top_10_sports = medal_breakdown.groupby('Sport')['Count'].sum().nlargest(10).index\n",
    "        top_10_sports_medal_breakdown = medal_breakdown[medal_breakdown['Sport'].isin(top_10_sports)]\n",
    "        top_10_sports_medal_breakdown['Total'] = top_10_sports_medal_breakdown.groupby('Sport')['Count'].transform('sum')\n",
    "        top_10_sports_medal_breakdown.sort_values(by='Total', ascending=True, inplace=True)\n",
    "\n",
    "        # Create a horizontal stacked bar chart for medal breakdown by sport\n",
    "        fig_sports = px.bar(top_10_sports_medal_breakdown, y='Sport', x='Count', color='Medal', barmode='stack', orientation='h')\n",
    "        fig_sports.update_traces(marker_color='#CD7F32', selector=dict(name='Bronze'))\n",
    "        fig_sports.update_traces(marker_color='silver', selector=dict(name='Silver'))\n",
    "        fig_sports.update_traces(marker_color='gold', selector=dict(name='Gold'))\n",
    "\n",
    "        # Medal breakdown by athlete for the top 10 athletes with the most medals\n",
    "        athlete_medal_count = athlete_events.groupby(['Name', 'Medal'])['Medal'].count().reset_index(name='Count')\n",
    "        top_10_athletes = athlete_medal_count.groupby('Name')['Count'].sum().nlargest(10).index\n",
    "        top_10_athletes_medal_breakdown = athlete_medal_count[athlete_medal_count['Name'].isin(top_10_athletes)]\n",
    "        top_10_athletes_medal_breakdown['Total'] = top_10_athletes_medal_breakdown.groupby('Name')['Count'].transform('sum')\n",
    "        top_10_athletes_medal_breakdown.sort_values(by='Total', ascending=True, inplace=True)\n",
    "\n",
    "        # Create a horizontal stacked bar chart for medal breakdown by athlete\n",
    "        fig_athletes = px.bar(top_10_athletes_medal_breakdown, y='Name', x='Count', color='Medal', barmode='stack', orientation='h')\n",
    "        fig_athletes.update_traces(marker_color='#CD7F32', selector=dict(name='Bronze'))\n",
    "        fig_athletes.update_traces(marker_color='silver', selector=dict(name='Silver'))\n",
    "        fig_athletes.update_traces(marker_color='gold', selector=dict(name='Gold'))\n",
    "\n",
    "        # Create a pie chart for competitors by gender\n",
    "        unique_competitors = athlete_events[['Name', 'Sex']].drop_duplicates()\n",
    "        sex_counts = unique_competitors['Sex'].value_counts()\n",
    "        pie_chart_competitors = px.pie(names=['Women', 'Men'], values=sex_counts.values, title=\"Competitors by gender\")\n",
    "        pie_chart_competitors.update_traces(textposition='inside', textinfo='percent+label')\n",
    "        pie_chart_competitors.update_layout(showlegend=False)\n",
    "\n",
    "        # Create a pie chart for the proportion of medals won by women and men\n",
    "        medal_gender_counts = athlete_events.groupby(['Sex', 'Medal'])['Medal'].count().reset_index(name='Count')\n",
    "        women_counts = medal_gender_counts[medal_gender_counts['Sex'] == 'F']\n",
    "        men_counts = medal_gender_counts[medal_gender_counts['Sex'] == 'M']\n",
    "        pie_chart_medals = px.pie(names=['Women', 'Men'], values=[women_counts['Count'].sum(), men_counts['Count'].sum()], title='Proportion of Medals Won by Gender')\n",
    "        pie_chart_medals.update_traces(textposition='inside', textinfo='percent+label')\n",
    "        pie_chart_medals.update_layout(showlegend=False)\n",
    "\n",
    "    # Check if only the 'sport' filter is applied (year and country are None)\n",
    "    elif year is None and country is None:\n",
    "        # Calculate the number of competitors for the selected sport\n",
    "        no_of_competitors = athlete_events.groupby('Sport').get_group(sport)['Name'].nunique()\n",
    "\n",
    "        # Calculate the total number of medals for the selected sport\n",
    "        no_of_medals = athlete_events.groupby('Sport').get_group(sport)['Medal'].count()\n",
    "\n",
    "        # Medal breakdown by sport for the selected sport\n",
    "        medal_breakdown = athlete_events[athlete_events['Sport'] == sport].groupby(['Sport', 'Medal'])['Medal'].count().reset_index(name='Count')\n",
    "        top_10_sports = medal_breakdown.groupby('Sport')['Count'].sum().nlargest(10).index\n",
    "        top_10_sports_medal_breakdown = medal_breakdown[medal_breakdown['Sport'].isin(top_10_sports)]\n",
    "        top_10_sports_medal_breakdown['Total'] = top_10_sports_medal_breakdown.groupby('Sport')['Count'].transform('sum')\n",
    "        top_10_sports_medal_breakdown.sort_values(by='Total', ascending=True, inplace=True)\n",
    "\n",
    "        # Create a horizontal stacked bar chart for medal breakdown by sport\n",
    "        fig_sports = px.bar(top_10_sports_medal_breakdown, y='Sport', x='Count', color='Medal', barmode='stack', orientation='h')\n",
    "        fig_sports.update_traces(marker_color='#CD7F32', selector=dict(name='Bronze'))\n",
    "        fig_sports.update_traces(marker_color='silver', selector=dict(name='Silver'))\n",
    "        fig_sports.update_traces(marker_color='gold', selector=dict(name='Gold'))\n",
    "\n",
    "        # Medal breakdown by athlete for the selected sport\n",
    "        athlete_medal_count = athlete_events[athlete_events['Sport'] == sport].groupby(['Name', 'Medal'])['Medal'].count().reset_index(name='Count')\n",
    "        top_10_athletes = athlete_medal_count.groupby('Name')['Count'].sum().nlargest(10).index\n",
    "        top_10_athletes_medal_breakdown = athlete_medal_count[athlete_medal_count['Name'].isin(top_10_athletes)]\n",
    "        top_10_athletes_medal_breakdown['Total'] = top_10_athletes_medal_breakdown.groupby('Name')['Count'].transform('sum')\n",
    "        top_10_athletes_medal_breakdown.sort_values(by='Total', ascending=True, inplace=True)\n",
    "\n",
    "        # Create a horizontal stacked bar chart for medal breakdown by athlete\n",
    "        fig_athletes = px.bar(top_10_athletes_medal_breakdown, y='Name', x='Count', color='Medal', barmode='stack', orientation='h')\n",
    "        fig_athletes.update_traces(marker_color='#CD7F32', selector=dict(name='Bronze'))\n",
    "        fig_athletes.update_traces(marker_color='silver', selector=dict(name='Silver'))\n",
    "        fig_athletes.update_traces(marker_color='gold', selector=dict(name='Gold'))\n",
    "\n",
    "        # Create a pie chart for competitors by gender for the selected sport\n",
    "        unique_competitors = athlete_events[['Name', 'Sex', 'Sport']].drop_duplicates().groupby('Sport').get_group(sport)\n",
    "        sex_counts = unique_competitors['Sex'].value_counts()\n",
    "        pie_chart_competitors = px.pie(names=['Women', 'Men'], values=sex_counts.values, title=\"Competitors by gender\", width=350, height=350)\n",
    "        pie_chart_competitors.update_traces(textposition='inside', textinfo='percent+label')\n",
    "        pie_chart_competitors.update_layout(showlegend=False)\n",
    "\n",
    "        # Medal breakdown by gender for the selected sport\n",
    "        medal_gender_counts = athlete_events[['Sex', 'Sport', 'Medal']].groupby(['Sport']).get_group(sport).dropna()\n",
    "\n",
    "        # Filter the counts for women and men\n",
    "        medal_counts_men = medal_gender_counts[medal_gender_counts['Sex'] == 'M'].value_counts().sum()\n",
    "        medal_counts_women = medal_gender_counts[medal_gender_counts['Sex'] == 'F'].value_counts().sum()\n",
    "\n",
    "        # Create a pie chart for the proportion of medals won by women and men\n",
    "        pie_chart_medals = px.pie(names=['Women', 'Men'], values=[medal_counts_women, medal_counts_men], title='Proportion of Medals Won by Gender', width=350, height=350)\n",
    "\n",
    "        # Show the percentage labels on the pie chart\n",
    "        pie_chart_medals.update_traces(textposition='inside', textinfo='percent+label')\n",
    "        pie_chart_medals.update_layout(showlegend=False)\n",
    "\n",
    "    # Check if only the 'country' filter is applied (year and sport are None)\n",
    "    elif year is None and sport is None:\n",
    "        # Calculate the number of competitors for the selected country\n",
    "        no_of_competitors = athlete_events.groupby('NOC').get_group(country)['Name'].nunique()\n",
    "\n",
    "        # Calculate the total number of medals for the selected country\n",
    "        no_of_medals = athlete_events.groupby('NOC').get_group(country)['Medal'].count()\n",
    "\n",
    "        # Medal breakdown by sport for the selected country\n",
    "        medal_breakdown = athlete_events[athlete_events['NOC'] == country].groupby(['Sport', 'Medal'])['Medal'].count().reset_index(name='Count')\n",
    "        top_10_sports = medal_breakdown.groupby('Sport')['Count'].sum().nlargest(10).index\n",
    "        top_10_sports_medal_breakdown = medal_breakdown[medal_breakdown['Sport'].isin(top_10_sports)]\n",
    "        top_10_sports_medal_breakdown['Total'] = top_10_sports_medal_breakdown.groupby('Sport')['Count'].transform('sum')\n",
    "        top_10_sports_medal_breakdown.sort_values(by='Total', ascending=True, inplace=True)\n",
    "\n",
    "        # Create a horizontal stacked bar chart for medal breakdown by sport\n",
    "        fig_sports = px.bar(top_10_sports_medal_breakdown, y='Sport', x='Count', color='Medal', barmode='stack', orientation='h')\n",
    "        fig_sports.update_traces(marker_color='#CD7F32', selector=dict(name='Bronze'))\n",
    "        fig_sports.update_traces(marker_color='silver', selector=dict(name='Silver'))\n",
    "        fig_sports.update_traces(marker_color='gold', selector=dict(name='Gold'))\n",
    "\n",
    "        # Medal breakdown by athlete for the selected country\n",
    "        athlete_medal_count = athlete_events[athlete_events['NOC'] == country].groupby(['Name', 'Medal'])['Medal'].count().reset_index(name='Count')\n",
    "        top_10_athletes = athlete_medal_count.groupby('Name')['Count'].sum().nlargest(10).index\n",
    "        top_10_athletes_medal_breakdown = athlete_medal_count[athlete_medal_count['Name'].isin(top_10_athletes)]\n",
    "        top_10_athletes_medal_breakdown['Total'] = top_10_athletes_medal_breakdown.groupby('Name')['Count'].transform('sum')\n",
    "        top_10_athletes_medal_breakdown.sort_values(by='Total', ascending=True, inplace=True)\n",
    "\n",
    "        # Create a horizontal stacked bar chart for medal breakdown by athlete\n",
    "        fig_athletes = px.bar(top_10_athletes_medal_breakdown, y='Name', x='Count', color='Medal', barmode='stack', orientation='h')\n",
    "        fig_athletes.update_traces(marker_color='#CD7F32', selector=dict(name='Bronze'))\n",
    "        fig_athletes.update_traces(marker_color='silver', selector=dict(name='Silver'))\n",
    "        fig_athletes.update_traces(marker_color='gold', selector=dict(name='Gold'))\n",
    "\n",
    "        # Create a pie chart for competitors by gender for the selected country\n",
    "        unique_competitors = athlete_events[['Name', 'Sex', 'NOC']].drop_duplicates().groupby('NOC').get_group(country)\n",
    "        sex_counts = unique_competitors['Sex'].value_counts()\n",
    "        pie_chart_competitors = px.pie(names=['Women', 'Men'], values=sex_counts.values, title=\"Competitors by gender\", width=350, height=350)\n",
    "        pie_chart_competitors.update_traces(textposition='inside', textinfo='percent+label')\n",
    "        pie_chart_competitors.update_layout(showlegend=False)\n",
    "\n",
    "        # Medal breakdown by gender for the selected country\n",
    "        medal_gender_counts = athlete_events[['Sex', 'NOC', 'Medal']].groupby(['NOC']).get_group(country).dropna()\n",
    "\n",
    "        # Filter the counts for women and men\n",
    "        medal_counts_men = medal_gender_counts[medal_gender_counts['Sex'] == 'M'].value_counts().sum()\n",
    "        medal_counts_women = medal_gender_counts[medal_gender_counts['Sex'] == 'F'].value_counts().sum()\n",
    "\n",
    "        # Create a pie chart for the proportion of medals won by women and men\n",
    "        pie_chart_medals = px.pie(names=['Women', 'Men'], values=[medal_counts_women, medal_counts_men], title='Proportion of Medals Won by Gender', width=350, height=350)\n",
    "\n",
    "        # Show the percentage labels on the pie chart\n",
    "        pie_chart_medals.update_traces(textposition='inside', textinfo='percent+label')\n",
    "        pie_chart_medals.update_layout(showlegend=False)\n",
    "\n",
    "    # Check if only the 'year' filter is applied (country and sport are None)\n",
    "    elif country is None and sport is None:\n",
    "        # Calculate the number of competitors for the selected year\n",
    "        no_of_competitors = athlete_events.groupby('Year').get_group(year)['Name'].nunique()\n",
    "\n",
    "        # Calculate the total number of medals for the selected year\n",
    "        no_of_medals = athlete_events.groupby('Year').get_group(year)['Medal'].count()\n",
    "\n",
    "        # Medal breakdown by sport for the selected year\n",
    "        medal_breakdown = athlete_events[athlete_events['Year'] == year].groupby(['Sport', 'Medal'])['Medal'].count().reset_index(name='Count')\n",
    "        top_10_sports = medal_breakdown.groupby('Sport')['Count'].sum().nlargest(10).index\n",
    "        top_10_sports_medal_breakdown = medal_breakdown[medal_breakdown['Sport'].isin(top_10_sports)]\n",
    "        top_10_sports_medal_breakdown['Total'] = top_10_sports_medal_breakdown.groupby('Sport')['Count'].transform('sum')\n",
    "        top_10_sports_medal_breakdown.sort_values(by='Total', ascending=True, inplace=True)\n",
    "\n",
    "        # Create a horizontal stacked bar chart for medal breakdown by sport\n",
    "        fig_sports = px.bar(top_10_sports_medal_breakdown, y='Sport', x='Count', color='Medal', barmode='stack', orientation='h')\n",
    "        fig_sports.update_traces(marker_color='#CD7F32', selector=dict(name='Bronze'))\n",
    "        fig_sports.update_traces(marker_color='silver', selector=dict(name='Silver'))\n",
    "        fig_sports.update_traces(marker_color='gold', selector=dict(name='Gold'))\n",
    "\n",
    "        # Medal breakdown by athlete for the selected year\n",
    "        athlete_medal_count = athlete_events[athlete_events['Year'] == year].groupby(['Name', 'Medal'])['Medal'].count().reset_index(name='Count')\n",
    "        top_10_athletes = athlete_medal_count.groupby('Name')['Count'].sum().nlargest(10).index\n",
    "        top_10_athletes_medal_breakdown = athlete_medal_count[athlete_medal_count['Name'].isin(top_10_athletes)]\n",
    "        top_10_athletes_medal_breakdown['Total'] = top_10_athletes_medal_breakdown.groupby('Name')['Count'].transform('sum')\n",
    "        top_10_athletes_medal_breakdown.sort_values(by='Total', ascending=True, inplace=True)\n",
    "\n",
    "        # Create a horizontal stacked bar chart for medal breakdown by athlete\n",
    "        fig_athletes = px.bar(top_10_athletes_medal_breakdown, y='Name', x='Count', color='Medal', barmode='stack', orientation='h')\n",
    "        fig_athletes.update_traces(marker_color='#CD7F32', selector=dict(name='Bronze'))\n",
    "        fig_athletes.update_traces(marker_color='silver', selector=dict(name='Silver'))\n",
    "        fig_athletes.update_traces(marker_color='gold', selector=dict(name='Gold'))\n",
    "\n",
    "        # Create a pie chart for competitors by gender for the selected year\n",
    "        unique_competitors = athlete_events[['Name', 'Sex', 'Year']].drop_duplicates().groupby('Year').get_group(year)\n",
    "        sex_counts = unique_competitors['Sex'].value_counts()\n",
    "        pie_chart_competitors = px.pie(names=['Women', 'Men'], values=sex_counts.values, title=\"Competitors by gender\", width=350, height=350)\n",
    "        pie_chart_competitors.update_traces(textposition='inside', textinfo='percent+label')\n",
    "        pie_chart_competitors.update_layout(showlegend=False)\n",
    "\n",
    "        # Medal breakdown by gender for the selected year\n",
    "        medal_gender_counts = athlete_events[['Sex', 'Year', 'Medal']].groupby(['Year']).get_group(year).dropna()\n",
    "\n",
    "        # Filter the counts for women and men\n",
    "        medal_counts_men = medal_gender_counts[medal_gender_counts['Sex'] == 'M'].value_counts().sum()\n",
    "        medal_counts_women = medal_gender_counts[medal_gender_counts['Sex'] == 'F'].value_counts().sum()\n",
    "\n",
    "        # Create a pie chart for the proportion of medals won by women and men\n",
    "        pie_chart_medals = px.pie(names=['Women', 'Men'], values=[medal_counts_women, medal_counts_men], title='Proportion of Medals Won by Gender', width=350, height=350)\n",
    "\n",
    "        # Show the percentage labels on the pie chart\n",
    "        pie_chart_medals.update_traces(textposition='inside', textinfo='percent+label')\n",
    "        pie_chart_medals.update_layout(showlegend=False)\n",
    "\n",
    "    # Check if only the 'country' filter is None (year and sport are applied)\n",
    "    elif country is None:\n",
    "        # Calculate the number of competitors for the selected year and sport\n",
    "        no_of_competitors = athlete_events.groupby('Year').get_group(year)['Name'].nunique()\n",
    "\n",
    "        # Calculate the total number of medals for the selected year and sport\n",
    "        no_of_medals = athlete_events.groupby('Year').get_group(year)['Medal'].count()\n",
    "\n",
    "        filtered_data = athlete_events[(athlete_events['Year'] == year) & (athlete_events['Sport'] == sport)]\n",
    "\n",
    "        # Calculate the medal count for each sport\n",
    "        medal_counts = filtered_data.pivot_table(index='Sport', columns='Medal', values='ID', aggfunc='count', fill_value=0)\n",
    "\n",
    "        # Rename the columns\n",
    "        medal_counts.columns = ['Bronze', 'Gold', 'Silver']\n",
    "        # Sort the dataframe by medal count in descending order\n",
    "        # Display the top 10 sports with medal counts\n",
    "        medal_top_10_sports = medal_counts.head(10)\n",
    "        medal_top_10_sports['Total'] = medal_top_10_sports.sum(axis=1)\n",
    "        medal_top_10_sports.sort_values(by='Total', inplace=True, ascending=True)\n",
    "\n",
    "        # Create a horizontal stacked bar chart for medal breakdown by athlete for the selected country and sport\n",
    "        fig_sports = px.bar(medal_top_10_sports, y=medal_top_10_sports.index, x=['Bronze', 'Silver', 'Gold'], barmode='stack', orientation='h')\n",
    "        fig_sports.update_traces(marker_color='#CD7F32', selector=dict(name='Bronze'))\n",
    "        fig_sports.update_traces(marker_color='silver', selector=dict(name='Silver'))\n",
    "        fig_sports.update_traces(marker_color='gold', selector=dict(name='Gold'))\n",
    "\n",
    "        # Medal breakdown by athlete for the selected year and sport\n",
    "        athlete_medal_count = athlete_events[athlete_events['Year'] == year].groupby(['Name', 'Medal'])['Medal'].count().reset_index(name='Count')\n",
    "        top_10_athletes = athlete_medal_count.groupby('Name')['Count'].sum().nlargest(10).index\n",
    "        top_10_athletes_medal_breakdown = athlete_medal_count[athlete_medal_count['Name'].isin(top_10_athletes)]\n",
    "        top_10_athletes_medal_breakdown['Total'] = top_10_athletes_medal_breakdown.groupby('Name')['Count'].transform('sum')\n",
    "        top_10_athletes_medal_breakdown.sort_values(by='Total', ascending=True, inplace=True)\n",
    "\n",
    "        # Create a horizontal stacked bar chart for medal breakdown by athlete\n",
    "        fig_athletes = px.bar(top_10_athletes_medal_breakdown, y='Name', x='Count', color='Medal', barmode='stack', orientation='h')\n",
    "        fig_athletes.update_traces(marker_color='#CD7F32', selector=dict(name='Bronze'))\n",
    "        fig_athletes.update_traces(marker_color='silver', selector=dict(name='Silver'))\n",
    "        fig_athletes.update_traces(marker_color='gold', selector=dict(name='Gold'))\n",
    "\n",
    "        # Create a pie chart for competitors by gender for the selected year and sport\n",
    "        unique_competitors = athlete_events[['Name', 'Sex', 'Sport', 'Year']].drop_duplicates().groupby('Sport').get_group(sport).groupby('Year').get_group(year)\n",
    "        sex_counts = unique_competitors['Sex'].value_counts()\n",
    "        pie_chart_competitors = px.pie(names=['Women', 'Men'], values=sex_counts.values, title=\"Competitors by gender\", width=350, height=350)\n",
    "        pie_chart_competitors.update_traces(textposition='inside', textinfo='percent+label')\n",
    "        pie_chart_competitors.update_layout(showlegend=False)\n",
    "\n",
    "        # Medal breakdown by gender for the selected year and sport\n",
    "        medal_gender_counts = athlete_events[['Sex', 'Sport', 'Medal', 'Year']].groupby('Sport').get_group(sport).groupby('Year').get_group(year).dropna()\n",
    "\n",
    "        # Filter the counts for women and men\n",
    "        medal_counts_men = medal_gender_counts[medal_gender_counts['Sex'] == 'M'].value_counts().sum()\n",
    "        medal_counts_women = medal_gender_counts[medal_gender_counts['Sex'] == 'F'].value_counts().sum()\n",
    "\n",
    "        # Create a pie chart for the proportion of medals won by women and men\n",
    "        pie_chart_medals = px.pie(names=['Women', 'Men'], values=[medal_counts_women, medal_counts_men], title='Proportion of Medals Won by Gender', width=350, height=350)\n",
    "\n",
    "        # Show the percentage labels on the pie chart\n",
    "        pie_chart_medals.update_traces(textposition='inside', textinfo='percent+label')\n",
    "        pie_chart_medals.update_layout(showlegend=False)\n",
    "\n",
    "    # Check if only the 'sport' filter is None (country and year are applied)\n",
    "    elif sport is None:\n",
    "        # Calculate the number of competitors for the selected country and year\n",
    "        no_of_competitors = athlete_events.groupby('NOC').get_group(country).groupby('Year').get_group(year)['Name'].nunique()\n",
    "\n",
    "        # Calculate the total number of medals for the selected country and year\n",
    "        no_of_medals = athlete_events.groupby('NOC').get_group(country).groupby('Year').get_group(year)['Medal'].count()\n",
    "\n",
    "        filtered_data = athlete_events[(athlete_events['Year'] == year) & (athlete_events['NOC'] == country)]\n",
    "\n",
    "        # Calculate the medal count for each sport\n",
    "        medal_counts = filtered_data.pivot_table(index='Sport', columns='Medal', values='ID', aggfunc='count', fill_value=0)\n",
    "\n",
    "        # Rename the columns\n",
    "        medal_counts.columns = ['Bronze', 'Gold', 'Silver']\n",
    "        # Sort the dataframe by medal count in descending order\n",
    "        # Display the top 10 sports with medal counts\n",
    "        medal_top_10_sports = medal_counts.head(10)\n",
    "        medal_top_10_sports['Total'] = medal_top_10_sports.sum(axis=1)\n",
    "        medal_top_10_sports.sort_values(by='Total', inplace=True, ascending=True)\n",
    "\n",
    "        # Create a horizontal stacked bar chart for medal breakdown by athlete for the selected country and sport\n",
    "        fig_sports = px.bar(medal_top_10_sports, y=medal_top_10_sports.index, x=['Bronze', 'Silver', 'Gold'], barmode='stack', orientation='h')\n",
    "        fig_sports.update_traces(marker_color='#CD7F32', selector=dict(name='Bronze'))\n",
    "        fig_sports.update_traces(marker_color='silver', selector=dict(name='Silver'))\n",
    "        fig_sports.update_traces(marker_color='gold', selector=dict(name='Gold'))\n",
    "\n",
    "        # Medal breakdown by athlete for the selected country and year\n",
    "        athlete_medal_count = athlete_events[athlete_events['NOC'] == country].groupby(['Name', 'Medal'])['Medal'].count().reset_index(name='Count')\n",
    "        top_10_athletes = athlete_medal_count.groupby('Name')['Count'].sum().nlargest(10).index\n",
    "        top_10_athletes_medal_breakdown = athlete_medal_count[athlete_medal_count['Name'].isin(top_10_athletes)]\n",
    "        top_10_athletes_medal_breakdown['Total'] = top_10_athletes_medal_breakdown.groupby('Name')['Count'].transform('sum')\n",
    "        top_10_athletes_medal_breakdown.sort_values(by='Total', ascending=True)\n",
    "\n",
    "        # Create a horizontal stacked bar chart for medal breakdown by athlete for the selected country and year\n",
    "        fig_athletes = px.bar(top_10_athletes_medal_breakdown, y='Name', x='Count', color='Medal', barmode='stack', orientation='h')\n",
    "        fig_athletes.update_traces(marker_color='#CD7F32', selector=dict(name='Bronze'))\n",
    "        fig_athletes.update_traces(marker_color='silver', selector=dict(name='Silver'))\n",
    "        fig_athletes.update_traces(marker_color='gold', selector=dict(name='Gold'))\n",
    "\n",
    "        # Create a pie chart for competitors by gender for the selected country and year\n",
    "        unique_competitors = athlete_events[['Name', 'Sex', 'NOC', 'Year']].drop_duplicates().groupby('NOC').get_group(country).groupby('Year').get_group(year)\n",
    "        sex_counts = unique_competitors['Sex'].value_counts()\n",
    "        pie_chart_competitors = px.pie(names=['Women', 'Men'], values=sex_counts.values, title=\"Competitors by gender\", width=350, height=350)\n",
    "        pie_chart_competitors.update_traces(textposition='inside', textinfo='percent+label')\n",
    "        pie_chart_competitors.update_layout(showlegend=False)\n",
    "\n",
    "        # Medal breakdown by gender for the selected country and year\n",
    "        medal_gender_counts = athlete_events[['Sex', 'NOC', 'Medal', 'Year']].groupby('NOC').get_group(country).groupby('Year').get_group(year).dropna()\n",
    "\n",
    "        # Filter the counts for women and men\n",
    "        medal_counts_men = medal_gender_counts[medal_gender_counts['Sex'] == 'M'].value_counts().sum()\n",
    "        medal_counts_women = medal_gender_counts[medal_gender_counts['Sex'] == 'F'].value_counts().sum()\n",
    "\n",
    "        # Create a pie chart for the proportion of medals won by women and men for the selected country and year\n",
    "        pie_chart_medals = px.pie(names=['Women', 'Men'], values=[medal_counts_women, medal_counts_men], title='Proportion of Medals Won by Gender', width=350, height=350)\n",
    "\n",
    "        # Show the percentage labels on the pie chart\n",
    "        pie_chart_medals.update_traces(textposition='inside', textinfo='percent+label')\n",
    "        pie_chart_medals.update_layout(showlegend=False)\n",
    "\n",
    "    # Check if only the 'year' filter is None (country and sport are applied)\n",
    "    elif year is None:\n",
    "        # Calculate the number of competitors for the selected country and sport\n",
    "        no_of_competitors = athlete_events.groupby('NOC').get_group(country)['Name'].nunique()\n",
    "\n",
    "        # Calculate the total number of medals for the selected country and sport\n",
    "        no_of_medals = athlete_events.groupby('NOC').get_group(country)['Medal'].count()\n",
    "\n",
    "        filtered_data = athlete_events[(athlete_events['NOC'] == country) & (athlete_events['Sport'] == sport)]\n",
    "\n",
    "        # Calculate the medal count for each sport\n",
    "        medal_counts = filtered_data.pivot_table(index='Sport', columns='Medal', values='ID', aggfunc='count', fill_value=0)\n",
    "\n",
    "        # Rename the columns\n",
    "        medal_counts.columns = ['Bronze', 'Gold', 'Silver']\n",
    "        # Sort the dataframe by medal count in descending order\n",
    "        # Display the top 10 sports with medal counts\n",
    "        medal_top_10_sports = medal_counts.head(10)\n",
    "        medal_top_10_sports['Total'] = medal_top_10_sports.sum(axis=1)\n",
    "        medal_top_10_sports.sort_values(by='Total', inplace=True, ascending=True)\n",
    "\n",
    "        # Create a horizontal stacked bar chart for medal breakdown by athlete for the selected country and sport\n",
    "        fig_sports = px.bar(medal_top_10_sports, y=medal_top_10_sports.index, x=['Bronze', 'Silver', 'Gold'], barmode='stack', orientation='h')\n",
    "        fig_sports.update_traces(marker_color='#CD7F32', selector=dict(name='Bronze'))\n",
    "        fig_sports.update_traces(marker_color='silver', selector=dict(name='Silver'))\n",
    "        fig_sports.update_traces(marker_color='gold', selector=dict(name='Gold'))\n",
    "\n",
    "        # Medal breakdown by athlete for the selected country and sport\n",
    "        athlete_medal_count = athlete_events[athlete_events['NOC'] == country].groupby(['Name', 'Medal'])['Medal'].count().reset_index(name='Count')\n",
    "        top_10_athletes = athlete_medal_count.groupby('Name')['Count'].sum().nlargest(10).index\n",
    "        top_10_athletes_medal_breakdown = athlete_medal_count[athlete_medal_count['Name'].isin(top_10_athletes)]\n",
    "        top_10_athletes_medal_breakdown['Total'] = top_10_athletes_medal_breakdown.groupby('Name')['Count'].transform('sum')\n",
    "        top_10_athletes_medal_breakdown.sort_values(by='Total', ascending=True)\n",
    "\n",
    "        # Create a horizontal stacked bar chart for medal breakdown by athlete for the selected country and sport\n",
    "        fig_athletes = px.bar(top_10_athletes_medal_breakdown, y='Name', x='Count', color='Medal', barmode='stack', orientation='h')\n",
    "        fig_athletes.update_traces(marker_color='#CD7F32', selector=dict(name='Bronze'))\n",
    "        fig_athletes.update_traces(marker_color='silver', selector=dict(name='Silver'))\n",
    "        fig_athletes.update_traces(marker_color='gold', selector=dict(name='Gold'))\n",
    "\n",
    "        # Create a pie chart for competitors by gender for the selected country and sport\n",
    "        unique_competitors = athlete_events[['Name', 'Sex', 'NOC', 'Sport']].drop_duplicates().groupby('NOC').get_group(country).groupby('Sport').get_group(sport)\n",
    "        sex_counts = unique_competitors['Sex'].value_counts()\n",
    "        pie_chart_competitors = px.pie(names=['Women', 'Men'], values=sex_counts.values, title=\"Competitors by gender\", width=350, height=350)\n",
    "        pie_chart_competitors.update_traces(textposition='inside', textinfo='percent+label')\n",
    "        pie_chart_competitors.update_layout(showlegend=False)\n",
    "\n",
    "        # Medal breakdown by gender for the selected country and sport\n",
    "        medal_gender_counts = athlete_events[['Sex', 'Sport', 'Medal', 'NOC']].groupby('Sport').get_group(sport).groupby('NOC').get_group(country).dropna()\n",
    "\n",
    "        # Filter the counts for women and men\n",
    "        medal_counts_men = medal_gender_counts[medal_gender_counts['Sex'] == 'M'].value_counts().sum()\n",
    "        medal_counts_women = medal_gender_counts[medal_gender_counts['Sex'] == 'F'].value_counts().sum()\n",
    "\n",
    "        # Create a pie chart for the proportion of medals won by women and men for the selected country and sport\n",
    "        pie_chart_medals = px.pie(names=['Women', 'Men'], values=[medal_counts_women, medal_counts_men], title='Proportion of Medals Won by Gender', width=350, height=350)\n",
    "\n",
    "        # Show the percentage labels on the pie chart\n",
    "        pie_chart_medals.update_traces(textposition='inside', textinfo='percent+label')\n",
    "        pie_chart_medals.update_layout(showlegend=False)\n",
    "\n",
    "    # Check if all filters are applied\n",
    "    else:\n",
    "        # Calculate the number of competitors for the selected year, country and sport\n",
    "        no_of_competitors = athlete_events[(athlete_events['Year'] == year) & (athlete_events['NOC'] == country)]['Name'].nunique()\n",
    "\n",
    "        # Calculate the total number of medals for the selected year, country and sport\n",
    "        no_of_medals = athlete_events[(athlete_events['Year'] == year) & (athlete_events['NOC'] == country)]['Medal'].count()\n",
    "\n",
    "        # Medal breakdown by sport for the selected year, country and sport\n",
    "        medal_breakdown = athlete_events[(athlete_events['Year'] == year) & (athlete_events['NOC'] == country)].groupby(['Sport', 'Medal'])['Medal'].count().reset_index(name='Count')\n",
    "        medal_breakdown = medal_breakdown.groupby(['Sport', 'Medal'])['Count'].sum().reset_index(name='Count')\n",
    "        top_10_sports = medal_breakdown.groupby('Sport')['Count'].sum().nlargest(10).index\n",
    "        top_10_sports_medal_breakdown = medal_breakdown[medal_breakdown['Sport'].isin(top_10_sports)]\n",
    "        top_10_sports_medal_breakdown['Total'] = top_10_sports_medal_breakdown.groupby('Sport')['Count'].transform('sum')\n",
    "        top_10_sports_medal_breakdown.sort_values(by='Total', ascending=True, inplace=True)\n",
    "\n",
    "        # Create a horizontal stacked bar chart for medal breakdown by sport for the selected year, country and sport\n",
    "        fig_sports = px.bar(top_10_sports_medal_breakdown, y='Sport', x='Count', color='Medal', barmode='stack', orientation='h')\n",
    "        fig_sports.update_traces(marker_color='#CD7F32', selector=dict(name='Bronze'))\n",
    "        fig_sports.update_traces(marker_color='silver', selector=dict(name='Silver'))\n",
    "        fig_sports.update_traces(marker_color='gold', selector=dict(name='Gold'))\n",
    "\n",
    "        # Medal breakdown by athlete for the selected year, country and sport\n",
    "        athlete_medal_count = athlete_events[(athlete_events['Year'] == year) & (athlete_events['NOC'] == country)].groupby(['Name', 'Medal'])['Medal'].count().reset_index(name='Count')\n",
    "        top_10_athletes = athlete_medal_count.groupby('Name')['Count'].sum().nlargest(10).index\n",
    "        top_10_athletes_medal_breakdown = athlete_medal_count[athlete_medal_count['Name'].isin(top_10_athletes)]\n",
    "        top_10_athletes_medal_breakdown['Total'] = top_10_athletes_medal_breakdown.groupby('Name')['Count'].transform('sum')\n",
    "        top_10_athletes_medal_breakdown.sort_values(by='Total', ascending=True, inplace=True)\n",
    "\n",
    "        # Create a horizontal stacked bar chart for medal breakdown by athlete for the selected year, country and sport\n",
    "        fig_athletes = px.bar(top_10_athletes_medal_breakdown, y='Name', x='Count', color='Medal', barmode='stack', orientation='h')\n",
    "        fig_athletes.update_traces(marker_color='#CD7F32', selector=dict(name='Bronze'))\n",
    "        fig_athletes.update_traces(marker_color='silver', selector=dict(name='Silver'))\n",
    "        fig_athletes.update_traces(marker_color='gold', selector=dict(name='Gold'))\n",
    "\n",
    "        # Create a pie chart for competitors by gender for the selected year, country, and sport\n",
    "        unique_competitors = athlete_events[['Name', 'Sex', 'NOC', 'Year', 'Sport']].drop_duplicates().groupby('NOC').get_group(country).groupby('Year').get_group(year).groupby('Sport').get_group(sport)\n",
    "        sex_counts = unique_competitors['Sex'].value_counts()\n",
    "        pie_chart_competitors = px.pie(names=['Women', 'Men'], values=sex_counts.values, title=\"Competitors by gender\", width=350, height=350)\n",
    "        pie_chart_competitors.update_traces(textposition='inside', textinfo='percent+label')\n",
    "        pie_chart_competitors.update_layout(showlegend=False)\n",
    "\n",
    "        # Medal breakdown by gender for the selected year, country, and sport\n",
    "        medal_gender_counts = athlete_events[['Sex', 'Sport', 'Medal', 'Year', 'NOC']].groupby('Sport').get_group(sport).groupby('Year').get_group(year).groupby('NOC').get_group(country).dropna()\n",
    "\n",
    "        # Filter the counts for women and men\n",
    "        medal_counts_men = medal_gender_counts[medal_gender_counts['Sex'] == 'M'].value_counts().sum()\n",
    "        medal_counts_women = medal_gender_counts[medal_gender_counts['Sex'] == 'F'].value_counts().sum()\n",
    "\n",
    "        # Create a pie chart for the proportion of medals won by women and men for the selected year, country and sport\n",
    "        pie_chart_medals = px.pie(names=['Women', 'Men'], values=[medal_counts_women, medal_counts_men], title='Proportion of Medals Won by Gender', width=350, height=350)\n",
    "\n",
    "        # Show the percentage labels on the pie chart\n",
    "        pie_chart_medals.update_traces(textposition='inside', textinfo='percent+label')\n",
    "        pie_chart_medals.update_layout(showlegend=False)\n",
    "\n",
    "    # Return the calculated values and figures\n",
    "    return no_of_competitors, no_of_medals, fig_sports, fig_athletes, pie_chart_competitors, pie_chart_medals\n",
    "\n",
    "app.run(debug=True, jupyter_mode='external')\n"
   ]
  }
 ],
 "metadata": {
  "kernelspec": {
   "display_name": "Dataprocessing-Asajad-Hussein-sglkyhwr",
   "language": "python",
   "name": "python3"
  },
  "language_info": {
   "codemirror_mode": {
    "name": "ipython",
    "version": 3
   },
   "file_extension": ".py",
   "mimetype": "text/x-python",
   "name": "python",
   "nbconvert_exporter": "python",
   "pygments_lexer": "ipython3",
   "version": "3.11.5"
  },
  "orig_nbformat": 4
 },
 "nbformat": 4,
 "nbformat_minor": 2
}
